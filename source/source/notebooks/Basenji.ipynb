{
  "nbformat": 4,
  "nbformat_minor": 0,
  "metadata": {
    "colab": {
      "name": "Basenji",
      "version": "0.3.2",
      "provenance": [],
      "collapsed_sections": [],
      "include_colab_link": true
    },
    "kernelspec": {
      "name": "python2",
      "display_name": "Python 2"
    },
    "accelerator": "GPU"
  },
  "cells": [
    {
      "cell_type": "markdown",
      "metadata": {
        "id": "view-in-github",
        "colab_type": "text"
      },
      "source": [
        "<a href=\"https://colab.research.google.com/github/hillbig/medical-ai-course-materials/blob/master/source/source/notebooks/Basenji.ipynb\" target=\"_parent\"><img src=\"https://colab.research.google.com/assets/colab-badge.svg\" alt=\"Open In Colab\"/></a>"
      ]
    },
    {
      "metadata": {
        "id": "yoiTUC_zXAb9",
        "colab_type": "text"
      },
      "cell_type": "markdown",
      "source": [
        "[![colab-logo](https://colab.research.google.com/assets/colab-badge.svg)](https://colab.research.google.com/github/japan-medical-ai/medical-ai-course-materials/blob/master/notebooks/Basenji.ipynb)\n",
        "\n",
        "# 実践編：ディープラーニングを使った配列解析\n",
        "\n",
        "近年，次世代シーケンサ（NGS; Next Generation Sequencer）の発展により，遺伝子の塩基配列を高速，大量，安価に読み取ることができるようになってきました．\n",
        "\n",
        "ここではディープラーニングを用いて，DNA配列からエピジェネティックな影響や転写制御を予測する問題に取り組みます．この予測モデルを使うことで，ある遺伝子変異が遺伝子発現にどのような影響を与えるのかを予測することができるようになります．\n",
        "\n",
        "\n",
        "\n",
        "\n",
        "\n"
      ]
    },
    {
      "metadata": {
        "id": "CkqRZHc8crS4",
        "colab_type": "text"
      },
      "cell_type": "markdown",
      "source": [
        "## 環境\n",
        "\n",
        "ここで用いるライブラリは\n",
        "\n",
        "\n",
        "*  Chainer\n",
        "*  Cupy\n",
        "*  matplotlib\n",
        "\n",
        "です．Google Colab上では，以下のようにしてインストールすることができます．以下のセルを実行（Shit+Enter）してください．\n"
      ]
    },
    {
      "metadata": {
        "id": "muhQoVk7c9y1",
        "colab_type": "code",
        "outputId": "c9ab95fc-ba87-4c18-b670-49fdc5de1e14",
        "colab": {
          "base_uri": "https://localhost:8080/",
          "height": 1516
        }
      },
      "cell_type": "code",
      "source": [
        "!set -ex\n",
        "!apt -y -q install cuda-libraries-dev-9-2\n",
        "!pip install cupy-cuda92 --pre\n",
        "!pip install chainer --pre"
      ],
      "execution_count": 3,
      "outputs": [
        {
          "output_type": "stream",
          "text": [
            "Reading package lists...\n",
            "Building dependency tree...\n",
            "Reading state information...\n",
            "The following additional packages will be installed:\n",
            "  cuda-cublas-dev-9-2 cuda-cufft-dev-9-2 cuda-curand-dev-9-2\n",
            "  cuda-cusolver-dev-9-2 cuda-cusparse-dev-9-2 cuda-npp-dev-9-2\n",
            "  cuda-nvgraph-dev-9-2 cuda-nvrtc-dev-9-2\n",
            "The following NEW packages will be installed:\n",
            "  cuda-cublas-dev-9-2 cuda-cufft-dev-9-2 cuda-curand-dev-9-2\n",
            "  cuda-cusolver-dev-9-2 cuda-cusparse-dev-9-2 cuda-libraries-dev-9-2\n",
            "  cuda-npp-dev-9-2 cuda-nvgraph-dev-9-2 cuda-nvrtc-dev-9-2\n",
            "0 upgraded, 9 newly installed, 0 to remove and 5 not upgraded.\n",
            "Need to get 332 MB of archives.\n",
            "After this operation, 972 MB of additional disk space will be used.\n",
            "Get:1 https://developer.download.nvidia.com/compute/cuda/repos/ubuntu1710/x86_64  cuda-cublas-dev-9-2 9.2.148.1-1 [50.4 MB]\n",
            "Get:2 https://developer.download.nvidia.com/compute/cuda/repos/ubuntu1710/x86_64  cuda-cufft-dev-9-2 9.2.148-1 [106 MB]\n",
            "Get:3 https://developer.download.nvidia.com/compute/cuda/repos/ubuntu1710/x86_64  cuda-curand-dev-9-2 9.2.148-1 [57.8 MB]\n",
            "Get:4 https://developer.download.nvidia.com/compute/cuda/repos/ubuntu1710/x86_64  cuda-cusolver-dev-9-2 9.2.148-1 [8,184 kB]\n",
            "Get:5 https://developer.download.nvidia.com/compute/cuda/repos/ubuntu1710/x86_64  cuda-cusparse-dev-9-2 9.2.148-1 [27.8 MB]\n",
            "Get:6 https://developer.download.nvidia.com/compute/cuda/repos/ubuntu1710/x86_64  cuda-nvrtc-dev-9-2 9.2.148-1 [9,348 B]\n",
            "Get:7 https://developer.download.nvidia.com/compute/cuda/repos/ubuntu1710/x86_64  cuda-nvgraph-dev-9-2 9.2.148-1 [30.1 MB]\n",
            "Get:8 https://developer.download.nvidia.com/compute/cuda/repos/ubuntu1710/x86_64  cuda-npp-dev-9-2 9.2.148-1 [52.0 MB]\n",
            "Get:9 https://developer.download.nvidia.com/compute/cuda/repos/ubuntu1710/x86_64  cuda-libraries-dev-9-2 9.2.148-1 [2,598 B]\n",
            "Fetched 332 MB in 7s (50.1 MB/s)\n",
            "Selecting previously unselected package cuda-cublas-dev-9-2.\n",
            "(Reading database ... 22280 files and directories currently installed.)\n",
            "Preparing to unpack .../0-cuda-cublas-dev-9-2_9.2.148.1-1_amd64.deb ...\n",
            "Unpacking cuda-cublas-dev-9-2 (9.2.148.1-1) ...\n",
            "Selecting previously unselected package cuda-cufft-dev-9-2.\n",
            "Preparing to unpack .../1-cuda-cufft-dev-9-2_9.2.148-1_amd64.deb ...\n",
            "Unpacking cuda-cufft-dev-9-2 (9.2.148-1) ...\n",
            "Selecting previously unselected package cuda-curand-dev-9-2.\n",
            "Preparing to unpack .../2-cuda-curand-dev-9-2_9.2.148-1_amd64.deb ...\n",
            "Unpacking cuda-curand-dev-9-2 (9.2.148-1) ...\n",
            "Selecting previously unselected package cuda-cusolver-dev-9-2.\n",
            "Preparing to unpack .../3-cuda-cusolver-dev-9-2_9.2.148-1_amd64.deb ...\n",
            "Unpacking cuda-cusolver-dev-9-2 (9.2.148-1) ...\n",
            "Selecting previously unselected package cuda-cusparse-dev-9-2.\n",
            "Preparing to unpack .../4-cuda-cusparse-dev-9-2_9.2.148-1_amd64.deb ...\n",
            "Unpacking cuda-cusparse-dev-9-2 (9.2.148-1) ...\n",
            "Selecting previously unselected package cuda-nvrtc-dev-9-2.\n",
            "Preparing to unpack .../5-cuda-nvrtc-dev-9-2_9.2.148-1_amd64.deb ...\n",
            "Unpacking cuda-nvrtc-dev-9-2 (9.2.148-1) ...\n",
            "Selecting previously unselected package cuda-nvgraph-dev-9-2.\n",
            "Preparing to unpack .../6-cuda-nvgraph-dev-9-2_9.2.148-1_amd64.deb ...\n",
            "Unpacking cuda-nvgraph-dev-9-2 (9.2.148-1) ...\n",
            "Selecting previously unselected package cuda-npp-dev-9-2.\n",
            "Preparing to unpack .../7-cuda-npp-dev-9-2_9.2.148-1_amd64.deb ...\n",
            "Unpacking cuda-npp-dev-9-2 (9.2.148-1) ...\n",
            "Selecting previously unselected package cuda-libraries-dev-9-2.\n",
            "Preparing to unpack .../8-cuda-libraries-dev-9-2_9.2.148-1_amd64.deb ...\n",
            "Unpacking cuda-libraries-dev-9-2 (9.2.148-1) ...\n",
            "Setting up cuda-npp-dev-9-2 (9.2.148-1) ...\n",
            "Setting up cuda-curand-dev-9-2 (9.2.148-1) ...\n",
            "Setting up cuda-nvrtc-dev-9-2 (9.2.148-1) ...\n",
            "Setting up cuda-cusolver-dev-9-2 (9.2.148-1) ...\n",
            "Setting up cuda-cufft-dev-9-2 (9.2.148-1) ...\n",
            "Setting up cuda-cusparse-dev-9-2 (9.2.148-1) ...\n",
            "Setting up cuda-cublas-dev-9-2 (9.2.148.1-1) ...\n",
            "Setting up cuda-nvgraph-dev-9-2 (9.2.148-1) ...\n",
            "Setting up cuda-libraries-dev-9-2 (9.2.148-1) ...\n",
            "Collecting cupy-cuda92\n",
            "\u001b[?25l  Downloading https://files.pythonhosted.org/packages/51/8a/b18c425488fb7ed3a42662767363b822de697f9bcfca19eb3fa980e07817/cupy_cuda92-6.0.0a1-cp27-cp27mu-manylinux1_x86_64.whl (260.4MB)\n",
            "\u001b[K    100% |████████████████████████████████| 260.4MB 64kB/s \n",
            "\u001b[?25hCollecting fastrlock>=0.3 (from cupy-cuda92)\n",
            "  Downloading https://files.pythonhosted.org/packages/d4/e6/6d198d91ae20353140563ba32eac2efba236446aa6cf73b2d652d9d9d038/fastrlock-0.4-cp27-cp27mu-manylinux1_x86_64.whl\n",
            "Requirement already satisfied: numpy>=1.9.0 in /usr/local/lib/python2.7/dist-packages (from cupy-cuda92) (1.14.6)\n",
            "Requirement already satisfied: six>=1.9.0 in /usr/local/lib/python2.7/dist-packages (from cupy-cuda92) (1.11.0)\n",
            "Installing collected packages: fastrlock, cupy-cuda92\n",
            "Successfully installed cupy-cuda92-6.0.0a1 fastrlock-0.4\n",
            "Collecting chainer\n",
            "\u001b[?25l  Downloading https://files.pythonhosted.org/packages/64/53/970152ecb9684a96950b81323b6511bfcc169b5c3981c2c2611579179955/chainer-6.0.0a1.tar.gz (517kB)\n",
            "\u001b[K    100% |████████████████████████████████| 522kB 19.5MB/s \n",
            "\u001b[?25hCollecting filelock (from chainer)\n",
            "  Downloading https://files.pythonhosted.org/packages/2a/bd/6a87635dba4906ae56377b22f64805b2f00d8cafb26e411caaf3559a5475/filelock-3.0.10.tar.gz\n",
            "Requirement already satisfied: numpy>=1.9.0 in /usr/local/lib/python2.7/dist-packages (from chainer) (1.14.6)\n",
            "Requirement already satisfied: protobuf>=3.0.0 in /usr/local/lib/python2.7/dist-packages (from chainer) (3.6.1)\n",
            "Requirement already satisfied: six>=1.9.0 in /usr/local/lib/python2.7/dist-packages (from chainer) (1.11.0)\n",
            "Requirement already satisfied: setuptools in /usr/local/lib/python2.7/dist-packages (from protobuf>=3.0.0->chainer) (40.6.2)\n",
            "Building wheels for collected packages: chainer, filelock\n",
            "  Running setup.py bdist_wheel for chainer ... \u001b[?25l-\b \b\\\b \b|\b \b/\b \b-\b \bdone\n",
            "\u001b[?25h  Stored in directory: /root/.cache/pip/wheels/06/17/03/677a942d2d45e98fa9d137d6dd5de27a9d8351f52fa2b37af0\n",
            "  Running setup.py bdist_wheel for filelock ... \u001b[?25l-\b \bdone\n",
            "\u001b[?25h  Stored in directory: /root/.cache/pip/wheels/46/b3/26/8803692ec1f1729fcf201583b5de74f112da1f1488f36e47b0\n",
            "Successfully built chainer filelock\n",
            "Installing collected packages: filelock, chainer\n",
            "Successfully installed chainer-6.0.0a1 filelock-3.0.10\n"
          ],
          "name": "stdout"
        }
      ]
    },
    {
      "metadata": {
        "id": "mEPaj4MfdEyh",
        "colab_type": "text"
      },
      "cell_type": "markdown",
      "source": [
        "インストールが完了したら，以下のセルを実行して，各ライブラリのバージョンを確認してください．\n",
        "\n"
      ]
    },
    {
      "metadata": {
        "id": "p4X-dmKrdDhd",
        "colab_type": "code",
        "outputId": "1e82991e-c00c-4bb8-f9c7-961fd72af708",
        "colab": {
          "base_uri": "https://localhost:8080/",
          "height": 255
        }
      },
      "cell_type": "code",
      "source": [
        "import chainer\n",
        "import cupy\n",
        "import matplotlib\n",
        "\n",
        "chainer.print_runtime_info()\n",
        "print('matplotlib:', matplotlib.__version__)"
      ],
      "execution_count": 4,
      "outputs": [
        {
          "output_type": "stream",
          "text": [
            "Platform: Linux-4.14.65+-x86_64-with-Ubuntu-18.04-bionic\n",
            "Chainer: 6.0.0a1\n",
            "NumPy: 1.14.6\n",
            "CuPy:\n",
            "  CuPy Version          : 6.0.0a1\n",
            "  CUDA Root             : /usr/local/cuda\n",
            "  CUDA Build Version    : 9020\n",
            "  CUDA Driver Version   : 9020\n",
            "  CUDA Runtime Version  : 9020\n",
            "  cuDNN Build Version   : 7201\n",
            "  cuDNN Version         : 7201\n",
            "  NCCL Build Version    : 2213\n",
            "iDeep: Not Available\n",
            "('matplotlib:', '2.1.2')\n"
          ],
          "name": "stdout"
        }
      ]
    },
    {
      "metadata": {
        "id": "RFQWV3U_dzQP",
        "colab_type": "text"
      },
      "cell_type": "markdown",
      "source": [
        "以下のように表示されたら成功です．（実行時期によってバージョンは以下の例よりも上がっている可能性があります）．\n",
        "```\n",
        "Platform: Linux-4.14.65+-x86_64-with-Ubuntu-18.04-bionic\n",
        "Chainer: 6.0.0a1\n",
        "NumPy: 1.14.6\n",
        "CuPy:\n",
        "  CuPy Version          : 6.0.0a1\n",
        "  CUDA Root             : /usr/local/cuda\n",
        "  CUDA Build Version    : 9020\n",
        "  CUDA Driver Version   : 9020\n",
        "  CUDA Runtime Version  : 9020\n",
        "  cuDNN Build Version   : 7201\n",
        "  cuDNN Version         : 7201\n",
        "  NCCL Build Version    : 2213\n",
        "iDeep: Not Available\n",
        "('matplotlib:', '2.1.2')\n",
        "```"
      ]
    },
    {
      "metadata": {
        "id": "MzdDwd7aeYmT",
        "colab_type": "text"
      },
      "cell_type": "markdown",
      "source": [
        "## 配列解析について\n",
        "\n",
        "次世代シーケンサの発展・普及とともに，大量の遺伝子配列が読み取られるようになりました．そうした中で，塩基配列で表現された遺伝子型と病気や形態などの表現型との関係を推定するようなGWAS（Genome Wide Association Study; ゲノムワイド関連解析）がされてきましたが，遺伝子変異だけでは全ての表現型の変化を説明できないことがわかってきています．特に，非翻訳領域が遺伝子発現に影響を与え，表現型の変化を生じさせていることが様々な実験結果からわかってきています．遺伝子発現時に周辺領域がどのように影響を与えているのかを調べるために様々な手法が提案されています．（以下図）\n",
        "\n",
        "![代替テキスト](https://www.encodeproject.org/images/c45f4d8c-0340-4fcb-abe3-e4ff0bb919be/@@download/attachment/EncodeDatatypes2013-7.png)[Encode Projectより引用]\n",
        "\n",
        "例えば，ChIP-Seq（クロマチン免疫沈降）は，転写調節因子やそのほかのタンパク質が直接の相互作用を起こすDNAの特定部位を分離し，それらをシーケンシングして同定し，どの程度出現していたかを定量化します．これにより，タンパク質のDNA中の結合部位を正確かつ効率的に同定することができます．\n",
        "\n",
        "このような技術で抽出された配列を学習データとして利用し，DNA配列のみからそこが結合部位かどうかだけでなく，どの程度，出現していたのかというカバレッチ値を推定することで，DNA配列のみから，転写因子，クロマチンアクセシビリティ，ヒストン修飾を予測することができるようになり，様々な遺伝子変異に対する有益な洞察を与えてくれます．\n",
        "\n",
        "一方で，DNA配列中のどの領域がそのような特徴を持つのかを調べるためには非常に遠距離のDNA配列もいる必要があり，これが機械学習による解析を困難としていました．今回紹介する手法はこのような遠距離の関係を捉えるため，10万超の長さのDNA配列を入力として受け取り，128bpごとにその領域がどの程度各手法で発現していたのか，カバレッジ値を予測するタスクを考えます．"
      ]
    },
    {
      "metadata": {
        "id": "db3ngEYHgSmd",
        "colab_type": "text"
      },
      "cell_type": "markdown",
      "source": [
        "## データセット\n",
        "\n",
        "ここでは，データセットとして[FANTOM5](http://fantom.gsc.riken.jp/5/)のCAGEデータセットを利用します．ここでは前処理が既に終わって配列と，各位置ごとの推定カバレッジ値が記録されたデータを利用します．下のセルを実行してデータをダウンロードしてください．\n",
        "\n"
      ]
    },
    {
      "metadata": {
        "id": "LjxWi_2chwkX",
        "colab_type": "code",
        "outputId": "4ca47f97-d6fc-4ce0-fa98-d4c8da215afc",
        "colab": {
          "base_uri": "https://localhost:8080/",
          "height": 119
        }
      },
      "cell_type": "code",
      "source": [
        "!wget https://github.com/japan-medical-ai/medical-ai-course-materials/releases/download/v0.1/seq.h5"
      ],
      "execution_count": 5,
      "outputs": [
        {
          "output_type": "stream",
          "text": [
            "--2018-11-19 10:08:09--  https://github.com/japan-medical-ai/medical-ai-course-materials/releases/download/v0.1/seq.h5\n",
            "Resolving github.com (github.com)... 140.82.118.3, 140.82.118.4\n",
            "Connecting to github.com (github.com)|140.82.118.3|:443... connected.\n",
            "HTTP request sent, awaiting response... 404 Not Found\n",
            "2018-11-19 10:08:09 ERROR 404: Not Found.\n",
            "\n"
          ],
          "name": "stdout"
        }
      ]
    },
    {
      "metadata": {
        "id": "ugaOOp_KcYT_",
        "colab_type": "code",
        "colab": {
          "base_uri": "https://localhost:8080/",
          "height": 85
        },
        "outputId": "a1a42508-1a2f-45fa-9306-57d2baa0bfcf"
      },
      "cell_type": "code",
      "source": [
        "!pip install -U -q PyDrive\n",
        "\n",
        "from pydrive.auth import GoogleAuth\n",
        "from pydrive.drive import GoogleDrive\n",
        "from google.colab import auth\n",
        "from oauth2client.client import GoogleCredentials\n",
        "\n",
        "auth.authenticate_user()\n",
        "gauth = GoogleAuth()\n",
        "gauth.credentials = GoogleCredentials.get_application_default()\n",
        "drive = GoogleDrive(gauth)\n",
        "\n",
        "file_id = \"18yBvVVdKY1VKOYFXZuc9JAsblVXXcLnA\"\n",
        "drive_file = drive.CreateFile({'id': file_id})\n",
        "\n",
        "drive_file.GetContentFile(\"seq.h5\")\n",
        "!ls -l"
      ],
      "execution_count": 7,
      "outputs": [
        {
          "output_type": "stream",
          "text": [
            "total 575032\n",
            "-rw-r--r-- 1 root root      2568 Nov 19 10:09 adc.json\n",
            "drwxr-xr-x 2 root root      4096 Nov 15 19:33 sample_data\n",
            "-rw-r--r-- 1 root root 588818546 Nov 19 10:09 seq.h5\n"
          ],
          "name": "stdout"
        }
      ]
    },
    {
      "metadata": {
        "id": "Q4E1tMn3inf1",
        "colab_type": "text"
      },
      "cell_type": "markdown",
      "source": [
        "\n",
        "\n",
        "```\n",
        "total 3640080\n",
        "-rw-r--r-- 1 root root       2597 Oct 17 05:38 adc.json\n",
        "-rw-r--r-- 1 root root 3727429632 Oct 17 05:39 data.h5\n",
        "drwxr-xr-x 2 root root       4096 Oct 15 20:47 sample_data\n",
        "```\n"
      ]
    },
    {
      "metadata": {
        "id": "9yuEHGl_XC2B",
        "colab_type": "code",
        "outputId": "5ea9fbfd-dc54-4e16-a253-18aed61a0b44",
        "colab": {
          "base_uri": "https://localhost:8080/",
          "height": 102
        }
      },
      "cell_type": "code",
      "source": [
        "!ls -lh"
      ],
      "execution_count": 0,
      "outputs": [
        {
          "output_type": "stream",
          "text": [
            "total 3.5G\n",
            "-rw-r--r-- 1 root root 2.6K Nov  6 07:40 adc.json\n",
            "-rw-r--r-- 1 root root 3.5G Nov  6 08:23 data.h5\n",
            "drwxr-xr-x 2 root root 4.0K Nov  6 08:26 out\n",
            "drwxr-xr-x 2 root root 4.0K Nov  2 17:32 sample_data\n"
          ],
          "name": "stdout"
        }
      ]
    },
    {
      "metadata": {
        "id": "l8NsMudgiHBI",
        "colab_type": "text"
      },
      "cell_type": "markdown",
      "source": [
        "data.h5というファイルが正しくダウンロードされているかを確認してください．\n",
        "\n",
        "data.h5はHDF5形式でデータを格納したファイルです．HDF5ファイルは，ファイルシステムと同様に，階層的にデータを格納することができ，行列やテンソルデータをそれぞれの位置で名前付きで格納することができます．\n",
        "\n",
        "HDF5形式のファイルを操作するためにh5pyというライブラリがあります．h5pyのFile()でファイルを開き，keys()というAPIでその中に含まれているキーを列挙します．取得したキーを使って格納されている各データを参照することができます．\n",
        "\n",
        "テンソルデータはnumpyと同様にshapeという属性でそのサイズを取得することができます．\n",
        "\n",
        "以下のセルを実行して格納されているデータを確認してください．"
      ]
    },
    {
      "metadata": {
        "id": "bBQVPyKxi-uE",
        "colab_type": "code",
        "outputId": "2149b4a8-dbd7-417e-d408-e30365b27777",
        "colab": {
          "base_uri": "https://localhost:8080/",
          "height": 204
        }
      },
      "cell_type": "code",
      "source": [
        "import h5py\n",
        "import numpy as np\n",
        "\n",
        "with h5py.File('seq.h5', 'r') as hf:\n",
        "  for key in hf.keys():\n",
        "    print(key, hf[key].shape, hf[key].dtype)"
      ],
      "execution_count": 8,
      "outputs": [
        {
          "output_type": "stream",
          "text": [
            "(u'pool_width', (), dtype('int64'))\n",
            "(u'target_ids', (3,), dtype('S14'))\n",
            "(u'target_labels', (3,), dtype('S1'))\n",
            "(u'target_strands', (3,), dtype('S1'))\n",
            "(u'test_in', (444, 131072, 4), dtype('bool'))\n",
            "(u'test_out', (444, 1024, 3), dtype('<f2'))\n",
            "(u'test_out_full', (444, 1024, 3), dtype('<f2'))\n",
            "(u'train_in', (6240, 131072, 4), dtype('bool'))\n",
            "(u'train_out', (6240, 1024, 3), dtype('<f2'))\n",
            "(u'valid_in', (338, 131072, 4), dtype('bool'))\n",
            "(u'valid_out', (338, 1024, 3), dtype('<f2'))\n"
          ],
          "name": "stdout"
        }
      ]
    },
    {
      "metadata": {
        "id": "T7OkqzE-jXlq",
        "colab_type": "text"
      },
      "cell_type": "markdown",
      "source": [
        "\n",
        "\n",
        "```\n",
        "pool_width () int64\n",
        "target_ids (3,) |S14\n",
        "target_labels (3,) |S1\n",
        "target_strands (3,) |S1\n",
        "test_in (444, 131072, 4) bool\n",
        "test_out (444, 1024, 3) float16\n",
        "test_out_full (444, 1024, 3) float16\n",
        "train_in (6240, 131072, 4) bool\n",
        "train_out (6240, 1024, 3) float16\n",
        "valid_in (338, 131072, 4) bool\n",
        "valid_out (338, 1024, 3) float16\n",
        "```\n",
        "\n"
      ]
    },
    {
      "metadata": {
        "id": "NkAYTB2ZkEXr",
        "colab_type": "text"
      },
      "cell_type": "markdown",
      "source": [
        "h5py形式のファイルをnumpyデータとして扱うには，コピーする必要があります．以下のコードは'train_in'というキーに対応するテンソルデータをnumpyデータとして読み出し，そのデータを一部を表示します．"
      ]
    },
    {
      "metadata": {
        "id": "7c3LBQGhja4E",
        "colab_type": "code",
        "outputId": "898855af-d747-4b28-e5cf-422fe395375d",
        "colab": {
          "base_uri": "https://localhost:8080/",
          "height": 592
        }
      },
      "cell_type": "code",
      "source": [
        "%matplotlib inline\n",
        "import matplotlib.pyplot as plt\n",
        "\n",
        "with h5py.File('seq.h5') as hf:\n",
        "  y = hf['train_out'][:100]\n",
        "  fig_size = plt.rcParams[\"figure.figsize\"]\n",
        "  fig_size[0] = 20\n",
        "  fig_size[1] = 10\n",
        "  for i in range(3):\n",
        "    plt.bar(range(y.shape[1]), y[0,:,i])"
      ],
      "execution_count": 9,
      "outputs": [
        {
          "output_type": "display_data",
          "data": {
            "image/png": "[encoded data removed]",
            "text/plain": [
              "<matplotlib.figure.Figure at 0x7f1fcbd73710>"
            ]
          },
          "metadata": {
            "tags": []
          }
        }
      ]
    },
    {
      "metadata": {
        "id": "9dB69Y47k-y_",
        "colab_type": "text"
      },
      "cell_type": "markdown",
      "source": [
        "## Dilated Convolutionを用いた解析\n",
        "\n",
        "### 配列解析の戦略\n",
        "\n",
        "配列データを扱うためには大きく３つの戦略があります．\n",
        "\n",
        "一つ目は，配列中の順序情報は捨てて，配列をその特徴の集合とみなすことです．これはBag of Words（BoW）表現とよびます．このBoW表現は特徴に十分情報が含まれていれば強力な手法ですがDNA配列のような4種類の文字からなる配列やその部分配列だけではその特徴を捉えることは困難です．\n",
        "\n",
        "二つ目は配列中の要素を左から右に順に読み込んでいき計算していく手法です．これはRNNを用いて解析します．このRNNの問題点はその計算が逐次的であり計算量が配列長に比例するという点です．現在の計算機は計算を並列化することで高速化を達成していますがRNNは計算を並列化することが困難です．もう一つの問題は遠距離間の関係を捉えることが難しいという点です．RNNはその計算方式から，計算の途中結果を全て状態ベクトルに格納する必要があります．遠距離間の関係を捉えようとすると，多くの情報を覚えておかなければなりませんが状態ベクトルサイズは有限なので，多くの情報を忘れなければなりません．\n",
        "\n",
        "三つ目は配列データを1次元の画像とみなし，画像処理の時と同様にCNNを用いて解析する手法です．CNNはRNNの場合と違って各位置の処理を独立に実行できるため並列に処理することができます．また，後述するDilated Convolutionを使うことで各位置の処理は遠距離にある情報を直接読み取ることができます．次の章でDilated Convolutionについてさらに詳しくみていきます．\n",
        "\n",
        "\n",
        "\n",
        "\n"
      ]
    },
    {
      "metadata": {
        "id": "RWl4yYm_nqg7",
        "colab_type": "text"
      },
      "cell_type": "markdown",
      "source": [
        "### Dilated Convolution\n",
        "\n",
        "従来の畳み込み層を使って配列解析をする場合を考えてみます．\n",
        "以下の図のようにある位置の入力の情報は各層で隣接する位置からしか読み込まれません．どのくらい離れた位置から情報を取得するかはカーネルサイズによって決定され，カーネルサイズがKの時，Dだけ離れた距離にある情報を取得するためにはD/K層必要となります．今回の問題の場合Dは数百から数万，Kは3や5といった値ですので必要な層数も百から万といった数になってしまい現実的ではありません．"
      ]
    },
    {
      "metadata": {
        "id": "gJ2MdbaHneLk",
        "colab_type": "text"
      },
      "cell_type": "markdown",
      "source": [
        "![convolution](http://musyoku.github.io/images/post/2016-09-17/naive_conv.png)"
      ]
    },
    {
      "metadata": {
        "id": "Gazys1FUoV4m",
        "colab_type": "text"
      },
      "cell_type": "markdown",
      "source": [
        "それに対し，Dilated Convolution（atrous convolutionやconvolution weith holesともよばれます）は読み取る場所をずらしたところからうけとります．例えばDilation=4の場合，4だけ離れた位置から情報を受け取ります．このDilatedを倍々にしていき，カーネルサイズを2とした場合，Dだけ離れた位置の情報を受取るには log_2 D層だけ必要になります．今回のDが数百から数万の場合，10から20層程度あれば済むことになります．\n",
        "\n",
        "今回はこのDilated Convolutionを使うことで遠距離にある情報を考慮できるモデルを作成します．"
      ]
    },
    {
      "metadata": {
        "id": "Vl5f4eonQGU9",
        "colab_type": "text"
      },
      "cell_type": "markdown",
      "source": [
        "![dilated convolution](http://musyoku.github.io/images/post/2016-09-17/dilated_conv.png)"
      ]
    },
    {
      "metadata": {
        "id": "p0bcCznko_wD",
        "colab_type": "text"
      },
      "cell_type": "markdown",
      "source": [
        "### ブロック\n",
        "\n",
        "それでは最初に，ネットワークの全体を設計します．\n",
        "このネットワークは二つのブロックから構成されます．\n",
        "\n",
        "一つのブロックは長さが2^17から配列を長さが2^10のベクトル列まで圧縮することを担当します．このブロックによる変換後，得られた特徴ベクトルは1つの位置が128bpに対応します．この圧縮はSqueezeBlockが担当します．\n",
        "\n",
        "二つ目のブロックは遠距離にある情報を考慮して各ベクトルの値を後進していく部分を担当します．パラメータDilatedを倍々にしていき，毎回2倍遠くの情報が伝搬されるようにします．この変換はDilated Blockが担当します．\n",
        "\n",
        "以下のコードを実行してみましょう．\n"
      ]
    },
    {
      "metadata": {
        "id": "5M6BDmVdpLkE",
        "colab_type": "code",
        "colab": {}
      },
      "cell_type": "code",
      "source": [
        "import chainer\n",
        "import chainer.functions as F\n",
        "import chainer.links as L\n",
        "import cupy as cp\n",
        "\n",
        "default_squeeze_params = [\n",
        "  # out_ch, kernel, pool\n",
        "  [32, 21, 2], #1 128 -> 64\n",
        "  [64, 7, 4], #2  64 -> 16\n",
        "  [128, 7, 4], #3  16 -> 4\n",
        "  [256, 7, 4], #4  4 -> 1\n",
        "]\n",
        "\n",
        "default_dilated_params = [\n",
        "# out_ch, kernel, dilated\n",
        "  [256, 3, 1],\n",
        "  [256, 3, 2], \n",
        "  [256, 3, 4], \n",
        "  [256, 3, 8], \n",
        "  [256, 3, 16], \n",
        "  [256, 3, 32],\n",
        "  [256, 3, 64]\n",
        "]\n",
        "\n",
        "\n",
        "class Net(chainer.Chain):\n",
        "    \n",
        "  def __init__(self, squeeze_params=default_squeeze_params, dilated_params=default_dilated_params, n_targets=3):\n",
        "    super(Net, self).__init__()\n",
        "    self._n_squeeze = len(squeeze_params)\n",
        "    self._n_dilated = len(dilated_params)\n",
        "    with self.init_scope():\n",
        "      in_ch = 4\n",
        "      for i, param in enumerate(squeeze_params):\n",
        "        out_ch, kernel, pool = param\n",
        "        setattr(self, \"s_{}\".format(i), SqueezeBlock(in_ch, out_ch, kernel, pool))\n",
        "        in_ch = out_ch\n",
        "      for i, param in enumerate(dilated_params):\n",
        "        out_ch, kernel, dilated = param\n",
        "        setattr(self, \"d_{}\".format(i), DilatedBlock(out_ch, kernel, dilated))\n",
        "      self.l = L.ConvolutionND(1, None, n_targets, 1)\n",
        "    \n",
        "  def forward(self, x):\n",
        "    # x : (B, X, 4)\n",
        "    xp = cp.get_array_module(x)\n",
        "    h = xp.transpose(x, (0, 2, 1))\n",
        "    h = h.astype(xp.float32)\n",
        "                \n",
        "    for i in range(self._n_squeeze):\n",
        "      h = F.forget(self[\"s_{}\".format(i)], h)\n",
        "    \n",
        "    for i in range(self._n_dilated):\n",
        "      h = F.forget(self[\"d_{}\".format(i)], h)\n",
        "\n",
        "    h = self.l(h)\n",
        "    h = xp.transpose(h, (0, 2, 1))\n",
        "    return h"
      ],
      "execution_count": 0,
      "outputs": []
    },
    {
      "metadata": {
        "id": "Kc3RNwK_qHzS",
        "colab_type": "text"
      },
      "cell_type": "markdown",
      "source": [
        "このネットワークは初期化時の引数としてRootBlockに関するパラメータと，DilatedBlockに関するパラメータを受け取ります．\n",
        "\n",
        "それぞれ，出力チャンネル，カーネルサイズ，プーリングの三つ組からなるリストと，出力チャンネル，カーネルサイズ，dilatedサイズの三つ組からなるリストを受け取ります．"
      ]
    },
    {
      "metadata": {
        "id": "s3T5pRubrlba",
        "colab_type": "text"
      },
      "cell_type": "markdown",
      "source": [
        "次に，ブロックの定義をします．"
      ]
    },
    {
      "metadata": {
        "id": "shOuWcBkrpOE",
        "colab_type": "code",
        "colab": {}
      },
      "cell_type": "code",
      "source": [
        "import chainer\n",
        "import chainer.functions as F\n",
        "import chainer.links as L\n",
        "import cupy as cp\n",
        "\n",
        "class WNConvolutionND(L.ConvolutionND):\n",
        "    def __init__(self, *args, **kwargs):\n",
        "        super(WNConvolutionND, self).__init__(*args, **kwargs)\n",
        "        self.add_param('g', self.W.data.shape[0])\n",
        "        norm = np.linalg.norm(self.W.data.reshape(\n",
        "            self.W.data.shape[0], -1), axis=1)\n",
        "        self.g.data[...] = norm\n",
        "\n",
        "    def __call__(self, x):\n",
        "        norm = F.batch_l2_norm_squared(self.W) ** 0.5\n",
        "        channel_size = self.W.data.shape[0]\n",
        "        norm_broadcasted = F.broadcast_to(\n",
        "            F.reshape(norm, (channel_size, 1, 1)), self.W.data.shape)\n",
        "        g_broadcasted = F.broadcast_to(\n",
        "            F.reshape(norm, (channel_size, 1, 1)), self.W.data.shape)\n",
        "        return F.convolution_nd(\n",
        "            x, g_broadcasted * self.W / norm_broadcasted, self.b, self.stride,\n",
        "            self.pad, self.cover_all, self.dilate)\n",
        "\n",
        "class SqueezeBlock(chainer.Chain):  \n",
        "  def __init__(self, in_ch, out_ch, kernel, pool):\n",
        "    super(SqueezeBlock, self).__init__()\n",
        "    \n",
        "    self.pool = pool\n",
        "    with self.init_scope():\n",
        "        pad = kernel // 2\n",
        "        self.conv = WNConvolutionND(1, in_ch, out_ch*2, kernel, pad=pad, stride=pool)\n",
        "      \n",
        "  def forward(self, x):\n",
        "    h = self.conv(x)\n",
        "    h, g = F.split_axis(h, 2, 1)\n",
        "    h = h * F.sigmoid(g)\n",
        "    return h\n",
        "\n",
        "class DilatedBlock(chainer.Chain):\n",
        "  def __init__(self, out_ch, kernel, dilate):\n",
        "    super(DilatedBlock, self).__init__()\n",
        "    with self.init_scope():\n",
        "      self.conv = WNConvolutionND(1, out_ch, out_ch*2, kernel, pad=dilate, dilate=dilate)\n",
        "      self.conv1x1 = WNConvolutionND(1, out_ch, out_ch, 1)\n",
        "      \n",
        "  def forward(self, x):\n",
        "    h = self.conv(x)\n",
        "    h, g = F.split_axis(h, 2, 1)\n",
        "    h = h * F.sigmoid(g)\n",
        "    h = self.conv1x1(h)\n",
        "    return h + x\n"
      ],
      "execution_count": 0,
      "outputs": []
    },
    {
      "metadata": {
        "id": "JnjyqF0EZxbw",
        "colab_type": "text"
      },
      "cell_type": "markdown",
      "source": [
        "SqueezeBlockは配列を縮めていき，長さ131072の配列を1024に縮めるためのブロックです．\n",
        "1次元配列を扱うためConvolutionNDを使い，最初の引数で1次元配列であることを指定しています．各層は畳み込み層，BatchNormalization層，MaxPooling層，Reluから構成されます．\n",
        "\n",
        "DilatedBlockはすでに長さ1024の長さになった配列に対し，Dilated Convolutionを使って遠距離にある情報も使って計算していく部分です．引数としてdilatedを受け取ります．Dilated Convolutionを使う場合は通常のConvolution層（今回はConvolutionNDだが，Convolution2Dも同様）の引数にdilatedを加えるだけで計算できます．\n",
        "\n",
        "また，計算の際は入力結果に現在の結果を足しこみます．これはResNetと呼ばれるネットワークで提案された手法です．これにより，学習がしやすくなります．"
      ]
    },
    {
      "metadata": {
        "id": "y-ZdRuhSq2Rq",
        "colab_type": "text"
      },
      "cell_type": "markdown",
      "source": [
        "それでは，試しにネットワークを構築して，そこにサンプルデータを流してみましょう．\n",
        "\n"
      ]
    },
    {
      "metadata": {
        "id": "DARrKIMurGiH",
        "colab_type": "code",
        "outputId": "2bd6bffe-550a-42f2-d4de-cb9ac4dff1e2",
        "colab": {
          "base_uri": "https://localhost:8080/",
          "height": 34
        }
      },
      "cell_type": "code",
      "source": [
        "import numpy as np\n",
        "n = Net()\n",
        "size = 131072 # 128 * 1024\n",
        "batchsize = 4\n",
        "x = np.empty((batchsize, size, 4), dtype=np.bool)\n",
        "y = n.forward(x)\n",
        "print(y.shape)"
      ],
      "execution_count": 14,
      "outputs": [
        {
          "output_type": "stream",
          "text": [
            "(4, 1024, 3)\n"
          ],
          "name": "stdout"
        }
      ]
    },
    {
      "metadata": {
        "id": "ydR6gwYCsATQ",
        "colab_type": "text"
      },
      "cell_type": "markdown",
      "source": [
        "```\n",
        "(4, 1024, 3)\n",
        "```\n",
        "\n"
      ]
    },
    {
      "metadata": {
        "id": "OyJ8lu_psGlk",
        "colab_type": "text"
      },
      "cell_type": "markdown",
      "source": [
        "ここで，もともとB= 4, L=131072, C=4だった配列が計算後はB=4, L=1024, C=3の配列となりました．"
      ]
    },
    {
      "metadata": {
        "id": "vLNgEVh0vjOt",
        "colab_type": "text"
      },
      "cell_type": "markdown",
      "source": [
        "今回の学習では対数ポアソン損失関数を利用します．これはモデルはポアソン分布の唯一のパラメータである平均を出力し，そのポアソン分布を学習データを使った最尤推定をします．この際，学習対象パラメータ以外は無視しています．性能評価する際には，比較がしやすいように学習パラメータに依存しない項も含めた式を利用しています．"
      ]
    },
    {
      "metadata": {
        "id": "rgQmu0Pgvh0P",
        "colab_type": "code",
        "colab": {}
      },
      "cell_type": "code",
      "source": [
        "import chainer.functions as F\n",
        "import math\n",
        "import sklearn\n",
        "import numpy as np\n",
        "\n",
        "def log_poisson_loss(log_x, t):\n",
        "  loss =  F.mean(F.exp(log_x) - t * log_x) \n",
        "  t = chainer.cuda.to_cpu(t.astype(np.float32))  \n",
        "  offset = F.mean(cp.array(t - t * np.ma.log(t)))\n",
        "  return loss - offset\n",
        "\n",
        "def log_r2_score(log_x, t):\n",
        "  return F.r2_score(F.exp(log_x), t)"
      ],
      "execution_count": 0,
      "outputs": []
    },
    {
      "metadata": {
        "id": "i29nbsuiZ8Gq",
        "colab_type": "text"
      },
      "cell_type": "markdown",
      "source": [
        "また，学習率の調整にCosineSchedulerを使います．ニューラルネットワークの学習では，徐々に学習率を小さくしていくと，より汎化性能の高い解を見つけられることがわかっています．焼きなまし法のように最初は学習率を高くして極小解にはまらないようにし，，後半は徐々に学習率を0に近づけていき収束させるというものです．\n",
        "CosineSchedulerはCosine関数の0度から90度までの変化のように学習率を変化させます．また学習は初期が不安定なので最初にn_warmup回，学習率を0から初期学習率まで線形に増やしていきます．"
      ]
    },
    {
      "metadata": {
        "id": "--5vkBoSZ_rb",
        "colab_type": "code",
        "colab": {}
      },
      "cell_type": "code",
      "source": [
        "from chainer import training\n",
        "import numpy as np\n",
        "import math\n",
        "\n",
        "class CosineScheduler(training.Extension):\n",
        "\n",
        "    def __init__(self, attr='lr', init_val=0.0001, n_decays=200, n_warmups=3, target=None, optimizer=None):\n",
        "        self._attr = attr\n",
        "        self._target = target\n",
        "        self._optimizer = optimizer\n",
        "        self._min_loss = None\n",
        "        self._last_value = None\n",
        "        self._init_val = init_val\n",
        "        self._n_decays = n_decays - n_warmups\n",
        "        self._decay_count = 0\n",
        "        self._n_warmups = n_warmups\n",
        "\n",
        "    def __call__(self, trainer):\n",
        "        updater = trainer.updater\n",
        "        optimizer = self._get_optimizer(trainer)\n",
        "        epoch = updater.epoch\n",
        "        if epoch < self._n_warmups:\n",
        "            value = self._init_val / (self._n_warmups + 1) * (epoch + 1)\n",
        "        else:\n",
        "            value = 0.5 * self._init_val * (1 + math.cos(math.pi * (epoch - self._n_warmups) / self._n_decays))\n",
        "        self._update_value(optimizer, value)\n",
        "\n",
        "\n",
        "    def _get_optimizer(self, trainer):\n",
        "        return self._optimizer or trainer.updater.get_optimizer('main')\n",
        "\n",
        "    def _update_value(self, optimizer, value):\n",
        "        setattr(optimizer, self._attr, value)\n",
        "        self._last_value = value"
      ],
      "execution_count": 0,
      "outputs": []
    },
    {
      "metadata": {
        "id": "DdtCixMfaAxn",
        "colab_type": "text"
      },
      "cell_type": "markdown",
      "source": [
        "また学習中にデータオーグメンテーションとして，確率0.5で配列を反転したり，入力を少しだけ前後にシフトするようにします．"
      ]
    },
    {
      "metadata": {
        "id": "WwGMdoCdaC2k",
        "colab_type": "code",
        "colab": {}
      },
      "cell_type": "code",
      "source": [
        "import chainer\n",
        "import random\n",
        "\n",
        "class PreprocessedDataset(chainer.dataset.DatasetMixin):\n",
        "\n",
        "    def __init__(self, xs, ys, size=131072, max_shift=3):\n",
        "        self.xs = xs\n",
        "        self.ys = ys\n",
        "        self.size = size\n",
        "        self.max_shift = max_shift\n",
        "\n",
        "    def __len__(self):\n",
        "        return len(self.xs)\n",
        "\n",
        "    def get_example(self, i):\n",
        "        # It applies following preprocesses:\n",
        "        #     - Cropping\n",
        "        #     - Random flip\n",
        "\n",
        "        x = self.xs[i]\n",
        "        y = self.ys[i]\n",
        "\n",
        "        if random.randint(0, 1):\n",
        "            x = x[::-1, :]\n",
        "            y = y[::-1, :]\n",
        "\n",
        "        s = random.randint(-self.max_shift, self.max_shift)\n",
        "        x = np.roll(x, s, axis=0)\n",
        "        return x, y"
      ],
      "execution_count": 0,
      "outputs": []
    },
    {
      "metadata": {
        "id": "9RCVvBw0v9i-",
        "colab_type": "text"
      },
      "cell_type": "markdown",
      "source": [
        "これで全部準備ができました．残りはchainerのtrainerを改造して学習するだけです．以下のコードを実行してください．30分程度で学習が完了します．時間の無い方はソースコード内のratio=20を40とかに増やしたり、n_epochsを10などにすることで、減らすことができます。"
      ]
    },
    {
      "metadata": {
        "id": "b1_e0bE7wB48",
        "colab_type": "code",
        "outputId": "108ad09f-65a2-466c-9b39-e21293b1a305",
        "colab": {
          "base_uri": "https://localhost:8080/",
          "height": 3755
        }
      },
      "cell_type": "code",
      "source": [
        "import chainer\n",
        "import chainer.functions as F\n",
        "import chainer.links as L\n",
        "import numpy as np\n",
        "from chainer.training import extensions\n",
        "from chainer import training\n",
        "import h5py\n",
        "\n",
        "ml_h5 = h5py.File('seq.h5')\n",
        "print(list(ml_h5.keys()))\n",
        "\n",
        "train_x = ml_h5['train_in']\n",
        "train_y = ml_h5['train_out']\n",
        "\n",
        "valid_x = ml_h5['valid_in']\n",
        "valid_y = ml_h5['valid_out']\n",
        "\n",
        "test_x = ml_h5['test_in']\n",
        "test_y = ml_h5['test_out']\n",
        "\n",
        "ratio = 20\n",
        "train_x = train_x[:len(train_x)//ratio]\n",
        "train_y = train_y[:len(train_y)//ratio]\n",
        "valid_x = valid_x[:len(valid_x)//ratio]\n",
        "valid_y = valid_y[:len(valid_y)//ratio]\n",
        "\n",
        "\n",
        "train = PreprocessedDataset(train_x, train_y)\n",
        "val = chainer.datasets.TupleDataset(valid_x, valid_y)\n",
        "\n",
        "batchsize = 8\n",
        "\n",
        "train_iter = chainer.iterators.SerialIterator(train, batchsize)\n",
        "val_iter = chainer.iterators.SerialIterator(val, batchsize, repeat=False, shuffle=False)\n",
        "\n",
        "model = L.Classifier(Net(), lossfun=log_poisson_loss, accfun=log_r2_score)\n",
        "\n",
        "lr = 0.002\n",
        "optimizer = chainer.optimizers.Adam(alpha=lr, beta1=0.97, beta2=0.98)\n",
        "optimizer.setup(model)\n",
        "optimizer.add_hook(chainer.optimizer_hooks.GradientClipping(threshold=0.01))\n",
        "\n",
        "\n",
        "updater = training.updaters.StandardUpdater(\n",
        "  train_iter, optimizer, device=0)\n",
        "\n",
        "n_epochs = 60\n",
        "n_warmups = 5\n",
        "out = \"out\"\n",
        "trainer = training.Trainer(updater, (n_epochs, 'epoch'), out=out)\n",
        "trainer.extend(CosineScheduler(attr='alpha', init_val=lr, n_decays=n_epochs, n_warmups=n_warmups), trigger=(1, 'epoch'))\n",
        "\n",
        "trainer.extend(extensions.Evaluator(val_iter, model, device = 0))\n",
        "trainer.extend(extensions.LogReport())\n",
        "trainer.extend(extensions.snapshot_object(model, 'model_epoch_{.updater.epoch}'), trigger=(1, 'epoch'))\n",
        "\n",
        "trainer.extend(extensions.PrintReport(\n",
        "    ['epoch', 'main/loss', 'validation/main/loss', 'elapsed_time']), trigger = (0.1, 'epoch'))\n",
        "\n",
        "# trainer.extend(extensions.ProgressBar())\n",
        "     \n",
        "trainer.run()\n"
      ],
      "execution_count": 18,
      "outputs": [
        {
          "output_type": "stream",
          "text": [
            "[u'pool_width', u'target_ids', u'target_labels', u'target_strands', u'test_in', u'test_out', u'test_out_full', u'train_in', u'train_out', u'valid_in', u'valid_out']\n",
            "epoch       main/loss   validation/main/loss  elapsed_time\n",
            "\u001b[J1           0.834       0.269752              42.3188       \n",
            "\u001b[J2           0.545968    0.291822              68.5781       \n",
            "\u001b[J3           0.481299    0.267865              94.8936       \n",
            "\u001b[J4           0.474464    0.261046              121.258       \n",
            "\u001b[J5           0.462697    0.255512              147.634       \n",
            "\u001b[J6           0.44257     0.244087              174.02        \n",
            "\u001b[J7           0.411399    0.228142              200.425       \n",
            "\u001b[J8           0.407284    0.221707              226.814       \n"
          ],
          "name": "stdout"
        },
        {
          "output_type": "stream",
          "text": [
            "Exception in main training loop: out of memory to allocate 176160768 bytes (total 11997091840 bytes)\n",
            "Traceback (most recent call last):\n",
            "  File \"/usr/local/lib/python2.7/dist-packages/chainer/training/trainer.py\", line 315, in run\n",
            "    update()\n",
            "  File \"/usr/local/lib/python2.7/dist-packages/chainer/training/updaters/standard_updater.py\", line 165, in update\n",
            "    self.update_core()\n",
            "  File \"/usr/local/lib/python2.7/dist-packages/chainer/training/updaters/standard_updater.py\", line 177, in update_core\n",
            "    optimizer.update(loss_func, *in_arrays)\n",
            "  File \"/usr/local/lib/python2.7/dist-packages/chainer/optimizer.py\", line 685, in update\n",
            "    loss.backward(loss_scale=self._loss_scale)\n",
            "  File \"/usr/local/lib/python2.7/dist-packages/chainer/variable.py\", line 963, in backward\n",
            "    self._backward_main(retain_grad, loss_scale)\n",
            "  File \"/usr/local/lib/python2.7/dist-packages/chainer/variable.py\", line 1040, in _backward_main\n",
            "    func, target_input_indexes, out_grad, in_grad)\n",
            "  File \"/usr/local/lib/python2.7/dist-packages/chainer/_backprop_utils.py\", line 106, in backprop_step\n",
            "    target_input_indexes, grad_outputs)\n",
            "  File \"/usr/local/lib/python2.7/dist-packages/chainer/functions/util/forget.py\", line 63, in backward\n",
            "    outs[0].backward()\n",
            "  File \"/usr/local/lib/python2.7/dist-packages/chainer/variable.py\", line 963, in backward\n",
            "    self._backward_main(retain_grad, loss_scale)\n",
            "  File \"/usr/local/lib/python2.7/dist-packages/chainer/variable.py\", line 1040, in _backward_main\n",
            "    func, target_input_indexes, out_grad, in_grad)\n",
            "  File \"/usr/local/lib/python2.7/dist-packages/chainer/_backprop_utils.py\", line 106, in backprop_step\n",
            "    target_input_indexes, grad_outputs)\n",
            "  File \"/usr/local/lib/python2.7/dist-packages/chainer/functions/connection/convolution_nd.py\", line 191, in backward\n",
            "    gW, = ConvolutionNDGradW(self).apply((x, gy))\n",
            "  File \"/usr/local/lib/python2.7/dist-packages/chainer/function_node.py\", line 263, in apply\n",
            "    outputs = self.forward(in_data)\n",
            "  File \"/usr/local/lib/python2.7/dist-packages/chainer/functions/connection/convolution_nd.py\", line 236, in forward\n",
            "    return self._forward_xp(x, gy, cuda.cupy)\n",
            "  File \"/usr/local/lib/python2.7/dist-packages/chainer/functions/connection/convolution_nd.py\", line 244, in _forward_xp\n",
            "    return self._forward_xp_core(x, gy, xp)\n",
            "  File \"/usr/local/lib/python2.7/dist-packages/chainer/functions/connection/convolution_nd.py\", line 300, in _forward_xp_core\n",
            "    gW = xp.tensordot(gy, col, (out_axes, col_axes)).astype(\n",
            "  File \"/usr/local/lib/python2.7/dist-packages/cupy/linalg/product.py\", line 195, in tensordot\n",
            "    return core.tensordot_core(a, b, None, n, m, k, ret_shape)\n",
            "  File \"cupy/core/core.pyx\", line 4055, in cupy.core.core.tensordot_core\n",
            "  File \"cupy/core/core.pyx\", line 4117, in cupy.core.core.tensordot_core\n",
            "  File \"cupy/core/core.pyx\", line 549, in cupy.core.core.ndarray._reshape\n",
            "  File \"cupy/core/core.pyx\", line 448, in cupy.core.core.ndarray.copy\n",
            "  File \"cupy/core/core.pyx\", line 405, in cupy.core.core.ndarray.astype\n",
            "  File \"cupy/core/core.pyx\", line 150, in cupy.core.core.ndarray.__init__\n",
            "  File \"cupy/cuda/memory.pyx\", line 517, in cupy.cuda.memory.alloc\n",
            "  File \"cupy/cuda/memory.pyx\", line 1064, in cupy.cuda.memory.MemoryPool.malloc\n",
            "  File \"cupy/cuda/memory.pyx\", line 1085, in cupy.cuda.memory.MemoryPool.malloc\n",
            "  File \"cupy/cuda/memory.pyx\", line 899, in cupy.cuda.memory.SingleDeviceMemoryPool.malloc\n",
            "  File \"cupy/cuda/memory.pyx\", line 920, in cupy.cuda.memory.SingleDeviceMemoryPool._malloc\n",
            "  File \"cupy/cuda/memory.pyx\", line 694, in cupy.cuda.memory._try_malloc\n",
            "Will finalize trainer extensions and updater before reraising the exception.\n"
          ],
          "name": "stderr"
        },
        {
          "output_type": "error",
          "ename": "OutOfMemoryError",
          "evalue": "ignored",
          "traceback": [
            "\u001b[0;31m\u001b[0m",
            "\u001b[0;31mOutOfMemoryError\u001b[0mTraceback (most recent call last)",
            "\u001b[0;32m<ipython-input-18-53eb993ff731>\u001b[0m in \u001b[0;36m<module>\u001b[0;34m()\u001b[0m\n\u001b[1;32m     60\u001b[0m \u001b[0;31m# trainer.extend(extensions.ProgressBar())\u001b[0m\u001b[0;34m\u001b[0m\u001b[0;34m\u001b[0m\u001b[0m\n\u001b[1;32m     61\u001b[0m \u001b[0;34m\u001b[0m\u001b[0m\n\u001b[0;32m---> 62\u001b[0;31m \u001b[0mtrainer\u001b[0m\u001b[0;34m.\u001b[0m\u001b[0mrun\u001b[0m\u001b[0;34m(\u001b[0m\u001b[0;34m)\u001b[0m\u001b[0;34m\u001b[0m\u001b[0m\n\u001b[0m",
            "\u001b[0;32m/usr/local/lib/python2.7/dist-packages/chainer/training/trainer.pyc\u001b[0m in \u001b[0;36mrun\u001b[0;34m(self, show_loop_exception_msg)\u001b[0m\n\u001b[1;32m    346\u001b[0m                         \u001b[0mf\u001b[0m\u001b[0;34m.\u001b[0m\u001b[0mwrite\u001b[0m\u001b[0;34m(\u001b[0m\u001b[0;34m'Traceback (most recent call last):\\n'\u001b[0m\u001b[0;34m)\u001b[0m\u001b[0;34m\u001b[0m\u001b[0m\n\u001b[1;32m    347\u001b[0m                         \u001b[0mtraceback\u001b[0m\u001b[0;34m.\u001b[0m\u001b[0mprint_tb\u001b[0m\u001b[0;34m(\u001b[0m\u001b[0msys\u001b[0m\u001b[0;34m.\u001b[0m\u001b[0mexc_info\u001b[0m\u001b[0;34m(\u001b[0m\u001b[0;34m)\u001b[0m\u001b[0;34m[\u001b[0m\u001b[0;36m2\u001b[0m\u001b[0;34m]\u001b[0m\u001b[0;34m)\u001b[0m\u001b[0;34m\u001b[0m\u001b[0m\n\u001b[0;32m--> 348\u001b[0;31m             \u001b[0msix\u001b[0m\u001b[0;34m.\u001b[0m\u001b[0mreraise\u001b[0m\u001b[0;34m(\u001b[0m\u001b[0;34m*\u001b[0m\u001b[0mexc_info\u001b[0m\u001b[0;34m)\u001b[0m\u001b[0;34m\u001b[0m\u001b[0m\n\u001b[0m\u001b[1;32m    349\u001b[0m         \u001b[0;32mfinally\u001b[0m\u001b[0;34m:\u001b[0m\u001b[0;34m\u001b[0m\u001b[0m\n\u001b[1;32m    350\u001b[0m             \u001b[0;32mfor\u001b[0m \u001b[0m_\u001b[0m\u001b[0;34m,\u001b[0m \u001b[0mentry\u001b[0m \u001b[0;32min\u001b[0m \u001b[0mextensions\u001b[0m\u001b[0;34m:\u001b[0m\u001b[0;34m\u001b[0m\u001b[0m\n",
            "\u001b[0;32m/usr/local/lib/python2.7/dist-packages/chainer/training/trainer.pyc\u001b[0m in \u001b[0;36mrun\u001b[0;34m(self, show_loop_exception_msg)\u001b[0m\n\u001b[1;32m    313\u001b[0m                 \u001b[0mself\u001b[0m\u001b[0;34m.\u001b[0m\u001b[0mobservation\u001b[0m \u001b[0;34m=\u001b[0m \u001b[0;34m{\u001b[0m\u001b[0;34m}\u001b[0m\u001b[0;34m\u001b[0m\u001b[0m\n\u001b[1;32m    314\u001b[0m                 \u001b[0;32mwith\u001b[0m \u001b[0mreporter\u001b[0m\u001b[0;34m.\u001b[0m\u001b[0mscope\u001b[0m\u001b[0;34m(\u001b[0m\u001b[0mself\u001b[0m\u001b[0;34m.\u001b[0m\u001b[0mobservation\u001b[0m\u001b[0;34m)\u001b[0m\u001b[0;34m:\u001b[0m\u001b[0;34m\u001b[0m\u001b[0m\n\u001b[0;32m--> 315\u001b[0;31m                     \u001b[0mupdate\u001b[0m\u001b[0;34m(\u001b[0m\u001b[0;34m)\u001b[0m\u001b[0;34m\u001b[0m\u001b[0m\n\u001b[0m\u001b[1;32m    316\u001b[0m                     \u001b[0;32mfor\u001b[0m \u001b[0mname\u001b[0m\u001b[0;34m,\u001b[0m \u001b[0mentry\u001b[0m \u001b[0;32min\u001b[0m \u001b[0mextensions\u001b[0m\u001b[0;34m:\u001b[0m\u001b[0;34m\u001b[0m\u001b[0m\n\u001b[1;32m    317\u001b[0m                         \u001b[0;32mif\u001b[0m \u001b[0mentry\u001b[0m\u001b[0;34m.\u001b[0m\u001b[0mtrigger\u001b[0m\u001b[0;34m(\u001b[0m\u001b[0mself\u001b[0m\u001b[0;34m)\u001b[0m\u001b[0;34m:\u001b[0m\u001b[0;34m\u001b[0m\u001b[0m\n",
            "\u001b[0;32m/usr/local/lib/python2.7/dist-packages/chainer/training/updaters/standard_updater.pyc\u001b[0m in \u001b[0;36mupdate\u001b[0;34m(self)\u001b[0m\n\u001b[1;32m    163\u001b[0m \u001b[0;34m\u001b[0m\u001b[0m\n\u001b[1;32m    164\u001b[0m         \"\"\"\n\u001b[0;32m--> 165\u001b[0;31m         \u001b[0mself\u001b[0m\u001b[0;34m.\u001b[0m\u001b[0mupdate_core\u001b[0m\u001b[0;34m(\u001b[0m\u001b[0;34m)\u001b[0m\u001b[0;34m\u001b[0m\u001b[0m\n\u001b[0m\u001b[1;32m    166\u001b[0m         \u001b[0mself\u001b[0m\u001b[0;34m.\u001b[0m\u001b[0miteration\u001b[0m \u001b[0;34m+=\u001b[0m \u001b[0;36m1\u001b[0m\u001b[0;34m\u001b[0m\u001b[0m\n\u001b[1;32m    167\u001b[0m \u001b[0;34m\u001b[0m\u001b[0m\n",
            "\u001b[0;32m/usr/local/lib/python2.7/dist-packages/chainer/training/updaters/standard_updater.pyc\u001b[0m in \u001b[0;36mupdate_core\u001b[0;34m(self)\u001b[0m\n\u001b[1;32m    175\u001b[0m \u001b[0;34m\u001b[0m\u001b[0m\n\u001b[1;32m    176\u001b[0m         \u001b[0;32mif\u001b[0m \u001b[0misinstance\u001b[0m\u001b[0;34m(\u001b[0m\u001b[0min_arrays\u001b[0m\u001b[0;34m,\u001b[0m \u001b[0mtuple\u001b[0m\u001b[0;34m)\u001b[0m\u001b[0;34m:\u001b[0m\u001b[0;34m\u001b[0m\u001b[0m\n\u001b[0;32m--> 177\u001b[0;31m             \u001b[0moptimizer\u001b[0m\u001b[0;34m.\u001b[0m\u001b[0mupdate\u001b[0m\u001b[0;34m(\u001b[0m\u001b[0mloss_func\u001b[0m\u001b[0;34m,\u001b[0m \u001b[0;34m*\u001b[0m\u001b[0min_arrays\u001b[0m\u001b[0;34m)\u001b[0m\u001b[0;34m\u001b[0m\u001b[0m\n\u001b[0m\u001b[1;32m    178\u001b[0m         \u001b[0;32melif\u001b[0m \u001b[0misinstance\u001b[0m\u001b[0;34m(\u001b[0m\u001b[0min_arrays\u001b[0m\u001b[0;34m,\u001b[0m \u001b[0mdict\u001b[0m\u001b[0;34m)\u001b[0m\u001b[0;34m:\u001b[0m\u001b[0;34m\u001b[0m\u001b[0m\n\u001b[1;32m    179\u001b[0m             \u001b[0moptimizer\u001b[0m\u001b[0;34m.\u001b[0m\u001b[0mupdate\u001b[0m\u001b[0;34m(\u001b[0m\u001b[0mloss_func\u001b[0m\u001b[0;34m,\u001b[0m \u001b[0;34m**\u001b[0m\u001b[0min_arrays\u001b[0m\u001b[0;34m)\u001b[0m\u001b[0;34m\u001b[0m\u001b[0m\n",
            "\u001b[0;32m/usr/local/lib/python2.7/dist-packages/chainer/optimizer.pyc\u001b[0m in \u001b[0;36mupdate\u001b[0;34m(self, lossfun, *args, **kwds)\u001b[0m\n\u001b[1;32m    683\u001b[0m             \u001b[0;32melse\u001b[0m\u001b[0;34m:\u001b[0m\u001b[0;34m\u001b[0m\u001b[0m\n\u001b[1;32m    684\u001b[0m                 \u001b[0mself\u001b[0m\u001b[0;34m.\u001b[0m\u001b[0mtarget\u001b[0m\u001b[0;34m.\u001b[0m\u001b[0mzerograds\u001b[0m\u001b[0;34m(\u001b[0m\u001b[0;34m)\u001b[0m\u001b[0;34m\u001b[0m\u001b[0m\n\u001b[0;32m--> 685\u001b[0;31m             \u001b[0mloss\u001b[0m\u001b[0;34m.\u001b[0m\u001b[0mbackward\u001b[0m\u001b[0;34m(\u001b[0m\u001b[0mloss_scale\u001b[0m\u001b[0;34m=\u001b[0m\u001b[0mself\u001b[0m\u001b[0;34m.\u001b[0m\u001b[0m_loss_scale\u001b[0m\u001b[0;34m)\u001b[0m\u001b[0;34m\u001b[0m\u001b[0m\n\u001b[0m\u001b[1;32m    686\u001b[0m             \u001b[0;32mdel\u001b[0m \u001b[0mloss\u001b[0m\u001b[0;34m\u001b[0m\u001b[0m\n\u001b[1;32m    687\u001b[0m \u001b[0;34m\u001b[0m\u001b[0m\n",
            "\u001b[0;32m/usr/local/lib/python2.7/dist-packages/chainer/variable.pyc\u001b[0m in \u001b[0;36mbackward\u001b[0;34m(self, retain_grad, enable_double_backprop, loss_scale)\u001b[0m\n\u001b[1;32m    961\u001b[0m         \"\"\"\n\u001b[1;32m    962\u001b[0m         \u001b[0;32mwith\u001b[0m \u001b[0mchainer\u001b[0m\u001b[0;34m.\u001b[0m\u001b[0musing_config\u001b[0m\u001b[0;34m(\u001b[0m\u001b[0;34m'enable_backprop'\u001b[0m\u001b[0;34m,\u001b[0m \u001b[0menable_double_backprop\u001b[0m\u001b[0;34m)\u001b[0m\u001b[0;34m:\u001b[0m\u001b[0;34m\u001b[0m\u001b[0m\n\u001b[0;32m--> 963\u001b[0;31m             \u001b[0mself\u001b[0m\u001b[0;34m.\u001b[0m\u001b[0m_backward_main\u001b[0m\u001b[0;34m(\u001b[0m\u001b[0mretain_grad\u001b[0m\u001b[0;34m,\u001b[0m \u001b[0mloss_scale\u001b[0m\u001b[0;34m)\u001b[0m\u001b[0;34m\u001b[0m\u001b[0m\n\u001b[0m\u001b[1;32m    964\u001b[0m \u001b[0;34m\u001b[0m\u001b[0m\n\u001b[1;32m    965\u001b[0m     \u001b[0;32mdef\u001b[0m \u001b[0m_backward_main\u001b[0m\u001b[0;34m(\u001b[0m\u001b[0mself\u001b[0m\u001b[0;34m,\u001b[0m \u001b[0mretain_grad\u001b[0m\u001b[0;34m,\u001b[0m \u001b[0mloss_scale\u001b[0m\u001b[0;34m)\u001b[0m\u001b[0;34m:\u001b[0m\u001b[0;34m\u001b[0m\u001b[0m\n",
            "\u001b[0;32m/usr/local/lib/python2.7/dist-packages/chainer/variable.pyc\u001b[0m in \u001b[0;36m_backward_main\u001b[0;34m(self, retain_grad, loss_scale)\u001b[0m\n\u001b[1;32m   1038\u001b[0m \u001b[0;34m\u001b[0m\u001b[0m\n\u001b[1;32m   1039\u001b[0m                 _backprop_utils.backprop_step(\n\u001b[0;32m-> 1040\u001b[0;31m                     func, target_input_indexes, out_grad, in_grad)\n\u001b[0m\u001b[1;32m   1041\u001b[0m \u001b[0;34m\u001b[0m\u001b[0m\n\u001b[1;32m   1042\u001b[0m                 \u001b[0;32mfor\u001b[0m \u001b[0mhook\u001b[0m \u001b[0;32min\u001b[0m \u001b[0mhooks\u001b[0m\u001b[0;34m:\u001b[0m\u001b[0;34m\u001b[0m\u001b[0m\n",
            "\u001b[0;32m/usr/local/lib/python2.7/dist-packages/chainer/_backprop_utils.pyc\u001b[0m in \u001b[0;36mbackprop_step\u001b[0;34m(func, target_input_indexes, grad_outputs, grad_inputs)\u001b[0m\n\u001b[1;32m    104\u001b[0m     \u001b[0;32melse\u001b[0m\u001b[0;34m:\u001b[0m  \u001b[0;31m# otherwise, backward should be overridden\u001b[0m\u001b[0;34m\u001b[0m\u001b[0m\n\u001b[1;32m    105\u001b[0m         gxs = func.backward(\n\u001b[0;32m--> 106\u001b[0;31m             target_input_indexes, grad_outputs)\n\u001b[0m\u001b[1;32m    107\u001b[0m \u001b[0;34m\u001b[0m\u001b[0m\n\u001b[1;32m    108\u001b[0m         \u001b[0;32mif\u001b[0m \u001b[0mis_debug\u001b[0m\u001b[0;34m:\u001b[0m\u001b[0;34m\u001b[0m\u001b[0m\n",
            "\u001b[0;32m/usr/local/lib/python2.7/dist-packages/chainer/functions/util/forget.pyc\u001b[0m in \u001b[0;36mbackward\u001b[0;34m(self, indexes, grad_outputs)\u001b[0m\n\u001b[1;32m     61\u001b[0m         \u001b[0;32mfor\u001b[0m \u001b[0mout\u001b[0m\u001b[0;34m,\u001b[0m \u001b[0mgrad_output\u001b[0m \u001b[0;32min\u001b[0m \u001b[0mzip\u001b[0m\u001b[0;34m(\u001b[0m\u001b[0mouts\u001b[0m\u001b[0;34m,\u001b[0m \u001b[0mgrad_outputs\u001b[0m\u001b[0;34m)\u001b[0m\u001b[0;34m:\u001b[0m\u001b[0;34m\u001b[0m\u001b[0m\n\u001b[1;32m     62\u001b[0m             \u001b[0mout\u001b[0m\u001b[0;34m.\u001b[0m\u001b[0mgrad_var\u001b[0m \u001b[0;34m=\u001b[0m \u001b[0mgrad_output\u001b[0m\u001b[0;34m\u001b[0m\u001b[0m\n\u001b[0;32m---> 63\u001b[0;31m         \u001b[0mouts\u001b[0m\u001b[0;34m[\u001b[0m\u001b[0;36m0\u001b[0m\u001b[0;34m]\u001b[0m\u001b[0;34m.\u001b[0m\u001b[0mbackward\u001b[0m\u001b[0;34m(\u001b[0m\u001b[0;34m)\u001b[0m\u001b[0;34m\u001b[0m\u001b[0m\n\u001b[0m\u001b[1;32m     64\u001b[0m \u001b[0;34m\u001b[0m\u001b[0m\n\u001b[1;32m     65\u001b[0m         \u001b[0;32mreturn\u001b[0m \u001b[0mtuple\u001b[0m\u001b[0;34m(\u001b[0m\u001b[0;34m[\u001b[0m\u001b[0minp\u001b[0m\u001b[0;34m.\u001b[0m\u001b[0mgrad_var\u001b[0m \u001b[0;32mfor\u001b[0m \u001b[0minp\u001b[0m \u001b[0;32min\u001b[0m \u001b[0mdummy_inputs\u001b[0m\u001b[0;34m]\u001b[0m\u001b[0;34m)\u001b[0m\u001b[0;34m\u001b[0m\u001b[0m\n",
            "\u001b[0;32m/usr/local/lib/python2.7/dist-packages/chainer/variable.pyc\u001b[0m in \u001b[0;36mbackward\u001b[0;34m(self, retain_grad, enable_double_backprop, loss_scale)\u001b[0m\n\u001b[1;32m    961\u001b[0m         \"\"\"\n\u001b[1;32m    962\u001b[0m         \u001b[0;32mwith\u001b[0m \u001b[0mchainer\u001b[0m\u001b[0;34m.\u001b[0m\u001b[0musing_config\u001b[0m\u001b[0;34m(\u001b[0m\u001b[0;34m'enable_backprop'\u001b[0m\u001b[0;34m,\u001b[0m \u001b[0menable_double_backprop\u001b[0m\u001b[0;34m)\u001b[0m\u001b[0;34m:\u001b[0m\u001b[0;34m\u001b[0m\u001b[0m\n\u001b[0;32m--> 963\u001b[0;31m             \u001b[0mself\u001b[0m\u001b[0;34m.\u001b[0m\u001b[0m_backward_main\u001b[0m\u001b[0;34m(\u001b[0m\u001b[0mretain_grad\u001b[0m\u001b[0;34m,\u001b[0m \u001b[0mloss_scale\u001b[0m\u001b[0;34m)\u001b[0m\u001b[0;34m\u001b[0m\u001b[0m\n\u001b[0m\u001b[1;32m    964\u001b[0m \u001b[0;34m\u001b[0m\u001b[0m\n\u001b[1;32m    965\u001b[0m     \u001b[0;32mdef\u001b[0m \u001b[0m_backward_main\u001b[0m\u001b[0;34m(\u001b[0m\u001b[0mself\u001b[0m\u001b[0;34m,\u001b[0m \u001b[0mretain_grad\u001b[0m\u001b[0;34m,\u001b[0m \u001b[0mloss_scale\u001b[0m\u001b[0;34m)\u001b[0m\u001b[0;34m:\u001b[0m\u001b[0;34m\u001b[0m\u001b[0m\n",
            "\u001b[0;32m/usr/local/lib/python2.7/dist-packages/chainer/variable.pyc\u001b[0m in \u001b[0;36m_backward_main\u001b[0;34m(self, retain_grad, loss_scale)\u001b[0m\n\u001b[1;32m   1038\u001b[0m \u001b[0;34m\u001b[0m\u001b[0m\n\u001b[1;32m   1039\u001b[0m                 _backprop_utils.backprop_step(\n\u001b[0;32m-> 1040\u001b[0;31m                     func, target_input_indexes, out_grad, in_grad)\n\u001b[0m\u001b[1;32m   1041\u001b[0m \u001b[0;34m\u001b[0m\u001b[0m\n\u001b[1;32m   1042\u001b[0m                 \u001b[0;32mfor\u001b[0m \u001b[0mhook\u001b[0m \u001b[0;32min\u001b[0m \u001b[0mhooks\u001b[0m\u001b[0;34m:\u001b[0m\u001b[0;34m\u001b[0m\u001b[0m\n",
            "\u001b[0;32m/usr/local/lib/python2.7/dist-packages/chainer/_backprop_utils.pyc\u001b[0m in \u001b[0;36mbackprop_step\u001b[0;34m(func, target_input_indexes, grad_outputs, grad_inputs)\u001b[0m\n\u001b[1;32m    104\u001b[0m     \u001b[0;32melse\u001b[0m\u001b[0;34m:\u001b[0m  \u001b[0;31m# otherwise, backward should be overridden\u001b[0m\u001b[0;34m\u001b[0m\u001b[0m\n\u001b[1;32m    105\u001b[0m         gxs = func.backward(\n\u001b[0;32m--> 106\u001b[0;31m             target_input_indexes, grad_outputs)\n\u001b[0m\u001b[1;32m    107\u001b[0m \u001b[0;34m\u001b[0m\u001b[0m\n\u001b[1;32m    108\u001b[0m         \u001b[0;32mif\u001b[0m \u001b[0mis_debug\u001b[0m\u001b[0;34m:\u001b[0m\u001b[0;34m\u001b[0m\u001b[0m\n",
            "\u001b[0;32m/usr/local/lib/python2.7/dist-packages/chainer/functions/connection/convolution_nd.pyc\u001b[0m in \u001b[0;36mbackward\u001b[0;34m(self, indexes, grad_outputs)\u001b[0m\n\u001b[1;32m    189\u001b[0m             \u001b[0mret\u001b[0m\u001b[0;34m.\u001b[0m\u001b[0mappend\u001b[0m\u001b[0;34m(\u001b[0m\u001b[0mgx\u001b[0m\u001b[0;34m)\u001b[0m\u001b[0;34m\u001b[0m\u001b[0m\n\u001b[1;32m    190\u001b[0m         \u001b[0;32mif\u001b[0m \u001b[0;36m1\u001b[0m \u001b[0;32min\u001b[0m \u001b[0mindexes\u001b[0m\u001b[0;34m:\u001b[0m\u001b[0;34m\u001b[0m\u001b[0m\n\u001b[0;32m--> 191\u001b[0;31m             \u001b[0mgW\u001b[0m\u001b[0;34m,\u001b[0m \u001b[0;34m=\u001b[0m \u001b[0mConvolutionNDGradW\u001b[0m\u001b[0;34m(\u001b[0m\u001b[0mself\u001b[0m\u001b[0;34m)\u001b[0m\u001b[0;34m.\u001b[0m\u001b[0mapply\u001b[0m\u001b[0;34m(\u001b[0m\u001b[0;34m(\u001b[0m\u001b[0mx\u001b[0m\u001b[0;34m,\u001b[0m \u001b[0mgy\u001b[0m\u001b[0;34m)\u001b[0m\u001b[0;34m)\u001b[0m\u001b[0;34m\u001b[0m\u001b[0m\n\u001b[0m\u001b[1;32m    192\u001b[0m             \u001b[0mret\u001b[0m\u001b[0;34m.\u001b[0m\u001b[0mappend\u001b[0m\u001b[0;34m(\u001b[0m\u001b[0mgW\u001b[0m\u001b[0;34m)\u001b[0m\u001b[0;34m\u001b[0m\u001b[0m\n\u001b[1;32m    193\u001b[0m         \u001b[0;32mif\u001b[0m \u001b[0;36m2\u001b[0m \u001b[0;32min\u001b[0m \u001b[0mindexes\u001b[0m\u001b[0;34m:\u001b[0m\u001b[0;34m\u001b[0m\u001b[0m\n",
            "\u001b[0;32m/usr/local/lib/python2.7/dist-packages/chainer/function_node.pyc\u001b[0m in \u001b[0;36mapply\u001b[0;34m(self, inputs)\u001b[0m\n\u001b[1;32m    261\u001b[0m                 \u001b[0moutputs\u001b[0m \u001b[0;34m=\u001b[0m \u001b[0mstatic_forward_optimizations\u001b[0m\u001b[0;34m(\u001b[0m\u001b[0mself\u001b[0m\u001b[0;34m,\u001b[0m \u001b[0min_data\u001b[0m\u001b[0;34m)\u001b[0m\u001b[0;34m\u001b[0m\u001b[0m\n\u001b[1;32m    262\u001b[0m             \u001b[0;32melse\u001b[0m\u001b[0;34m:\u001b[0m\u001b[0;34m\u001b[0m\u001b[0m\n\u001b[0;32m--> 263\u001b[0;31m                 \u001b[0moutputs\u001b[0m \u001b[0;34m=\u001b[0m \u001b[0mself\u001b[0m\u001b[0;34m.\u001b[0m\u001b[0mforward\u001b[0m\u001b[0;34m(\u001b[0m\u001b[0min_data\u001b[0m\u001b[0;34m)\u001b[0m\u001b[0;34m\u001b[0m\u001b[0m\n\u001b[0m\u001b[1;32m    264\u001b[0m \u001b[0;34m\u001b[0m\u001b[0m\n\u001b[1;32m    265\u001b[0m         \u001b[0;31m# Check for output array types\u001b[0m\u001b[0;34m\u001b[0m\u001b[0;34m\u001b[0m\u001b[0m\n",
            "\u001b[0;32m/usr/local/lib/python2.7/dist-packages/chainer/functions/connection/convolution_nd.pyc\u001b[0m in \u001b[0;36mforward\u001b[0;34m(self, inputs)\u001b[0m\n\u001b[1;32m    234\u001b[0m             \u001b[0;32mreturn\u001b[0m \u001b[0mself\u001b[0m\u001b[0;34m.\u001b[0m\u001b[0m_forward_xp\u001b[0m\u001b[0;34m(\u001b[0m\u001b[0mx\u001b[0m\u001b[0;34m,\u001b[0m \u001b[0mgy\u001b[0m\u001b[0;34m,\u001b[0m \u001b[0mnumpy\u001b[0m\u001b[0;34m)\u001b[0m\u001b[0;34m\u001b[0m\u001b[0m\n\u001b[1;32m    235\u001b[0m         \u001b[0;32melif\u001b[0m \u001b[0;32mnot\u001b[0m \u001b[0mself\u001b[0m\u001b[0;34m.\u001b[0m\u001b[0m_use_cudnn\u001b[0m\u001b[0;34m(\u001b[0m\u001b[0mx\u001b[0m\u001b[0;34m,\u001b[0m \u001b[0mgy\u001b[0m\u001b[0;34m)\u001b[0m\u001b[0;34m:\u001b[0m\u001b[0;34m\u001b[0m\u001b[0m\n\u001b[0;32m--> 236\u001b[0;31m             \u001b[0;32mreturn\u001b[0m \u001b[0mself\u001b[0m\u001b[0;34m.\u001b[0m\u001b[0m_forward_xp\u001b[0m\u001b[0;34m(\u001b[0m\u001b[0mx\u001b[0m\u001b[0;34m,\u001b[0m \u001b[0mgy\u001b[0m\u001b[0;34m,\u001b[0m \u001b[0mcuda\u001b[0m\u001b[0;34m.\u001b[0m\u001b[0mcupy\u001b[0m\u001b[0;34m)\u001b[0m\u001b[0;34m\u001b[0m\u001b[0m\n\u001b[0m\u001b[1;32m    237\u001b[0m         \u001b[0;32melse\u001b[0m\u001b[0;34m:\u001b[0m\u001b[0;34m\u001b[0m\u001b[0m\n\u001b[1;32m    238\u001b[0m             \u001b[0;32mreturn\u001b[0m \u001b[0mself\u001b[0m\u001b[0;34m.\u001b[0m\u001b[0m_forward_cudnn\u001b[0m\u001b[0;34m(\u001b[0m\u001b[0mx\u001b[0m\u001b[0;34m,\u001b[0m \u001b[0mgy\u001b[0m\u001b[0;34m)\u001b[0m\u001b[0;34m\u001b[0m\u001b[0m\n",
            "\u001b[0;32m/usr/local/lib/python2.7/dist-packages/chainer/functions/connection/convolution_nd.pyc\u001b[0m in \u001b[0;36m_forward_xp\u001b[0;34m(self, x, gy, xp)\u001b[0m\n\u001b[1;32m    242\u001b[0m             \u001b[0;32mreturn\u001b[0m \u001b[0mself\u001b[0m\u001b[0;34m.\u001b[0m\u001b[0m_forward_grouped_convolution_xp\u001b[0m\u001b[0;34m(\u001b[0m\u001b[0mx\u001b[0m\u001b[0;34m,\u001b[0m \u001b[0mgy\u001b[0m\u001b[0;34m,\u001b[0m \u001b[0mxp\u001b[0m\u001b[0;34m)\u001b[0m\u001b[0;34m\u001b[0m\u001b[0m\n\u001b[1;32m    243\u001b[0m         \u001b[0;32melse\u001b[0m\u001b[0;34m:\u001b[0m\u001b[0;34m\u001b[0m\u001b[0m\n\u001b[0;32m--> 244\u001b[0;31m             \u001b[0;32mreturn\u001b[0m \u001b[0mself\u001b[0m\u001b[0;34m.\u001b[0m\u001b[0m_forward_xp_core\u001b[0m\u001b[0;34m(\u001b[0m\u001b[0mx\u001b[0m\u001b[0;34m,\u001b[0m \u001b[0mgy\u001b[0m\u001b[0;34m,\u001b[0m \u001b[0mxp\u001b[0m\u001b[0;34m)\u001b[0m\u001b[0;34m\u001b[0m\u001b[0m\n\u001b[0m\u001b[1;32m    245\u001b[0m \u001b[0;34m\u001b[0m\u001b[0m\n\u001b[1;32m    246\u001b[0m     \u001b[0;32mdef\u001b[0m \u001b[0m_forward_grouped_convolution_xp\u001b[0m\u001b[0;34m(\u001b[0m\u001b[0mself\u001b[0m\u001b[0;34m,\u001b[0m \u001b[0mx\u001b[0m\u001b[0;34m,\u001b[0m \u001b[0mgy\u001b[0m\u001b[0;34m,\u001b[0m \u001b[0mxp\u001b[0m\u001b[0;34m)\u001b[0m\u001b[0;34m:\u001b[0m\u001b[0;34m\u001b[0m\u001b[0m\n",
            "\u001b[0;32m/usr/local/lib/python2.7/dist-packages/chainer/functions/connection/convolution_nd.pyc\u001b[0m in \u001b[0;36m_forward_xp_core\u001b[0;34m(self, x, gy, xp)\u001b[0m\n\u001b[1;32m    298\u001b[0m                 \u001b[0mx\u001b[0m\u001b[0;34m,\u001b[0m \u001b[0mself\u001b[0m\u001b[0;34m.\u001b[0m\u001b[0mksize\u001b[0m\u001b[0;34m,\u001b[0m \u001b[0mself\u001b[0m\u001b[0;34m.\u001b[0m\u001b[0mstride\u001b[0m\u001b[0;34m,\u001b[0m \u001b[0mself\u001b[0m\u001b[0;34m.\u001b[0m\u001b[0mpad\u001b[0m\u001b[0;34m,\u001b[0m\u001b[0;34m\u001b[0m\u001b[0m\n\u001b[1;32m    299\u001b[0m                 cover_all=self.cover_all, dilate=self.dilate)\n\u001b[0;32m--> 300\u001b[0;31m         gW = xp.tensordot(gy, col, (out_axes, col_axes)).astype(\n\u001b[0m\u001b[1;32m    301\u001b[0m             self.W_dtype, copy=False)\n\u001b[1;32m    302\u001b[0m         \u001b[0;32mreturn\u001b[0m \u001b[0mgW\u001b[0m\u001b[0;34m,\u001b[0m\u001b[0;34m\u001b[0m\u001b[0m\n",
            "\u001b[0;32m/usr/local/lib/python2.7/dist-packages/cupy/linalg/product.pyc\u001b[0m in \u001b[0;36mtensordot\u001b[0;34m(a, b, axes)\u001b[0m\n\u001b[1;32m    193\u001b[0m     \u001b[0mm\u001b[0m \u001b[0;34m=\u001b[0m \u001b[0mb\u001b[0m\u001b[0;34m.\u001b[0m\u001b[0msize\u001b[0m \u001b[0;34m//\u001b[0m \u001b[0mk\u001b[0m\u001b[0;34m\u001b[0m\u001b[0m\n\u001b[1;32m    194\u001b[0m \u001b[0;34m\u001b[0m\u001b[0m\n\u001b[0;32m--> 195\u001b[0;31m     \u001b[0;32mreturn\u001b[0m \u001b[0mcore\u001b[0m\u001b[0;34m.\u001b[0m\u001b[0mtensordot_core\u001b[0m\u001b[0;34m(\u001b[0m\u001b[0ma\u001b[0m\u001b[0;34m,\u001b[0m \u001b[0mb\u001b[0m\u001b[0;34m,\u001b[0m \u001b[0mNone\u001b[0m\u001b[0;34m,\u001b[0m \u001b[0mn\u001b[0m\u001b[0;34m,\u001b[0m \u001b[0mm\u001b[0m\u001b[0;34m,\u001b[0m \u001b[0mk\u001b[0m\u001b[0;34m,\u001b[0m \u001b[0mret_shape\u001b[0m\u001b[0;34m)\u001b[0m\u001b[0;34m\u001b[0m\u001b[0m\n\u001b[0m\u001b[1;32m    196\u001b[0m \u001b[0;34m\u001b[0m\u001b[0m\n\u001b[1;32m    197\u001b[0m \u001b[0;34m\u001b[0m\u001b[0m\n",
            "\u001b[0;32mcupy/core/core.pyx\u001b[0m in \u001b[0;36mcupy.core.core.tensordot_core\u001b[0;34m()\u001b[0m\n",
            "\u001b[0;32mcupy/core/core.pyx\u001b[0m in \u001b[0;36mcupy.core.core.tensordot_core\u001b[0;34m()\u001b[0m\n",
            "\u001b[0;32mcupy/core/core.pyx\u001b[0m in \u001b[0;36mcupy.core.core.ndarray._reshape\u001b[0;34m()\u001b[0m\n",
            "\u001b[0;32mcupy/core/core.pyx\u001b[0m in \u001b[0;36mcupy.core.core.ndarray.copy\u001b[0;34m()\u001b[0m\n",
            "\u001b[0;32mcupy/core/core.pyx\u001b[0m in \u001b[0;36mcupy.core.core.ndarray.astype\u001b[0;34m()\u001b[0m\n",
            "\u001b[0;32mcupy/core/core.pyx\u001b[0m in \u001b[0;36mcupy.core.core.ndarray.__init__\u001b[0;34m()\u001b[0m\n",
            "\u001b[0;32mcupy/cuda/memory.pyx\u001b[0m in \u001b[0;36mcupy.cuda.memory.alloc\u001b[0;34m()\u001b[0m\n",
            "\u001b[0;32mcupy/cuda/memory.pyx\u001b[0m in \u001b[0;36mcupy.cuda.memory.MemoryPool.malloc\u001b[0;34m()\u001b[0m\n",
            "\u001b[0;32mcupy/cuda/memory.pyx\u001b[0m in \u001b[0;36mcupy.cuda.memory.MemoryPool.malloc\u001b[0;34m()\u001b[0m\n",
            "\u001b[0;32mcupy/cuda/memory.pyx\u001b[0m in \u001b[0;36mcupy.cuda.memory.SingleDeviceMemoryPool.malloc\u001b[0;34m()\u001b[0m\n",
            "\u001b[0;32mcupy/cuda/memory.pyx\u001b[0m in \u001b[0;36mcupy.cuda.memory.SingleDeviceMemoryPool._malloc\u001b[0;34m()\u001b[0m\n",
            "\u001b[0;32mcupy/cuda/memory.pyx\u001b[0m in \u001b[0;36mcupy.cuda.memory._try_malloc\u001b[0;34m()\u001b[0m\n",
            "\u001b[0;31mOutOfMemoryError\u001b[0m: out of memory to allocate 176160768 bytes (total 11997091840 bytes)"
          ]
        }
      ]
    },
    {
      "metadata": {
        "id": "0Z2hh3--adpl",
        "colab_type": "text"
      },
      "cell_type": "markdown",
      "source": [
        "それでは学習した結果をテストデータに適用し，予測がどうなっているのかを確認してみましょう．"
      ]
    },
    {
      "metadata": {
        "id": "raELQ_Rm_74A",
        "colab_type": "code",
        "outputId": "0e7a9b9b-aca3-4204-a6e1-e207518a02e9",
        "colab": {
          "base_uri": "https://localhost:8080/",
          "height": 811
        }
      },
      "cell_type": "code",
      "source": [
        "import chainer\n",
        "import chainer.links as L\n",
        "%matplotlib inline\n",
        "import matplotlib.pyplot as plt\n",
        "\n",
        "model_epoch = 7\n",
        "out_dir = 'out'\n",
        "model = L.Classifier(Net())\n",
        "chainer.serializers.load_npz('{}/model_epoch_{}'.format(out_dir, model_epoch), model)\n",
        "predictor = model.predictor\n",
        "\n",
        "with chainer.no_backprop_mode():\n",
        "  test_y_estimated = F.exp(predictor(test_x[:1]))\n",
        "  \n",
        "y = test_y_estimated.data\n",
        "fig_size = plt.rcParams[\"figure.figsize\"]\n",
        "fig_size[0] = 20\n",
        "fig_size[1] = 10\n",
        "i = 0\n",
        "plt.bar(range(y.shape[1]), y[0,:,i])\n",
        "plt.bar(range(y.shape[1]), test_y[0,:,i].data)\n",
        "\n"
      ],
      "execution_count": 30,
      "outputs": [
        {
          "output_type": "stream",
          "text": [
            "[0. 0. 0. ... 0. 0. 0.]\n"
          ],
          "name": "stdout"
        },
        {
          "output_type": "error",
          "ename": "AttributeError",
          "evalue": "ignored",
          "traceback": [
            "\u001b[0;31m\u001b[0m",
            "\u001b[0;31mAttributeError\u001b[0mTraceback (most recent call last)",
            "\u001b[0;32m<ipython-input-30-45e3b233b4a8>\u001b[0m in \u001b[0;36m<module>\u001b[0;34m()\u001b[0m\n\u001b[1;32m     21\u001b[0m \u001b[0mi\u001b[0m \u001b[0;34m=\u001b[0m \u001b[0;36m0\u001b[0m\u001b[0;34m\u001b[0m\u001b[0m\n\u001b[1;32m     22\u001b[0m \u001b[0mplt\u001b[0m\u001b[0;34m.\u001b[0m\u001b[0mbar\u001b[0m\u001b[0;34m(\u001b[0m\u001b[0mrange\u001b[0m\u001b[0;34m(\u001b[0m\u001b[0my\u001b[0m\u001b[0;34m.\u001b[0m\u001b[0mshape\u001b[0m\u001b[0;34m[\u001b[0m\u001b[0;36m1\u001b[0m\u001b[0;34m]\u001b[0m\u001b[0;34m)\u001b[0m\u001b[0;34m,\u001b[0m \u001b[0my\u001b[0m\u001b[0;34m[\u001b[0m\u001b[0;36m0\u001b[0m\u001b[0;34m,\u001b[0m\u001b[0;34m:\u001b[0m\u001b[0;34m,\u001b[0m\u001b[0mi\u001b[0m\u001b[0;34m]\u001b[0m\u001b[0;34m)\u001b[0m\u001b[0;34m\u001b[0m\u001b[0m\n\u001b[0;32m---> 23\u001b[0;31m \u001b[0mplt\u001b[0m\u001b[0;34m.\u001b[0m\u001b[0mbar\u001b[0m\u001b[0;34m(\u001b[0m\u001b[0mrange\u001b[0m\u001b[0;34m(\u001b[0m\u001b[0my\u001b[0m\u001b[0;34m.\u001b[0m\u001b[0mshape\u001b[0m\u001b[0;34m[\u001b[0m\u001b[0;36m1\u001b[0m\u001b[0;34m]\u001b[0m\u001b[0;34m)\u001b[0m\u001b[0;34m,\u001b[0m \u001b[0mtest_y\u001b[0m\u001b[0;34m[\u001b[0m\u001b[0;36m0\u001b[0m\u001b[0;34m,\u001b[0m\u001b[0;34m:\u001b[0m\u001b[0;34m,\u001b[0m\u001b[0mi\u001b[0m\u001b[0;34m]\u001b[0m\u001b[0;34m.\u001b[0m\u001b[0mdata\u001b[0m\u001b[0;34m)\u001b[0m\u001b[0;34m\u001b[0m\u001b[0m\n\u001b[0m\u001b[1;32m     24\u001b[0m \u001b[0;34m\u001b[0m\u001b[0m\n",
            "\u001b[0;31mAttributeError\u001b[0m: cannot get single-segment buffer for discontiguous array"
          ]
        },
        {
          "output_type": "display_data",
          "data": {
            "image/png": "[encoded data removed]",
            "text/plain": [
              "<matplotlib.figure.Figure at 0x7f1fc53b9e50>"
            ]
          },
          "metadata": {
            "tags": []
          }
        }
      ]
    },
    {
      "metadata": {
        "id": "GYbZRM8zazBp",
        "colab_type": "text"
      },
      "cell_type": "markdown",
      "source": [
        "また，予測値と実際の値との差を表示してみます．\n",
        "今回は学習時間の制限上，少ないデータセット（全体の1/20）で学習epoch数も60と少ないため、まだ多くのピークを捉えることができていませんが，より大きなデータセットで学習epoch数も200などと大きくして精度を改善することで多くのピークを正しく捉えられるようになります．"
      ]
    },
    {
      "metadata": {
        "id": "MQ3ylNJXIhH3",
        "colab_type": "code",
        "outputId": "00e9723e-0f16-4c11-83cf-7693f9e4e3de",
        "colab": {
          "base_uri": "https://localhost:8080/",
          "height": 1678
        }
      },
      "cell_type": "code",
      "source": [
        "y = test_y_estimated.data\n",
        "fig_size = plt.rcParams[\"figure.figsize\"]\n",
        "fig_size[0] = 20\n",
        "\n",
        "fig_size[1] = 10\n",
        "i = 0\n",
        "print(type(test_y))\n",
        "plt.bar(range(y.shape[1]), y[0,:,i] - test_y[0,:,i])"
      ],
      "execution_count": 0,
      "outputs": [
        {
          "output_type": "stream",
          "text": [
            "(1, 1024, 3)\n",
            "((1024,), <type 'numpy.ndarray'>)\n"
          ],
          "name": "stdout"
        },
        {
          "output_type": "error",
          "ename": "ValueError",
          "evalue": "ignored",
          "traceback": [
            "\u001b[0;31m\u001b[0m",
            "\u001b[0;31mValueError\u001b[0mTraceback (most recent call last)",
            "\u001b[0;32m<ipython-input-20-a24fdc71649d>\u001b[0m in \u001b[0;36m<module>\u001b[0;34m()\u001b[0m\n\u001b[1;32m      6\u001b[0m     \u001b[0mplt\u001b[0m\u001b[0;34m.\u001b[0m\u001b[0mplot\u001b[0m\u001b[0;34m(\u001b[0m\u001b[0mrange\u001b[0m\u001b[0;34m(\u001b[0m\u001b[0mlen\u001b[0m\u001b[0;34m(\u001b[0m\u001b[0mret\u001b[0m\u001b[0;34m[\u001b[0m\u001b[0mi\u001b[0m\u001b[0;34m]\u001b[0m\u001b[0;34m)\u001b[0m\u001b[0;34m)\u001b[0m\u001b[0;34m,\u001b[0m \u001b[0mret\u001b[0m\u001b[0;34m[\u001b[0m\u001b[0mi\u001b[0m\u001b[0;34m]\u001b[0m\u001b[0;34m)\u001b[0m\u001b[0;34m\u001b[0m\u001b[0m\n\u001b[1;32m      7\u001b[0m \u001b[0;34m\u001b[0m\u001b[0m\n\u001b[0;32m----> 8\u001b[0;31m \u001b[0mplot\u001b[0m\u001b[0;34m(\u001b[0m\u001b[0mtest_y_estimated\u001b[0m\u001b[0;34m)\u001b[0m\u001b[0;34m\u001b[0m\u001b[0m\n\u001b[0m",
            "\u001b[0;32m<ipython-input-20-a24fdc71649d>\u001b[0m in \u001b[0;36mplot\u001b[0;34m(y)\u001b[0m\n\u001b[1;32m      4\u001b[0m   \u001b[0;32mfor\u001b[0m \u001b[0mi\u001b[0m \u001b[0;32min\u001b[0m \u001b[0mrange\u001b[0m\u001b[0;34m(\u001b[0m\u001b[0;36m3\u001b[0m\u001b[0;34m)\u001b[0m\u001b[0;34m:\u001b[0m\u001b[0;34m\u001b[0m\u001b[0m\n\u001b[1;32m      5\u001b[0m     \u001b[0;32mprint\u001b[0m\u001b[0;34m(\u001b[0m\u001b[0mret\u001b[0m\u001b[0;34m[\u001b[0m\u001b[0mi\u001b[0m\u001b[0;34m]\u001b[0m\u001b[0;34m.\u001b[0m\u001b[0mshape\u001b[0m\u001b[0;34m,\u001b[0m \u001b[0mtype\u001b[0m\u001b[0;34m(\u001b[0m\u001b[0mret\u001b[0m\u001b[0;34m[\u001b[0m\u001b[0mi\u001b[0m\u001b[0;34m]\u001b[0m\u001b[0;34m)\u001b[0m\u001b[0;34m)\u001b[0m\u001b[0;34m\u001b[0m\u001b[0m\n\u001b[0;32m----> 6\u001b[0;31m     \u001b[0mplt\u001b[0m\u001b[0;34m.\u001b[0m\u001b[0mplot\u001b[0m\u001b[0;34m(\u001b[0m\u001b[0mrange\u001b[0m\u001b[0;34m(\u001b[0m\u001b[0mlen\u001b[0m\u001b[0;34m(\u001b[0m\u001b[0mret\u001b[0m\u001b[0;34m[\u001b[0m\u001b[0mi\u001b[0m\u001b[0;34m]\u001b[0m\u001b[0;34m)\u001b[0m\u001b[0;34m)\u001b[0m\u001b[0;34m,\u001b[0m \u001b[0mret\u001b[0m\u001b[0;34m[\u001b[0m\u001b[0mi\u001b[0m\u001b[0;34m]\u001b[0m\u001b[0;34m)\u001b[0m\u001b[0;34m\u001b[0m\u001b[0m\n\u001b[0m\u001b[1;32m      7\u001b[0m \u001b[0;34m\u001b[0m\u001b[0m\n\u001b[1;32m      8\u001b[0m \u001b[0mplot\u001b[0m\u001b[0;34m(\u001b[0m\u001b[0mtest_y_estimated\u001b[0m\u001b[0;34m)\u001b[0m\u001b[0;34m\u001b[0m\u001b[0m\n",
            "\u001b[0;32m/usr/local/lib/python2.7/dist-packages/matplotlib/pyplot.pyc\u001b[0m in \u001b[0;36mplot\u001b[0;34m(*args, **kwargs)\u001b[0m\n\u001b[1;32m   3259\u001b[0m                       mplDeprecation)\n\u001b[1;32m   3260\u001b[0m     \u001b[0;32mtry\u001b[0m\u001b[0;34m:\u001b[0m\u001b[0;34m\u001b[0m\u001b[0m\n\u001b[0;32m-> 3261\u001b[0;31m         \u001b[0mret\u001b[0m \u001b[0;34m=\u001b[0m \u001b[0max\u001b[0m\u001b[0;34m.\u001b[0m\u001b[0mplot\u001b[0m\u001b[0;34m(\u001b[0m\u001b[0;34m*\u001b[0m\u001b[0margs\u001b[0m\u001b[0;34m,\u001b[0m \u001b[0;34m**\u001b[0m\u001b[0mkwargs\u001b[0m\u001b[0;34m)\u001b[0m\u001b[0;34m\u001b[0m\u001b[0m\n\u001b[0m\u001b[1;32m   3262\u001b[0m     \u001b[0;32mfinally\u001b[0m\u001b[0;34m:\u001b[0m\u001b[0;34m\u001b[0m\u001b[0m\n\u001b[1;32m   3263\u001b[0m         \u001b[0max\u001b[0m\u001b[0;34m.\u001b[0m\u001b[0m_hold\u001b[0m \u001b[0;34m=\u001b[0m \u001b[0mwashold\u001b[0m\u001b[0;34m\u001b[0m\u001b[0m\n",
            "\u001b[0;32m/usr/local/lib/python2.7/dist-packages/matplotlib/__init__.pyc\u001b[0m in \u001b[0;36minner\u001b[0;34m(ax, *args, **kwargs)\u001b[0m\n\u001b[1;32m   1715\u001b[0m                     warnings.warn(msg % (label_namer, func.__name__),\n\u001b[1;32m   1716\u001b[0m                                   RuntimeWarning, stacklevel=2)\n\u001b[0;32m-> 1717\u001b[0;31m             \u001b[0;32mreturn\u001b[0m \u001b[0mfunc\u001b[0m\u001b[0;34m(\u001b[0m\u001b[0max\u001b[0m\u001b[0;34m,\u001b[0m \u001b[0;34m*\u001b[0m\u001b[0margs\u001b[0m\u001b[0;34m,\u001b[0m \u001b[0;34m**\u001b[0m\u001b[0mkwargs\u001b[0m\u001b[0;34m)\u001b[0m\u001b[0;34m\u001b[0m\u001b[0m\n\u001b[0m\u001b[1;32m   1718\u001b[0m         \u001b[0mpre_doc\u001b[0m \u001b[0;34m=\u001b[0m \u001b[0minner\u001b[0m\u001b[0;34m.\u001b[0m\u001b[0m__doc__\u001b[0m\u001b[0;34m\u001b[0m\u001b[0m\n\u001b[1;32m   1719\u001b[0m         \u001b[0;32mif\u001b[0m \u001b[0mpre_doc\u001b[0m \u001b[0;32mis\u001b[0m \u001b[0mNone\u001b[0m\u001b[0;34m:\u001b[0m\u001b[0;34m\u001b[0m\u001b[0m\n",
            "\u001b[0;32m/usr/local/lib/python2.7/dist-packages/matplotlib/axes/_axes.pyc\u001b[0m in \u001b[0;36mplot\u001b[0;34m(self, *args, **kwargs)\u001b[0m\n\u001b[1;32m   1371\u001b[0m \u001b[0;34m\u001b[0m\u001b[0m\n\u001b[1;32m   1372\u001b[0m         \u001b[0;32mfor\u001b[0m \u001b[0mline\u001b[0m \u001b[0;32min\u001b[0m \u001b[0mself\u001b[0m\u001b[0;34m.\u001b[0m\u001b[0m_get_lines\u001b[0m\u001b[0;34m(\u001b[0m\u001b[0;34m*\u001b[0m\u001b[0margs\u001b[0m\u001b[0;34m,\u001b[0m \u001b[0;34m**\u001b[0m\u001b[0mkwargs\u001b[0m\u001b[0;34m)\u001b[0m\u001b[0;34m:\u001b[0m\u001b[0;34m\u001b[0m\u001b[0m\n\u001b[0;32m-> 1373\u001b[0;31m             \u001b[0mself\u001b[0m\u001b[0;34m.\u001b[0m\u001b[0madd_line\u001b[0m\u001b[0;34m(\u001b[0m\u001b[0mline\u001b[0m\u001b[0;34m)\u001b[0m\u001b[0;34m\u001b[0m\u001b[0m\n\u001b[0m\u001b[1;32m   1374\u001b[0m             \u001b[0mlines\u001b[0m\u001b[0;34m.\u001b[0m\u001b[0mappend\u001b[0m\u001b[0;34m(\u001b[0m\u001b[0mline\u001b[0m\u001b[0;34m)\u001b[0m\u001b[0;34m\u001b[0m\u001b[0m\n\u001b[1;32m   1375\u001b[0m \u001b[0;34m\u001b[0m\u001b[0m\n",
            "\u001b[0;32m/usr/local/lib/python2.7/dist-packages/matplotlib/axes/_base.pyc\u001b[0m in \u001b[0;36madd_line\u001b[0;34m(self, line)\u001b[0m\n\u001b[1;32m   1777\u001b[0m             \u001b[0mline\u001b[0m\u001b[0;34m.\u001b[0m\u001b[0mset_clip_path\u001b[0m\u001b[0;34m(\u001b[0m\u001b[0mself\u001b[0m\u001b[0;34m.\u001b[0m\u001b[0mpatch\u001b[0m\u001b[0;34m)\u001b[0m\u001b[0;34m\u001b[0m\u001b[0m\n\u001b[1;32m   1778\u001b[0m \u001b[0;34m\u001b[0m\u001b[0m\n\u001b[0;32m-> 1779\u001b[0;31m         \u001b[0mself\u001b[0m\u001b[0;34m.\u001b[0m\u001b[0m_update_line_limits\u001b[0m\u001b[0;34m(\u001b[0m\u001b[0mline\u001b[0m\u001b[0;34m)\u001b[0m\u001b[0;34m\u001b[0m\u001b[0m\n\u001b[0m\u001b[1;32m   1780\u001b[0m         \u001b[0;32mif\u001b[0m \u001b[0;32mnot\u001b[0m \u001b[0mline\u001b[0m\u001b[0;34m.\u001b[0m\u001b[0mget_label\u001b[0m\u001b[0;34m(\u001b[0m\u001b[0;34m)\u001b[0m\u001b[0;34m:\u001b[0m\u001b[0;34m\u001b[0m\u001b[0m\n\u001b[1;32m   1781\u001b[0m             \u001b[0mline\u001b[0m\u001b[0;34m.\u001b[0m\u001b[0mset_label\u001b[0m\u001b[0;34m(\u001b[0m\u001b[0;34m'_line%d'\u001b[0m \u001b[0;34m%\u001b[0m \u001b[0mlen\u001b[0m\u001b[0;34m(\u001b[0m\u001b[0mself\u001b[0m\u001b[0;34m.\u001b[0m\u001b[0mlines\u001b[0m\u001b[0;34m)\u001b[0m\u001b[0;34m)\u001b[0m\u001b[0;34m\u001b[0m\u001b[0m\n",
            "\u001b[0;32m/usr/local/lib/python2.7/dist-packages/matplotlib/axes/_base.pyc\u001b[0m in \u001b[0;36m_update_line_limits\u001b[0;34m(self, line)\u001b[0m\n\u001b[1;32m   1799\u001b[0m         \u001b[0mFigures\u001b[0m \u001b[0mout\u001b[0m \u001b[0mthe\u001b[0m \u001b[0mdata\u001b[0m \u001b[0mlimit\u001b[0m \u001b[0mof\u001b[0m \u001b[0mthe\u001b[0m \u001b[0mgiven\u001b[0m \u001b[0mline\u001b[0m\u001b[0;34m,\u001b[0m \u001b[0mupdating\u001b[0m \u001b[0mself\u001b[0m\u001b[0;34m.\u001b[0m\u001b[0mdataLim\u001b[0m\u001b[0;34m.\u001b[0m\u001b[0;34m\u001b[0m\u001b[0m\n\u001b[1;32m   1800\u001b[0m         \"\"\"\n\u001b[0;32m-> 1801\u001b[0;31m         \u001b[0mpath\u001b[0m \u001b[0;34m=\u001b[0m \u001b[0mline\u001b[0m\u001b[0;34m.\u001b[0m\u001b[0mget_path\u001b[0m\u001b[0;34m(\u001b[0m\u001b[0;34m)\u001b[0m\u001b[0;34m\u001b[0m\u001b[0m\n\u001b[0m\u001b[1;32m   1802\u001b[0m         \u001b[0;32mif\u001b[0m \u001b[0mpath\u001b[0m\u001b[0;34m.\u001b[0m\u001b[0mvertices\u001b[0m\u001b[0;34m.\u001b[0m\u001b[0msize\u001b[0m \u001b[0;34m==\u001b[0m \u001b[0;36m0\u001b[0m\u001b[0;34m:\u001b[0m\u001b[0;34m\u001b[0m\u001b[0m\n\u001b[1;32m   1803\u001b[0m             \u001b[0;32mreturn\u001b[0m\u001b[0;34m\u001b[0m\u001b[0m\n",
            "\u001b[0;32m/usr/local/lib/python2.7/dist-packages/matplotlib/lines.pyc\u001b[0m in \u001b[0;36mget_path\u001b[0;34m(self)\u001b[0m\n\u001b[1;32m    955\u001b[0m         \"\"\"\n\u001b[1;32m    956\u001b[0m         \u001b[0;32mif\u001b[0m \u001b[0mself\u001b[0m\u001b[0;34m.\u001b[0m\u001b[0m_invalidy\u001b[0m \u001b[0;32mor\u001b[0m \u001b[0mself\u001b[0m\u001b[0;34m.\u001b[0m\u001b[0m_invalidx\u001b[0m\u001b[0;34m:\u001b[0m\u001b[0;34m\u001b[0m\u001b[0m\n\u001b[0;32m--> 957\u001b[0;31m             \u001b[0mself\u001b[0m\u001b[0;34m.\u001b[0m\u001b[0mrecache\u001b[0m\u001b[0;34m(\u001b[0m\u001b[0;34m)\u001b[0m\u001b[0;34m\u001b[0m\u001b[0m\n\u001b[0m\u001b[1;32m    958\u001b[0m         \u001b[0;32mreturn\u001b[0m \u001b[0mself\u001b[0m\u001b[0;34m.\u001b[0m\u001b[0m_path\u001b[0m\u001b[0;34m\u001b[0m\u001b[0m\n\u001b[1;32m    959\u001b[0m \u001b[0;34m\u001b[0m\u001b[0m\n",
            "\u001b[0;32m/usr/local/lib/python2.7/dist-packages/matplotlib/lines.pyc\u001b[0m in \u001b[0;36mrecache\u001b[0;34m(self, always)\u001b[0m\n\u001b[1;32m    661\u001b[0m         \u001b[0;32mif\u001b[0m \u001b[0malways\u001b[0m \u001b[0;32mor\u001b[0m \u001b[0mself\u001b[0m\u001b[0;34m.\u001b[0m\u001b[0m_invalidy\u001b[0m\u001b[0;34m:\u001b[0m\u001b[0;34m\u001b[0m\u001b[0m\n\u001b[1;32m    662\u001b[0m             \u001b[0myconv\u001b[0m \u001b[0;34m=\u001b[0m \u001b[0mself\u001b[0m\u001b[0;34m.\u001b[0m\u001b[0mconvert_yunits\u001b[0m\u001b[0;34m(\u001b[0m\u001b[0mself\u001b[0m\u001b[0;34m.\u001b[0m\u001b[0m_yorig\u001b[0m\u001b[0;34m)\u001b[0m\u001b[0;34m\u001b[0m\u001b[0m\n\u001b[0;32m--> 663\u001b[0;31m             \u001b[0my\u001b[0m \u001b[0;34m=\u001b[0m \u001b[0m_to_unmasked_float_array\u001b[0m\u001b[0;34m(\u001b[0m\u001b[0myconv\u001b[0m\u001b[0;34m)\u001b[0m\u001b[0;34m.\u001b[0m\u001b[0mravel\u001b[0m\u001b[0;34m(\u001b[0m\u001b[0;34m)\u001b[0m\u001b[0;34m\u001b[0m\u001b[0m\n\u001b[0m\u001b[1;32m    664\u001b[0m         \u001b[0;32melse\u001b[0m\u001b[0;34m:\u001b[0m\u001b[0;34m\u001b[0m\u001b[0m\n\u001b[1;32m    665\u001b[0m             \u001b[0my\u001b[0m \u001b[0;34m=\u001b[0m \u001b[0mself\u001b[0m\u001b[0;34m.\u001b[0m\u001b[0m_y\u001b[0m\u001b[0;34m\u001b[0m\u001b[0m\n",
            "\u001b[0;32m/usr/local/lib/python2.7/dist-packages/matplotlib/cbook/__init__.pyc\u001b[0m in \u001b[0;36m_to_unmasked_float_array\u001b[0;34m(x)\u001b[0m\n\u001b[1;32m   2005\u001b[0m         \u001b[0;32mreturn\u001b[0m \u001b[0mnp\u001b[0m\u001b[0;34m.\u001b[0m\u001b[0mma\u001b[0m\u001b[0;34m.\u001b[0m\u001b[0masarray\u001b[0m\u001b[0;34m(\u001b[0m\u001b[0mx\u001b[0m\u001b[0;34m,\u001b[0m \u001b[0mfloat\u001b[0m\u001b[0;34m)\u001b[0m\u001b[0;34m.\u001b[0m\u001b[0mfilled\u001b[0m\u001b[0;34m(\u001b[0m\u001b[0mnp\u001b[0m\u001b[0;34m.\u001b[0m\u001b[0mnan\u001b[0m\u001b[0;34m)\u001b[0m\u001b[0;34m\u001b[0m\u001b[0m\n\u001b[1;32m   2006\u001b[0m     \u001b[0;32melse\u001b[0m\u001b[0;34m:\u001b[0m\u001b[0;34m\u001b[0m\u001b[0m\n\u001b[0;32m-> 2007\u001b[0;31m         \u001b[0;32mreturn\u001b[0m \u001b[0mnp\u001b[0m\u001b[0;34m.\u001b[0m\u001b[0masarray\u001b[0m\u001b[0;34m(\u001b[0m\u001b[0mx\u001b[0m\u001b[0;34m,\u001b[0m \u001b[0mfloat\u001b[0m\u001b[0;34m)\u001b[0m\u001b[0;34m\u001b[0m\u001b[0m\n\u001b[0m\u001b[1;32m   2008\u001b[0m \u001b[0;34m\u001b[0m\u001b[0m\n\u001b[1;32m   2009\u001b[0m \u001b[0;34m\u001b[0m\u001b[0m\n",
            "\u001b[0;32m/usr/local/lib/python2.7/dist-packages/numpy/core/numeric.pyc\u001b[0m in \u001b[0;36masarray\u001b[0;34m(a, dtype, order)\u001b[0m\n\u001b[1;32m    490\u001b[0m \u001b[0;34m\u001b[0m\u001b[0m\n\u001b[1;32m    491\u001b[0m     \"\"\"\n\u001b[0;32m--> 492\u001b[0;31m     \u001b[0;32mreturn\u001b[0m \u001b[0marray\u001b[0m\u001b[0;34m(\u001b[0m\u001b[0ma\u001b[0m\u001b[0;34m,\u001b[0m \u001b[0mdtype\u001b[0m\u001b[0;34m,\u001b[0m \u001b[0mcopy\u001b[0m\u001b[0;34m=\u001b[0m\u001b[0mFalse\u001b[0m\u001b[0;34m,\u001b[0m \u001b[0morder\u001b[0m\u001b[0;34m=\u001b[0m\u001b[0morder\u001b[0m\u001b[0;34m)\u001b[0m\u001b[0;34m\u001b[0m\u001b[0m\n\u001b[0m\u001b[1;32m    493\u001b[0m \u001b[0;34m\u001b[0m\u001b[0m\n\u001b[1;32m    494\u001b[0m \u001b[0;34m\u001b[0m\u001b[0m\n",
            "\u001b[0;31mValueError\u001b[0m: setting an array element with a sequence."
          ]
        },
        {
          "output_type": "display_data",
          "data": {
            "image/png": "[encoded data removed]",
            "text/plain": [
              "<matplotlib.figure.Figure at 0x7f3ffcfefcd0>"
            ]
          },
          "metadata": {
            "tags": []
          }
        }
      ]
    },
    {
      "metadata": {
        "id": "pmaz68ZrsFOb",
        "colab_type": "text"
      },
      "cell_type": "markdown",
      "source": [
        ""
      ]
    }
  ]
}