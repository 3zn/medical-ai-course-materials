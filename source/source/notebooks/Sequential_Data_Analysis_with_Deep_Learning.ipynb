{
  "nbformat": 4,
  "nbformat_minor": 0,
  "metadata": {
    "colab": {
      "name": "モニタリングデータの時系列解析 ver.2",
      "version": "0.3.2",
      "provenance": []
    },
    "kernelspec": {
      "name": "python3",
      "display_name": "Python 3"
    },
    "accelerator": "GPU"
  },
  "cells": [
    {
      "metadata": {
        "id": "qL7KO2SAQHuw",
        "colab_type": "text"
      },
      "cell_type": "markdown",
      "source": [
        "# 実践編: ディープラーニングを使ったモニタリングデータの時系列解析"
      ]
    },
    {
      "metadata": {
        "id": "6G2qenL-QR4S",
        "colab_type": "text"
      },
      "cell_type": "markdown",
      "source": [
        "健康意識の高まりや運動人口の増加に伴って，活動量計などのウェアラブルデバイスが普及し始めています．センサーデバイスから心拍数などの情報を取得することで，リアルタイムに健康状態をモニタリング可能なため，近年ではヘルスケア分野でも活用事例が増えてきています．例えば最近，Cardiogram社とカリフォルニア大学の共同研究で，心拍データから糖尿病予備群を予測する研究論文(DeepHeart)が報告され，注目を集めました．また，Apple Watch Series 4には心電図作成の機能が搭載されるなど，センサーデバイスも進歩してきています．従って，こうしたモニタリングデータを収集・解析し，健康管理に繋げていく取り組みは今後益々盛んになっていくと考えられます．\n",
        "\n",
        "本章では，心電図(ECG)の波形データを対象として，不整脈か否かを予測する問題に取り組みます．"
      ]
    },
    {
      "metadata": {
        "id": "zZytuxCZQwUc",
        "colab_type": "text"
      },
      "cell_type": "markdown",
      "source": [
        "## 目次"
      ]
    },
    {
      "metadata": {
        "id": "hd-38UlWQzD2",
        "colab_type": "text"
      },
      "cell_type": "markdown",
      "source": [
        "1. 環境構築\n",
        "1. 使用するデータセット\n",
        "1. データ前処理\n",
        "1. DLを用いた時系列データ解析\n",
        "1. 精度向上に向けて\n",
        "  1. クラス不均衡データへの対応\n",
        "    1. Undersampling & Oversampling\n",
        "    1. 損失関数\n",
        "  1. ネットワーク構造\n",
        "  1. ノイズ除去の効果検証"
      ]
    },
    {
      "metadata": {
        "id": "Yf3_nzfOQ4mk",
        "colab_type": "text"
      },
      "cell_type": "markdown",
      "source": [
        "## 環境構築"
      ]
    },
    {
      "metadata": {
        "id": "oUE1bnmtQ7mW",
        "colab_type": "text"
      },
      "cell_type": "markdown",
      "source": [
        "はじめに, 下記の必要ライブラリをインストールします."
      ]
    },
    {
      "metadata": {
        "id": "cX4C1qqERA4F",
        "colab_type": "text"
      },
      "cell_type": "markdown",
      "source": [
        "* Cupy\n",
        "* Chainer\n",
        "* Scipy\n",
        "* Matplotlib\n",
        "* Seaborn\n",
        "* Pandas\n",
        "* WFDB\n",
        "* Scikit-learn\n",
        "* Imbalanced-learn"
      ]
    },
    {
      "metadata": {
        "id": "IOG2_VY-RFJw",
        "colab_type": "text"
      },
      "cell_type": "markdown",
      "source": [
        "以下のセルを実行 (Shift + Enter) して下さい. "
      ]
    },
    {
      "metadata": {
        "id": "b6zwznd_QUqg",
        "colab_type": "code",
        "outputId": "d6abbe4c-7261-4ea6-c2f1-a57352b96f17",
        "colab": {
          "base_uri": "https://localhost:8080/",
          "height": 2329
        }
      },
      "cell_type": "code",
      "source": [
        "!set -ex\n",
        "!apt -y -q install cuda-libraries-dev-9-2\n",
        "!pip install cupy-cuda92==5.0.0\n",
        "!pip install chainer==5.0.0\n",
        "!pip install scipy==0.19.1 matplotlib==2.1.2 seaborn==0.7.1 pandas==0.22.0 wfdb==2.2.1\n",
        "!pip install imbalanced-learn==0.4.3"
      ],
      "execution_count": 1,
      "outputs": [
        {
          "output_type": "stream",
          "text": [
            "Reading package lists...\n",
            "Building dependency tree...\n",
            "Reading state information...\n",
            "The following additional packages will be installed:\n",
            "  cuda-cublas-dev-9-2 cuda-cufft-dev-9-2 cuda-curand-dev-9-2\n",
            "  cuda-cusolver-dev-9-2 cuda-cusparse-dev-9-2 cuda-npp-dev-9-2\n",
            "  cuda-nvgraph-dev-9-2 cuda-nvrtc-dev-9-2\n",
            "The following NEW packages will be installed:\n",
            "  cuda-cublas-dev-9-2 cuda-cufft-dev-9-2 cuda-curand-dev-9-2\n",
            "  cuda-cusolver-dev-9-2 cuda-cusparse-dev-9-2 cuda-libraries-dev-9-2\n",
            "  cuda-npp-dev-9-2 cuda-nvgraph-dev-9-2 cuda-nvrtc-dev-9-2\n",
            "0 upgraded, 9 newly installed, 0 to remove and 5 not upgraded.\n",
            "Need to get 332 MB of archives.\n",
            "After this operation, 972 MB of additional disk space will be used.\n",
            "Get:1 https://developer.download.nvidia.com/compute/cuda/repos/ubuntu1710/x86_64  cuda-cublas-dev-9-2 9.2.148.1-1 [50.4 MB]\n",
            "Get:2 https://developer.download.nvidia.com/compute/cuda/repos/ubuntu1710/x86_64  cuda-cufft-dev-9-2 9.2.148-1 [106 MB]\n",
            "Get:3 https://developer.download.nvidia.com/compute/cuda/repos/ubuntu1710/x86_64  cuda-curand-dev-9-2 9.2.148-1 [57.8 MB]\n",
            "Get:4 https://developer.download.nvidia.com/compute/cuda/repos/ubuntu1710/x86_64  cuda-cusolver-dev-9-2 9.2.148-1 [8,184 kB]\n",
            "Get:5 https://developer.download.nvidia.com/compute/cuda/repos/ubuntu1710/x86_64  cuda-cusparse-dev-9-2 9.2.148-1 [27.8 MB]\n",
            "Get:6 https://developer.download.nvidia.com/compute/cuda/repos/ubuntu1710/x86_64  cuda-nvrtc-dev-9-2 9.2.148-1 [9,348 B]\n",
            "Get:7 https://developer.download.nvidia.com/compute/cuda/repos/ubuntu1710/x86_64  cuda-nvgraph-dev-9-2 9.2.148-1 [30.1 MB]\n",
            "Get:8 https://developer.download.nvidia.com/compute/cuda/repos/ubuntu1710/x86_64  cuda-npp-dev-9-2 9.2.148-1 [52.0 MB]\n",
            "Get:9 https://developer.download.nvidia.com/compute/cuda/repos/ubuntu1710/x86_64  cuda-libraries-dev-9-2 9.2.148-1 [2,598 B]\n",
            "Fetched 332 MB in 7s (48.3 MB/s)\n",
            "Selecting previously unselected package cuda-cublas-dev-9-2.\n",
            "(Reading database ... 22280 files and directories currently installed.)\n",
            "Preparing to unpack .../0-cuda-cublas-dev-9-2_9.2.148.1-1_amd64.deb ...\n",
            "Unpacking cuda-cublas-dev-9-2 (9.2.148.1-1) ...\n",
            "Selecting previously unselected package cuda-cufft-dev-9-2.\n",
            "Preparing to unpack .../1-cuda-cufft-dev-9-2_9.2.148-1_amd64.deb ...\n",
            "Unpacking cuda-cufft-dev-9-2 (9.2.148-1) ...\n",
            "Selecting previously unselected package cuda-curand-dev-9-2.\n",
            "Preparing to unpack .../2-cuda-curand-dev-9-2_9.2.148-1_amd64.deb ...\n",
            "Unpacking cuda-curand-dev-9-2 (9.2.148-1) ...\n",
            "Selecting previously unselected package cuda-cusolver-dev-9-2.\n",
            "Preparing to unpack .../3-cuda-cusolver-dev-9-2_9.2.148-1_amd64.deb ...\n",
            "Unpacking cuda-cusolver-dev-9-2 (9.2.148-1) ...\n",
            "Selecting previously unselected package cuda-cusparse-dev-9-2.\n",
            "Preparing to unpack .../4-cuda-cusparse-dev-9-2_9.2.148-1_amd64.deb ...\n",
            "Unpacking cuda-cusparse-dev-9-2 (9.2.148-1) ...\n",
            "Selecting previously unselected package cuda-nvrtc-dev-9-2.\n",
            "Preparing to unpack .../5-cuda-nvrtc-dev-9-2_9.2.148-1_amd64.deb ...\n",
            "Unpacking cuda-nvrtc-dev-9-2 (9.2.148-1) ...\n",
            "Selecting previously unselected package cuda-nvgraph-dev-9-2.\n",
            "Preparing to unpack .../6-cuda-nvgraph-dev-9-2_9.2.148-1_amd64.deb ...\n",
            "Unpacking cuda-nvgraph-dev-9-2 (9.2.148-1) ...\n",
            "Selecting previously unselected package cuda-npp-dev-9-2.\n",
            "Preparing to unpack .../7-cuda-npp-dev-9-2_9.2.148-1_amd64.deb ...\n",
            "Unpacking cuda-npp-dev-9-2 (9.2.148-1) ...\n",
            "Selecting previously unselected package cuda-libraries-dev-9-2.\n",
            "Preparing to unpack .../8-cuda-libraries-dev-9-2_9.2.148-1_amd64.deb ...\n",
            "Unpacking cuda-libraries-dev-9-2 (9.2.148-1) ...\n",
            "Setting up cuda-npp-dev-9-2 (9.2.148-1) ...\n",
            "Setting up cuda-curand-dev-9-2 (9.2.148-1) ...\n",
            "Setting up cuda-nvrtc-dev-9-2 (9.2.148-1) ...\n",
            "Setting up cuda-cusolver-dev-9-2 (9.2.148-1) ...\n",
            "Setting up cuda-cufft-dev-9-2 (9.2.148-1) ...\n",
            "Setting up cuda-cusparse-dev-9-2 (9.2.148-1) ...\n",
            "Setting up cuda-cublas-dev-9-2 (9.2.148.1-1) ...\n",
            "Setting up cuda-nvgraph-dev-9-2 (9.2.148-1) ...\n",
            "Setting up cuda-libraries-dev-9-2 (9.2.148-1) ...\n",
            "Collecting cupy-cuda92==5.0.0\n",
            "\u001b[?25l  Downloading https://files.pythonhosted.org/packages/23/79/da48a3e32468fff1f4913cf81d403c29e00b09c4c0d5f09d288e7b1483e8/cupy_cuda92-5.0.0-cp36-cp36m-manylinux1_x86_64.whl (261.1MB)\n",
            "\u001b[K    100% |████████████████████████████████| 261.1MB 113kB/s \n",
            "\u001b[?25hCollecting fastrlock>=0.3 (from cupy-cuda92==5.0.0)\n",
            "  Downloading https://files.pythonhosted.org/packages/b5/93/a7efbd39eac46c137500b37570c31dedc2d31a8ff4949fcb90bda5bc5f16/fastrlock-0.4-cp36-cp36m-manylinux1_x86_64.whl\n",
            "Requirement already satisfied: six>=1.9.0 in /usr/local/lib/python3.6/dist-packages (from cupy-cuda92==5.0.0) (1.11.0)\n",
            "Requirement already satisfied: numpy>=1.9.0 in /usr/local/lib/python3.6/dist-packages (from cupy-cuda92==5.0.0) (1.14.6)\n",
            "Installing collected packages: fastrlock, cupy-cuda92\n",
            "Successfully installed cupy-cuda92-5.0.0 fastrlock-0.4\n",
            "Collecting chainer==5.0.0\n",
            "\u001b[?25l  Downloading https://files.pythonhosted.org/packages/bd/34/be31d10ff7f6a9452025866a6d515e1fbc877ff2ee68d9c7197c75f15797/chainer-5.0.0.tar.gz (510kB)\n",
            "\u001b[K    100% |████████████████████████████████| 512kB 22.1MB/s \n",
            "\u001b[?25hRequirement already satisfied: filelock in /usr/local/lib/python3.6/dist-packages (from chainer==5.0.0) (3.0.10)\n",
            "Requirement already satisfied: numpy>=1.9.0 in /usr/local/lib/python3.6/dist-packages (from chainer==5.0.0) (1.14.6)\n",
            "Requirement already satisfied: protobuf>=3.0.0 in /usr/local/lib/python3.6/dist-packages (from chainer==5.0.0) (3.6.1)\n",
            "Requirement already satisfied: six>=1.9.0 in /usr/local/lib/python3.6/dist-packages (from chainer==5.0.0) (1.11.0)\n",
            "Requirement already satisfied: cupy-cuda92<6.0.0,>=5.0.0 in /usr/local/lib/python3.6/dist-packages (from chainer==5.0.0) (5.0.0)\n",
            "Requirement already satisfied: setuptools in /usr/local/lib/python3.6/dist-packages (from protobuf>=3.0.0->chainer==5.0.0) (40.5.0)\n",
            "Requirement already satisfied: fastrlock>=0.3 in /usr/local/lib/python3.6/dist-packages (from cupy-cuda92<6.0.0,>=5.0.0->chainer==5.0.0) (0.4)\n",
            "Building wheels for collected packages: chainer\n",
            "  Running setup.py bdist_wheel for chainer ... \u001b[?25l-\b \b\\\b \b|\b \b/\b \b-\b \b\\\b \bdone\n",
            "\u001b[?25h  Stored in directory: /root/.cache/pip/wheels/96/85/2e/623d0d0f08db6eb8d75cdb89c094674c98e2304ff5d98528aa\n",
            "Successfully built chainer\n",
            "Installing collected packages: chainer\n",
            "Successfully installed chainer-5.0.0\n",
            "Collecting scipy==0.19.1\n",
            "\u001b[?25l  Downloading https://files.pythonhosted.org/packages/0e/46/da8d7166102d29695330f7c0b912955498542988542c0d2ae3ea0389c68d/scipy-0.19.1-cp36-cp36m-manylinux1_x86_64.whl (48.2MB)\n",
            "\u001b[K    100% |████████████████████████████████| 48.2MB 983kB/s \n",
            "\u001b[?25hRequirement already satisfied: matplotlib==2.1.2 in /usr/local/lib/python3.6/dist-packages (2.1.2)\n",
            "Requirement already satisfied: seaborn==0.7.1 in /usr/local/lib/python3.6/dist-packages (0.7.1)\n",
            "Requirement already satisfied: pandas==0.22.0 in /usr/local/lib/python3.6/dist-packages (0.22.0)\n",
            "Collecting wfdb==2.2.1\n",
            "\u001b[?25l  Downloading https://files.pythonhosted.org/packages/b2/96/c2200539fdf4f087e14d30ed62a66544b6f441196bcb8ecc7a29ec6503b9/wfdb-2.2.1.tar.gz (94kB)\n",
            "\u001b[K    100% |████████████████████████████████| 102kB 27.0MB/s \n",
            "\u001b[?25hRequirement already satisfied: numpy>=1.8.2 in /usr/local/lib/python3.6/dist-packages (from scipy==0.19.1) (1.14.6)\n",
            "Requirement already satisfied: python-dateutil>=2.1 in /usr/local/lib/python3.6/dist-packages (from matplotlib==2.1.2) (2.5.3)\n",
            "Requirement already satisfied: pyparsing!=2.0.4,!=2.1.2,!=2.1.6,>=2.0.1 in /usr/local/lib/python3.6/dist-packages (from matplotlib==2.1.2) (2.3.0)\n",
            "Requirement already satisfied: six>=1.10 in /usr/local/lib/python3.6/dist-packages (from matplotlib==2.1.2) (1.11.0)\n",
            "Requirement already satisfied: cycler>=0.10 in /usr/local/lib/python3.6/dist-packages (from matplotlib==2.1.2) (0.10.0)\n",
            "Requirement already satisfied: pytz in /usr/local/lib/python3.6/dist-packages (from matplotlib==2.1.2) (2018.7)\n",
            "Collecting nose>=1.3.7 (from wfdb==2.2.1)\n",
            "\u001b[?25l  Downloading https://files.pythonhosted.org/packages/15/d8/dd071918c040f50fa1cf80da16423af51ff8ce4a0f2399b7bf8de45ac3d9/nose-1.3.7-py3-none-any.whl (154kB)\n",
            "\u001b[K    100% |████████████████████████████████| 163kB 26.9MB/s \n",
            "\u001b[?25hRequirement already satisfied: requests>=2.10.0 in /usr/local/lib/python3.6/dist-packages (from wfdb==2.2.1) (2.18.4)\n",
            "Collecting sklearn>=0.0 (from wfdb==2.2.1)\n",
            "  Downloading https://files.pythonhosted.org/packages/1e/7a/dbb3be0ce9bd5c8b7e3d87328e79063f8b263b2b1bfa4774cb1147bfcd3f/sklearn-0.0.tar.gz\n",
            "Requirement already satisfied: certifi>=2017.4.17 in /usr/local/lib/python3.6/dist-packages (from requests>=2.10.0->wfdb==2.2.1) (2018.10.15)\n",
            "Requirement already satisfied: idna<2.7,>=2.5 in /usr/local/lib/python3.6/dist-packages (from requests>=2.10.0->wfdb==2.2.1) (2.6)\n",
            "Requirement already satisfied: chardet<3.1.0,>=3.0.2 in /usr/local/lib/python3.6/dist-packages (from requests>=2.10.0->wfdb==2.2.1) (3.0.4)\n",
            "Requirement already satisfied: urllib3<1.23,>=1.21.1 in /usr/local/lib/python3.6/dist-packages (from requests>=2.10.0->wfdb==2.2.1) (1.22)\n",
            "Requirement already satisfied: scikit-learn in /usr/local/lib/python3.6/dist-packages (from sklearn>=0.0->wfdb==2.2.1) (0.19.2)\n",
            "Building wheels for collected packages: wfdb, sklearn\n",
            "  Running setup.py bdist_wheel for wfdb ... \u001b[?25l-\b \b\\\b \bdone\n",
            "\u001b[?25h  Stored in directory: /root/.cache/pip/wheels/bb/a9/00/0078d26b0c15b31be0001af8eb659496709c361c69641303f1\n",
            "  Running setup.py bdist_wheel for sklearn ... \u001b[?25l-\b \bdone\n",
            "\u001b[?25h  Stored in directory: /root/.cache/pip/wheels/76/03/bb/589d421d27431bcd2c6da284d5f2286c8e3b2ea3cf1594c074\n",
            "Successfully built wfdb sklearn\n",
            "Installing collected packages: scipy, nose, sklearn, wfdb\n",
            "  Found existing installation: scipy 1.1.0\n",
            "    Uninstalling scipy-1.1.0:\n",
            "      Successfully uninstalled scipy-1.1.0\n",
            "Successfully installed nose-1.3.7 scipy-0.19.1 sklearn-0.0 wfdb-2.2.1\n",
            "Collecting imbalanced-learn==0.4.3\n",
            "\u001b[?25l  Downloading https://files.pythonhosted.org/packages/e5/4c/7557e1c2e791bd43878f8c82065bddc5798252084f26ef44527c02262af1/imbalanced_learn-0.4.3-py3-none-any.whl (166kB)\n",
            "\u001b[K    100% |████████████████████████████████| 174kB 3.7MB/s \n",
            "\u001b[?25hCollecting scikit-learn>=0.20 (from imbalanced-learn==0.4.3)\n",
            "\u001b[?25l  Downloading https://files.pythonhosted.org/packages/0c/b2/05be9b6da9ae4a4c54f537be22e95833f722742a02b1e355fdc09363877c/scikit_learn-0.20.0-cp36-cp36m-manylinux1_x86_64.whl (5.3MB)\n",
            "\u001b[K    100% |████████████████████████████████| 5.3MB 7.7MB/s \n",
            "\u001b[?25hRequirement already satisfied: numpy>=1.8.2 in /usr/local/lib/python3.6/dist-packages (from imbalanced-learn==0.4.3) (1.14.6)\n",
            "Requirement already satisfied: scipy>=0.13.3 in /usr/local/lib/python3.6/dist-packages (from imbalanced-learn==0.4.3) (0.19.1)\n",
            "Installing collected packages: scikit-learn, imbalanced-learn\n",
            "  Found existing installation: scikit-learn 0.19.2\n",
            "    Uninstalling scikit-learn-0.19.2:\n",
            "      Successfully uninstalled scikit-learn-0.19.2\n",
            "Successfully installed imbalanced-learn-0.4.3 scikit-learn-0.20.0\n"
          ],
          "name": "stdout"
        }
      ]
    },
    {
      "metadata": {
        "id": "EHDRbMEQRQZ3",
        "colab_type": "text"
      },
      "cell_type": "markdown",
      "source": [
        "インストールが完了したら, 以下のセルを実行して, 各ライブラリのインポート、及びバージョン確認を行って下さい."
      ]
    },
    {
      "metadata": {
        "id": "zlyEjUcRRJCL",
        "colab_type": "code",
        "outputId": "c93e9e76-948e-49a3-8e29-515a6d33b403",
        "colab": {
          "base_uri": "https://localhost:8080/",
          "height": 357
        }
      },
      "cell_type": "code",
      "source": [
        "import os\n",
        "import random\n",
        "import numpy as np\n",
        "import cupy\n",
        "import chainer\n",
        "import scipy\n",
        "import pandas as pd\n",
        "import matplotlib\n",
        "import seaborn as sn\n",
        "import wfdb\n",
        "import sklearn\n",
        "import imblearn\n",
        "\n",
        "chainer.print_runtime_info()\n",
        "print(\"Scipy: \", scipy.__version__)\n",
        "print(\"Pandas: \", pd.__version__)\n",
        "print(\"Matplotlib: \", matplotlib.__version__)\n",
        "print(\"Seaborn: \", sn.__version__)\n",
        "print(\"WFDB: \", wfdb.__version__)\n",
        "print(\"Scikit-learn: \", sklearn.__version__)\n",
        "print(\"Imbalanced-learn: \", imblearn.__version__)"
      ],
      "execution_count": 2,
      "outputs": [
        {
          "output_type": "stream",
          "text": [
            "Platform: Linux-4.14.65+-x86_64-with-Ubuntu-18.04-bionic\n",
            "Chainer: 5.0.0\n",
            "NumPy: 1.14.6\n",
            "CuPy:\n",
            "  CuPy Version          : 5.0.0\n",
            "  CUDA Root             : /usr/local/cuda\n",
            "  CUDA Build Version    : 9020\n",
            "  CUDA Driver Version   : 9020\n",
            "  CUDA Runtime Version  : 9020\n",
            "  cuDNN Build Version   : 7201\n",
            "  cuDNN Version         : 7201\n",
            "  NCCL Build Version    : 2213\n",
            "iDeep: Not Available\n",
            "Scipy:  1.1.0\n",
            "Pandas:  0.22.0\n",
            "Matplotlib:  2.1.2\n",
            "Seaborn:  0.7.1\n",
            "WFDB:  2.2.1\n",
            "Scikit-learn:  0.20.0\n",
            "Imbalanced-learn:  0.4.3\n"
          ],
          "name": "stdout"
        }
      ]
    },
    {
      "metadata": {
        "id": "HAD7xxa6i2cH",
        "colab_type": "text"
      },
      "cell_type": "markdown",
      "source": [
        "## 心電図(ECG)について"
      ]
    },
    {
      "metadata": {
        "id": "DJAhIM6pi__I",
        "colab_type": "text"
      },
      "cell_type": "markdown",
      "source": [
        "aa"
      ]
    },
    {
      "metadata": {
        "id": "3v2kuCnmRdac",
        "colab_type": "text"
      },
      "cell_type": "markdown",
      "source": [
        "## 使用するデータセット"
      ]
    },
    {
      "metadata": {
        "id": "eQZ6fRLZCz4H",
        "colab_type": "text"
      },
      "cell_type": "markdown",
      "source": [
        "ここでは，ECGの公開データとして有名な[MIT-BIH Arrhythmia Database (mitdb)](https://www.physionet.org/physiobank/database/mitdb/)を使用します．\n",
        "\n",
        "mitdbには47名の患者から収集した，計48個のECGレコードが登録されており，各レコードファイルには約30分間の2種類(MLII，V1)の信号波形データが格納されています．また，各R波のピーク位置に対してアノテーションが付与されています．(データやアノテーションの詳細については[こちら](https://www.physionet.org/physiobank/database/html/mitdbdir/intro.htm)を御覧ください．)\n",
        "\n",
        "mitdbはPhysioNetによって管理されており，ダウンロードや読み込み用のPythonパッケージが提供されているので，今回はそちらを利用します．"
      ]
    },
    {
      "metadata": {
        "id": "0tAhl0KJRZ1F",
        "colab_type": "code",
        "colab": {}
      },
      "cell_type": "code",
      "source": [
        "dataset_root = './'\n",
        "download_dir = os.path.join(dataset_root, 'download')"
      ],
      "execution_count": 0,
      "outputs": []
    },
    {
      "metadata": {
        "id": "R5wT-k6G6h4r",
        "colab_type": "text"
      },
      "cell_type": "markdown",
      "source": [
        "まずはmitdbのデータをダウンロードしましょう．\n",
        "※実行時にエラーが出た場合は，再度実行して下さい．"
      ]
    },
    {
      "metadata": {
        "id": "hmX3OgAXR0Ug",
        "colab_type": "code",
        "outputId": "320b665a-e6e2-4e9f-daeb-a3e375c4a8bd",
        "colab": {
          "base_uri": "https://localhost:8080/",
          "height": 68
        }
      },
      "cell_type": "code",
      "source": [
        "wfdb.dl_database('mitdb', dl_dir=download_dir)"
      ],
      "execution_count": 4,
      "outputs": [
        {
          "output_type": "stream",
          "text": [
            "Created local base download directory: ./download\n",
            "Downloading files...\n",
            "Finished downloading files\n"
          ],
          "name": "stdout"
        }
      ]
    },
    {
      "metadata": {
        "id": "4Uzp-QZ4D3sP",
        "colab_type": "text"
      },
      "cell_type": "markdown",
      "source": [
        "ダウンロードに成功すると，`Finished downloading files`というメッセージが表示されます．\n",
        "\n",
        "ファイル一覧を確認してみましょう．"
      ]
    },
    {
      "metadata": {
        "id": "djD8QFXESMHn",
        "colab_type": "code",
        "outputId": "734114e5-de68-4041-d922-b05550619f9c",
        "colab": {
          "base_uri": "https://localhost:8080/",
          "height": 54
        }
      },
      "cell_type": "code",
      "source": [
        "print(sorted(os.listdir(download_dir)))"
      ],
      "execution_count": 5,
      "outputs": [
        {
          "output_type": "stream",
          "text": [
            "['100.atr', '100.dat', '100.hea', '101.atr', '101.dat', '101.hea', '102.atr', '102.dat', '102.hea', '103.atr', '103.dat', '103.hea', '104.atr', '104.dat', '104.hea', '105.atr', '105.dat', '105.hea', '106.atr', '106.dat', '106.hea', '107.atr', '107.dat', '107.hea', '108.atr', '108.dat', '108.hea', '109.atr', '109.dat', '109.hea', '111.atr', '111.dat', '111.hea', '112.atr', '112.dat', '112.hea', '113.atr', '113.dat', '113.hea', '114.atr', '114.dat', '114.hea', '115.atr', '115.dat', '115.hea', '116.atr', '116.dat', '116.hea', '117.atr', '117.dat', '117.hea', '118.atr', '118.dat', '118.hea', '119.atr', '119.dat', '119.hea', '121.atr', '121.dat', '121.hea', '122.atr', '122.dat', '122.hea', '123.atr', '123.dat', '123.hea', '124.atr', '124.dat', '124.hea', '200.atr', '200.dat', '200.hea', '201.atr', '201.dat', '201.hea', '202.atr', '202.dat', '202.hea', '203.atr', '203.dat', '203.hea', '205.atr', '205.dat', '205.hea', '207.atr', '207.dat', '207.hea', '208.atr', '208.dat', '208.hea', '209.atr', '209.dat', '209.hea', '210.atr', '210.dat', '210.hea', '212.atr', '212.dat', '212.hea', '213.atr', '213.dat', '213.hea', '214.atr', '214.dat', '214.hea', '215.atr', '215.dat', '215.hea', '217.atr', '217.dat', '217.hea', '219.atr', '219.dat', '219.hea', '220.atr', '220.dat', '220.hea', '221.atr', '221.dat', '221.hea', '222.atr', '222.dat', '222.hea', '223.atr', '223.dat', '223.hea', '228.atr', '228.dat', '228.hea', '230.atr', '230.dat', '230.hea', '231.atr', '231.dat', '231.hea', '232.atr', '232.dat', '232.hea', '233.atr', '233.dat', '233.hea', '234.atr', '234.dat', '234.hea']\n"
          ],
          "name": "stdout"
        }
      ]
    },
    {
      "metadata": {
        "id": "KgMtCiKq4TcF",
        "colab_type": "text"
      },
      "cell_type": "markdown",
      "source": [
        "ファイル名の数字はレコードIDを表しています．3種類のファイルがあり，それぞれ`.dat` : 信号波形ファイル，`.atr` : アノテーションファイル，`.hea` : 読み込みに必要なヘッダファイル，となっています．\n",
        "\n",
        "次節では，これらのファイルを読み込んで，機械学習モデルの入出力に変換するためのデータ前処理方法について説明します．"
      ]
    },
    {
      "metadata": {
        "id": "AzQYVT4NSmr2",
        "colab_type": "text"
      },
      "cell_type": "markdown",
      "source": [
        "## データ前処理"
      ]
    },
    {
      "metadata": {
        "id": "1v4SHt1jEAwC",
        "colab_type": "text"
      },
      "cell_type": "markdown",
      "source": [
        "- TODO: 説明 - ベーシックな前処理として、以下の処理を行う\n",
        "\n",
        "\n",
        "1. レコードIDを train/validation/testに分割\n",
        "1. 波形ファイル(.dat) & アノテーションファイル(.atr)の読み込み (一部, 利用しないデータがある)\n",
        "1. 10種以上の細分化されたラベルが付与されているが, 先行研究に従って3クラスに集約する\n",
        "1. 波形データの正規化\n",
        "1. 2秒間の部分波形(segment)に分割. 中央のピークに付与されているラベルを, その部分波形のラベルとして扱う"
      ]
    },
    {
      "metadata": {
        "id": "bX7u2f5eR3VA",
        "colab_type": "code",
        "colab": {}
      },
      "cell_type": "code",
      "source": [
        "class BaseECGDatasetPreprocessor(object):\n",
        "\n",
        "    def __init__(\n",
        "            self,\n",
        "            dataset_root='./',\n",
        "            window_size=720,  # 2 seconds\n",
        "    ):\n",
        "        self.dataset_root = dataset_root\n",
        "        self.download_dir = os.path.join(self.dataset_root, 'download')\n",
        "        self.window_size = window_size\n",
        "        self.sample_rate = 360.\n",
        "        self.train_record_list = [\n",
        "            '101', '106', '108', '109', '112', '115', '116', '118', '119', '122',\n",
        "            '124', '201', '203', '205', '207', '208', '209', '215', '220', '223', '230'\n",
        "        ]\n",
        "        self.test_record_list = [\n",
        "            '100', '103', '105', '111', '113', '117', '121', '123', '200', '210',\n",
        "            '212', '213', '214', '219', '221', '222', '228', '231', '232', '233', '234'\n",
        "        ]\n",
        "        # annotation\n",
        "        self.labels = ['N', 'V']\n",
        "        self.valid_symbols = ['N', 'L', 'R', 'e', 'j', 'V', 'E']\n",
        "        self.label_map = {\n",
        "            'N': 'N', 'L': 'N', 'R': 'N', 'e': 'N', 'j': 'N',\n",
        "            'V': 'V', 'E': 'V'\n",
        "        }\n",
        "\n",
        "    def load_data(\n",
        "            self,\n",
        "            base_record,\n",
        "            channel=0  # [0, 1]\n",
        "    ):\n",
        "        record_name = os.path.join(self.download_dir, str(base_record))\n",
        "        # read dat file\n",
        "        signals, fields = wfdb.rdsamp(record_name)\n",
        "        assert fields['fs'] == self.sample_rate\n",
        "        # read annotation file\n",
        "        annotation = wfdb.rdann(record_name, 'atr')\n",
        "        symbols = annotation.symbol\n",
        "        positions = annotation.sample\n",
        "        return signals[:, channel], symbols, positions\n",
        "\n",
        "    def normalize_signal(\n",
        "            self,\n",
        "            signal,\n",
        "            method='std'\n",
        "    ):\n",
        "        if method == 'minmax':\n",
        "            min_val = np.min(signal)\n",
        "            max_val = np.max(signal)\n",
        "            return (signal - min_val) / (max_val - min_val)\n",
        "        elif method == 'std':\n",
        "            signal -= np.mean(signal) / np.std(signal)\n",
        "            return signal\n",
        "        else:\n",
        "            raise ValueError(\"Invalid value: {}\".format(method))\n",
        "\n",
        "    def create_data_slices(\n",
        "            self,\n",
        "            signal,\n",
        "            symbols,\n",
        "            positions\n",
        "    ):\n",
        "        X = []\n",
        "        y = []\n",
        "        sig_len = len(signal)\n",
        "        for i in range(len(symbols)):\n",
        "            start = positions[i] - self.window_size // 2\n",
        "            end = positions[i] + self.window_size // 2\n",
        "            if symbols[i] in self.valid_symbols and start >= 0 and end <= sig_len:\n",
        "                segment = signal[start:end]\n",
        "                assert len(segment) == self.window_size, \"Invalid length\"\n",
        "                X.append(segment)\n",
        "                y.append(self.labels.index(self.label_map[symbols[i]]))\n",
        "        return np.array(X), np.array(y)\n",
        "\n",
        "    def prepare_dataset(\n",
        "            self,\n",
        "            normalize=True\n",
        "    ):\n",
        "        if not os.path.isdir(self.download_dir):\n",
        "            self.download_data()\n",
        "        # prepare training dataset\n",
        "        self._prepare_dataset_core(self.train_record_list, \"train\", normalize)\n",
        "        # prepare test dataset\n",
        "        self._prepare_dataset_core(self.test_record_list, \"test\", normalize)\n",
        "\n",
        "    def _prepare_dataset_core(\n",
        "            self,\n",
        "            record_list,\n",
        "            mode=\"train\",\n",
        "            normalize=True\n",
        "    ):\n",
        "        X, y = None, None\n",
        "        for i in range(len(record_list)):\n",
        "            signal, symbols, positions = self.load_data(record_list[i])\n",
        "            if normalize:\n",
        "                signal = self.normalize_signal(signal)\n",
        "            if i == 0:\n",
        "                X, y = self.create_data_slices(signal, symbols, positions)\n",
        "            else:\n",
        "                X_tmp, y_tmp = self.create_data_slices(signal, symbols, positions)\n",
        "                X = np.vstack((X, X_tmp))\n",
        "                y = np.concatenate((y, y_tmp))\n",
        "        os.makedirs(os.path.join(self.dataset_root, mode), exist_ok=True)\n",
        "        np.save(os.path.join(self.dataset_root, mode, \"X.npy\"), X)\n",
        "        np.save(os.path.join(self.dataset_root, mode, \"y.npy\"), y)\n"
      ],
      "execution_count": 0,
      "outputs": []
    },
    {
      "metadata": {
        "id": "dxixFnx6EP7H",
        "colab_type": "text"
      },
      "cell_type": "markdown",
      "source": [
        "- TODO: 説明 - prepare_dataset()を実行すると, train/validation/testデータに分割され, 対応するディレクトリ内に格納される"
      ]
    },
    {
      "metadata": {
        "id": "zSFRco-FSsmU",
        "colab_type": "code",
        "colab": {}
      },
      "cell_type": "code",
      "source": [
        "preprocessor = BaseECGDatasetPreprocessor(dataset_root)"
      ],
      "execution_count": 0,
      "outputs": []
    },
    {
      "metadata": {
        "id": "6UUy74lxSxFz",
        "colab_type": "code",
        "colab": {}
      },
      "cell_type": "code",
      "source": [
        "preprocessor.prepare_dataset()"
      ],
      "execution_count": 0,
      "outputs": []
    },
    {
      "metadata": {
        "id": "nZa7kzJPElNO",
        "colab_type": "text"
      },
      "cell_type": "markdown",
      "source": [
        "- TODO: 説明 - train/validation のデータの中身を確認する"
      ]
    },
    {
      "metadata": {
        "id": "j5vghaTuSzmk",
        "colab_type": "code",
        "colab": {}
      },
      "cell_type": "code",
      "source": [
        "X_train = np.load(os.path.join(dataset_root, 'train', 'X.npy'))\n",
        "y_train = np.load(os.path.join(dataset_root, 'train', 'y.npy'))\n",
        "X_test = np.load(os.path.join(dataset_root, 'test', 'X.npy'))\n",
        "y_test = np.load(os.path.join(dataset_root, 'test', 'y.npy'))"
      ],
      "execution_count": 0,
      "outputs": []
    },
    {
      "metadata": {
        "id": "Mj4_F6RVTEkd",
        "colab_type": "code",
        "outputId": "51f24a54-e3d0-4b95-9af6-37b44786ac53",
        "colab": {
          "base_uri": "https://localhost:8080/",
          "height": 51
        }
      },
      "cell_type": "code",
      "source": [
        "print(\"X_train.shape = \", X_train.shape, \"\\ty_train.shape = \", y_train.shape)\n",
        "print(\"X_test.shape = \", X_test.shape, \"\\ty_test.shape = \", y_test.shape)"
      ],
      "execution_count": 10,
      "outputs": [
        {
          "output_type": "stream",
          "text": [
            "X_train.shape =  (47738, 720) \ty_train.shape =  (47738,)\n",
            "X_test.shape =  (45349, 720) \ty_test.shape =  (45349,)\n"
          ],
          "name": "stdout"
        }
      ]
    },
    {
      "metadata": {
        "id": "ss6w4JlJTYUH",
        "colab_type": "code",
        "outputId": "c199f7e8-5a99-4c66-ad20-83f661c5cd80",
        "colab": {
          "base_uri": "https://localhost:8080/",
          "height": 34
        }
      },
      "cell_type": "code",
      "source": [
        "uniq_train, counts_train = np.unique(y_train, return_counts=True)\n",
        "print(\"y_train count each labels: \", dict(zip(uniq_train, counts_train)))"
      ],
      "execution_count": 11,
      "outputs": [
        {
          "output_type": "stream",
          "text": [
            "y_train count each labels:  {0: 43995, 1: 3743}\n"
          ],
          "name": "stdout"
        }
      ]
    },
    {
      "metadata": {
        "id": "YaIUGDSQyvki",
        "colab_type": "code",
        "outputId": "f3325134-0a5a-4398-85b0-4946c2d8046d",
        "colab": {
          "base_uri": "https://localhost:8080/",
          "height": 34
        }
      },
      "cell_type": "code",
      "source": [
        "uniq_test, counts_test = np.unique(y_test, return_counts=True)\n",
        "print(\"y_test count each labels: \", dict(zip(uniq_test, counts_test)))"
      ],
      "execution_count": 12,
      "outputs": [
        {
          "output_type": "stream",
          "text": [
            "y_test count each labels:  {0: 42149, 1: 3200}\n"
          ],
          "name": "stdout"
        }
      ]
    },
    {
      "metadata": {
        "id": "uyN7nUH1E5uI",
        "colab_type": "text"
      },
      "cell_type": "markdown",
      "source": [
        "- TODO: 説明 - 波形データを可視化してみる"
      ]
    },
    {
      "metadata": {
        "id": "TUpalkU0Tao1",
        "colab_type": "code",
        "colab": {}
      },
      "cell_type": "code",
      "source": [
        "%matplotlib inline\n",
        "import matplotlib.pyplot as plt"
      ],
      "execution_count": 0,
      "outputs": []
    },
    {
      "metadata": {
        "id": "jOLyInm1TeBW",
        "colab_type": "code",
        "outputId": "142bef7b-5f21-4999-a2b4-335c42ee0e83",
        "colab": {
          "base_uri": "https://localhost:8080/",
          "height": 282
        }
      },
      "cell_type": "code",
      "source": [
        "idx_n = np.where(y_train == 0)[0]\n",
        "plt.plot(X_train[idx_n[0]])"
      ],
      "execution_count": 14,
      "outputs": [
        {
          "output_type": "execute_result",
          "data": {
            "text/plain": [
              "[<matplotlib.lines.Line2D at 0x7fd38485d2e8>]"
            ]
          },
          "metadata": {
            "tags": []
          },
          "execution_count": 14
        },
        {
          "output_type": "display_data",
          "data": {
            "image/png": "[encoded data removed]",
            "text/plain": [
              "<matplotlib.figure.Figure at 0x7fd386152ba8>"
            ]
          },
          "metadata": {
            "tags": []
          }
        }
      ]
    },
    {
      "metadata": {
        "id": "f_mYCNzwTlmz",
        "colab_type": "code",
        "outputId": "a76a2757-4e74-4fbf-8f28-52f938e650bd",
        "colab": {
          "base_uri": "https://localhost:8080/",
          "height": 282
        }
      },
      "cell_type": "code",
      "source": [
        "idx_s = np.where(y_train == 1)[0]\n",
        "plt.plot(X_train[idx_s[0]])"
      ],
      "execution_count": 15,
      "outputs": [
        {
          "output_type": "execute_result",
          "data": {
            "text/plain": [
              "[<matplotlib.lines.Line2D at 0x7fd381ffe710>]"
            ]
          },
          "metadata": {
            "tags": []
          },
          "execution_count": 15
        },
        {
          "output_type": "display_data",
          "data": {
            "image/png": "[encoded data removed]",
            "text/plain": [
              "<matplotlib.figure.Figure at 0x7fd386151c50>"
            ]
          },
          "metadata": {
            "tags": []
          }
        }
      ]
    },
    {
      "metadata": {
        "id": "kQEqTIlmTxPw",
        "colab_type": "text"
      },
      "cell_type": "markdown",
      "source": [
        "## DLを用いた時系列データ解析"
      ]
    },
    {
      "metadata": {
        "id": "36Mrt6U6HhrL",
        "colab_type": "text"
      },
      "cell_type": "markdown",
      "source": [
        "- TODO: 説明 - 3種類のクラス(\"N\", \"S\", \"V\")を正しく識別するモデルを構築する"
      ]
    },
    {
      "metadata": {
        "id": "Klt1--j8Iw08",
        "colab_type": "text"
      },
      "cell_type": "markdown",
      "source": [
        "- TODO: 説明 - chainerデータセットクラス"
      ]
    },
    {
      "metadata": {
        "id": "oR3zBpQlTuWH",
        "colab_type": "code",
        "colab": {}
      },
      "cell_type": "code",
      "source": [
        "class ECGDataset(chainer.dataset.DatasetMixin):\n",
        "\n",
        "    def __init__(\n",
        "            self,\n",
        "            path\n",
        "    ):\n",
        "        if os.path.isfile(os.path.join(path, 'X.npy')):\n",
        "            self.X = np.load(os.path.join(path, 'X.npy'))\n",
        "        else:\n",
        "            raise FileNotFoundError(\"{}/X.npy not found.\".format(path))\n",
        "        if os.path.isfile(os.path.join(path, 'y.npy')):\n",
        "            self.y = np.load(os.path.join(path, 'y.npy'))\n",
        "        else:\n",
        "            raise FileNotFoundError(\"{}/y.npy not found.\".format(path))\n",
        "\n",
        "    def __len__(self):\n",
        "        return len(self.X)\n",
        "\n",
        "    def get_example(self, i):\n",
        "        return self.X[None, i].astype(np.float32), self.y[i]\n"
      ],
      "execution_count": 0,
      "outputs": []
    },
    {
      "metadata": {
        "id": "iNR4iHrWIsH3",
        "colab_type": "text"
      },
      "cell_type": "markdown",
      "source": [
        "- TODO: 説明 - CNNモデル(ResNet構造)"
      ]
    },
    {
      "metadata": {
        "id": "i_uVEjDIT4s0",
        "colab_type": "code",
        "colab": {}
      },
      "cell_type": "code",
      "source": [
        "import chainer.functions as F\n",
        "import chainer.links as L\n",
        "from chainer import reporter\n",
        "from chainer import Variable\n",
        "      \n",
        "    \n",
        "class BaseBlock(chainer.Chain):\n",
        "\n",
        "    def __init__(\n",
        "            self,\n",
        "            channels,\n",
        "            stride=1,\n",
        "            dilate=1\n",
        "    ):\n",
        "        self.stride = stride\n",
        "        super(BaseBlock, self).__init__()\n",
        "        with self.init_scope():\n",
        "            self.c1 = L.ConvolutionND(1, None, channels, 3, stride, dilate, dilate=dilate)\n",
        "            self.c2 = L.ConvolutionND(1, None, channels, 3, 1, dilate, dilate=dilate)\n",
        "            if stride > 1:\n",
        "                self.cd  =L.ConvolutionND(1, None, channels, 1, stride, 0)\n",
        "            self.b1 = L.BatchNormalization(channels)\n",
        "            self.b2 = L.BatchNormalization(channels)\n",
        "\n",
        "    def __call__(self, x):\n",
        "        h = F.relu(self.b1(self.c1(x)))\n",
        "        if self.stride > 1:\n",
        "            res = self.cd(x)\n",
        "        else:\n",
        "            res = x\n",
        "        h = res + self.b2(self.c2(h))\n",
        "        return F.relu(h)\n",
        "\n",
        "\n",
        "class ResBlockBase(chainer.Chain):\n",
        "\n",
        "    def __init__(\n",
        "            self,\n",
        "            channels,\n",
        "            n_block,\n",
        "            dilate=1\n",
        "    ):\n",
        "        self.n_block = n_block\n",
        "        super(ResBlockBase, self).__init__()\n",
        "        with self.init_scope():\n",
        "            self.b0 = BaseBlock(channels, 2, dilate)\n",
        "            for i in range(1, n_block):\n",
        "                bx = BaseBlock(channels, 1, dilate)\n",
        "                setattr(self, 'b{}'.format(str(i)), bx)\n",
        "\n",
        "    def __call__(self, x):\n",
        "        h = self.b0(x)\n",
        "        for i in range(1, self.n_block):\n",
        "            h = getattr(self, 'b{}'.format(str(i)))(h)\n",
        "        return h\n",
        "\n",
        "\n",
        "class ResNet34(chainer.Chain):\n",
        "\n",
        "    def __init__(self):\n",
        "        super(ResNet34, self).__init__()\n",
        "        with self.init_scope():\n",
        "            self.conv1 = L.ConvolutionND(1, None, 64, 7, 2, 3)\n",
        "            self.bn1 = L.BatchNormalization(64)\n",
        "            self.resblock0 = ResBlockBase(64, 3)\n",
        "            self.resblock1 = ResBlockBase(128, 4)\n",
        "            self.resblock2 = ResBlockBase(256, 6)\n",
        "            self.resblock3 = ResBlockBase(512, 3)\n",
        "            self.fc = L.Linear(None, 2)\n",
        "\n",
        "    def __call__(self, x):\n",
        "        h = F.relu(self.bn1(self.conv1(x)))\n",
        "        h = F.max_pooling_nd(h, 3, 2)\n",
        "        for i in range(4):\n",
        "            h = getattr(self, 'resblock{}'.format(str(i)))(h)\n",
        "        h = F.average(h, axis=2)\n",
        "        h = self.fc(h)\n",
        "        return h\n",
        "      \n",
        "\n",
        "class Classifier(chainer.Chain):\n",
        "\n",
        "    def __init__(\n",
        "            self,\n",
        "            predictor,\n",
        "            lossfun=F.softmax_cross_entropy\n",
        "    ):\n",
        "        super(Classifier, self).__init__()\n",
        "        with self.init_scope():\n",
        "            self.predictor = predictor\n",
        "            self.lossfun = lossfun\n",
        "\n",
        "    def __call__(self, *args):\n",
        "        assert len(args) >= 2\n",
        "        x = args[:-1]\n",
        "        t = args[-1]\n",
        "        y = self.predictor(*x)\n",
        "\n",
        "        # loss\n",
        "        loss = self.lossfun(y, t)\n",
        "        with chainer.no_backprop_mode():\n",
        "            # other metrics\n",
        "            accuracy = F.accuracy(y, t)\n",
        "            precision = F.precision(y, t, label_num=3)[0]\n",
        "            recall = F.recall(y, t, label_num=3)[0]\n",
        "        # reporter\n",
        "        reporter.report({'loss': loss}, self)\n",
        "        reporter.report({'accuracy': accuracy}, self)\n",
        "\n",
        "        return loss\n",
        "\n",
        "    def predict(self, x):\n",
        "        with chainer.function.no_backprop_mode(), chainer.using_config('train', False):\n",
        "            x = Variable(self.xp.asarray(x, dtype=self.xp.float32))\n",
        "            y = self.predictor(x)\n",
        "            return y\n",
        "          "
      ],
      "execution_count": 0,
      "outputs": []
    },
    {
      "metadata": {
        "id": "n2jCNB2zJCWa",
        "colab_type": "text"
      },
      "cell_type": "markdown",
      "source": [
        "- TODO: 説明 - DatasetオブジェクトとTrainerオブジェクトを作成"
      ]
    },
    {
      "metadata": {
        "id": "YLOg6cJzT8EA",
        "colab_type": "code",
        "colab": {}
      },
      "cell_type": "code",
      "source": [
        "from chainer import optimizers\n",
        "from chainer.optimizer import WeightDecay\n",
        "from chainer.iterators import MultiprocessIterator\n",
        "from chainer import training\n",
        "from chainer.training import extensions\n",
        "from chainer.training import triggers\n",
        "from chainer.backends.cuda import get_device_from_id\n",
        "\n",
        "\n",
        "def create_datasets(root_path):\n",
        "    train_path = os.path.join(root_path, \"train\")\n",
        "    train_dataset = ECGDataset(train_path)\n",
        "\n",
        "    return train_dataset\n",
        "\n",
        "\n",
        "def create_trainer(\n",
        "    batchsize, train_dataset, nb_epoch=1,\n",
        "    device=0, lossfun=F.softmax_cross_entropy\n",
        "):\n",
        "    # setup model\n",
        "    model = ResNet34()\n",
        "    train_model = Classifier(model, lossfun=lossfun)\n",
        "\n",
        "    # use Adam optimizer\n",
        "    optimizer = optimizers.Adam(alpha=0.001)\n",
        "    optimizer.setup(train_model)\n",
        "    optimizer.add_hook(WeightDecay(0.0001))\n",
        "\n",
        "    # setup iterator\n",
        "    train_iter = MultiprocessIterator(train_dataset, batchsize)\n",
        "\n",
        "    # define updater\n",
        "    updater = training.StandardUpdater(train_iter, optimizer, device=device)\n",
        "\n",
        "    # setup trainer\n",
        "    stop_trigger = (nb_epoch, 'epoch')\n",
        "    trainer = training.trainer.Trainer(updater, stop_trigger)\n",
        "    logging_attributes = [\n",
        "        'epoch', 'iteration',\n",
        "        'main/loss', 'main/accuracy'        \n",
        "    ]\n",
        "    trainer.extend(\n",
        "        extensions.LogReport(logging_attributes, trigger=(2000 // batchsize, 'iteration'))\n",
        "    )\n",
        "    trainer.extend(\n",
        "        extensions.PrintReport(logging_attributes)\n",
        "    )\n",
        "    trainer.extend(\n",
        "        extensions.ExponentialShift('alpha', 0.75, optimizer=optimizer),\n",
        "        trigger=(4000 // batchsize, 'iteration')\n",
        "    )\n",
        "\n",
        "    return trainer"
      ],
      "execution_count": 0,
      "outputs": []
    },
    {
      "metadata": {
        "id": "LrhgE0WKUBxz",
        "colab_type": "code",
        "colab": {}
      },
      "cell_type": "code",
      "source": [
        "train_dataset = create_datasets(dataset_root)"
      ],
      "execution_count": 0,
      "outputs": []
    },
    {
      "metadata": {
        "id": "uXfgr6e9UE4w",
        "colab_type": "code",
        "colab": {}
      },
      "cell_type": "code",
      "source": [
        "trainer = create_trainer(256, train_dataset, nb_epoch=1, device=0)"
      ],
      "execution_count": 0,
      "outputs": []
    },
    {
      "metadata": {
        "id": "JdDyLjLNJOFX",
        "colab_type": "text"
      },
      "cell_type": "markdown",
      "source": [
        "それでは学習を開始しましょう."
      ]
    },
    {
      "metadata": {
        "id": "aeNkaPdFUIfQ",
        "colab_type": "code",
        "outputId": "56421ddc-b8d0-4403-df5c-fa431ba46cc0",
        "colab": {
          "base_uri": "https://localhost:8080/",
          "height": 510
        }
      },
      "cell_type": "code",
      "source": [
        "%time trainer.run()"
      ],
      "execution_count": 21,
      "outputs": [
        {
          "output_type": "stream",
          "text": [
            "epoch       iteration   main/loss   main/accuracy\n",
            "\u001b[J0           7           1.48642     0.74721        \n",
            "\u001b[J0           14          0.385628    0.916853       \n",
            "\u001b[J0           21          0.277943    0.907924       \n",
            "\u001b[J0           28          0.195416    0.93471        \n",
            "\u001b[J0           35          0.125689    0.956473       \n",
            "\u001b[J0           42          0.105126    0.967076       \n",
            "\u001b[J0           49          0.103316    0.968192       \n",
            "\u001b[J0           56          0.0751778   0.972656       \n",
            "\u001b[J0           63          0.0523292   0.982143       \n",
            "\u001b[J0           70          0.0580944   0.982143       \n",
            "\u001b[J0           77          0.0758779   0.978795       \n",
            "\u001b[J0           84          0.0401947   0.988281       \n",
            "\u001b[J0           91          0.0350843   0.986607       \n",
            "\u001b[J0           98          0.0330074   0.991071       \n",
            "\u001b[J0           105         0.0291913   0.989397       \n",
            "\u001b[J0           112         0.0285884   0.988839       \n",
            "\u001b[J0           119         0.0257153   0.990513       \n",
            "\u001b[J0           126         0.0442891   0.983817       \n",
            "\u001b[J0           133         0.0397877   0.987723       \n",
            "\u001b[J0           140         0.0283169   0.989955       \n",
            "\u001b[J0           147         0.0228951   0.992188       \n",
            "\u001b[J0           154         0.0197797   0.992746       \n",
            "\u001b[J0           161         0.0294466   0.991071       \n",
            "\u001b[J0           168         0.0170889   0.994978       \n",
            "\u001b[J0           175         0.024305    0.993862       \n",
            "\u001b[J0           182         0.0227162   0.992188       \n",
            "CPU times: user 1min 20s, sys: 12.4 s, total: 1min 32s\n",
            "Wall time: 1min 32s\n"
          ],
          "name": "stdout"
        }
      ]
    },
    {
      "metadata": {
        "id": "dX54l8duJUqC",
        "colab_type": "text"
      },
      "cell_type": "markdown",
      "source": [
        "- TODO: 説明文 - 学習結果を評価します"
      ]
    },
    {
      "metadata": {
        "id": "5CtgdOcbdn2i",
        "colab_type": "code",
        "colab": {}
      },
      "cell_type": "code",
      "source": [
        "from chainer import cuda\n",
        "from sklearn.metrics import classification_report\n",
        "from sklearn.metrics import accuracy_score\n",
        "from sklearn.metrics import confusion_matrix\n",
        "\n",
        "\n",
        "def create_test_dataset(root_path):\n",
        "    test_path = os.path.join(root_path, \"test\")\n",
        "    test_dataset = ECGDataset(test_path)\n",
        "    return test_dataset\n",
        "\n",
        "  \n",
        "def evaluate(trainer, test_dataset, batchsize, device=-1):\n",
        "    model = trainer.updater.get_optimizer('main').target\n",
        "    ys = []\n",
        "    ts = []\n",
        "    for i in range(len(test_dataset) // batchsize + 1):\n",
        "        if i == len(test_dataset) // batchsize:\n",
        "            X, t = zip(*test_dataset[i*batchsize: len(test_dataset)])\n",
        "        else:\n",
        "            X, t = zip(*test_dataset[i*batchsize:(i+1)*batchsize])\n",
        "        X = cuda.to_gpu(np.array(X), device)\n",
        "        y = model.predict(X)\n",
        "        y = cuda.to_cpu(y.data.argmax(axis=1))\n",
        "        ys.append(y)\n",
        "        ts.append(np.array(t))\n",
        "    return np.concatenate(ts), np.concatenate(ys)\n",
        "\n",
        "  \n",
        "def print_confusion_matrix(y_true, y_pred):\n",
        "    labels = sorted(list(set(y_true)))\n",
        "    target_names = ['N', 'V']\n",
        "    cmx = confusion_matrix(y_true, y_pred, labels=labels)\n",
        "    df_cmx = pd.DataFrame(cmx, index=target_names, columns=target_names)\n",
        "    plt.figure(figsize = (5,3))\n",
        "    sn.heatmap(df_cmx, annot=True, annot_kws={\"size\": 18}, fmt=\"d\", cmap='Blues')\n",
        "    plt.show()\n",
        "    \n",
        "\n",
        "def print_scores(y_true, y_pred):\n",
        "    target_names = ['N', 'V']\n",
        "    print(classification_report(y_true, y_pred, target_names=target_names))\n",
        "    print(\"accuracy: \", accuracy_score(y_true, y_pred))\n"
      ],
      "execution_count": 0,
      "outputs": []
    },
    {
      "metadata": {
        "id": "FNq4f8m3nVBW",
        "colab_type": "code",
        "colab": {}
      },
      "cell_type": "code",
      "source": [
        "test_dataset = create_test_dataset(dataset_root)"
      ],
      "execution_count": 0,
      "outputs": []
    },
    {
      "metadata": {
        "id": "BsSvzeJRJegb",
        "colab_type": "text"
      },
      "cell_type": "markdown",
      "source": [
        "- TODO: 説明 - validationセットの評価"
      ]
    },
    {
      "metadata": {
        "id": "6MN9bFJeJjNJ",
        "colab_type": "text"
      },
      "cell_type": "markdown",
      "source": [
        "- TODO: 説明文 - テストセットの評価"
      ]
    },
    {
      "metadata": {
        "id": "TFq-W4Bgnjzg",
        "colab_type": "code",
        "outputId": "37ac8083-2e57-4814-90de-a819ec009219",
        "colab": {
          "base_uri": "https://localhost:8080/",
          "height": 51
        }
      },
      "cell_type": "code",
      "source": [
        "%time y_true_test, y_pred_test = evaluate(trainer, test_dataset, 256, 0)"
      ],
      "execution_count": 25,
      "outputs": [
        {
          "output_type": "stream",
          "text": [
            "CPU times: user 15.3 s, sys: 2.37 s, total: 17.6 s\n",
            "Wall time: 17.6 s\n"
          ],
          "name": "stdout"
        }
      ]
    },
    {
      "metadata": {
        "id": "o1hGRaQ2HuLN",
        "colab_type": "code",
        "outputId": "b8773e59-b37b-4b1c-c255-a0158663e659",
        "colab": {
          "base_uri": "https://localhost:8080/",
          "height": 211
        }
      },
      "cell_type": "code",
      "source": [
        "print_confusion_matrix(y_true_test, y_pred_test)"
      ],
      "execution_count": 26,
      "outputs": [
        {
          "output_type": "display_data",
          "data": {
            "image/png": "[encoded data removed]",
            "text/plain": [
              "<matplotlib.figure.Figure at 0x7fd38013ff28>"
            ]
          },
          "metadata": {
            "tags": []
          }
        }
      ]
    },
    {
      "metadata": {
        "id": "2lzEaH9oyvEP",
        "colab_type": "code",
        "outputId": "2d1cbd5f-ae77-498d-d1ec-11d381d6a264",
        "colab": {
          "base_uri": "https://localhost:8080/",
          "height": 187
        }
      },
      "cell_type": "code",
      "source": [
        "print_scores(y_true_test, y_pred_test)"
      ],
      "execution_count": 27,
      "outputs": [
        {
          "output_type": "stream",
          "text": [
            "              precision    recall  f1-score   support\n",
            "\n",
            "           N       0.99      0.94      0.96     42149\n",
            "           V       0.52      0.90      0.65      3200\n",
            "\n",
            "   micro avg       0.93      0.93      0.93     45349\n",
            "   macro avg       0.75      0.92      0.81     45349\n",
            "weighted avg       0.96      0.93      0.94     45349\n",
            "\n",
            "accuracy:  0.933184855233853\n"
          ],
          "name": "stdout"
        }
      ]
    },
    {
      "metadata": {
        "id": "YZK61esDYVYO",
        "colab_type": "text"
      },
      "cell_type": "markdown",
      "source": [
        "## 精度向上に向けて"
      ]
    },
    {
      "metadata": {
        "id": "KPTsLjqklF30",
        "colab_type": "text"
      },
      "cell_type": "markdown",
      "source": [
        "### クラス不均衡データへの対応"
      ]
    },
    {
      "metadata": {
        "id": "2U6ARwldZCh7",
        "colab_type": "text"
      },
      "cell_type": "markdown",
      "source": [
        "* 予測スコア(Accuracy)は高かったが、単に全てのデータを'N'と予測してもTestで90.88%の精度が出ることになる.\n",
        "* クラス不均衡なデータで学習させると、大多数を占めるラベルに予測結果が偏ってしまう傾向にある => S、Vに対する予測精度が低い理由\n",
        "* こうした不均衡データの問題を解消するための方法として代表的な方法が幾つかあある\n",
        "    * Undersampling / Oversampling\n",
        "    * 損失関数の変更\n"
      ]
    },
    {
      "metadata": {
        "id": "u6tD0TqYYt1D",
        "colab_type": "text"
      },
      "cell_type": "markdown",
      "source": [
        "#### Undersampling & Oversampling (SMOTE)\n",
        "\n",
        "\n"
      ]
    },
    {
      "metadata": {
        "id": "91tUbBvilRxG",
        "colab_type": "code",
        "colab": {}
      },
      "cell_type": "code",
      "source": [
        "from imblearn.datasets import make_imbalance\n",
        "from imblearn.over_sampling import SMOTE\n",
        "\n",
        "\n",
        "class SampledECGDataset(ECGDataset):\n",
        "\n",
        "    def __init__(\n",
        "            self,\n",
        "            path\n",
        "    ):\n",
        "        super(SampledECGDataset, self).__init__(path)\n",
        "        _, counts = np.unique(self.y, return_counts=True)\n",
        "        self.X, self.y = make_imbalance(\n",
        "            self.X, self.y,\n",
        "            sampling_strategy={0: counts[0]//5, 1: counts[1]}\n",
        "        )\n",
        "        smote = SMOTE(random_state=42)\n",
        "        self.X, self.y = smote.fit_sample(self.X, self.y)\n",
        "\n",
        "        \n",
        "def create_sampled_datasets(root_path):\n",
        "    train_path = os.path.join(root_path, \"train\")\n",
        "    validation_path = os.path.join(root_path, \"validation\")\n",
        "    train_dataset = SampledECGDataset(train_path)\n",
        "\n",
        "    return train_dataset"
      ],
      "execution_count": 0,
      "outputs": []
    },
    {
      "metadata": {
        "id": "pdpAAftuwfBD",
        "colab_type": "code",
        "colab": {}
      },
      "cell_type": "code",
      "source": [
        "train_dataset = create_sampled_datasets(dataset_root)"
      ],
      "execution_count": 0,
      "outputs": []
    },
    {
      "metadata": {
        "id": "CsW3x0j1opsz",
        "colab_type": "code",
        "colab": {}
      },
      "cell_type": "code",
      "source": [
        "trainer = create_trainer(256, train_dataset, nb_epoch=2, device=0)"
      ],
      "execution_count": 0,
      "outputs": []
    },
    {
      "metadata": {
        "id": "UpyvYJMyoxOM",
        "colab_type": "code",
        "outputId": "abad4e66-36a2-400c-e686-af079f6e41e4",
        "colab": {
          "base_uri": "https://localhost:8080/",
          "height": 391
        }
      },
      "cell_type": "code",
      "source": [
        "%time trainer.run()"
      ],
      "execution_count": 32,
      "outputs": [
        {
          "output_type": "stream",
          "text": [
            "epoch       iteration   main/loss   main/accuracy\n",
            "\u001b[J0           7           1.5549      0.637277       \n",
            "\u001b[J0           14          0.372147    0.833705       \n",
            "\u001b[J0           21          0.209371    0.930804       \n",
            "\u001b[J0           28          0.124632    0.957031       \n",
            "\u001b[J0           35          0.0814286   0.96875        \n",
            "\u001b[J0           42          0.0648148   0.977121       \n",
            "\u001b[J0           49          0.0588549   0.978237       \n",
            "\u001b[J0           56          0.0446123   0.985491       \n",
            "\u001b[J0           63          0.0515078   0.982143       \n",
            "\u001b[J1           70          0.0391871   0.985491       \n",
            "\u001b[J1           77          0.0254058   0.99442        \n",
            "\u001b[J1           84          0.0205729   0.992746       \n",
            "\u001b[J1           91          0.0235527   0.992188       \n",
            "\u001b[J1           98          0.0172338   0.994978       \n",
            "\u001b[J1           105         0.0166827   0.99442        \n",
            "\u001b[J1           112         0.0138582   0.997768       \n",
            "\u001b[J1           119         0.0162967   0.994978       \n",
            "\u001b[J1           126         0.0157962   0.996094       \n",
            "\u001b[J1           133         0.00981411  0.996652       \n",
            "CPU times: user 46.4 s, sys: 8.94 s, total: 55.3 s\n",
            "Wall time: 55 s\n"
          ],
          "name": "stdout"
        }
      ]
    },
    {
      "metadata": {
        "id": "n3P1Mqnhpkrc",
        "colab_type": "code",
        "outputId": "d3cfd7fe-9f97-40d5-ac39-5be10c06fc8d",
        "colab": {
          "base_uri": "https://localhost:8080/",
          "height": 51
        }
      },
      "cell_type": "code",
      "source": [
        "%time y_true_test, y_pred_test = evaluate(trainer, test_dataset, 256, 0)"
      ],
      "execution_count": 33,
      "outputs": [
        {
          "output_type": "stream",
          "text": [
            "CPU times: user 14.8 s, sys: 2.49 s, total: 17.3 s\n",
            "Wall time: 17.3 s\n"
          ],
          "name": "stdout"
        }
      ]
    },
    {
      "metadata": {
        "id": "ThK6B8xppt8W",
        "colab_type": "code",
        "outputId": "3f5cdb6b-bf63-4289-ab63-1a785ec45891",
        "colab": {
          "base_uri": "https://localhost:8080/",
          "height": 211
        }
      },
      "cell_type": "code",
      "source": [
        "print_confusion_matrix(y_true_test, y_pred_test)"
      ],
      "execution_count": 34,
      "outputs": [
        {
          "output_type": "display_data",
          "data": {
            "image/png": "[encoded data removed]",
            "text/plain": [
              "<matplotlib.figure.Figure at 0x7fd3801445f8>"
            ]
          },
          "metadata": {
            "tags": []
          }
        }
      ]
    },
    {
      "metadata": {
        "id": "DM8aI7hOpuA1",
        "colab_type": "code",
        "outputId": "64a36e44-b1a6-482b-d191-45fc9de2298a",
        "colab": {
          "base_uri": "https://localhost:8080/",
          "height": 187
        }
      },
      "cell_type": "code",
      "source": [
        "print_scores(y_true_test, y_pred_test)"
      ],
      "execution_count": 35,
      "outputs": [
        {
          "output_type": "stream",
          "text": [
            "              precision    recall  f1-score   support\n",
            "\n",
            "           N       1.00      0.94      0.97     42149\n",
            "           V       0.54      0.95      0.69      3200\n",
            "\n",
            "   micro avg       0.94      0.94      0.94     45349\n",
            "   macro avg       0.77      0.94      0.83     45349\n",
            "weighted avg       0.96      0.94      0.95     45349\n",
            "\n",
            "accuracy:  0.939932523319147\n"
          ],
          "name": "stdout"
        }
      ]
    },
    {
      "metadata": {
        "id": "0LtXj5nrpztA",
        "colab_type": "text"
      },
      "cell_type": "markdown",
      "source": [
        "#### 損失関数の変更"
      ]
    },
    {
      "metadata": {
        "id": "0mF7a6A_h38t",
        "colab_type": "text"
      },
      "cell_type": "markdown",
      "source": [
        "TODO: コード - 動かないので動くようにする"
      ]
    },
    {
      "metadata": {
        "id": "umASFtsw4XyG",
        "colab_type": "code",
        "colab": {}
      },
      "cell_type": "code",
      "source": [
        "from chainer.backends.cuda import get_array_module\n",
        "\n",
        "def focal_loss(x, t, class_num=2, gamma=2., eps=1e-6):\n",
        "    xp = get_array_module(t)\n",
        "\n",
        "    p = F.softmax(x)\n",
        "    p = F.clip(p, x_min=eps, x_max=1-eps)\n",
        "    log_p = F.log_softmax(x)\n",
        "    t_onehot = xp.eye(class_num)[t]\n",
        "\n",
        "    loss_sce = -1 * t_onehot * log_p\n",
        "    loss_focal = F.sum(loss_sce * (1. - p) ** gamma, axis=1)\n",
        "\n",
        "    return F.mean(loss_focal)"
      ],
      "execution_count": 0,
      "outputs": []
    },
    {
      "metadata": {
        "id": "Y64crW5o6Cxg",
        "colab_type": "code",
        "colab": {}
      },
      "cell_type": "code",
      "source": [
        "train_dataset = create_datasets(dataset_root)"
      ],
      "execution_count": 0,
      "outputs": []
    },
    {
      "metadata": {
        "id": "Ee4pqByA6Lm9",
        "colab_type": "code",
        "colab": {}
      },
      "cell_type": "code",
      "source": [
        "trainer = create_trainer(256, train_dataset, nb_epoch=1, device=0, lossfun=focal_loss)"
      ],
      "execution_count": 0,
      "outputs": []
    },
    {
      "metadata": {
        "id": "xfgBxkaZ6sGm",
        "colab_type": "code",
        "outputId": "1333c81c-e892-4ee9-8510-ee2f021bda15",
        "colab": {
          "base_uri": "https://localhost:8080/",
          "height": 510
        }
      },
      "cell_type": "code",
      "source": [
        "%time trainer.run()"
      ],
      "execution_count": 39,
      "outputs": [
        {
          "output_type": "stream",
          "text": [
            "epoch       iteration   main/loss   main/accuracy\n",
            "\u001b[J0           7           1.53746     0.806362       \n",
            "\u001b[J0           14          0.287601    0.875          \n",
            "\u001b[J0           21          0.0698186   0.93192        \n",
            "\u001b[J0           28          0.0438095   0.944196       \n",
            "\u001b[J0           35          0.0550418   0.929688       \n",
            "\u001b[J0           42          0.0330854   0.955915       \n",
            "\u001b[J0           49          0.0310767   0.96875        \n",
            "\u001b[J0           56          0.0150656   0.981027       \n",
            "\u001b[J0           63          0.0246014   0.970982       \n",
            "\u001b[J0           70          0.0157674   0.978795       \n",
            "\u001b[J0           77          0.0155997   0.979353       \n",
            "\u001b[J0           84          0.01527     0.982701       \n",
            "\u001b[J0           91          0.0136532   0.980469       \n",
            "\u001b[J0           98          0.0389695   0.987723       \n",
            "\u001b[J0           105         0.0109694   0.984375       \n",
            "\u001b[J0           112         0.00979762  0.987723       \n",
            "\u001b[J0           119         0.0145389   0.982143       \n",
            "\u001b[J0           126         0.0107648   0.988281       \n",
            "\u001b[J0           133         0.0111404   0.990513       \n",
            "\u001b[J0           140         0.012603    0.984375       \n",
            "\u001b[J0           147         0.0385038   0.987165       \n",
            "\u001b[J0           154         0.0146354   0.981585       \n",
            "\u001b[J0           161         0.00981666  0.984933       \n",
            "\u001b[J0           168         0.0116596   0.986049       \n",
            "\u001b[J0           175         0.00932134  0.989397       \n",
            "\u001b[J0           182         0.00733271  0.991629       \n",
            "CPU times: user 1min 7s, sys: 12.1 s, total: 1min 19s\n",
            "Wall time: 1min 18s\n"
          ],
          "name": "stdout"
        }
      ]
    },
    {
      "metadata": {
        "colab_type": "code",
        "outputId": "07b419e6-55f7-4b13-e137-7eec69f13ca3",
        "id": "X3dGV0Z9kWK6",
        "colab": {
          "base_uri": "https://localhost:8080/",
          "height": 51
        }
      },
      "cell_type": "code",
      "source": [
        "%time y_true_test, y_pred_test = evaluate(trainer, test_dataset, 256, 0)"
      ],
      "execution_count": 40,
      "outputs": [
        {
          "output_type": "stream",
          "text": [
            "CPU times: user 14.8 s, sys: 2.55 s, total: 17.4 s\n",
            "Wall time: 17.4 s\n"
          ],
          "name": "stdout"
        }
      ]
    },
    {
      "metadata": {
        "colab_type": "code",
        "outputId": "5fe1a07b-e604-4a93-e82b-c74fe5278741",
        "id": "CnN8bb_0kWK_",
        "colab": {
          "base_uri": "https://localhost:8080/",
          "height": 212
        }
      },
      "cell_type": "code",
      "source": [
        "print_confusion_matrix(y_true_test, y_pred_test)"
      ],
      "execution_count": 41,
      "outputs": [
        {
          "output_type": "display_data",
          "data": {
            "image/png": "[encoded data removed]",
            "text/plain": [
              "<matplotlib.figure.Figure at 0x7fd38016c908>"
            ]
          },
          "metadata": {
            "tags": []
          }
        }
      ]
    },
    {
      "metadata": {
        "colab_type": "code",
        "outputId": "e283f906-543a-4f95-bc50-629b23dc4ede",
        "id": "GJ1wY_0ZkWLC",
        "colab": {
          "base_uri": "https://localhost:8080/",
          "height": 187
        }
      },
      "cell_type": "code",
      "source": [
        "print_scores(y_true_test, y_pred_test)"
      ],
      "execution_count": 42,
      "outputs": [
        {
          "output_type": "stream",
          "text": [
            "              precision    recall  f1-score   support\n",
            "\n",
            "           N       0.98      0.97      0.98     42149\n",
            "           V       0.64      0.80      0.71      3200\n",
            "\n",
            "   micro avg       0.95      0.95      0.95     45349\n",
            "   macro avg       0.81      0.88      0.84     45349\n",
            "weighted avg       0.96      0.95      0.96     45349\n",
            "\n",
            "accuracy:  0.9546406756488567\n"
          ],
          "name": "stdout"
        }
      ]
    },
    {
      "metadata": {
        "id": "PRMXPtNqvKya",
        "colab_type": "text"
      },
      "cell_type": "markdown",
      "source": [
        "### 特徴抽出方法の変更"
      ]
    },
    {
      "metadata": {
        "id": "7rMWg57rvdI6",
        "colab_type": "text"
      },
      "cell_type": "markdown",
      "source": [
        "#### ネットワーク構造の変更"
      ]
    },
    {
      "metadata": {
        "id": "h5-FR_e5wezQ",
        "colab_type": "code",
        "colab": {}
      },
      "cell_type": "code",
      "source": [
        "class DilatedResNet34(chainer.Chain):\n",
        "\n",
        "    def __init__(self):\n",
        "        super(DilatedResNet34, self).__init__()\n",
        "        with self.init_scope():\n",
        "            self.conv1 = L.ConvolutionND(1, None, 64, 7, 2, 3)\n",
        "            self.bn1 = L.BatchNormalization(64)\n",
        "            self.resblock0 = ResBlockBase(64, 3, 1)\n",
        "            self.resblock1 = ResBlockBase(128, 4, 1)\n",
        "            self.resblock2 = ResBlockBase(256, 6, 2)\n",
        "            self.resblock3 = ResBlockBase(512, 3, 4)\n",
        "            self.fc1 = L.Linear(None, 512)\n",
        "            self.fc2 = L.Linear(None, 2)\n",
        "\n",
        "    def __call__(self, x):\n",
        "        h = F.relu(self.bn1(self.conv1(x)))\n",
        "        h = F.max_pooling_nd(h, 3, 2)\n",
        "        for i in range(4):\n",
        "            h = getattr(self, 'resblock{}'.format(str(i)))(h)\n",
        "        h = F.average(h, axis=2)\n",
        "        h = F.dropout(self.fc1(h), 0.5)\n",
        "        h = self.fc2(h)\n",
        "        return h\n",
        "      "
      ],
      "execution_count": 0,
      "outputs": []
    },
    {
      "metadata": {
        "id": "bGGFdPWIJ_kW",
        "colab_type": "code",
        "colab": {}
      },
      "cell_type": "code",
      "source": [
        "def create_trainer(\n",
        "    batchsize, train_dataset, nb_epoch=1,\n",
        "    device=0, lossfun=F.softmax_cross_entropy\n",
        "):\n",
        "    # setup model\n",
        "    model = DilatedResNet34()\n",
        "    train_model = Classifier(model, lossfun=lossfun)\n",
        "\n",
        "    # use Adam optimizer\n",
        "    optimizer = optimizers.Adam(alpha=0.001)\n",
        "    optimizer.setup(train_model)\n",
        "    optimizer.add_hook(WeightDecay(0.0001))\n",
        "\n",
        "    # setup iterator\n",
        "    train_iter = MultiprocessIterator(train_dataset, batchsize)\n",
        "\n",
        "    # define updater\n",
        "    updater = training.StandardUpdater(train_iter, optimizer, device=device)\n",
        "\n",
        "    # setup trainer\n",
        "    stop_trigger = (nb_epoch, 'epoch')\n",
        "    trainer = training.trainer.Trainer(updater, stop_trigger)\n",
        "    logging_attributes = [\n",
        "        'epoch', 'iteration',\n",
        "        'main/loss', 'main/accuracy'        \n",
        "    ]\n",
        "    trainer.extend(\n",
        "        extensions.LogReport(logging_attributes, trigger=(2000 // batchsize, 'iteration'))\n",
        "    )\n",
        "    trainer.extend(\n",
        "        extensions.PrintReport(logging_attributes)\n",
        "    )\n",
        "    trainer.extend(\n",
        "        extensions.ExponentialShift('alpha', 0.75, optimizer=optimizer),\n",
        "        trigger=(4000 // batchsize, 'iteration')\n",
        "    )\n",
        "\n",
        "    return trainer"
      ],
      "execution_count": 0,
      "outputs": []
    },
    {
      "metadata": {
        "id": "DaMN5SPrJ_on",
        "colab_type": "code",
        "colab": {}
      },
      "cell_type": "code",
      "source": [
        "train_dataset = create_datasets(dataset_root)\n",
        "test_dataset = create_test_dataset(dataset_root)"
      ],
      "execution_count": 0,
      "outputs": []
    },
    {
      "metadata": {
        "id": "KUidNkHlKTjh",
        "colab_type": "code",
        "colab": {}
      },
      "cell_type": "code",
      "source": [
        "trainer = create_trainer(256, train_dataset, nb_epoch=1, device=0)"
      ],
      "execution_count": 0,
      "outputs": []
    },
    {
      "metadata": {
        "id": "kawTWjlNKZTA",
        "colab_type": "code",
        "outputId": "8c162791-6eb0-4594-981e-54b9c62d9dc0",
        "colab": {
          "base_uri": "https://localhost:8080/",
          "height": 510
        }
      },
      "cell_type": "code",
      "source": [
        "%time trainer.run()"
      ],
      "execution_count": 47,
      "outputs": [
        {
          "output_type": "stream",
          "text": [
            "epoch       iteration   main/loss   main/accuracy\n",
            "\u001b[J0           7           0.984993    0.820871       \n",
            "\u001b[J0           14          0.271389    0.917969       \n",
            "\u001b[J0           21          0.238406    0.919643       \n",
            "\u001b[J0           28          0.187035    0.919643       \n",
            "\u001b[J0           35          0.147569    0.93471        \n",
            "\u001b[J0           42          0.220239    0.967634       \n",
            "\u001b[J0           49          0.279385    0.969866       \n",
            "\u001b[J0           56          0.0845302   0.969866       \n",
            "\u001b[J0           63          0.0495845   0.983259       \n",
            "\u001b[J0           70          0.0635208   0.981027       \n",
            "\u001b[J0           77          0.0484835   0.984933       \n",
            "\u001b[J0           84          0.0485552   0.985491       \n",
            "\u001b[J0           91          0.0375603   0.987723       \n",
            "\u001b[J0           98          0.0417249   0.987723       \n",
            "\u001b[J0           105         0.0444891   0.988281       \n",
            "\u001b[J0           112         0.035503    0.989397       \n",
            "\u001b[J0           119         0.0267511   0.990513       \n",
            "\u001b[J0           126         0.0471523   0.994978       \n",
            "\u001b[J0           133         0.0194185   0.994978       \n",
            "\u001b[J0           140         0.0310963   0.991629       \n",
            "\u001b[J0           147         0.025705    0.991629       \n",
            "\u001b[J0           154         0.0238151   0.992746       \n",
            "\u001b[J0           161         0.0270219   0.992746       \n",
            "\u001b[J0           168         0.0157836   0.995536       \n",
            "\u001b[J0           175         0.021424    0.994978       \n",
            "\u001b[J0           182         0.0195788   0.99442        \n",
            "CPU times: user 1min 3s, sys: 12 s, total: 1min 15s\n",
            "Wall time: 1min 15s\n"
          ],
          "name": "stdout"
        }
      ]
    },
    {
      "metadata": {
        "colab_type": "text",
        "id": "l_M9geyFPLgO"
      },
      "cell_type": "markdown",
      "source": [
        "- TODO: 説明 - validationセットの評価"
      ]
    },
    {
      "metadata": {
        "colab_type": "text",
        "id": "j6I9vlzVPLgX"
      },
      "cell_type": "markdown",
      "source": [
        "- TODO: 説明文 - テストセットの評価"
      ]
    },
    {
      "metadata": {
        "colab_type": "code",
        "id": "C_7Qhz7RPLgP",
        "outputId": "84eb90d4-cb55-42f7-e99b-ee07edd0f6ea",
        "colab": {
          "base_uri": "https://localhost:8080/",
          "height": 51
        }
      },
      "cell_type": "code",
      "source": [
        "%time y_true_test, y_pred_test = evaluate(trainer, test_dataset, 256, 0)"
      ],
      "execution_count": 48,
      "outputs": [
        {
          "output_type": "stream",
          "text": [
            "CPU times: user 14.7 s, sys: 2.38 s, total: 17.1 s\n",
            "Wall time: 17.1 s\n"
          ],
          "name": "stdout"
        }
      ]
    },
    {
      "metadata": {
        "colab_type": "code",
        "outputId": "01491dfb-e3ff-4b6a-e871-f6a66dc5f7ec",
        "id": "R4C-mFzBPLgQ",
        "colab": {
          "base_uri": "https://localhost:8080/",
          "height": 211
        }
      },
      "cell_type": "code",
      "source": [
        "print_confusion_matrix(y_true_test, y_pred_test)"
      ],
      "execution_count": 49,
      "outputs": [
        {
          "output_type": "display_data",
          "data": {
            "image/png": "[encoded data removed]",
            "text/plain": [
              "<matplotlib.figure.Figure at 0x7fd381fb59b0>"
            ]
          },
          "metadata": {
            "tags": []
          }
        }
      ]
    },
    {
      "metadata": {
        "colab_type": "code",
        "outputId": "7f508e03-b72c-4d68-8c4d-05dbf57c0bde",
        "id": "n3z2ygYkPLgU",
        "colab": {
          "base_uri": "https://localhost:8080/",
          "height": 187
        }
      },
      "cell_type": "code",
      "source": [
        "print_scores(y_true_test, y_pred_test)"
      ],
      "execution_count": 50,
      "outputs": [
        {
          "output_type": "stream",
          "text": [
            "              precision    recall  f1-score   support\n",
            "\n",
            "           N       0.99      0.98      0.98     42149\n",
            "           V       0.76      0.88      0.81      3200\n",
            "\n",
            "   micro avg       0.97      0.97      0.97     45349\n",
            "   macro avg       0.87      0.93      0.90     45349\n",
            "weighted avg       0.97      0.97      0.97     45349\n",
            "\n",
            "accuracy:  0.9713995898476262\n"
          ],
          "name": "stdout"
        }
      ]
    },
    {
      "metadata": {
        "id": "QUZQOrwaY1iA",
        "colab_type": "text"
      },
      "cell_type": "markdown",
      "source": [
        "### ノイズ除去の効果検証"
      ]
    },
    {
      "metadata": {
        "id": "jGyLs3AQJpVP",
        "colab_type": "text"
      },
      "cell_type": "markdown",
      "source": [
        "- TODO: 説明 - 心電図波形には高周波ノイズ(筋電図ノイズ(Electromyogram noise)、加算性白色ガウスノイズ(Additive white Gaussian noise)力線妨害(power line interference))と、低周波ノイズ(基線変動ノイズ(baseline wandering))が含まれているため, 徐脈などの異常波形をうまく判別するために, 不要なノイズを除去する前処理を行うのが通例である\n",
        "- TODO: 説明 - ノイズフィルタリングについて簡単に説明する\n",
        "- TODO: MIT-BIHデータセットでは、≧0.1Hz & ≦100Hzのband-pass filterが既に適用されているが、それよりも厳しめのフィルタリングを行い, その効果を検証する(https://www.physionet.org/physiobank/database/html/mitdbdir/intro.htm#selection)\n",
        "\n",
        "\n",
        "\n",
        "- Pros: ノイズを除くことで徐脈などの異常波形パターンを特徴として捉えやすくなる可能性がある\n",
        "- Cons: 波形に含まれている重要な情報が, フィルタリングによって失われる可能性がある"
      ]
    },
    {
      "metadata": {
        "id": "JErWrrR07cjB",
        "colab_type": "code",
        "colab": {}
      },
      "cell_type": "code",
      "source": [
        "from scipy.signal import butter, lfilter, medfilt\n",
        "\n",
        "\n",
        "class DenoiseECGDatasetPreprocessor(BaseECGDatasetPreprocessor):\n",
        "\n",
        "    def __init__(\n",
        "            self,\n",
        "            dataset_root='./',\n",
        "            window_size=720\n",
        "    ):\n",
        "        super(DenoiseECGDatasetPreprocessor, self).__init__(\n",
        "        dataset_root, window_size)\n",
        "\n",
        "    def denoise_signal(\n",
        "            self,\n",
        "            signal,\n",
        "            cutoff_low=0.2,\n",
        "            cutoff_high=30.,\n",
        "            order=5\n",
        "    ):\n",
        "        nyquist = self.sample_rate / 2.\n",
        "        if cutoff_low <= 0.5 and cutoff_high >= 2.5:\n",
        "            cut_off = (cutoff_low / nyquist, cutoff_high / nyquist)\n",
        "            b, a = butter(order, cut_off, analog=False, btype='band')\n",
        "        elif cutoff_low <= 0.5:\n",
        "            cut_off = cutoff_low / nyquist\n",
        "            b, a = butter(order, cut_off, analog=False, btype='high')\n",
        "        elif cutoff_high >= 2.5:\n",
        "            cut_off = cutoff_high / nyquist\n",
        "            b, a = butter(order, cut_off, analog=False, btype='low')\n",
        "        else:\n",
        "            return signal\n",
        "        return lfilter(b, a, signal)\n",
        "\n",
        "    def create_data_slices(\n",
        "            self,\n",
        "            signal,\n",
        "            symbols,\n",
        "            positions\n",
        "    ):\n",
        "        X = []\n",
        "        y = []\n",
        "        sig_len = len(signal)\n",
        "        for i in range(len(symbols)):\n",
        "            start = positions[i] - self.window_size // 2\n",
        "            end = positions[i] + self.window_size // 2\n",
        "            if symbols[i] in self.valid_symbols and start >= 0 and end <= sig_len:\n",
        "                segment = signal[start:end]\n",
        "                assert len(segment) == self.window_size, \"Invalid length\"\n",
        "                X.append(segment)\n",
        "                y.append(self.labels.index(self.label_map[symbols[i]]))\n",
        "        return np.array(X), np.array(y)\n",
        "\n",
        "    def prepare_dataset(\n",
        "            self,\n",
        "            denoise=False,\n",
        "            normalize=True\n",
        "    ):\n",
        "        if not os.path.isdir(self.download_dir):\n",
        "            self.download_data()\n",
        "\n",
        "        # prepare training dataset\n",
        "        self._prepare_dataset_core(self.train_record_list, \"train\", denoise, normalize)\n",
        "        # prepare test dataset\n",
        "        self._prepare_dataset_core(self.test_record_list, \"test\", denoise, normalize)\n",
        "\n",
        "    def _prepare_dataset_core(\n",
        "            self,\n",
        "            record_list,\n",
        "            mode=\"train\",\n",
        "            denoise=False,\n",
        "            normalize=True\n",
        "    ):\n",
        "        X, y = None, None\n",
        "        for i in range(len(record_list)):\n",
        "            signal, symbols, positions = self.load_data(record_list[i])\n",
        "            if denoise:\n",
        "                signal = self.denoise_signal(signal)\n",
        "            if normalize:\n",
        "                signal = self.normalize_signal(signal)\n",
        "            if i == 0:\n",
        "                X, y = self.create_data_slices(signal, symbols, positions)\n",
        "            else:\n",
        "                X_tmp, y_tmp = self.create_data_slices(signal, symbols, positions)\n",
        "                X = np.vstack((X, X_tmp))\n",
        "                y = np.concatenate((y, y_tmp))\n",
        "        os.makedirs(os.path.join(self.dataset_root, mode), exist_ok=True)\n",
        "        np.save(os.path.join(self.dataset_root, mode, \"X.npy\"), X)\n",
        "        np.save(os.path.join(self.dataset_root, mode, \"y.npy\"), y)\n"
      ],
      "execution_count": 0,
      "outputs": []
    },
    {
      "metadata": {
        "id": "U19pzjkY85IP",
        "colab_type": "code",
        "colab": {}
      },
      "cell_type": "code",
      "source": [
        "d_preprocessor = DenoiseECGDatasetPreprocessor(dataset_root)"
      ],
      "execution_count": 0,
      "outputs": []
    },
    {
      "metadata": {
        "id": "-ASH3PS2a4td",
        "colab_type": "text"
      },
      "cell_type": "markdown",
      "source": [
        "TODO: 説明 - 5次のButterworth filter (band-pass)を適用してノイズ除去を行う"
      ]
    },
    {
      "metadata": {
        "id": "STu_XB-hNOMy",
        "colab_type": "code",
        "colab": {}
      },
      "cell_type": "code",
      "source": [
        "d_preprocessor.prepare_dataset(denoise=True)"
      ],
      "execution_count": 0,
      "outputs": []
    },
    {
      "metadata": {
        "id": "RCIkhIvUNhcQ",
        "colab_type": "code",
        "colab": {}
      },
      "cell_type": "code",
      "source": [
        "X_train_d = np.load(os.path.join(dataset_root, 'train', 'X.npy'))\n",
        "y_train_d = np.load(os.path.join(dataset_root, 'train', 'y.npy'))"
      ],
      "execution_count": 0,
      "outputs": []
    },
    {
      "metadata": {
        "id": "EDsqmOiYOYUL",
        "colab_type": "code",
        "outputId": "bd1690f4-b421-4299-a28a-55f147944af4",
        "colab": {
          "base_uri": "https://localhost:8080/",
          "height": 266
        }
      },
      "cell_type": "code",
      "source": [
        "plt.subplots(figsize=(12, 4))\n",
        "plt.subplot(1, 2, 1)\n",
        "plt.plot(X_train[idx_n[0]])\n",
        "plt.subplot(1, 2, 2)\n",
        "plt.plot(X_train_d[idx_n[0]])\n",
        "plt.show()"
      ],
      "execution_count": 58,
      "outputs": [
        {
          "output_type": "display_data",
          "data": {
            "image/png": "[encoded data removed]",
            "text/plain": [
              "<matplotlib.figure.Figure at 0x7fd36966f9b0>"
            ]
          },
          "metadata": {
            "tags": []
          }
        }
      ]
    },
    {
      "metadata": {
        "id": "yYWeI-n5ccof",
        "colab_type": "text"
      },
      "cell_type": "markdown",
      "source": [
        "左図がフィルタリング前、右図がフィルタリング後"
      ]
    },
    {
      "metadata": {
        "id": "Yvx5uLSwHz0e",
        "colab_type": "code",
        "colab": {}
      },
      "cell_type": "code",
      "source": [
        "train_dataset = create_datasets(dataset_root)\n",
        "test_dataset = create_test_dataset(dataset_root)"
      ],
      "execution_count": 0,
      "outputs": []
    },
    {
      "metadata": {
        "id": "C70lLfAHbOOH",
        "colab_type": "code",
        "outputId": "3dc863f1-351b-4bf5-d001-e7412696894a",
        "colab": {
          "base_uri": "https://localhost:8080/",
          "height": 476
        }
      },
      "cell_type": "code",
      "source": [
        "trainer = create_trainer(256, train_dataset, nb_epoch=1, device=0)\n",
        "trainer.run()"
      ],
      "execution_count": 60,
      "outputs": [
        {
          "output_type": "stream",
          "text": [
            "epoch       iteration   main/loss   main/accuracy\n",
            "\u001b[J0           7           0.943153    0.905134       \n",
            "\u001b[J0           14          0.281551    0.955357       \n",
            "\u001b[J0           21          0.121105    0.958705       \n",
            "\u001b[J0           28          0.114655    0.969308       \n",
            "\u001b[J0           35          0.0611682   0.978795       \n",
            "\u001b[J0           42          0.0549055   0.985491       \n",
            "\u001b[J0           49          0.0551493   0.985491       \n",
            "\u001b[J0           56          0.0432593   0.989397       \n",
            "\u001b[J0           63          0.0180693   0.993862       \n",
            "\u001b[J0           70          0.0263636   0.991071       \n",
            "\u001b[J0           77          0.0160459   0.993862       \n",
            "\u001b[J0           84          0.0230151   0.993304       \n",
            "\u001b[J0           91          0.0140904   0.995536       \n",
            "\u001b[J0           98          0.0230149   0.991071       \n",
            "\u001b[J0           105         0.0100289   0.996094       \n",
            "\u001b[J0           112         0.0459271   0.992188       \n",
            "\u001b[J0           119         0.0229435   0.996094       \n",
            "\u001b[J0           126         0.0124526   0.995536       \n",
            "\u001b[J0           133         0.0254464   0.993304       \n",
            "\u001b[J0           140         0.0123098   0.996094       \n",
            "\u001b[J0           147         0.0184416   0.99442        \n",
            "\u001b[J0           154         0.0127985   0.995536       \n",
            "\u001b[J0           161         0.0119598   0.995536       \n",
            "\u001b[J0           168         0.014755    0.996652       \n",
            "\u001b[J0           175         0.0209538   0.993862       \n",
            "\u001b[J0           182         0.00433033  0.998884       \n"
          ],
          "name": "stdout"
        }
      ]
    },
    {
      "metadata": {
        "id": "5U3EVnexeasF",
        "colab_type": "code",
        "outputId": "991b6914-0030-40af-aadf-9454b1479dc7",
        "colab": {
          "base_uri": "https://localhost:8080/",
          "height": 51
        }
      },
      "cell_type": "code",
      "source": [
        "%time y_true_test, y_pred_test = evaluate(trainer, test_dataset, 256, 0)"
      ],
      "execution_count": 61,
      "outputs": [
        {
          "output_type": "stream",
          "text": [
            "CPU times: user 15 s, sys: 2.26 s, total: 17.3 s\n",
            "Wall time: 17.3 s\n"
          ],
          "name": "stdout"
        }
      ]
    },
    {
      "metadata": {
        "id": "qHnh-vFuelQk",
        "colab_type": "code",
        "outputId": "6ccbe4e7-6873-43c5-aa88-d1d976a4d761",
        "colab": {
          "base_uri": "https://localhost:8080/",
          "height": 211
        }
      },
      "cell_type": "code",
      "source": [
        "print_confusion_matrix(y_true_test, y_pred_test)"
      ],
      "execution_count": 62,
      "outputs": [
        {
          "output_type": "display_data",
          "data": {
            "image/png": "[encoded data removed]",
            "text/plain": [
              "<matplotlib.figure.Figure at 0x7fd369498940>"
            ]
          },
          "metadata": {
            "tags": []
          }
        }
      ]
    },
    {
      "metadata": {
        "id": "0R_lnZLcIn-y",
        "colab_type": "code",
        "outputId": "38a1fc62-f5f2-4126-ad3b-d6fdfcb0fba7",
        "colab": {
          "base_uri": "https://localhost:8080/",
          "height": 187
        }
      },
      "cell_type": "code",
      "source": [
        "print_scores(y_true_test, y_pred_test)"
      ],
      "execution_count": 63,
      "outputs": [
        {
          "output_type": "stream",
          "text": [
            "              precision    recall  f1-score   support\n",
            "\n",
            "           N       1.00      0.94      0.96     42149\n",
            "           V       0.53      0.95      0.68      3200\n",
            "\n",
            "   micro avg       0.94      0.94      0.94     45349\n",
            "   macro avg       0.76      0.94      0.82     45349\n",
            "weighted avg       0.96      0.94      0.94     45349\n",
            "\n",
            "accuracy:  0.9364484332620344\n"
          ],
          "name": "stdout"
        }
      ]
    },
    {
      "metadata": {
        "id": "JwNDSic0i1mb",
        "colab_type": "code",
        "colab": {}
      },
      "cell_type": "code",
      "source": [
        ""
      ],
      "execution_count": 0,
      "outputs": []
    }
  ]
}