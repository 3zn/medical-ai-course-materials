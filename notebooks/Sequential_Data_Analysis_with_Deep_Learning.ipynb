{
  "nbformat": 4,
  "nbformat_minor": 0,
  "metadata": {
    "colab": {
      "name": "Sequential-Data-Analysis-with-Deep-Learning",
      "version": "0.3.2",
      "provenance": [],
      "collapsed_sections": [
        "AzQYVT4NSmr2",
        "kQEqTIlmTxPw",
        "YZK61esDYVYO",
        "KPTsLjqklF30",
        "u6tD0TqYYt1D",
        "0LtXj5nrpztA",
        "PRMXPtNqvKya",
        "mPshO_o3Zn6r",
        "7rMWg57rvdI6",
        "QUZQOrwaY1iA"
      ],
      "include_colab_link": true
    },
    "kernelspec": {
      "name": "python3",
      "display_name": "Python 3"
    },
    "accelerator": "GPU"
  },
  "cells": [
    {
      "cell_type": "markdown",
      "metadata": {
        "id": "view-in-github",
        "colab_type": "text"
      },
      "source": [
        "<a href=\"https://colab.research.google.com/github/mitmul/medical-ai-course-materials/blob/master/notebooks/Sequential_Data_Analysis_with_Deep_Learning.ipynb\" target=\"_parent\"><img src=\"https://colab.research.google.com/assets/colab-badge.svg\" alt=\"Open In Colab\"/></a>"
      ]
    },
    {
      "metadata": {
        "id": "qL7KO2SAQHuw",
        "colab_type": "text"
      },
      "cell_type": "markdown",
      "source": [
        "# 実践編: ディープラーニングを使ったモニタリングデータの時系列解析"
      ]
    },
    {
      "metadata": {
        "id": "6G2qenL-QR4S",
        "colab_type": "text"
      },
      "cell_type": "markdown",
      "source": [
        "- 近年, 健康意識の高まり, 運動人口の増加に伴って, 活動量計などのウェアラブルデバイスが普及し始めている.\n",
        "- ウェアラブルデバイスから心拍データ等の情報を取得することで, リアルタイムに健康状態をモニタリングできる可能性がある.\n",
        "  - Cardiogram社とカリフォルニア大学の共同研究で、心拍センサーデータを用いて糖尿病予備群を判定する「DeepHeart」が注目を集めた\n",
        "  - Apple Watch Series 4には心電図作成の機能が搭載されており, ヘルスケア分野でも注目されている\n",
        "- もう少し充実させる"
      ]
    },
    {
      "metadata": {
        "id": "zZytuxCZQwUc",
        "colab_type": "text"
      },
      "cell_type": "markdown",
      "source": [
        "## 目次"
      ]
    },
    {
      "metadata": {
        "id": "hd-38UlWQzD2",
        "colab_type": "text"
      },
      "cell_type": "markdown",
      "source": [
        "1. 環境構築\n",
        "1. 使用するデータセット\n",
        "1. データ前処理\n",
        "1. DLを用いた時系列データ解析\n",
        "1. 精度向上に向けて\n",
        "  1. クラス不均衡データへの対応\n",
        "    1. Undersampling\n",
        "    1. 損失関数の変更\n",
        "  1. 特徴抽出方法の変更\n",
        "    1. 入力サイズ(セグメント長)\n",
        "    1. ネットワーク構造\n",
        "  1. ノイズ除去の効果検証"
      ]
    },
    {
      "metadata": {
        "id": "Yf3_nzfOQ4mk",
        "colab_type": "text"
      },
      "cell_type": "markdown",
      "source": [
        "## 環境構築"
      ]
    },
    {
      "metadata": {
        "id": "oUE1bnmtQ7mW",
        "colab_type": "text"
      },
      "cell_type": "markdown",
      "source": [
        "はじめに, 下記の必要ライブラリをインストールします."
      ]
    },
    {
      "metadata": {
        "id": "cX4C1qqERA4F",
        "colab_type": "text"
      },
      "cell_type": "markdown",
      "source": [
        "* Cupy\n",
        "* Chainer\n",
        "* Scipy\n",
        "* Matplotlib\n",
        "* Seaborn\n",
        "* Pandas\n",
        "* WFDB\n",
        "* Scikit-learn\n",
        "* Imbalanced-learn"
      ]
    },
    {
      "metadata": {
        "id": "IOG2_VY-RFJw",
        "colab_type": "text"
      },
      "cell_type": "markdown",
      "source": [
        "以下のセルを実行 (Shift + Enter) して下さい. "
      ]
    },
    {
      "metadata": {
        "id": "b6zwznd_QUqg",
        "colab_type": "code",
        "outputId": "724f984b-b932-4527-a83a-468a854f7d70",
        "colab": {
          "base_uri": "https://localhost:8080/",
          "height": 2244
        }
      },
      "cell_type": "code",
      "source": [
        "!set -ex\n",
        "!apt -y -q install cuda-libraries-dev-9-2\n",
        "!pip install cupy-cuda92==5.0.0\n",
        "!pip install chainer==5.0.0\n",
        "!pip install scipy matplotlib seaborn pandas wfdb\n",
        "!pip install imbalanced-learn"
      ],
      "execution_count": 0,
      "outputs": [
        {
          "output_type": "stream",
          "text": [
            "Reading package lists...\n",
            "Building dependency tree...\n",
            "Reading state information...\n",
            "The following additional packages will be installed:\n",
            "  cuda-cublas-dev-9-2 cuda-cufft-dev-9-2 cuda-curand-dev-9-2\n",
            "  cuda-cusolver-dev-9-2 cuda-cusparse-dev-9-2 cuda-npp-dev-9-2\n",
            "  cuda-nvgraph-dev-9-2 cuda-nvrtc-dev-9-2\n",
            "The following NEW packages will be installed:\n",
            "  cuda-cublas-dev-9-2 cuda-cufft-dev-9-2 cuda-curand-dev-9-2\n",
            "  cuda-cusolver-dev-9-2 cuda-cusparse-dev-9-2 cuda-libraries-dev-9-2\n",
            "  cuda-npp-dev-9-2 cuda-nvgraph-dev-9-2 cuda-nvrtc-dev-9-2\n",
            "0 upgraded, 9 newly installed, 0 to remove and 3 not upgraded.\n",
            "Need to get 332 MB of archives.\n",
            "After this operation, 972 MB of additional disk space will be used.\n",
            "Get:1 https://developer.download.nvidia.com/compute/cuda/repos/ubuntu1710/x86_64  cuda-cublas-dev-9-2 9.2.148.1-1 [50.4 MB]\n",
            "Get:2 https://developer.download.nvidia.com/compute/cuda/repos/ubuntu1710/x86_64  cuda-cufft-dev-9-2 9.2.148-1 [106 MB]\n",
            "Get:3 https://developer.download.nvidia.com/compute/cuda/repos/ubuntu1710/x86_64  cuda-curand-dev-9-2 9.2.148-1 [57.8 MB]\n",
            "Get:4 https://developer.download.nvidia.com/compute/cuda/repos/ubuntu1710/x86_64  cuda-cusolver-dev-9-2 9.2.148-1 [8,184 kB]\n",
            "Get:5 https://developer.download.nvidia.com/compute/cuda/repos/ubuntu1710/x86_64  cuda-cusparse-dev-9-2 9.2.148-1 [27.8 MB]\n",
            "Get:6 https://developer.download.nvidia.com/compute/cuda/repos/ubuntu1710/x86_64  cuda-nvrtc-dev-9-2 9.2.148-1 [9,348 B]\n",
            "Get:7 https://developer.download.nvidia.com/compute/cuda/repos/ubuntu1710/x86_64  cuda-nvgraph-dev-9-2 9.2.148-1 [30.1 MB]\n",
            "Get:8 https://developer.download.nvidia.com/compute/cuda/repos/ubuntu1710/x86_64  cuda-npp-dev-9-2 9.2.148-1 [52.0 MB]\n",
            "Get:9 https://developer.download.nvidia.com/compute/cuda/repos/ubuntu1710/x86_64  cuda-libraries-dev-9-2 9.2.148-1 [2,598 B]\n",
            "Fetched 332 MB in 6s (51.5 MB/s)\n",
            "Selecting previously unselected package cuda-cublas-dev-9-2.\n",
            "(Reading database ... 22280 files and directories currently installed.)\n",
            "Preparing to unpack .../0-cuda-cublas-dev-9-2_9.2.148.1-1_amd64.deb ...\n",
            "Unpacking cuda-cublas-dev-9-2 (9.2.148.1-1) ...\n",
            "Selecting previously unselected package cuda-cufft-dev-9-2.\n",
            "Preparing to unpack .../1-cuda-cufft-dev-9-2_9.2.148-1_amd64.deb ...\n",
            "Unpacking cuda-cufft-dev-9-2 (9.2.148-1) ...\n",
            "Selecting previously unselected package cuda-curand-dev-9-2.\n",
            "Preparing to unpack .../2-cuda-curand-dev-9-2_9.2.148-1_amd64.deb ...\n",
            "Unpacking cuda-curand-dev-9-2 (9.2.148-1) ...\n",
            "Selecting previously unselected package cuda-cusolver-dev-9-2.\n",
            "Preparing to unpack .../3-cuda-cusolver-dev-9-2_9.2.148-1_amd64.deb ...\n",
            "Unpacking cuda-cusolver-dev-9-2 (9.2.148-1) ...\n",
            "Selecting previously unselected package cuda-cusparse-dev-9-2.\n",
            "Preparing to unpack .../4-cuda-cusparse-dev-9-2_9.2.148-1_amd64.deb ...\n",
            "Unpacking cuda-cusparse-dev-9-2 (9.2.148-1) ...\n",
            "Selecting previously unselected package cuda-nvrtc-dev-9-2.\n",
            "Preparing to unpack .../5-cuda-nvrtc-dev-9-2_9.2.148-1_amd64.deb ...\n",
            "Unpacking cuda-nvrtc-dev-9-2 (9.2.148-1) ...\n",
            "Selecting previously unselected package cuda-nvgraph-dev-9-2.\n",
            "Preparing to unpack .../6-cuda-nvgraph-dev-9-2_9.2.148-1_amd64.deb ...\n",
            "Unpacking cuda-nvgraph-dev-9-2 (9.2.148-1) ...\n",
            "Selecting previously unselected package cuda-npp-dev-9-2.\n",
            "Preparing to unpack .../7-cuda-npp-dev-9-2_9.2.148-1_amd64.deb ...\n",
            "Unpacking cuda-npp-dev-9-2 (9.2.148-1) ...\n",
            "Selecting previously unselected package cuda-libraries-dev-9-2.\n",
            "Preparing to unpack .../8-cuda-libraries-dev-9-2_9.2.148-1_amd64.deb ...\n",
            "Unpacking cuda-libraries-dev-9-2 (9.2.148-1) ...\n",
            "Setting up cuda-npp-dev-9-2 (9.2.148-1) ...\n",
            "Setting up cuda-curand-dev-9-2 (9.2.148-1) ...\n",
            "Setting up cuda-nvrtc-dev-9-2 (9.2.148-1) ...\n",
            "Setting up cuda-cusolver-dev-9-2 (9.2.148-1) ...\n",
            "Setting up cuda-cufft-dev-9-2 (9.2.148-1) ...\n",
            "Setting up cuda-cusparse-dev-9-2 (9.2.148-1) ...\n",
            "Setting up cuda-cublas-dev-9-2 (9.2.148.1-1) ...\n",
            "Setting up cuda-nvgraph-dev-9-2 (9.2.148-1) ...\n",
            "Setting up cuda-libraries-dev-9-2 (9.2.148-1) ...\n",
            "Collecting cupy-cuda92==5.0.0\n",
            "\u001b[?25l  Downloading https://files.pythonhosted.org/packages/23/79/da48a3e32468fff1f4913cf81d403c29e00b09c4c0d5f09d288e7b1483e8/cupy_cuda92-5.0.0-cp36-cp36m-manylinux1_x86_64.whl (261.1MB)\n",
            "\u001b[K    100% |████████████████████████████████| 261.1MB 78kB/s \n",
            "\u001b[?25hRequirement already satisfied: numpy>=1.9.0 in /usr/local/lib/python3.6/dist-packages (from cupy-cuda92==5.0.0) (1.14.6)\n",
            "Collecting fastrlock>=0.3 (from cupy-cuda92==5.0.0)\n",
            "  Downloading https://files.pythonhosted.org/packages/b5/93/a7efbd39eac46c137500b37570c31dedc2d31a8ff4949fcb90bda5bc5f16/fastrlock-0.4-cp36-cp36m-manylinux1_x86_64.whl\n",
            "Requirement already satisfied: six>=1.9.0 in /usr/local/lib/python3.6/dist-packages (from cupy-cuda92==5.0.0) (1.11.0)\n",
            "Installing collected packages: fastrlock, cupy-cuda92\n",
            "Successfully installed cupy-cuda92-5.0.0 fastrlock-0.4\n",
            "Collecting chainer==5.0.0\n",
            "\u001b[?25l  Downloading https://files.pythonhosted.org/packages/bd/34/be31d10ff7f6a9452025866a6d515e1fbc877ff2ee68d9c7197c75f15797/chainer-5.0.0.tar.gz (510kB)\n",
            "\u001b[K    100% |████████████████████████████████| 512kB 8.1MB/s \n",
            "\u001b[?25hRequirement already satisfied: filelock in /usr/local/lib/python3.6/dist-packages (from chainer==5.0.0) (3.0.10)\n",
            "Requirement already satisfied: numpy>=1.9.0 in /usr/local/lib/python3.6/dist-packages (from chainer==5.0.0) (1.14.6)\n",
            "Requirement already satisfied: protobuf>=3.0.0 in /usr/local/lib/python3.6/dist-packages (from chainer==5.0.0) (3.6.1)\n",
            "Requirement already satisfied: six>=1.9.0 in /usr/local/lib/python3.6/dist-packages (from chainer==5.0.0) (1.11.0)\n",
            "Requirement already satisfied: cupy-cuda92<6.0.0,>=5.0.0 in /usr/local/lib/python3.6/dist-packages (from chainer==5.0.0) (5.0.0)\n",
            "Requirement already satisfied: setuptools in /usr/local/lib/python3.6/dist-packages (from protobuf>=3.0.0->chainer==5.0.0) (40.5.0)\n",
            "Requirement already satisfied: fastrlock>=0.3 in /usr/local/lib/python3.6/dist-packages (from cupy-cuda92<6.0.0,>=5.0.0->chainer==5.0.0) (0.4)\n",
            "Building wheels for collected packages: chainer\n",
            "  Running setup.py bdist_wheel for chainer ... \u001b[?25l-\b \b\\\b \b|\b \b/\b \b-\b \b\\\b \bdone\n",
            "\u001b[?25h  Stored in directory: /root/.cache/pip/wheels/96/85/2e/623d0d0f08db6eb8d75cdb89c094674c98e2304ff5d98528aa\n",
            "Successfully built chainer\n",
            "Installing collected packages: chainer\n",
            "Successfully installed chainer-5.0.0\n",
            "Requirement already satisfied: scipy in /usr/local/lib/python3.6/dist-packages (0.19.1)\n",
            "Requirement already satisfied: matplotlib in /usr/local/lib/python3.6/dist-packages (2.1.2)\n",
            "Requirement already satisfied: seaborn in /usr/local/lib/python3.6/dist-packages (0.7.1)\n",
            "Requirement already satisfied: pandas in /usr/local/lib/python3.6/dist-packages (0.22.0)\n",
            "Collecting wfdb\n",
            "\u001b[?25l  Downloading https://files.pythonhosted.org/packages/b2/96/c2200539fdf4f087e14d30ed62a66544b6f441196bcb8ecc7a29ec6503b9/wfdb-2.2.1.tar.gz (94kB)\n",
            "\u001b[K    100% |████████████████████████████████| 102kB 4.7MB/s \n",
            "\u001b[?25hRequirement already satisfied: numpy>=1.8.2 in /usr/local/lib/python3.6/dist-packages (from scipy) (1.14.6)\n",
            "Requirement already satisfied: cycler>=0.10 in /usr/local/lib/python3.6/dist-packages (from matplotlib) (0.10.0)\n",
            "Requirement already satisfied: six>=1.10 in /usr/local/lib/python3.6/dist-packages (from matplotlib) (1.11.0)\n",
            "Requirement already satisfied: pyparsing!=2.0.4,!=2.1.2,!=2.1.6,>=2.0.1 in /usr/local/lib/python3.6/dist-packages (from matplotlib) (2.3.0)\n",
            "Requirement already satisfied: python-dateutil>=2.1 in /usr/local/lib/python3.6/dist-packages (from matplotlib) (2.5.3)\n",
            "Requirement already satisfied: pytz in /usr/local/lib/python3.6/dist-packages (from matplotlib) (2018.7)\n",
            "Collecting nose>=1.3.7 (from wfdb)\n",
            "\u001b[?25l  Downloading https://files.pythonhosted.org/packages/15/d8/dd071918c040f50fa1cf80da16423af51ff8ce4a0f2399b7bf8de45ac3d9/nose-1.3.7-py3-none-any.whl (154kB)\n",
            "\u001b[K    100% |████████████████████████████████| 163kB 7.5MB/s \n",
            "\u001b[?25hRequirement already satisfied: requests>=2.10.0 in /usr/local/lib/python3.6/dist-packages (from wfdb) (2.18.4)\n",
            "Collecting sklearn>=0.0 (from wfdb)\n",
            "  Downloading https://files.pythonhosted.org/packages/1e/7a/dbb3be0ce9bd5c8b7e3d87328e79063f8b263b2b1bfa4774cb1147bfcd3f/sklearn-0.0.tar.gz\n",
            "Requirement already satisfied: idna<2.7,>=2.5 in /usr/local/lib/python3.6/dist-packages (from requests>=2.10.0->wfdb) (2.6)\n",
            "Requirement already satisfied: certifi>=2017.4.17 in /usr/local/lib/python3.6/dist-packages (from requests>=2.10.0->wfdb) (2018.10.15)\n",
            "Requirement already satisfied: chardet<3.1.0,>=3.0.2 in /usr/local/lib/python3.6/dist-packages (from requests>=2.10.0->wfdb) (3.0.4)\n",
            "Requirement already satisfied: urllib3<1.23,>=1.21.1 in /usr/local/lib/python3.6/dist-packages (from requests>=2.10.0->wfdb) (1.22)\n",
            "Requirement already satisfied: scikit-learn in /usr/local/lib/python3.6/dist-packages (from sklearn>=0.0->wfdb) (0.19.2)\n",
            "Building wheels for collected packages: wfdb, sklearn\n",
            "  Running setup.py bdist_wheel for wfdb ... \u001b[?25l-\b \b\\\b \bdone\n",
            "\u001b[?25h  Stored in directory: /root/.cache/pip/wheels/bb/a9/00/0078d26b0c15b31be0001af8eb659496709c361c69641303f1\n",
            "  Running setup.py bdist_wheel for sklearn ... \u001b[?25l-\b \bdone\n",
            "\u001b[?25h  Stored in directory: /root/.cache/pip/wheels/76/03/bb/589d421d27431bcd2c6da284d5f2286c8e3b2ea3cf1594c074\n",
            "Successfully built wfdb sklearn\n",
            "Installing collected packages: nose, sklearn, wfdb\n",
            "Successfully installed nose-1.3.7 sklearn-0.0 wfdb-2.2.1\n",
            "Collecting imbalanced-learn\n",
            "\u001b[?25l  Downloading https://files.pythonhosted.org/packages/c5/ea/f027ceb21114abe8189a2804640b2d5dd49a7a271c4814695482c5bc94d8/imbalanced_learn-0.4.2-py3-none-any.whl (166kB)\n",
            "\u001b[K    100% |████████████████████████████████| 174kB 7.6MB/s \n",
            "\u001b[?25hRequirement already satisfied: numpy>=1.8.2 in /usr/local/lib/python3.6/dist-packages (from imbalanced-learn) (1.14.6)\n",
            "Requirement already satisfied: scipy>=0.13.3 in /usr/local/lib/python3.6/dist-packages (from imbalanced-learn) (0.19.1)\n",
            "Collecting scikit-learn>=0.20 (from imbalanced-learn)\n",
            "\u001b[?25l  Downloading https://files.pythonhosted.org/packages/0c/b2/05be9b6da9ae4a4c54f537be22e95833f722742a02b1e355fdc09363877c/scikit_learn-0.20.0-cp36-cp36m-manylinux1_x86_64.whl (5.3MB)\n",
            "\u001b[K    100% |████████████████████████████████| 5.3MB 7.1MB/s \n",
            "\u001b[?25hInstalling collected packages: scikit-learn, imbalanced-learn\n",
            "  Found existing installation: scikit-learn 0.19.2\n",
            "    Uninstalling scikit-learn-0.19.2:\n",
            "      Successfully uninstalled scikit-learn-0.19.2\n",
            "Successfully installed imbalanced-learn-0.4.2 scikit-learn-0.20.0\n"
          ],
          "name": "stdout"
        }
      ]
    },
    {
      "metadata": {
        "id": "EHDRbMEQRQZ3",
        "colab_type": "text"
      },
      "cell_type": "markdown",
      "source": [
        "インストールが完了したら, 以下のセルを実行して, 各ライブラリのインポート、及びバージョン確認を行って下さい."
      ]
    },
    {
      "metadata": {
        "id": "zlyEjUcRRJCL",
        "colab_type": "code",
        "outputId": "59c0c555-fe0c-4806-bd21-0f2dfca827f9",
        "colab": {
          "base_uri": "https://localhost:8080/",
          "height": 272
        }
      },
      "cell_type": "code",
      "source": [
        "import os\n",
        "import random\n",
        "import numpy as np\n",
        "import cupy\n",
        "import chainer\n",
        "import scipy\n",
        "import pandas as pd\n",
        "import matplotlib\n",
        "import seaborn as sn\n",
        "import wfdb\n",
        "import sklearn\n",
        "import imblearn\n",
        "\n",
        "chainer.print_runtime_info()\n",
        "print(sklearn.__version__)\n",
        "print(imblearn.__version__)"
      ],
      "execution_count": 0,
      "outputs": [
        {
          "output_type": "stream",
          "text": [
            "Platform: Linux-4.14.65+-x86_64-with-Ubuntu-18.04-bionic\n",
            "Chainer: 5.0.0\n",
            "NumPy: 1.14.6\n",
            "CuPy:\n",
            "  CuPy Version          : 5.0.0\n",
            "  CUDA Root             : /usr/local/cuda\n",
            "  CUDA Build Version    : 9020\n",
            "  CUDA Driver Version   : 9020\n",
            "  CUDA Runtime Version  : 9020\n",
            "  cuDNN Build Version   : 7201\n",
            "  cuDNN Version         : 7201\n",
            "  NCCL Build Version    : 2213\n",
            "iDeep: Not Available\n",
            "0.20.0\n",
            "0.4.2\n"
          ],
          "name": "stdout"
        }
      ]
    },
    {
      "metadata": {
        "id": "3v2kuCnmRdac",
        "colab_type": "text"
      },
      "cell_type": "markdown",
      "source": [
        "## 使用するデータセット"
      ]
    },
    {
      "metadata": {
        "id": "eQZ6fRLZCz4H",
        "colab_type": "text"
      },
      "cell_type": "markdown",
      "source": [
        "今回は、ECGデータとして有名なMIT-BIH Arrhythmia Databaseを使用します.\n",
        "- TODO: 説明 - MIT-BIH DBについて\n",
        "- TODO: 説明 - python-wfdbを用いてデータをダウンロード"
      ]
    },
    {
      "metadata": {
        "id": "0tAhl0KJRZ1F",
        "colab_type": "code",
        "colab": {}
      },
      "cell_type": "code",
      "source": [
        "dataset_root = './'\n",
        "download_dir = os.path.join(dataset_root, 'download')"
      ],
      "execution_count": 0,
      "outputs": []
    },
    {
      "metadata": {
        "id": "R5wT-k6G6h4r",
        "colab_type": "text"
      },
      "cell_type": "markdown",
      "source": [
        "※エラーが出た際は, 再度実行して下さい. ↓"
      ]
    },
    {
      "metadata": {
        "id": "hmX3OgAXR0Ug",
        "colab_type": "code",
        "outputId": "3ae79ab9-a9bd-4745-b3e5-fe11642f3fa0",
        "colab": {
          "base_uri": "https://localhost:8080/",
          "height": 68
        }
      },
      "cell_type": "code",
      "source": [
        "wfdb.dl_database('mitdb', dl_dir=download_dir)"
      ],
      "execution_count": 0,
      "outputs": [
        {
          "output_type": "stream",
          "text": [
            "Created local base download directory: ./download\n",
            "Downloading files...\n",
            "Finished downloading files\n"
          ],
          "name": "stdout"
        }
      ]
    },
    {
      "metadata": {
        "id": "4Uzp-QZ4D3sP",
        "colab_type": "text"
      },
      "cell_type": "markdown",
      "source": [
        "- TODO: 各データの拡張子にについて軽く触れる"
      ]
    },
    {
      "metadata": {
        "id": "djD8QFXESMHn",
        "colab_type": "code",
        "outputId": "535f6dfe-b8d3-44a0-c7aa-dc4fb49aac66",
        "colab": {
          "base_uri": "https://localhost:8080/",
          "height": 54
        }
      },
      "cell_type": "code",
      "source": [
        "print(sorted(os.listdir(download_dir)))"
      ],
      "execution_count": 0,
      "outputs": [
        {
          "output_type": "stream",
          "text": [
            "['100.atr', '100.dat', '100.hea', '101.atr', '101.dat', '101.hea', '102.atr', '102.dat', '102.hea', '103.atr', '103.dat', '103.hea', '104.atr', '104.dat', '104.hea', '105.atr', '105.dat', '105.hea', '106.atr', '106.dat', '106.hea', '107.atr', '107.dat', '107.hea', '108.atr', '108.dat', '108.hea', '109.atr', '109.dat', '109.hea', '111.atr', '111.dat', '111.hea', '112.atr', '112.dat', '112.hea', '113.atr', '113.dat', '113.hea', '114.atr', '114.dat', '114.hea', '115.atr', '115.dat', '115.hea', '116.atr', '116.dat', '116.hea', '117.atr', '117.dat', '117.hea', '118.atr', '118.dat', '118.hea', '119.atr', '119.dat', '119.hea', '121.atr', '121.dat', '121.hea', '122.atr', '122.dat', '122.hea', '123.atr', '123.dat', '123.hea', '124.atr', '124.dat', '124.hea', '200.atr', '200.dat', '200.hea', '201.atr', '201.dat', '201.hea', '202.atr', '202.dat', '202.hea', '203.atr', '203.dat', '203.hea', '205.atr', '205.dat', '205.hea', '207.atr', '207.dat', '207.hea', '208.atr', '208.dat', '208.hea', '209.atr', '209.dat', '209.hea', '210.atr', '210.dat', '210.hea', '212.atr', '212.dat', '212.hea', '213.atr', '213.dat', '213.hea', '214.atr', '214.dat', '214.hea', '215.atr', '215.dat', '215.hea', '217.atr', '217.dat', '217.hea', '219.atr', '219.dat', '219.hea', '220.atr', '220.dat', '220.hea', '221.atr', '221.dat', '221.hea', '222.atr', '222.dat', '222.hea', '223.atr', '223.dat', '223.hea', '228.atr', '228.dat', '228.hea', '230.atr', '230.dat', '230.hea', '231.atr', '231.dat', '231.hea', '232.atr', '232.dat', '232.hea', '233.atr', '233.dat', '233.hea', '234.atr', '234.dat', '234.hea']\n"
          ],
          "name": "stdout"
        }
      ]
    },
    {
      "metadata": {
        "id": "AzQYVT4NSmr2",
        "colab_type": "text"
      },
      "cell_type": "markdown",
      "source": [
        "## データ前処理"
      ]
    },
    {
      "metadata": {
        "id": "1v4SHt1jEAwC",
        "colab_type": "text"
      },
      "cell_type": "markdown",
      "source": [
        "- TODO: 説明 - ベーシックな前処理として、以下の処理を行う\n",
        "\n",
        "\n",
        "1. レコードIDを train/validation/testに分割\n",
        "1. 波形ファイル(.dat) & アノテーションファイル(.atr)の読み込み (一部, 利用しないデータがある)\n",
        "1. 10種以上の細分化されたラベルが付与されているが, 先行研究に従って3クラスに集約する\n",
        "1. 波形データの正規化\n",
        "1. 2秒間の部分波形(segment)に分割. 中央のピークに付与されているラベルを, その部分波形のラベルとして扱う"
      ]
    },
    {
      "metadata": {
        "id": "bX7u2f5eR3VA",
        "colab_type": "code",
        "colab": {}
      },
      "cell_type": "code",
      "source": [
        "class BaseECGDatasetPreprocessor(object):\n",
        "\n",
        "    def __init__(\n",
        "            self,\n",
        "            dataset_root='./',\n",
        "            window_size=720,  # 2 seconds\n",
        "            random_state=45\n",
        "    ):\n",
        "        self.dataset_root = dataset_root\n",
        "        self.download_dir = os.path.join(self.dataset_root, 'download')\n",
        "        self.window_size = window_size\n",
        "        self.sample_rate = 360.\n",
        "        self.random_state = random_state\n",
        "        self.record_list = [\n",
        "            '100', '101', '103', '105', '106', '108', '109',\n",
        "            '111', '112', '113', '115', '116', '117', '118',\n",
        "            '119', '121', '122', '123', '124', '200', '201',\n",
        "            '203', '205', '207', '208', '209', '210', '212',\n",
        "            '213', '214', '215', '219', '220', '221', '222',\n",
        "            '223', '228', '230', '231', '232', '233', '234'\n",
        "        ]\n",
        "        # split data\n",
        "        self.split_record_lists = self.split_records()\n",
        "        # annotation\n",
        "        self.labels = ['N', 'S', 'V']\n",
        "        self.valid_symbols = ['N', 'L', 'R', 'e', 'j', 'A', 'a', 'J', 'S', 'V', 'E']\n",
        "        self.label_map = {\n",
        "            'N': 'N', 'L': 'N', 'R': 'N', 'e': 'N', 'j': 'N',\n",
        "            'A': 'S', 'a': 'S', 'J': 'S', 'S': 'S',\n",
        "            'V': 'V', 'E': 'V'\n",
        "        }\n",
        "\n",
        "    def load_data(\n",
        "            self,\n",
        "            base_record,\n",
        "            channel=0  # [0, 1]\n",
        "    ):\n",
        "        record_name = os.path.join(self.download_dir, str(base_record))\n",
        "        # read dat file\n",
        "        signals, fields = wfdb.rdsamp(record_name)\n",
        "        assert fields['fs'] == self.sample_rate\n",
        "        # read annotation file\n",
        "        annotation = wfdb.rdann(record_name, 'atr')\n",
        "        symbols = annotation.symbol\n",
        "        positions = annotation.sample\n",
        "        return signals[:, channel], symbols, positions\n",
        "\n",
        "    def normalize_signal(\n",
        "            self,\n",
        "            signal,\n",
        "            method='std'\n",
        "    ):\n",
        "        if method == 'minmax':\n",
        "            min_val = np.min(signal)\n",
        "            max_val = np.max(signal)\n",
        "            return (signal - min_val) / (max_val - min_val)\n",
        "        elif method == 'std':\n",
        "            signal -= np.mean(signal) / np.std(signal)\n",
        "            return signal\n",
        "        else:\n",
        "            raise ValueError(\"Invalid value: {}\".format(method))\n",
        "\n",
        "    def create_data_slices(\n",
        "            self,\n",
        "            signal,\n",
        "            symbols,\n",
        "            positions\n",
        "    ):\n",
        "        X = []\n",
        "        y = []\n",
        "        sig_len = len(signal)\n",
        "        for i in range(len(symbols)):\n",
        "            start = positions[i] - self.window_size // 2\n",
        "            end = positions[i] + self.window_size // 2\n",
        "            if symbols[i] in self.valid_symbols and start >= 0 and end <= sig_len:\n",
        "                segment = signal[start:end]\n",
        "                assert len(segment) == self.window_size, \"Invalid length\"\n",
        "                X.append(segment)\n",
        "                y.append(self.labels.index(self.label_map[symbols[i]]))\n",
        "        return np.array(X), np.array(y)\n",
        "\n",
        "    def split_records(self):\n",
        "        # copy list\n",
        "        lst = list(self.record_list)\n",
        "        # random shuffle\n",
        "        random.seed(self.random_state)\n",
        "        random.shuffle(lst)\n",
        "        # split list\n",
        "        record_len = len(lst)\n",
        "        train_idx = int(record_len * 0.5)\n",
        "        val_idx = int(record_len * 0.75)\n",
        "        train_record_list = sorted(lst[:train_idx])\n",
        "        validation_record_list = sorted(lst[train_idx:val_idx])\n",
        "        test_record_list = sorted(lst[val_idx:])\n",
        "        return train_record_list, validation_record_list, test_record_list\n",
        "\n",
        "    def prepare_dataset(\n",
        "            self,\n",
        "            normalize=True\n",
        "    ):\n",
        "        if not os.path.isdir(self.download_dir):\n",
        "            self.download_data()\n",
        "        train_records, validation_records, test_records = self.split_record_lists\n",
        "        # prepare training dataset\n",
        "        self._prepare_dataset_core(train_records, \"train\", normalize)\n",
        "        # prepare validation dataset\n",
        "        self._prepare_dataset_core(validation_records, \"validation\", normalize)\n",
        "        # prepare test dataset\n",
        "        self._prepare_dataset_core(test_records, \"test\", normalize)\n",
        "\n",
        "    def _prepare_dataset_core(\n",
        "            self,\n",
        "            record_list,\n",
        "            mode=\"train\",\n",
        "            normalize=True\n",
        "    ):\n",
        "        X, y = None, None\n",
        "        for i in range(len(record_list)):\n",
        "            signal, symbols, positions = self.load_data(record_list[i])\n",
        "            if normalize:\n",
        "                signal = self.normalize_signal(signal)\n",
        "            if i == 0:\n",
        "                X, y = self.create_data_slices(signal, symbols, positions)\n",
        "            else:\n",
        "                X_tmp, y_tmp = self.create_data_slices(signal, symbols, positions)\n",
        "                X = np.vstack((X, X_tmp))\n",
        "                y = np.concatenate((y, y_tmp))\n",
        "        os.makedirs(os.path.join(self.dataset_root, mode), exist_ok=True)\n",
        "        np.save(os.path.join(self.dataset_root, mode, \"X.npy\"), X)\n",
        "        np.save(os.path.join(self.dataset_root, mode, \"y.npy\"), y)\n"
      ],
      "execution_count": 0,
      "outputs": []
    },
    {
      "metadata": {
        "id": "dxixFnx6EP7H",
        "colab_type": "text"
      },
      "cell_type": "markdown",
      "source": [
        "- TODO: 説明 - prepare_dataset()を実行すると, train/validation/testデータに分割され, 対応するディレクトリ内に格納される"
      ]
    },
    {
      "metadata": {
        "id": "zSFRco-FSsmU",
        "colab_type": "code",
        "colab": {}
      },
      "cell_type": "code",
      "source": [
        "preprocessor = BaseECGDatasetPreprocessor(dataset_root)"
      ],
      "execution_count": 0,
      "outputs": []
    },
    {
      "metadata": {
        "id": "6UUy74lxSxFz",
        "colab_type": "code",
        "colab": {}
      },
      "cell_type": "code",
      "source": [
        "preprocessor.prepare_dataset()"
      ],
      "execution_count": 0,
      "outputs": []
    },
    {
      "metadata": {
        "id": "nZa7kzJPElNO",
        "colab_type": "text"
      },
      "cell_type": "markdown",
      "source": [
        "- TODO: 説明 - train/validation のデータの中身を確認する"
      ]
    },
    {
      "metadata": {
        "id": "j5vghaTuSzmk",
        "colab_type": "code",
        "colab": {}
      },
      "cell_type": "code",
      "source": [
        "X_train = np.load(os.path.join(dataset_root, 'train', 'X.npy'))\n",
        "y_train = np.load(os.path.join(dataset_root, 'train', 'y.npy'))\n",
        "X_val = np.load(os.path.join(dataset_root, 'validation', 'X.npy'))\n",
        "y_val = np.load(os.path.join(dataset_root, 'validation', 'y.npy'))\n",
        "X_test = np.load(os.path.join(dataset_root, 'test', 'X.npy'))\n",
        "y_test = np.load(os.path.join(dataset_root, 'test', 'y.npy'))"
      ],
      "execution_count": 0,
      "outputs": []
    },
    {
      "metadata": {
        "id": "Mj4_F6RVTEkd",
        "colab_type": "code",
        "outputId": "dabb296e-425b-4043-8266-44597c546f18",
        "colab": {
          "base_uri": "https://localhost:8080/",
          "height": 68
        }
      },
      "cell_type": "code",
      "source": [
        "print(\"X_train.shape = \", X_train.shape, \"\\ty_train.shape = \", y_train.shape)\n",
        "print(\"X_val.shape = \", X_val.shape, \"\\ty_val.shape = \", y_val.shape)\n",
        "print(\"X_test.shape = \", X_test.shape, \"\\ty_test.shape = \", y_test.shape)"
      ],
      "execution_count": 0,
      "outputs": [
        {
          "output_type": "stream",
          "text": [
            "X_train.shape =  (48092, 720) \ty_train.shape =  (48092,)\n",
            "X_val.shape =  (22091, 720) \ty_val.shape =  (22091,)\n",
            "X_test.shape =  (25617, 720) \ty_test.shape =  (25617,)\n"
          ],
          "name": "stdout"
        }
      ]
    },
    {
      "metadata": {
        "id": "ss6w4JlJTYUH",
        "colab_type": "code",
        "outputId": "46f5a4f8-3fee-4801-9af9-1f5a8edfa29c",
        "colab": {
          "base_uri": "https://localhost:8080/",
          "height": 34
        }
      },
      "cell_type": "code",
      "source": [
        "uniq_train, counts_train = np.unique(y_train, return_counts=True)\n",
        "print(\"y_train count each labels: \", dict(zip(uniq_train, counts_train)))"
      ],
      "execution_count": 0,
      "outputs": [
        {
          "output_type": "stream",
          "text": [
            "y_train count each labels:  {0: 42771, 1: 1678, 2: 3643}\n"
          ],
          "name": "stdout"
        }
      ]
    },
    {
      "metadata": {
        "id": "006IQctqpdSS",
        "colab_type": "code",
        "outputId": "afb0bf89-e318-4095-996d-d4ddf1b6050b",
        "colab": {
          "base_uri": "https://localhost:8080/",
          "height": 34
        }
      },
      "cell_type": "code",
      "source": [
        "uniq_val, counts_val = np.unique(y_val, return_counts=True)\n",
        "print(\"y_val count each labels: \", dict(zip(uniq_val, counts_val)))"
      ],
      "execution_count": 0,
      "outputs": [
        {
          "output_type": "stream",
          "text": [
            "y_val count each labels:  {0: 20093, 1: 931, 2: 1067}\n"
          ],
          "name": "stdout"
        }
      ]
    },
    {
      "metadata": {
        "id": "YaIUGDSQyvki",
        "colab_type": "code",
        "outputId": "c6a7f2e6-6b7b-43cb-ca59-12205cbae987",
        "colab": {
          "base_uri": "https://localhost:8080/",
          "height": 34
        }
      },
      "cell_type": "code",
      "source": [
        "uniq_test, counts_test = np.unique(y_test, return_counts=True)\n",
        "print(\"y_test count each labels: \", dict(zip(uniq_test, counts_test)))"
      ],
      "execution_count": 0,
      "outputs": [
        {
          "output_type": "stream",
          "text": [
            "y_test count each labels:  {0: 23280, 1: 104, 2: 2233}\n"
          ],
          "name": "stdout"
        }
      ]
    },
    {
      "metadata": {
        "id": "uyN7nUH1E5uI",
        "colab_type": "text"
      },
      "cell_type": "markdown",
      "source": [
        "- TODO: 説明 - 波形データを可視化してみる"
      ]
    },
    {
      "metadata": {
        "id": "TUpalkU0Tao1",
        "colab_type": "code",
        "colab": {}
      },
      "cell_type": "code",
      "source": [
        "%matplotlib inline\n",
        "import matplotlib.pyplot as plt"
      ],
      "execution_count": 0,
      "outputs": []
    },
    {
      "metadata": {
        "id": "jOLyInm1TeBW",
        "colab_type": "code",
        "outputId": "1003675b-ba85-4d29-bffa-f96d65693168",
        "colab": {
          "base_uri": "https://localhost:8080/",
          "height": 282
        }
      },
      "cell_type": "code",
      "source": [
        "idx_n = np.where(y_train == 0)[0]\n",
        "plt.plot(X_train[idx_n[0]])"
      ],
      "execution_count": 0,
      "outputs": [
        {
          "output_type": "execute_result",
          "data": {
            "text/plain": [
              "[<matplotlib.lines.Line2D at 0x7f48497690b8>]"
            ]
          },
          "metadata": {
            "tags": []
          },
          "execution_count": 15
        },
        {
          "output_type": "display_data",
          "data": {
            "image/png": "[encoded data removed]",
            "text/plain": [
              "<matplotlib.figure.Figure at 0x7f484b4af160>"
            ]
          },
          "metadata": {
            "tags": []
          }
        }
      ]
    },
    {
      "metadata": {
        "id": "f_mYCNzwTlmz",
        "colab_type": "code",
        "outputId": "7ee65213-97c5-4d8b-dab2-3bdeaeaf81cc",
        "colab": {
          "base_uri": "https://localhost:8080/",
          "height": 282
        }
      },
      "cell_type": "code",
      "source": [
        "idx_s = np.where(y_train == 1)[0]\n",
        "plt.plot(X_train[idx_s[0]])"
      ],
      "execution_count": 0,
      "outputs": [
        {
          "output_type": "execute_result",
          "data": {
            "text/plain": [
              "[<matplotlib.lines.Line2D at 0x7f4846ef7b70>]"
            ]
          },
          "metadata": {
            "tags": []
          },
          "execution_count": 16
        },
        {
          "output_type": "display_data",
          "data": {
            "image/png": "[encoded data removed]",
            "text/plain": [
              "<matplotlib.figure.Figure at 0x7f484978c128>"
            ]
          },
          "metadata": {
            "tags": []
          }
        }
      ]
    },
    {
      "metadata": {
        "id": "78aF3W_1Trm-",
        "colab_type": "code",
        "outputId": "bad7892f-ac5f-4f24-840f-c065da110a87",
        "colab": {
          "base_uri": "https://localhost:8080/",
          "height": 282
        }
      },
      "cell_type": "code",
      "source": [
        "idx_v = np.where(y_train == 2)[0]\n",
        "plt.plot(X_train[idx_v[1]])"
      ],
      "execution_count": 0,
      "outputs": [
        {
          "output_type": "execute_result",
          "data": {
            "text/plain": [
              "[<matplotlib.lines.Line2D at 0x7f4846e6f048>]"
            ]
          },
          "metadata": {
            "tags": []
          },
          "execution_count": 17
        },
        {
          "output_type": "display_data",
          "data": {
            "image/png": "[encoded data removed]",
            "text/plain": [
              "<matplotlib.figure.Figure at 0x7f4846ead9e8>"
            ]
          },
          "metadata": {
            "tags": []
          }
        }
      ]
    },
    {
      "metadata": {
        "id": "kQEqTIlmTxPw",
        "colab_type": "text"
      },
      "cell_type": "markdown",
      "source": [
        "## DLを用いた時系列データ解析"
      ]
    },
    {
      "metadata": {
        "id": "36Mrt6U6HhrL",
        "colab_type": "text"
      },
      "cell_type": "markdown",
      "source": [
        "- TODO: 説明 - 3種類のクラス(\"N\", \"S\", \"V\")を正しく識別するモデルを構築する"
      ]
    },
    {
      "metadata": {
        "id": "Klt1--j8Iw08",
        "colab_type": "text"
      },
      "cell_type": "markdown",
      "source": [
        "- TODO: 説明 - chainerデータセットクラス"
      ]
    },
    {
      "metadata": {
        "id": "oR3zBpQlTuWH",
        "colab_type": "code",
        "colab": {}
      },
      "cell_type": "code",
      "source": [
        "class ECGDataset(chainer.dataset.DatasetMixin):\n",
        "\n",
        "    def __init__(\n",
        "            self,\n",
        "            path\n",
        "    ):\n",
        "        if os.path.isfile(os.path.join(path, 'X.npy')):\n",
        "            self.X = np.load(os.path.join(path, 'X.npy'))\n",
        "        else:\n",
        "            raise FileNotFoundError(\"{}/X.npy not found.\".format(path))\n",
        "        if os.path.isfile(os.path.join(path, 'y.npy')):\n",
        "            self.y = np.load(os.path.join(path, 'y.npy'))\n",
        "        else:\n",
        "            raise FileNotFoundError(\"{}/y.npy not found.\".format(path))\n",
        "\n",
        "        assert len(self.X) == len(self.y), \"len(signal): {} != len(annotation): {}\".format(len(self.X), len(self.y))\n",
        "\n",
        "    def __len__(self):\n",
        "        return len(self.X)\n",
        "\n",
        "    def get_example(self, i):\n",
        "        return self.X[None, i].astype(np.float32), self.y[i]\n"
      ],
      "execution_count": 0,
      "outputs": []
    },
    {
      "metadata": {
        "id": "iNR4iHrWIsH3",
        "colab_type": "text"
      },
      "cell_type": "markdown",
      "source": [
        "- TODO: 説明 - CNNモデル(ResNet構造)"
      ]
    },
    {
      "metadata": {
        "id": "i_uVEjDIT4s0",
        "colab_type": "code",
        "colab": {}
      },
      "cell_type": "code",
      "source": [
        "import chainer.functions as F\n",
        "import chainer.links as L\n",
        "from chainer import reporter\n",
        "from chainer import Variable\n",
        "\n",
        "\n",
        "class ResBlock(chainer.Chain):\n",
        "\n",
        "    def __init__(self):\n",
        "        super(ResBlock, self).__init__()\n",
        "        with self.init_scope():\n",
        "            self.c1 = L.ConvolutionND(1, None, 32, ksize=5, pad=2)\n",
        "            self.c2 = L.ConvolutionND(1, None, 32, ksize=5, pad=2)\n",
        "\n",
        "    def __call__(self, x):\n",
        "        h = F.relu(self.c1(x))\n",
        "        h = x + self.c2(h)\n",
        "        h = F.max_pooling_nd(F.relu(h), ksize=5, stride=2)\n",
        "        return h\n",
        "\n",
        "\n",
        "class ArrhythmiaNet(chainer.Chain):\n",
        "\n",
        "    def __init__(\n",
        "            self,\n",
        "            n_resblock=5\n",
        "    ):\n",
        "        self.n_resblock = n_resblock\n",
        "        super(ArrhythmiaNet, self).__init__()\n",
        "        with self.init_scope():\n",
        "            self.conv = L.ConvolutionND(1, None, 32, ksize=5, pad=2)\n",
        "            for i in range(n_resblock):\n",
        "                resblock = ResBlock()\n",
        "                setattr(self, 'res{}'.format(str(i)), resblock)\n",
        "            self.fc1 = L.Linear(None, 32)\n",
        "            self.fc2 = L.Linear(32, 3)\n",
        "\n",
        "    def __call__(self, x):\n",
        "        h = self.conv(x)\n",
        "        for i in range(self.n_resblock):\n",
        "            h = getattr(self, 'res{}'.format(str(i)))(h)\n",
        "        h = F.relu(self.fc1(h))\n",
        "        h = self.fc2(h)\n",
        "        return h\n",
        "\n",
        "\n",
        "class Classifier(chainer.Chain):\n",
        "\n",
        "    def __init__(\n",
        "            self,\n",
        "            predictor,\n",
        "            lossfun=F.softmax_cross_entropy\n",
        "    ):\n",
        "        super(Classifier, self).__init__()\n",
        "        with self.init_scope():\n",
        "            self.predictor = predictor\n",
        "            self.lossfun = lossfun\n",
        "\n",
        "    def __call__(self, *args):\n",
        "        assert len(args) >= 2\n",
        "        x = args[:-1]\n",
        "        t = args[-1]\n",
        "        y = self.predictor(*x)\n",
        "\n",
        "        # loss\n",
        "        loss = self.lossfun(y, t)\n",
        "        with chainer.no_backprop_mode():\n",
        "            # other metrics\n",
        "            accuracy = F.accuracy(y, t)\n",
        "            precision = F.precision(y, t, label_num=3)[0]\n",
        "            recall = F.recall(y, t, label_num=3)[0]\n",
        "        # reporter\n",
        "        reporter.report({'loss': loss}, self)\n",
        "        reporter.report({'accuracy': accuracy}, self)\n",
        "\n",
        "        return loss\n",
        "\n",
        "    def predict(self, x):\n",
        "        with chainer.function.no_backprop_mode(), chainer.using_config('train', False):\n",
        "            x = Variable(self.xp.asarray(x, dtype=self.xp.float32))\n",
        "            y = self.predictor(x)\n",
        "            return y\n",
        "          "
      ],
      "execution_count": 0,
      "outputs": []
    },
    {
      "metadata": {
        "id": "n2jCNB2zJCWa",
        "colab_type": "text"
      },
      "cell_type": "markdown",
      "source": [
        "- TODO: 説明 - DatasetオブジェクトとTrainerオブジェクトを作成"
      ]
    },
    {
      "metadata": {
        "id": "YLOg6cJzT8EA",
        "colab_type": "code",
        "colab": {}
      },
      "cell_type": "code",
      "source": [
        "from chainer import optimizers\n",
        "from chainer.iterators import MultiprocessIterator\n",
        "from chainer import training\n",
        "from chainer.training import extensions\n",
        "from chainer.training import triggers\n",
        "from chainer.backends.cuda import get_device_from_id\n",
        "\n",
        "\n",
        "def create_datasets(root_path):\n",
        "    train_path = os.path.join(root_path, \"train\")\n",
        "    validation_path = os.path.join(root_path, \"validation\")\n",
        "    train_dataset = ECGDataset(train_path)\n",
        "    validation_dataset = ECGDataset(validation_path)\n",
        "\n",
        "    return train_dataset, validation_dataset\n",
        "\n",
        "\n",
        "def create_trainer(batchsize, train_dataset, validation_dataset, device=0, lossfun=F.softmax_cross_entropy):\n",
        "    # setup model\n",
        "    model = ArrhythmiaNet()\n",
        "    train_model = Classifier(model, lossfun=lossfun)\n",
        "\n",
        "    # use Adam optimizer\n",
        "    optimizer = optimizers.Adam(alpha=0.001, beta1=0.9, beta2=0.999)\n",
        "    optimizer.setup(train_model)\n",
        "\n",
        "    # setup iterator\n",
        "    train_iter = MultiprocessIterator(train_dataset, batchsize)\n",
        "    val_iter = MultiprocessIterator(validation_dataset, batchsize, repeat=False, shuffle=False)\n",
        "\n",
        "    # define updater\n",
        "    updater = training.StandardUpdater(train_iter, optimizer, device=device)\n",
        "    \n",
        "    # set EarlyStoppingTrigger\n",
        "    stop_trigger = triggers.EarlyStoppingTrigger(\n",
        "        check_trigger=(2000 // batchsize, 'iteration'),\n",
        "        patients=3,\n",
        "        monitor='val/main/loss',\n",
        "        max_trigger=(2, 'epoch')\n",
        "    )\n",
        "\n",
        "    # setup trainer\n",
        "    trainer = training.trainer.Trainer(updater, stop_trigger)\n",
        "    logging_attributes = [\n",
        "        'epoch', 'iteration',\n",
        "        'main/loss', 'main/accuracy',\n",
        "        'val/main/loss', 'val/main/accuracy'\n",
        "        \n",
        "    ]\n",
        "    trainer.extend(\n",
        "        extensions.LogReport(logging_attributes, trigger=(1000 // batchsize, 'iteration'))\n",
        "    )\n",
        "    trainer.extend(\n",
        "        extensions.PrintReport(logging_attributes)\n",
        "    )\n",
        "    trainer.extend(\n",
        "        extensions.ExponentialShift('alpha', 0.75, optimizer=optimizer),\n",
        "        trigger=(4000 // batchsize, 'iteration')\n",
        "    )\n",
        "    trainer.extend(\n",
        "        extensions.Evaluator(val_iter, optimizer.target, device=device),\n",
        "        trigger=(2000 // batchsize, 'iteration'),\n",
        "        name='val'\n",
        "    )\n",
        "\n",
        "    return trainer"
      ],
      "execution_count": 0,
      "outputs": []
    },
    {
      "metadata": {
        "id": "LrhgE0WKUBxz",
        "colab_type": "code",
        "colab": {}
      },
      "cell_type": "code",
      "source": [
        "train_dataset, validation_dataset = create_datasets(dataset_root)"
      ],
      "execution_count": 0,
      "outputs": []
    },
    {
      "metadata": {
        "id": "uXfgr6e9UE4w",
        "colab_type": "code",
        "colab": {}
      },
      "cell_type": "code",
      "source": [
        "trainer = create_trainer(200, train_dataset, validation_dataset, 0)"
      ],
      "execution_count": 0,
      "outputs": []
    },
    {
      "metadata": {
        "id": "JdDyLjLNJOFX",
        "colab_type": "text"
      },
      "cell_type": "markdown",
      "source": [
        "それでは学習を開始しましょう."
      ]
    },
    {
      "metadata": {
        "id": "aeNkaPdFUIfQ",
        "colab_type": "code",
        "outputId": "80a4702a-fe7e-488f-ae15-aea6b285cc66",
        "colab": {
          "base_uri": "https://localhost:8080/",
          "height": 204
        }
      },
      "cell_type": "code",
      "source": [
        "trainer.run()"
      ],
      "execution_count": 0,
      "outputs": [
        {
          "output_type": "stream",
          "text": [
            "epoch       iteration   main/loss   main/accuracy  val/main/loss  val/main/accuracy\n",
            "\u001b[J0           5           1.66869     0.666                                            \n",
            "\u001b[J0           10          0.418484    0.881          0.446358       0.914091           \n",
            "\u001b[J0           15          0.344883    0.884                                            \n",
            "\u001b[J0           20          0.259455    0.913          0.345663       0.923397           \n",
            "\u001b[J0           25          0.235039    0.943                                            \n",
            "\u001b[J0           30          0.169922    0.957          0.311444       0.91483            \n",
            "\u001b[J0           35          0.170684    0.948                                            \n",
            "\u001b[J0           40          0.204708    0.945          0.330687       0.899343           \n",
            "\u001b[J0           45          0.171482    0.945                                            \n",
            "\u001b[J0           50          0.120506    0.965          0.316404       0.906676           \n"
          ],
          "name": "stdout"
        }
      ]
    },
    {
      "metadata": {
        "id": "dX54l8duJUqC",
        "colab_type": "text"
      },
      "cell_type": "markdown",
      "source": [
        "- TODO: 説明文 - 学習結果を評価します"
      ]
    },
    {
      "metadata": {
        "id": "5CtgdOcbdn2i",
        "colab_type": "code",
        "colab": {}
      },
      "cell_type": "code",
      "source": [
        "from chainer import cuda\n",
        "from sklearn.metrics import classification_report\n",
        "from sklearn.metrics import accuracy_score\n",
        "from sklearn.metrics import confusion_matrix\n",
        "\n",
        "\n",
        "def create_test_dataset(root_path):\n",
        "    test_path = os.path.join(root_path, \"test\")\n",
        "    test_dataset = ECGDataset(test_path)\n",
        "    \n",
        "    return test_dataset\n",
        "\n",
        "  \n",
        "def evaluate(trainer, test_dataset, device=-1):\n",
        "    model = trainer.updater.get_optimizer('main').target\n",
        "    preds = []\n",
        "    for i in range(len(test_dataset)):\n",
        "        X, t = test_dataset.get_example(i)\n",
        "        X = cuda.to_gpu(X[None, ...], device)\n",
        "        y = model.predict(X)\n",
        "        y = np.asscalar(cuda.to_cpu(y.data.argmax(axis=1)[0]))\n",
        "        preds.append((y, t))\n",
        "    pred_labels, gt_labels = zip(*preds)\n",
        "    return list(pred_labels), list(gt_labels)\n",
        "\n",
        "  \n",
        "def print_confusion_matrix(y_true, y_pred):\n",
        "    labels = sorted(list(set(y_true)))\n",
        "    target_names = ['N', 'S', 'V']\n",
        "    cmx = confusion_matrix(y_true, y_pred, labels=labels)\n",
        "    df_cmx = pd.DataFrame(cmx, index=target_names, columns=target_names)\n",
        "    plt.figure(figsize = (5,3))\n",
        "    sn.heatmap(df_cmx, annot=True, annot_kws={\"size\": 18}, fmt=\"d\", cmap='Blues')\n",
        "    plt.show()\n",
        "    \n",
        "\n",
        "def print_scores(gt_labels, pred_labels):\n",
        "    target_names = ['N', 'S', 'V']\n",
        "    print(classification_report(gt_labels, pred_labels, target_names=target_names))\n",
        "    print(\"accuracy: \", accuracy_score(gt_labels, pred_labels))\n"
      ],
      "execution_count": 0,
      "outputs": []
    },
    {
      "metadata": {
        "id": "FNq4f8m3nVBW",
        "colab_type": "code",
        "colab": {}
      },
      "cell_type": "code",
      "source": [
        "test_dataset = create_test_dataset(dataset_root)"
      ],
      "execution_count": 0,
      "outputs": []
    },
    {
      "metadata": {
        "id": "BsSvzeJRJegb",
        "colab_type": "text"
      },
      "cell_type": "markdown",
      "source": [
        "- TODO: 説明 - validationセットの評価"
      ]
    },
    {
      "metadata": {
        "id": "5z6Gdlg-9oBA",
        "colab_type": "code",
        "colab": {}
      },
      "cell_type": "code",
      "source": [
        "pred_labels_val, gt_labels_val = evaluate(trainer, validation_dataset, 0)"
      ],
      "execution_count": 0,
      "outputs": []
    },
    {
      "metadata": {
        "id": "2jyHkIMQHnkT",
        "colab_type": "code",
        "outputId": "ec7417b3-d0f1-4ce3-ee14-2ebb8fe20789",
        "colab": {
          "base_uri": "https://localhost:8080/",
          "height": 211
        }
      },
      "cell_type": "code",
      "source": [
        "print_confusion_matrix(gt_labels_val, pred_labels_val)"
      ],
      "execution_count": 0,
      "outputs": [
        {
          "output_type": "display_data",
          "data": {
            "image/png": "[encoded data removed]",
            "text/plain": [
              "<matplotlib.figure.Figure at 0x7f4846e42b70>"
            ]
          },
          "metadata": {
            "tags": []
          }
        }
      ]
    },
    {
      "metadata": {
        "id": "Mp4Zhl4T-JoD",
        "colab_type": "code",
        "outputId": "3cbc3f0c-6b2e-4e04-e500-585b740ecccd",
        "colab": {
          "base_uri": "https://localhost:8080/",
          "height": 238
        }
      },
      "cell_type": "code",
      "source": [
        "print_scores(gt_labels_val, pred_labels_val)"
      ],
      "execution_count": 0,
      "outputs": [
        {
          "output_type": "stream",
          "text": [
            "              precision    recall  f1-score   support\n",
            "\n",
            "           N       0.94      0.97      0.96     20093\n",
            "           S       0.00      0.00      0.00       931\n",
            "           V       0.38      0.49      0.43      1067\n",
            "\n",
            "   micro avg       0.91      0.91      0.91     22091\n",
            "   macro avg       0.44      0.49      0.46     22091\n",
            "weighted avg       0.87      0.91      0.89     22091\n",
            "\n",
            "accuracy:  0.906432483816939\n"
          ],
          "name": "stdout"
        },
        {
          "output_type": "stream",
          "text": [
            "/usr/local/lib/python3.6/dist-packages/sklearn/metrics/classification.py:1143: UndefinedMetricWarning: Precision and F-score are ill-defined and being set to 0.0 in labels with no predicted samples.\n",
            "  'precision', 'predicted', average, warn_for)\n"
          ],
          "name": "stderr"
        }
      ]
    },
    {
      "metadata": {
        "id": "6MN9bFJeJjNJ",
        "colab_type": "text"
      },
      "cell_type": "markdown",
      "source": [
        "- TODO: 説明文 - テストセットの評価"
      ]
    },
    {
      "metadata": {
        "id": "TFq-W4Bgnjzg",
        "colab_type": "code",
        "colab": {}
      },
      "cell_type": "code",
      "source": [
        "pred_labels_test, gt_labels_test = evaluate(trainer, test_dataset, 0)"
      ],
      "execution_count": 0,
      "outputs": []
    },
    {
      "metadata": {
        "id": "o1hGRaQ2HuLN",
        "colab_type": "code",
        "outputId": "73a6380a-8b18-4f2c-937f-c9fc978132e1",
        "colab": {
          "base_uri": "https://localhost:8080/",
          "height": 211
        }
      },
      "cell_type": "code",
      "source": [
        "print_confusion_matrix(gt_labels_test, pred_labels_test)"
      ],
      "execution_count": 0,
      "outputs": [
        {
          "output_type": "display_data",
          "data": {
            "image/png": "[encoded data removed]",
            "text/plain": [
              "<matplotlib.figure.Figure at 0x7f4843aefc18>"
            ]
          },
          "metadata": {
            "tags": []
          }
        }
      ]
    },
    {
      "metadata": {
        "id": "2lzEaH9oyvEP",
        "colab_type": "code",
        "outputId": "65f92c4b-1178-4005-e0b4-61769fb94bdf",
        "colab": {
          "base_uri": "https://localhost:8080/",
          "height": 238
        }
      },
      "cell_type": "code",
      "source": [
        "print_scores(gt_labels_test, pred_labels_test)"
      ],
      "execution_count": 0,
      "outputs": [
        {
          "output_type": "stream",
          "text": [
            "              precision    recall  f1-score   support\n",
            "\n",
            "           N       0.98      0.99      0.98     23280\n",
            "           S       0.00      0.00      0.00       104\n",
            "           V       0.85      0.83      0.84      2233\n",
            "\n",
            "   micro avg       0.97      0.97      0.97     25617\n",
            "   macro avg       0.61      0.61      0.61     25617\n",
            "weighted avg       0.97      0.97      0.97     25617\n",
            "\n",
            "accuracy:  0.9695124331498615\n"
          ],
          "name": "stdout"
        },
        {
          "output_type": "stream",
          "text": [
            "/usr/local/lib/python3.6/dist-packages/sklearn/metrics/classification.py:1143: UndefinedMetricWarning: Precision and F-score are ill-defined and being set to 0.0 in labels with no predicted samples.\n",
            "  'precision', 'predicted', average, warn_for)\n"
          ],
          "name": "stderr"
        }
      ]
    },
    {
      "metadata": {
        "id": "YZK61esDYVYO",
        "colab_type": "text"
      },
      "cell_type": "markdown",
      "source": [
        "## 精度向上に向けて"
      ]
    },
    {
      "metadata": {
        "id": "KPTsLjqklF30",
        "colab_type": "text"
      },
      "cell_type": "markdown",
      "source": [
        "### クラス不均衡データへの対応"
      ]
    },
    {
      "metadata": {
        "id": "2U6ARwldZCh7",
        "colab_type": "text"
      },
      "cell_type": "markdown",
      "source": [
        "* 予測スコア(Accuracy)は高かったが、単に全てのデータを'N'と予測してもValidationで90.95%、Testで90.88%の精度が出ることになる.\n",
        "* クラス不均衡なデータで学習させると、大多数を占めるラベルに予測結果が偏ってしまう傾向にある => S、Vに対する予測精度が低い理由\n",
        "* こうした不均衡データの問題を解消するための方法として代表的な方法が幾つかあある\n",
        "    * Undersampling / Oversampling\n",
        "    * 損失関数の変更\n"
      ]
    },
    {
      "metadata": {
        "id": "u6tD0TqYYt1D",
        "colab_type": "text"
      },
      "cell_type": "markdown",
      "source": [
        "#### Undersampling\n",
        "\n",
        "\n"
      ]
    },
    {
      "metadata": {
        "id": "91tUbBvilRxG",
        "colab_type": "code",
        "colab": {}
      },
      "cell_type": "code",
      "source": [
        "from imblearn.datasets import make_imbalance\n",
        "\n",
        "\n",
        "class UndersampledECGDataset(ECGDataset):\n",
        "\n",
        "    def __init__(\n",
        "            self,\n",
        "            path\n",
        "    ):\n",
        "        super(UndersampledECGDataset, self).__init__(path)\n",
        "        self.X, self.y = make_imbalance(\n",
        "            self.X, self.y,\n",
        "            sampling_strategy={0: 4500, 1: 1500, 2: 3000}\n",
        "        )\n",
        "\n",
        "        \n",
        "def create_undersampled_datasets(root_path):\n",
        "    train_path = os.path.join(root_path, \"train\")\n",
        "    validation_path = os.path.join(root_path, \"validation\")\n",
        "    train_dataset = UndersampledECGDataset(train_path)\n",
        "    validation_dataset = ECGDataset(validation_path)\n",
        "\n",
        "    return train_dataset, validation_dataset"
      ],
      "execution_count": 0,
      "outputs": []
    },
    {
      "metadata": {
        "id": "pdpAAftuwfBD",
        "colab_type": "code",
        "colab": {}
      },
      "cell_type": "code",
      "source": [
        "train_data, validation_data = create_undersampled_datasets(dataset_root)"
      ],
      "execution_count": 0,
      "outputs": []
    },
    {
      "metadata": {
        "id": "CsW3x0j1opsz",
        "colab_type": "code",
        "colab": {}
      },
      "cell_type": "code",
      "source": [
        "trainer = create_trainer(200, train_dataset, validation_dataset, 0)"
      ],
      "execution_count": 0,
      "outputs": []
    },
    {
      "metadata": {
        "id": "UpyvYJMyoxOM",
        "colab_type": "code",
        "outputId": "58c1dea5-2512-45c9-9431-2799deb0b72a",
        "colab": {
          "base_uri": "https://localhost:8080/",
          "height": 272
        }
      },
      "cell_type": "code",
      "source": [
        "trainer.run()"
      ],
      "execution_count": 0,
      "outputs": [
        {
          "output_type": "stream",
          "text": [
            "epoch       iteration   main/loss   main/accuracy  val/main/loss  val/main/accuracy\n",
            "\u001b[J0           5           0.604399    0.87                                             \n",
            "\u001b[J0           10          0.341033    0.913          0.343024       0.910137           \n",
            "\u001b[J0           15          0.249193    0.913                                            \n",
            "\u001b[J0           20          0.176883    0.944          0.289822       0.906694           \n",
            "\u001b[J0           25          0.201716    0.934                                            \n",
            "\u001b[J0           30          0.107711    0.966          0.264165       0.910487           \n",
            "\u001b[J0           35          0.189832    0.949                                            \n",
            "\u001b[J0           40          0.153517    0.953          0.241996       0.907018           \n",
            "\u001b[J0           45          0.115196    0.964                                            \n",
            "\u001b[J0           50          0.128279    0.952          0.281832       0.88464            \n",
            "\u001b[J0           55          0.0920103   0.958                                            \n",
            "\u001b[J0           60          0.0989351   0.96           0.299443       0.876171           \n",
            "\u001b[J0           65          0.0758651   0.967                                            \n",
            "\u001b[J0           70          0.0893559   0.961          0.365259       0.864865           \n"
          ],
          "name": "stdout"
        }
      ]
    },
    {
      "metadata": {
        "id": "C5EMGQ1PpcxZ",
        "colab_type": "code",
        "colab": {}
      },
      "cell_type": "code",
      "source": [
        "pred_labels_val, gt_labels_val = evaluate(trainer, validation_dataset, 0)"
      ],
      "execution_count": 0,
      "outputs": []
    },
    {
      "metadata": {
        "id": "tnVa0rmFpkwF",
        "colab_type": "code",
        "outputId": "67a2a98d-ac4d-40e9-f6b8-aa4cba79dbf6",
        "colab": {
          "base_uri": "https://localhost:8080/",
          "height": 211
        }
      },
      "cell_type": "code",
      "source": [
        "print_confusion_matrix(gt_labels_val, pred_labels_val)"
      ],
      "execution_count": 0,
      "outputs": [
        {
          "output_type": "display_data",
          "data": {
            "image/png": "[encoded data removed]",
            "text/plain": [
              "<matplotlib.figure.Figure at 0x7f4843a48f98>"
            ]
          },
          "metadata": {
            "tags": []
          }
        }
      ]
    },
    {
      "metadata": {
        "id": "CN0fBQmwpkt9",
        "colab_type": "code",
        "outputId": "d4819fe1-fdc8-4cf2-d0a4-6c32d109117c",
        "colab": {
          "base_uri": "https://localhost:8080/",
          "height": 204
        }
      },
      "cell_type": "code",
      "source": [
        "print_scores(gt_labels_val, pred_labels_val)"
      ],
      "execution_count": 0,
      "outputs": [
        {
          "output_type": "stream",
          "text": [
            "              precision    recall  f1-score   support\n",
            "\n",
            "           N       0.98      0.89      0.93     20093\n",
            "           S       0.40      0.48      0.43       931\n",
            "           V       0.28      0.68      0.39      1067\n",
            "\n",
            "   micro avg       0.86      0.86      0.86     22091\n",
            "   macro avg       0.55      0.68      0.59     22091\n",
            "weighted avg       0.92      0.86      0.89     22091\n",
            "\n",
            "accuracy:  0.8641980897197954\n"
          ],
          "name": "stdout"
        }
      ]
    },
    {
      "metadata": {
        "id": "n3P1Mqnhpkrc",
        "colab_type": "code",
        "colab": {}
      },
      "cell_type": "code",
      "source": [
        "pred_labels_test, gt_labels_test = evaluate(trainer, test_dataset, 0)"
      ],
      "execution_count": 0,
      "outputs": []
    },
    {
      "metadata": {
        "id": "ThK6B8xppt8W",
        "colab_type": "code",
        "outputId": "3c02b983-29ac-4ba7-d4a0-fd65ab1914bf",
        "colab": {
          "base_uri": "https://localhost:8080/",
          "height": 211
        }
      },
      "cell_type": "code",
      "source": [
        "print_confusion_matrix(gt_labels_test, pred_labels_test)"
      ],
      "execution_count": 0,
      "outputs": [
        {
          "output_type": "display_data",
          "data": {
            "image/png": "[encoded data removed]",
            "text/plain": [
              "<matplotlib.figure.Figure at 0x7f4841adedd8>"
            ]
          },
          "metadata": {
            "tags": []
          }
        }
      ]
    },
    {
      "metadata": {
        "id": "DM8aI7hOpuA1",
        "colab_type": "code",
        "outputId": "14c1c392-d512-4463-f61a-7da3af59d7f4",
        "colab": {
          "base_uri": "https://localhost:8080/",
          "height": 204
        }
      },
      "cell_type": "code",
      "source": [
        "print_scores(gt_labels_test, pred_labels_test)"
      ],
      "execution_count": 0,
      "outputs": [
        {
          "output_type": "stream",
          "text": [
            "              precision    recall  f1-score   support\n",
            "\n",
            "           N       0.99      0.89      0.94     23280\n",
            "           S       0.01      0.23      0.03       104\n",
            "           V       0.72      0.91      0.80      2233\n",
            "\n",
            "   micro avg       0.89      0.89      0.89     25617\n",
            "   macro avg       0.57      0.68      0.59     25617\n",
            "weighted avg       0.96      0.89      0.92     25617\n",
            "\n",
            "accuracy:  0.8935862903540618\n"
          ],
          "name": "stdout"
        }
      ]
    },
    {
      "metadata": {
        "id": "0LtXj5nrpztA",
        "colab_type": "text"
      },
      "cell_type": "markdown",
      "source": [
        "#### 損失関数の工夫"
      ]
    },
    {
      "metadata": {
        "id": "0mF7a6A_h38t",
        "colab_type": "text"
      },
      "cell_type": "markdown",
      "source": [
        "TODO: コード - 動かないので動くようにする"
      ]
    },
    {
      "metadata": {
        "id": "umASFtsw4XyG",
        "colab_type": "code",
        "colab": {}
      },
      "cell_type": "code",
      "source": [
        "def focal_loss(x, t, class_num=3, alpha=0.2, gamma=2., eps=1e-7):\n",
        "    xp = chainer.cuda.get_array_module(t)\n",
        "\n",
        "    logit = F.softmax(x)\n",
        "    logit = F.clip(logit, x_min=eps, x_max=1-eps)\n",
        "    log_logit = F.log_softmax(x)\n",
        "\n",
        "    t_onehot = xp.eye(class_num)[t]\n",
        "\n",
        "    loss_ce = -1 * F.mean(t_onehot * log_logit)\n",
        "    loss_focal = loss_ce * alpha * (1 - logit) ** gamma\n",
        "\n",
        "    return loss_focal"
      ],
      "execution_count": 0,
      "outputs": []
    },
    {
      "metadata": {
        "id": "Y64crW5o6Cxg",
        "colab_type": "code",
        "colab": {}
      },
      "cell_type": "code",
      "source": [
        "train_data, validation_data = create_datasets(dataset_root)"
      ],
      "execution_count": 0,
      "outputs": []
    },
    {
      "metadata": {
        "id": "Ee4pqByA6Lm9",
        "colab_type": "code",
        "colab": {}
      },
      "cell_type": "code",
      "source": [
        "trainer = create_trainer(200, train_dataset, validation_dataset, 0, lossfun=focal_loss)"
      ],
      "execution_count": 0,
      "outputs": []
    },
    {
      "metadata": {
        "id": "xfgBxkaZ6sGm",
        "colab_type": "code",
        "outputId": "26af2fed-60ec-4bfd-c21c-562bae235fcf",
        "colab": {
          "base_uri": "https://localhost:8080/",
          "height": 2327
        }
      },
      "cell_type": "code",
      "source": [
        "trainer.run()"
      ],
      "execution_count": 0,
      "outputs": [
        {
          "output_type": "stream",
          "text": [
            "Exception in main training loop: Value must be a scalar, `numpy.ndarray`, `cupy.ndarray` or a `Variable`.\n",
            "Actual: <class 'NoneType'>\n",
            "Traceback (most recent call last):\n",
            "  File \"/usr/local/lib/python3.6/dist-packages/chainer/training/trainer.py\", line 315, in run\n",
            "    update()\n",
            "  File \"/usr/local/lib/python3.6/dist-packages/chainer/training/updaters/standard_updater.py\", line 165, in update\n",
            "    self.update_core()\n",
            "  File \"/usr/local/lib/python3.6/dist-packages/chainer/training/updaters/standard_updater.py\", line 177, in update_core\n",
            "    optimizer.update(loss_func, *in_arrays)\n",
            "  File \"/usr/local/lib/python3.6/dist-packages/chainer/optimizer.py\", line 685, in update\n",
            "    loss.backward(loss_scale=self._loss_scale)\n",
            "  File \"/usr/local/lib/python3.6/dist-packages/chainer/variable.py\", line 963, in backward\n",
            "    self._backward_main(retain_grad, loss_scale)\n",
            "  File \"/usr/local/lib/python3.6/dist-packages/chainer/variable.py\", line 1040, in _backward_main\n",
            "    func, target_input_indexes, out_grad, in_grad)\n",
            "  File \"/usr/local/lib/python3.6/dist-packages/chainer/_backprop_utils.py\", line 106, in backprop_step\n",
            "    target_input_indexes, grad_outputs)\n",
            "  File \"/usr/local/lib/python3.6/dist-packages/chainer/functions/math/basic_math.py\", line 329, in backward\n",
            "    for i in indexes\n",
            "  File \"/usr/local/lib/python3.6/dist-packages/chainer/functions/math/basic_math.py\", line 329, in <genexpr>\n",
            "    for i in indexes\n",
            "  File \"/usr/local/lib/python3.6/dist-packages/chainer/functions/math/basic_math.py\", line 363, in mul\n",
            "    rhs = _preprocess_rhs(self, rhs)\n",
            "  File \"/usr/local/lib/python3.6/dist-packages/chainer/functions/math/basic_math.py\", line 58, in _preprocess_rhs\n",
            "    _check_constant_type(value)\n",
            "  File \"/usr/local/lib/python3.6/dist-packages/chainer/functions/math/basic_math.py\", line 40, in _check_constant_type\n",
            "    'or a `Variable`.\\nActual: {}'.format(type(value)))\n",
            "Will finalize trainer extensions and updater before reraising the exception.\n"
          ],
          "name": "stderr"
        },
        {
          "output_type": "error",
          "ename": "TypeError",
          "evalue": "ignored",
          "traceback": [
            "\u001b[0;31m---------------------------------------------------------------------------\u001b[0m",
            "\u001b[0;31mTypeError\u001b[0m                                 Traceback (most recent call last)",
            "\u001b[0;32m<ipython-input-56-041e2033e90a>\u001b[0m in \u001b[0;36m<module>\u001b[0;34m()\u001b[0m\n\u001b[0;32m----> 1\u001b[0;31m \u001b[0mtrainer\u001b[0m\u001b[0;34m.\u001b[0m\u001b[0mrun\u001b[0m\u001b[0;34m(\u001b[0m\u001b[0;34m)\u001b[0m\u001b[0;34m\u001b[0m\u001b[0m\n\u001b[0m",
            "\u001b[0;32m/usr/local/lib/python3.6/dist-packages/chainer/training/trainer.py\u001b[0m in \u001b[0;36mrun\u001b[0;34m(self, show_loop_exception_msg)\u001b[0m\n\u001b[1;32m    327\u001b[0m                 f.write('Will finalize trainer extensions and updater before '\n\u001b[1;32m    328\u001b[0m                         'reraising the exception.\\n')\n\u001b[0;32m--> 329\u001b[0;31m             \u001b[0msix\u001b[0m\u001b[0;34m.\u001b[0m\u001b[0mreraise\u001b[0m\u001b[0;34m(\u001b[0m\u001b[0;34m*\u001b[0m\u001b[0msys\u001b[0m\u001b[0;34m.\u001b[0m\u001b[0mexc_info\u001b[0m\u001b[0;34m(\u001b[0m\u001b[0;34m)\u001b[0m\u001b[0;34m)\u001b[0m\u001b[0;34m\u001b[0m\u001b[0m\n\u001b[0m\u001b[1;32m    330\u001b[0m         \u001b[0;32mfinally\u001b[0m\u001b[0;34m:\u001b[0m\u001b[0;34m\u001b[0m\u001b[0m\n\u001b[1;32m    331\u001b[0m             \u001b[0;32mfor\u001b[0m \u001b[0m_\u001b[0m\u001b[0;34m,\u001b[0m \u001b[0mentry\u001b[0m \u001b[0;32min\u001b[0m \u001b[0mextensions\u001b[0m\u001b[0;34m:\u001b[0m\u001b[0;34m\u001b[0m\u001b[0m\n",
            "\u001b[0;32m/usr/local/lib/python3.6/dist-packages/six.py\u001b[0m in \u001b[0;36mreraise\u001b[0;34m(tp, value, tb)\u001b[0m\n\u001b[1;32m    691\u001b[0m             \u001b[0;32mif\u001b[0m \u001b[0mvalue\u001b[0m\u001b[0;34m.\u001b[0m\u001b[0m__traceback__\u001b[0m \u001b[0;32mis\u001b[0m \u001b[0;32mnot\u001b[0m \u001b[0mtb\u001b[0m\u001b[0;34m:\u001b[0m\u001b[0;34m\u001b[0m\u001b[0m\n\u001b[1;32m    692\u001b[0m                 \u001b[0;32mraise\u001b[0m \u001b[0mvalue\u001b[0m\u001b[0;34m.\u001b[0m\u001b[0mwith_traceback\u001b[0m\u001b[0;34m(\u001b[0m\u001b[0mtb\u001b[0m\u001b[0;34m)\u001b[0m\u001b[0;34m\u001b[0m\u001b[0m\n\u001b[0;32m--> 693\u001b[0;31m             \u001b[0;32mraise\u001b[0m \u001b[0mvalue\u001b[0m\u001b[0;34m\u001b[0m\u001b[0m\n\u001b[0m\u001b[1;32m    694\u001b[0m         \u001b[0;32mfinally\u001b[0m\u001b[0;34m:\u001b[0m\u001b[0;34m\u001b[0m\u001b[0m\n\u001b[1;32m    695\u001b[0m             \u001b[0mvalue\u001b[0m \u001b[0;34m=\u001b[0m \u001b[0;32mNone\u001b[0m\u001b[0;34m\u001b[0m\u001b[0m\n",
            "\u001b[0;32m/usr/local/lib/python3.6/dist-packages/chainer/training/trainer.py\u001b[0m in \u001b[0;36mrun\u001b[0;34m(self, show_loop_exception_msg)\u001b[0m\n\u001b[1;32m    313\u001b[0m                 \u001b[0mself\u001b[0m\u001b[0;34m.\u001b[0m\u001b[0mobservation\u001b[0m \u001b[0;34m=\u001b[0m \u001b[0;34m{\u001b[0m\u001b[0;34m}\u001b[0m\u001b[0;34m\u001b[0m\u001b[0m\n\u001b[1;32m    314\u001b[0m                 \u001b[0;32mwith\u001b[0m \u001b[0mreporter\u001b[0m\u001b[0;34m.\u001b[0m\u001b[0mscope\u001b[0m\u001b[0;34m(\u001b[0m\u001b[0mself\u001b[0m\u001b[0;34m.\u001b[0m\u001b[0mobservation\u001b[0m\u001b[0;34m)\u001b[0m\u001b[0;34m:\u001b[0m\u001b[0;34m\u001b[0m\u001b[0m\n\u001b[0;32m--> 315\u001b[0;31m                     \u001b[0mupdate\u001b[0m\u001b[0;34m(\u001b[0m\u001b[0;34m)\u001b[0m\u001b[0;34m\u001b[0m\u001b[0m\n\u001b[0m\u001b[1;32m    316\u001b[0m                     \u001b[0;32mfor\u001b[0m \u001b[0mname\u001b[0m\u001b[0;34m,\u001b[0m \u001b[0mentry\u001b[0m \u001b[0;32min\u001b[0m \u001b[0mextensions\u001b[0m\u001b[0;34m:\u001b[0m\u001b[0;34m\u001b[0m\u001b[0m\n\u001b[1;32m    317\u001b[0m                         \u001b[0;32mif\u001b[0m \u001b[0mentry\u001b[0m\u001b[0;34m.\u001b[0m\u001b[0mtrigger\u001b[0m\u001b[0;34m(\u001b[0m\u001b[0mself\u001b[0m\u001b[0;34m)\u001b[0m\u001b[0;34m:\u001b[0m\u001b[0;34m\u001b[0m\u001b[0m\n",
            "\u001b[0;32m/usr/local/lib/python3.6/dist-packages/chainer/training/updaters/standard_updater.py\u001b[0m in \u001b[0;36mupdate\u001b[0;34m(self)\u001b[0m\n\u001b[1;32m    163\u001b[0m \u001b[0;34m\u001b[0m\u001b[0m\n\u001b[1;32m    164\u001b[0m         \"\"\"\n\u001b[0;32m--> 165\u001b[0;31m         \u001b[0mself\u001b[0m\u001b[0;34m.\u001b[0m\u001b[0mupdate_core\u001b[0m\u001b[0;34m(\u001b[0m\u001b[0;34m)\u001b[0m\u001b[0;34m\u001b[0m\u001b[0m\n\u001b[0m\u001b[1;32m    166\u001b[0m         \u001b[0mself\u001b[0m\u001b[0;34m.\u001b[0m\u001b[0miteration\u001b[0m \u001b[0;34m+=\u001b[0m \u001b[0;36m1\u001b[0m\u001b[0;34m\u001b[0m\u001b[0m\n\u001b[1;32m    167\u001b[0m \u001b[0;34m\u001b[0m\u001b[0m\n",
            "\u001b[0;32m/usr/local/lib/python3.6/dist-packages/chainer/training/updaters/standard_updater.py\u001b[0m in \u001b[0;36mupdate_core\u001b[0;34m(self)\u001b[0m\n\u001b[1;32m    175\u001b[0m \u001b[0;34m\u001b[0m\u001b[0m\n\u001b[1;32m    176\u001b[0m         \u001b[0;32mif\u001b[0m \u001b[0misinstance\u001b[0m\u001b[0;34m(\u001b[0m\u001b[0min_arrays\u001b[0m\u001b[0;34m,\u001b[0m \u001b[0mtuple\u001b[0m\u001b[0;34m)\u001b[0m\u001b[0;34m:\u001b[0m\u001b[0;34m\u001b[0m\u001b[0m\n\u001b[0;32m--> 177\u001b[0;31m             \u001b[0moptimizer\u001b[0m\u001b[0;34m.\u001b[0m\u001b[0mupdate\u001b[0m\u001b[0;34m(\u001b[0m\u001b[0mloss_func\u001b[0m\u001b[0;34m,\u001b[0m \u001b[0;34m*\u001b[0m\u001b[0min_arrays\u001b[0m\u001b[0;34m)\u001b[0m\u001b[0;34m\u001b[0m\u001b[0m\n\u001b[0m\u001b[1;32m    178\u001b[0m         \u001b[0;32melif\u001b[0m \u001b[0misinstance\u001b[0m\u001b[0;34m(\u001b[0m\u001b[0min_arrays\u001b[0m\u001b[0;34m,\u001b[0m \u001b[0mdict\u001b[0m\u001b[0;34m)\u001b[0m\u001b[0;34m:\u001b[0m\u001b[0;34m\u001b[0m\u001b[0m\n\u001b[1;32m    179\u001b[0m             \u001b[0moptimizer\u001b[0m\u001b[0;34m.\u001b[0m\u001b[0mupdate\u001b[0m\u001b[0;34m(\u001b[0m\u001b[0mloss_func\u001b[0m\u001b[0;34m,\u001b[0m \u001b[0;34m**\u001b[0m\u001b[0min_arrays\u001b[0m\u001b[0;34m)\u001b[0m\u001b[0;34m\u001b[0m\u001b[0m\n",
            "\u001b[0;32m/usr/local/lib/python3.6/dist-packages/chainer/optimizer.py\u001b[0m in \u001b[0;36mupdate\u001b[0;34m(self, lossfun, *args, **kwds)\u001b[0m\n\u001b[1;32m    683\u001b[0m             \u001b[0;32melse\u001b[0m\u001b[0;34m:\u001b[0m\u001b[0;34m\u001b[0m\u001b[0m\n\u001b[1;32m    684\u001b[0m                 \u001b[0mself\u001b[0m\u001b[0;34m.\u001b[0m\u001b[0mtarget\u001b[0m\u001b[0;34m.\u001b[0m\u001b[0mzerograds\u001b[0m\u001b[0;34m(\u001b[0m\u001b[0;34m)\u001b[0m\u001b[0;34m\u001b[0m\u001b[0m\n\u001b[0;32m--> 685\u001b[0;31m             \u001b[0mloss\u001b[0m\u001b[0;34m.\u001b[0m\u001b[0mbackward\u001b[0m\u001b[0;34m(\u001b[0m\u001b[0mloss_scale\u001b[0m\u001b[0;34m=\u001b[0m\u001b[0mself\u001b[0m\u001b[0;34m.\u001b[0m\u001b[0m_loss_scale\u001b[0m\u001b[0;34m)\u001b[0m\u001b[0;34m\u001b[0m\u001b[0m\n\u001b[0m\u001b[1;32m    686\u001b[0m             \u001b[0;32mdel\u001b[0m \u001b[0mloss\u001b[0m\u001b[0;34m\u001b[0m\u001b[0m\n\u001b[1;32m    687\u001b[0m \u001b[0;34m\u001b[0m\u001b[0m\n",
            "\u001b[0;32m/usr/local/lib/python3.6/dist-packages/chainer/variable.py\u001b[0m in \u001b[0;36mbackward\u001b[0;34m(self, retain_grad, enable_double_backprop, loss_scale)\u001b[0m\n\u001b[1;32m    961\u001b[0m         \"\"\"\n\u001b[1;32m    962\u001b[0m         \u001b[0;32mwith\u001b[0m \u001b[0mchainer\u001b[0m\u001b[0;34m.\u001b[0m\u001b[0musing_config\u001b[0m\u001b[0;34m(\u001b[0m\u001b[0;34m'enable_backprop'\u001b[0m\u001b[0;34m,\u001b[0m \u001b[0menable_double_backprop\u001b[0m\u001b[0;34m)\u001b[0m\u001b[0;34m:\u001b[0m\u001b[0;34m\u001b[0m\u001b[0m\n\u001b[0;32m--> 963\u001b[0;31m             \u001b[0mself\u001b[0m\u001b[0;34m.\u001b[0m\u001b[0m_backward_main\u001b[0m\u001b[0;34m(\u001b[0m\u001b[0mretain_grad\u001b[0m\u001b[0;34m,\u001b[0m \u001b[0mloss_scale\u001b[0m\u001b[0;34m)\u001b[0m\u001b[0;34m\u001b[0m\u001b[0m\n\u001b[0m\u001b[1;32m    964\u001b[0m \u001b[0;34m\u001b[0m\u001b[0m\n\u001b[1;32m    965\u001b[0m     \u001b[0;32mdef\u001b[0m \u001b[0m_backward_main\u001b[0m\u001b[0;34m(\u001b[0m\u001b[0mself\u001b[0m\u001b[0;34m,\u001b[0m \u001b[0mretain_grad\u001b[0m\u001b[0;34m,\u001b[0m \u001b[0mloss_scale\u001b[0m\u001b[0;34m)\u001b[0m\u001b[0;34m:\u001b[0m\u001b[0;34m\u001b[0m\u001b[0m\n",
            "\u001b[0;32m/usr/local/lib/python3.6/dist-packages/chainer/variable.py\u001b[0m in \u001b[0;36m_backward_main\u001b[0;34m(self, retain_grad, loss_scale)\u001b[0m\n\u001b[1;32m   1038\u001b[0m \u001b[0;34m\u001b[0m\u001b[0m\n\u001b[1;32m   1039\u001b[0m                 _backprop_utils.backprop_step(\n\u001b[0;32m-> 1040\u001b[0;31m                     func, target_input_indexes, out_grad, in_grad)\n\u001b[0m\u001b[1;32m   1041\u001b[0m \u001b[0;34m\u001b[0m\u001b[0m\n\u001b[1;32m   1042\u001b[0m                 \u001b[0;32mfor\u001b[0m \u001b[0mhook\u001b[0m \u001b[0;32min\u001b[0m \u001b[0mhooks\u001b[0m\u001b[0;34m:\u001b[0m\u001b[0;34m\u001b[0m\u001b[0m\n",
            "\u001b[0;32m/usr/local/lib/python3.6/dist-packages/chainer/_backprop_utils.py\u001b[0m in \u001b[0;36mbackprop_step\u001b[0;34m(func, target_input_indexes, grad_outputs, grad_inputs)\u001b[0m\n\u001b[1;32m    104\u001b[0m     \u001b[0;32melse\u001b[0m\u001b[0;34m:\u001b[0m  \u001b[0;31m# otherwise, backward should be overridden\u001b[0m\u001b[0;34m\u001b[0m\u001b[0m\n\u001b[1;32m    105\u001b[0m         gxs = func.backward(\n\u001b[0;32m--> 106\u001b[0;31m             target_input_indexes, grad_outputs)\n\u001b[0m\u001b[1;32m    107\u001b[0m \u001b[0;34m\u001b[0m\u001b[0m\n\u001b[1;32m    108\u001b[0m         \u001b[0;32mif\u001b[0m \u001b[0mis_debug\u001b[0m\u001b[0;34m:\u001b[0m\u001b[0;34m\u001b[0m\u001b[0m\n",
            "\u001b[0;32m/usr/local/lib/python3.6/dist-packages/chainer/functions/math/basic_math.py\u001b[0m in \u001b[0;36mbackward\u001b[0;34m(self, indexes, gy)\u001b[0m\n\u001b[1;32m    327\u001b[0m         return tuple(\n\u001b[1;32m    328\u001b[0m             \u001b[0mchainer\u001b[0m\u001b[0;34m.\u001b[0m\u001b[0mfunctions\u001b[0m\u001b[0;34m.\u001b[0m\u001b[0msum_to\u001b[0m\u001b[0;34m(\u001b[0m\u001b[0mgy\u001b[0m\u001b[0;34m[\u001b[0m\u001b[0;36m0\u001b[0m\u001b[0;34m]\u001b[0m \u001b[0;34m*\u001b[0m \u001b[0mxs\u001b[0m\u001b[0;34m[\u001b[0m\u001b[0;36m1\u001b[0m \u001b[0;34m-\u001b[0m \u001b[0mi\u001b[0m\u001b[0;34m]\u001b[0m\u001b[0;34m,\u001b[0m \u001b[0mxs\u001b[0m\u001b[0;34m[\u001b[0m\u001b[0mi\u001b[0m\u001b[0;34m]\u001b[0m\u001b[0;34m.\u001b[0m\u001b[0mshape\u001b[0m\u001b[0;34m)\u001b[0m\u001b[0;34m\u001b[0m\u001b[0m\n\u001b[0;32m--> 329\u001b[0;31m             \u001b[0;32mfor\u001b[0m \u001b[0mi\u001b[0m \u001b[0;32min\u001b[0m \u001b[0mindexes\u001b[0m\u001b[0;34m\u001b[0m\u001b[0m\n\u001b[0m\u001b[1;32m    330\u001b[0m         )\n\u001b[1;32m    331\u001b[0m \u001b[0;34m\u001b[0m\u001b[0m\n",
            "\u001b[0;32m/usr/local/lib/python3.6/dist-packages/chainer/functions/math/basic_math.py\u001b[0m in \u001b[0;36m<genexpr>\u001b[0;34m(.0)\u001b[0m\n\u001b[1;32m    327\u001b[0m         return tuple(\n\u001b[1;32m    328\u001b[0m             \u001b[0mchainer\u001b[0m\u001b[0;34m.\u001b[0m\u001b[0mfunctions\u001b[0m\u001b[0;34m.\u001b[0m\u001b[0msum_to\u001b[0m\u001b[0;34m(\u001b[0m\u001b[0mgy\u001b[0m\u001b[0;34m[\u001b[0m\u001b[0;36m0\u001b[0m\u001b[0;34m]\u001b[0m \u001b[0;34m*\u001b[0m \u001b[0mxs\u001b[0m\u001b[0;34m[\u001b[0m\u001b[0;36m1\u001b[0m \u001b[0;34m-\u001b[0m \u001b[0mi\u001b[0m\u001b[0;34m]\u001b[0m\u001b[0;34m,\u001b[0m \u001b[0mxs\u001b[0m\u001b[0;34m[\u001b[0m\u001b[0mi\u001b[0m\u001b[0;34m]\u001b[0m\u001b[0;34m.\u001b[0m\u001b[0mshape\u001b[0m\u001b[0;34m)\u001b[0m\u001b[0;34m\u001b[0m\u001b[0m\n\u001b[0;32m--> 329\u001b[0;31m             \u001b[0;32mfor\u001b[0m \u001b[0mi\u001b[0m \u001b[0;32min\u001b[0m \u001b[0mindexes\u001b[0m\u001b[0;34m\u001b[0m\u001b[0m\n\u001b[0m\u001b[1;32m    330\u001b[0m         )\n\u001b[1;32m    331\u001b[0m \u001b[0;34m\u001b[0m\u001b[0m\n",
            "\u001b[0;32m/usr/local/lib/python3.6/dist-packages/chainer/functions/math/basic_math.py\u001b[0m in \u001b[0;36mmul\u001b[0;34m(self, rhs)\u001b[0m\n\u001b[1;32m    361\u001b[0m     \u001b[0;32mif\u001b[0m \u001b[0mnumpy\u001b[0m\u001b[0;34m.\u001b[0m\u001b[0misscalar\u001b[0m\u001b[0;34m(\u001b[0m\u001b[0mrhs\u001b[0m\u001b[0;34m)\u001b[0m\u001b[0;34m:\u001b[0m\u001b[0;34m\u001b[0m\u001b[0m\n\u001b[1;32m    362\u001b[0m         \u001b[0;32mreturn\u001b[0m \u001b[0mMulConstant\u001b[0m\u001b[0;34m(\u001b[0m\u001b[0mrhs\u001b[0m\u001b[0;34m)\u001b[0m\u001b[0;34m.\u001b[0m\u001b[0mapply\u001b[0m\u001b[0;34m(\u001b[0m\u001b[0;34m(\u001b[0m\u001b[0mself\u001b[0m\u001b[0;34m,\u001b[0m\u001b[0;34m)\u001b[0m\u001b[0;34m)\u001b[0m\u001b[0;34m[\u001b[0m\u001b[0;36m0\u001b[0m\u001b[0;34m]\u001b[0m\u001b[0;34m\u001b[0m\u001b[0m\n\u001b[0;32m--> 363\u001b[0;31m     \u001b[0mrhs\u001b[0m \u001b[0;34m=\u001b[0m \u001b[0m_preprocess_rhs\u001b[0m\u001b[0;34m(\u001b[0m\u001b[0mself\u001b[0m\u001b[0;34m,\u001b[0m \u001b[0mrhs\u001b[0m\u001b[0;34m)\u001b[0m\u001b[0;34m\u001b[0m\u001b[0m\n\u001b[0m\u001b[1;32m    364\u001b[0m     \u001b[0;32mreturn\u001b[0m \u001b[0mMul\u001b[0m\u001b[0;34m(\u001b[0m\u001b[0;34m)\u001b[0m\u001b[0;34m.\u001b[0m\u001b[0mapply\u001b[0m\u001b[0;34m(\u001b[0m\u001b[0;34m(\u001b[0m\u001b[0mself\u001b[0m\u001b[0;34m,\u001b[0m \u001b[0mrhs\u001b[0m\u001b[0;34m)\u001b[0m\u001b[0;34m)\u001b[0m\u001b[0;34m[\u001b[0m\u001b[0;36m0\u001b[0m\u001b[0;34m]\u001b[0m\u001b[0;34m\u001b[0m\u001b[0m\n\u001b[1;32m    365\u001b[0m \u001b[0;34m\u001b[0m\u001b[0m\n",
            "\u001b[0;32m/usr/local/lib/python3.6/dist-packages/chainer/functions/math/basic_math.py\u001b[0m in \u001b[0;36m_preprocess_rhs\u001b[0;34m(x, value)\u001b[0m\n\u001b[1;32m     56\u001b[0m     \u001b[0;32mif\u001b[0m \u001b[0misinstance\u001b[0m\u001b[0;34m(\u001b[0m\u001b[0mvalue\u001b[0m\u001b[0;34m,\u001b[0m \u001b[0mchainer\u001b[0m\u001b[0;34m.\u001b[0m\u001b[0mVariable\u001b[0m\u001b[0;34m)\u001b[0m\u001b[0;34m:\u001b[0m\u001b[0;34m\u001b[0m\u001b[0m\n\u001b[1;32m     57\u001b[0m         \u001b[0;32mreturn\u001b[0m \u001b[0mvalue\u001b[0m\u001b[0;34m\u001b[0m\u001b[0m\n\u001b[0;32m---> 58\u001b[0;31m     \u001b[0m_check_constant_type\u001b[0m\u001b[0;34m(\u001b[0m\u001b[0mvalue\u001b[0m\u001b[0;34m)\u001b[0m\u001b[0;34m\u001b[0m\u001b[0m\n\u001b[0m\u001b[1;32m     59\u001b[0m     \u001b[0;32mreturn\u001b[0m \u001b[0mutils\u001b[0m\u001b[0;34m.\u001b[0m\u001b[0mforce_type\u001b[0m\u001b[0;34m(\u001b[0m\u001b[0mx\u001b[0m\u001b[0;34m.\u001b[0m\u001b[0mdtype\u001b[0m\u001b[0;34m,\u001b[0m \u001b[0mvalue\u001b[0m\u001b[0;34m)\u001b[0m\u001b[0;34m\u001b[0m\u001b[0m\n\u001b[1;32m     60\u001b[0m \u001b[0;34m\u001b[0m\u001b[0m\n",
            "\u001b[0;32m/usr/local/lib/python3.6/dist-packages/chainer/functions/math/basic_math.py\u001b[0m in \u001b[0;36m_check_constant_type\u001b[0;34m(value)\u001b[0m\n\u001b[1;32m     38\u001b[0m         raise TypeError(\n\u001b[1;32m     39\u001b[0m             \u001b[0;34m'Value must be a scalar, `numpy.ndarray`, `cupy.ndarray` '\u001b[0m\u001b[0;34m\u001b[0m\u001b[0m\n\u001b[0;32m---> 40\u001b[0;31m             'or a `Variable`.\\nActual: {}'.format(type(value)))\n\u001b[0m\u001b[1;32m     41\u001b[0m \u001b[0;34m\u001b[0m\u001b[0m\n\u001b[1;32m     42\u001b[0m \u001b[0;34m\u001b[0m\u001b[0m\n",
            "\u001b[0;31mTypeError\u001b[0m: Value must be a scalar, `numpy.ndarray`, `cupy.ndarray` or a `Variable`.\nActual: <class 'NoneType'>"
          ]
        }
      ]
    },
    {
      "metadata": {
        "id": "PRMXPtNqvKya",
        "colab_type": "text"
      },
      "cell_type": "markdown",
      "source": [
        "### 特徴抽出方法の変更"
      ]
    },
    {
      "metadata": {
        "id": "mPshO_o3Zn6r",
        "colab_type": "text"
      },
      "cell_type": "markdown",
      "source": [
        "#### 入力サイズ(セグメント長) 変更"
      ]
    },
    {
      "metadata": {
        "id": "3TB0Vsm6qaww",
        "colab_type": "text"
      },
      "cell_type": "markdown",
      "source": [
        "TODO: 説明 - より広範囲の入力情報を与えることでより特徴抽出し識別精度が向上するかを確認"
      ]
    },
    {
      "metadata": {
        "id": "luts0VdGVc3v",
        "colab_type": "code",
        "colab": {}
      },
      "cell_type": "code",
      "source": [
        "w_preprocessor = BaseECGDatasetPreprocessor(dataset_root, window_size=1440)"
      ],
      "execution_count": 0,
      "outputs": []
    },
    {
      "metadata": {
        "id": "qzNAIm11qjps",
        "colab_type": "code",
        "colab": {}
      },
      "cell_type": "code",
      "source": [
        "w_preprocessor.prepare_dataset()"
      ],
      "execution_count": 0,
      "outputs": []
    },
    {
      "metadata": {
        "id": "34IWb2hjIjdp",
        "colab_type": "code",
        "colab": {}
      },
      "cell_type": "code",
      "source": [
        "X_train = np.load(os.path.join(dataset_root, 'train', 'X.npy'))\n",
        "y_train = np.load(os.path.join(dataset_root, 'train', 'y.npy'))\n",
        "X_val = np.load(os.path.join(dataset_root, 'validation', 'X.npy'))\n",
        "y_val = np.load(os.path.join(dataset_root, 'validation', 'y.npy'))\n",
        "X_test = np.load(os.path.join(dataset_root, 'test', 'X.npy'))\n",
        "y_test = np.load(os.path.join(dataset_root, 'test', 'y.npy'))"
      ],
      "execution_count": 0,
      "outputs": []
    },
    {
      "metadata": {
        "colab_type": "code",
        "outputId": "30db9631-1ec0-4956-86f2-5c806bbdf44f",
        "id": "d9pp3LcVfM85",
        "colab": {
          "base_uri": "https://localhost:8080/",
          "height": 68
        }
      },
      "cell_type": "code",
      "source": [
        "print(\"X_train.shape = \", X_train.shape, \"\\ty_train.shape = \", y_train.shape)\n",
        "print(\"X_val.shape = \", X_val.shape, \"\\ty_val.shape = \", y_val.shape)\n",
        "print(\"X_test.shape = \", X_test.shape, \"\\ty_test.shape = \", y_test.shape)"
      ],
      "execution_count": 0,
      "outputs": [
        {
          "output_type": "stream",
          "text": [
            "X_train.shape =  (48036, 1440) \ty_train.shape =  (48036,)\n",
            "X_val.shape =  (22065, 1440) \ty_val.shape =  (22065,)\n",
            "X_test.shape =  (25589, 1440) \ty_test.shape =  (25589,)\n"
          ],
          "name": "stdout"
        }
      ]
    },
    {
      "metadata": {
        "colab_type": "code",
        "outputId": "ec970876-3102-48dd-c135-46e4dce93965",
        "id": "GmQe0R_Df8vy",
        "colab": {
          "base_uri": "https://localhost:8080/",
          "height": 282
        }
      },
      "cell_type": "code",
      "source": [
        "idx_n = np.where(y_train == 0)[0]\n",
        "plt.plot(X_train[idx_n[0]])"
      ],
      "execution_count": 0,
      "outputs": [
        {
          "output_type": "execute_result",
          "data": {
            "text/plain": [
              "[<matplotlib.lines.Line2D at 0x7f4841ad2470>]"
            ]
          },
          "metadata": {
            "tags": []
          },
          "execution_count": 64
        },
        {
          "output_type": "display_data",
          "data": {
            "image/png": "[encoded data removed]",
            "text/plain": [
              "<matplotlib.figure.Figure at 0x7f482f9736d8>"
            ]
          },
          "metadata": {
            "tags": []
          }
        }
      ]
    },
    {
      "metadata": {
        "colab_type": "code",
        "outputId": "67f26ee1-a0e2-42bc-9607-e82412d7ef39",
        "id": "muBlHubXf8v5",
        "colab": {
          "base_uri": "https://localhost:8080/",
          "height": 282
        }
      },
      "cell_type": "code",
      "source": [
        "idx_s = np.where(y_train == 1)[0]\n",
        "plt.plot(X_train[idx_s[0]])"
      ],
      "execution_count": 0,
      "outputs": [
        {
          "output_type": "execute_result",
          "data": {
            "text/plain": [
              "[<matplotlib.lines.Line2D at 0x7f482f8347f0>]"
            ]
          },
          "metadata": {
            "tags": []
          },
          "execution_count": 65
        },
        {
          "output_type": "display_data",
          "data": {
            "image/png": "[encoded data removed]",
            "text/plain": [
              "<matplotlib.figure.Figure at 0x7f482f984940>"
            ]
          },
          "metadata": {
            "tags": []
          }
        }
      ]
    },
    {
      "metadata": {
        "colab_type": "code",
        "outputId": "6142dea3-6a06-43f1-fa66-80fb6833ab47",
        "id": "GOBRwQq1f8wB",
        "colab": {
          "base_uri": "https://localhost:8080/",
          "height": 282
        }
      },
      "cell_type": "code",
      "source": [
        "idx_v = np.where(y_train == 2)[0]\n",
        "plt.plot(X_train[idx_v[1]])"
      ],
      "execution_count": 0,
      "outputs": [
        {
          "output_type": "execute_result",
          "data": {
            "text/plain": [
              "[<matplotlib.lines.Line2D at 0x7f482f8b79b0>]"
            ]
          },
          "metadata": {
            "tags": []
          },
          "execution_count": 66
        },
        {
          "output_type": "display_data",
          "data": {
            "image/png": "[encoded data removed]",
            "text/plain": [
              "<matplotlib.figure.Figure at 0x7f482f90ce10>"
            ]
          },
          "metadata": {
            "tags": []
          }
        }
      ]
    },
    {
      "metadata": {
        "colab_type": "code",
        "id": "Pc8AZadciJ0t",
        "colab": {}
      },
      "cell_type": "code",
      "source": [
        "train_dataset, validation_dataset = create_datasets(dataset_root)\n",
        "test_dataset = create_test_dataset(dataset_root)"
      ],
      "execution_count": 0,
      "outputs": []
    },
    {
      "metadata": {
        "colab_type": "code",
        "id": "AJJmYTWKiJ0x",
        "colab": {}
      },
      "cell_type": "code",
      "source": [
        "trainer = create_trainer(200, train_dataset, validation_dataset, 0)"
      ],
      "execution_count": 0,
      "outputs": []
    },
    {
      "metadata": {
        "id": "mfiE5z7QiM9j",
        "colab_type": "code",
        "outputId": "21c57b20-544b-4e56-a47a-04bb8e9c0e88",
        "colab": {
          "base_uri": "https://localhost:8080/",
          "height": 646
        }
      },
      "cell_type": "code",
      "source": [
        "trainer.run()"
      ],
      "execution_count": 0,
      "outputs": [
        {
          "output_type": "stream",
          "text": [
            "epoch       iteration   main/loss   main/accuracy  val/main/loss  val/main/accuracy\n",
            "\u001b[J0           5           0.638314    0.901                                            \n",
            "\u001b[J0           10          0.342203    0.899          0.38299        0.909012           \n",
            "\u001b[J0           15          0.299384    0.891                                            \n",
            "\u001b[J0           20          0.25618     0.928          0.370282       0.919931           \n",
            "\u001b[J0           25          0.216066    0.936                                            \n",
            "\u001b[J0           30          0.15047     0.955          0.368757       0.922862           \n",
            "\u001b[J0           35          0.166899    0.945                                            \n",
            "\u001b[J0           40          0.154581    0.952          0.38704        0.917907           \n",
            "\u001b[J0           45          0.142806    0.96                                             \n",
            "\u001b[J0           50          0.133429    0.948          0.332553       0.923673           \n",
            "\u001b[J0           55          0.121282    0.954                                            \n",
            "\u001b[J0           60          0.100607    0.959          0.316985       0.920939           \n",
            "\u001b[J0           65          0.0899596   0.961                                            \n",
            "\u001b[J0           70          0.0897025   0.969          0.314659       0.91868            \n",
            "\u001b[J0           75          0.0884655   0.97                                             \n",
            "\u001b[J0           80          0.111401    0.97           0.317523       0.901968           \n",
            "\u001b[J0           85          0.0753008   0.973                                            \n",
            "\u001b[J0           90          0.0996565   0.975          0.304752       0.903455           \n",
            "\u001b[J0           95          0.058575    0.98                                             \n",
            "\u001b[J0           100         0.115324    0.963          0.278429       0.910257           \n",
            "\u001b[J0           105         0.0662206   0.978                                            \n",
            "\u001b[J0           110         0.0752558   0.977          0.283816       0.900437           \n",
            "\u001b[J0           115         0.0904372   0.978                                            \n",
            "\u001b[J0           120         0.0718309   0.979          0.282514       0.899986           \n",
            "\u001b[J0           125         0.0934797   0.974                                            \n",
            "\u001b[J0           130         0.0721336   0.984          0.272195       0.90463            \n",
            "\u001b[J0           135         0.0608275   0.979                                            \n",
            "\u001b[J0           140         0.0681652   0.98           0.290997       0.894765           \n",
            "\u001b[J0           145         0.0729253   0.985                                            \n",
            "\u001b[J0           150         0.0729644   0.987          0.267451       0.905166           \n",
            "\u001b[J0           155         0.0574704   0.987                                            \n",
            "\u001b[J0           160         0.0702181   0.979          0.279515       0.897017           \n",
            "\u001b[J0           165         0.0656073   0.987                                            \n",
            "\u001b[J0           170         0.0730987   0.987          0.274339       0.899765           \n",
            "\u001b[J0           175         0.0495756   0.986                                            \n",
            "\u001b[J0           180         0.0611943   0.979          0.2694         0.902692           \n"
          ],
          "name": "stdout"
        }
      ]
    },
    {
      "metadata": {
        "colab_type": "code",
        "id": "4adFpDlUkNGh",
        "colab": {}
      },
      "cell_type": "code",
      "source": [
        "pred_labels_val, gt_labels_val = evaluate(trainer, validation_dataset, 0)"
      ],
      "execution_count": 0,
      "outputs": []
    },
    {
      "metadata": {
        "colab_type": "code",
        "outputId": "c3aefd6d-7d86-4cb2-8f4d-68b90ec1214b",
        "id": "9VGCjDBskNGk",
        "colab": {
          "base_uri": "https://localhost:8080/",
          "height": 211
        }
      },
      "cell_type": "code",
      "source": [
        "print_confusion_matrix(gt_labels_val, pred_labels_val)"
      ],
      "execution_count": 0,
      "outputs": [
        {
          "output_type": "display_data",
          "data": {
            "image/png": "[encoded data removed]",
            "text/plain": [
              "<matplotlib.figure.Figure at 0x7f484492dd30>"
            ]
          },
          "metadata": {
            "tags": []
          }
        }
      ]
    },
    {
      "metadata": {
        "colab_type": "code",
        "outputId": "82bce601-3b79-4b82-9504-8b468350ee57",
        "id": "HYCJJWjlkNGq",
        "colab": {
          "base_uri": "https://localhost:8080/",
          "height": 204
        }
      },
      "cell_type": "code",
      "source": [
        "print_scores(gt_labels_val, pred_labels_val)"
      ],
      "execution_count": 0,
      "outputs": [
        {
          "output_type": "stream",
          "text": [
            "              precision    recall  f1-score   support\n",
            "\n",
            "           N       0.96      0.95      0.95     20070\n",
            "           S       0.45      0.31      0.37       929\n",
            "           V       0.37      0.53      0.44      1066\n",
            "\n",
            "   micro avg       0.90      0.90      0.90     22065\n",
            "   macro avg       0.59      0.60      0.59     22065\n",
            "weighted avg       0.91      0.90      0.90     22065\n",
            "\n",
            "accuracy:  0.9023793337865398\n"
          ],
          "name": "stdout"
        }
      ]
    },
    {
      "metadata": {
        "colab_type": "code",
        "id": "x3q01rMzkNGv",
        "colab": {}
      },
      "cell_type": "code",
      "source": [
        "pred_labels_test, gt_labels_test = evaluate(trainer, test_dataset, 0)"
      ],
      "execution_count": 0,
      "outputs": []
    },
    {
      "metadata": {
        "colab_type": "code",
        "outputId": "e514ee33-b28b-49ef-d35c-a144d4b58275",
        "id": "3OauByNLkNGy",
        "colab": {
          "base_uri": "https://localhost:8080/",
          "height": 211
        }
      },
      "cell_type": "code",
      "source": [
        "print_confusion_matrix(gt_labels_test, pred_labels_test)"
      ],
      "execution_count": 0,
      "outputs": [
        {
          "output_type": "display_data",
          "data": {
            "image/png": "[encoded data removed]",
            "text/plain": [
              "<matplotlib.figure.Figure at 0x7f4841ad9dd8>"
            ]
          },
          "metadata": {
            "tags": []
          }
        }
      ]
    },
    {
      "metadata": {
        "colab_type": "code",
        "outputId": "dcfed73e-84c5-45ac-90c3-bb33200ace5c",
        "id": "mkBUJJB2kNG9",
        "colab": {
          "base_uri": "https://localhost:8080/",
          "height": 204
        }
      },
      "cell_type": "code",
      "source": [
        "print_scores(gt_labels_test, pred_labels_test)"
      ],
      "execution_count": 0,
      "outputs": [
        {
          "output_type": "stream",
          "text": [
            "              precision    recall  f1-score   support\n",
            "\n",
            "           N       0.99      0.94      0.96     23256\n",
            "           S       0.05      0.32      0.09       104\n",
            "           V       0.70      0.88      0.78      2229\n",
            "\n",
            "   micro avg       0.93      0.93      0.93     25589\n",
            "   macro avg       0.58      0.71      0.61     25589\n",
            "weighted avg       0.96      0.93      0.94     25589\n",
            "\n",
            "accuracy:  0.932705459377076\n"
          ],
          "name": "stdout"
        }
      ]
    },
    {
      "metadata": {
        "id": "7rMWg57rvdI6",
        "colab_type": "text"
      },
      "cell_type": "markdown",
      "source": [
        "#### ネットワーク構造の変更"
      ]
    },
    {
      "metadata": {
        "id": "h5-FR_e5wezQ",
        "colab_type": "code",
        "colab": {}
      },
      "cell_type": "code",
      "source": [
        "class ArrhythmiaLSTMNet(chainer.Chain):\n",
        "\n",
        "    def __init__(\n",
        "            self,\n",
        "            n_resblock=5\n",
        "    ):\n",
        "        self.n_resblock = n_resblock\n",
        "        super(ArrhythmiaLSTMNet, self).__init__()\n",
        "        with self.init_scope():\n",
        "            self.conv = L.ConvolutionND(1, None, 32, ksize=5, pad=2)\n",
        "            for i in range(n_resblock):\n",
        "                resblock = ResBlock()\n",
        "                setattr(self, 'res{}'.format(str(i)), resblock)\n",
        "            self.lstm1 = L.LSTM(None, 128)\n",
        "            self.lstm2 = L.LSTM(None, 128)\n",
        "            self.fc1 = L.Linear(None, 32)\n",
        "            self.fc2 = L.Linear(32, 3)\n",
        "\n",
        "    def __call__(self, x):\n",
        "        h = self.conv(x)\n",
        "        for i in range(self.n_resblock):\n",
        "            h = getattr(self, 'res{}'.format(str(i)))(h)\n",
        "        h = self.lstm1(h)\n",
        "        h = self.lstm2(h)\n",
        "        h = F.relu(self.fc1(h))\n",
        "        h = self.fc2(h)\n",
        "        return h\n"
      ],
      "execution_count": 0,
      "outputs": []
    },
    {
      "metadata": {
        "id": "bGGFdPWIJ_kW",
        "colab_type": "code",
        "colab": {}
      },
      "cell_type": "code",
      "source": [
        "def create_trainer(batchsize, train_dataset, validation_dataset, device=0, lossfun=F.softmax_cross_entropy):\n",
        "    # setup model\n",
        "    model = ArrhythmiaLSTMNet()\n",
        "    train_model = Classifier(model, lossfun=lossfun)\n",
        "\n",
        "    # use Adam optimizer\n",
        "    optimizer = optimizers.Adam(alpha=0.001, beta1=0.9, beta2=0.999)\n",
        "    optimizer.setup(train_model)\n",
        "\n",
        "    # setup iterator\n",
        "    train_iter = MultiprocessIterator(train_dataset, batchsize)\n",
        "    val_iter = MultiprocessIterator(validation_dataset, batchsize, repeat=False, shuffle=False)\n",
        "\n",
        "    # define updater\n",
        "    updater = training.StandardUpdater(train_iter, optimizer, device=device)\n",
        "    \n",
        "    # set EarlyStoppingTrigger\n",
        "    stop_trigger = triggers.EarlyStoppingTrigger(\n",
        "        check_trigger=(2000 // batchsize, 'iteration'),\n",
        "        patients=3,\n",
        "        monitor='val/main/loss',\n",
        "        max_trigger=(2, 'epoch')\n",
        "    )\n",
        "\n",
        "    # setup trainer\n",
        "    trainer = training.trainer.Trainer(updater, stop_trigger)\n",
        "    logging_attributes = [\n",
        "        'epoch', 'iteration',\n",
        "        'main/loss', 'main/accuracy',\n",
        "        'val/main/loss', 'val/main/accuracy'\n",
        "        \n",
        "    ]\n",
        "    trainer.extend(\n",
        "        extensions.LogReport(logging_attributes, trigger=(1000 // batchsize, 'iteration'))\n",
        "    )\n",
        "    trainer.extend(\n",
        "        extensions.PrintReport(logging_attributes)\n",
        "    )\n",
        "    trainer.extend(\n",
        "        extensions.ExponentialShift('alpha', 0.75, optimizer=optimizer),\n",
        "        trigger=(4000 // batchsize, 'iteration')\n",
        "    )\n",
        "    trainer.extend(\n",
        "        extensions.Evaluator(val_iter, optimizer.target, device=device),\n",
        "        trigger=(2000 // batchsize, 'iteration'),\n",
        "        name='val'\n",
        "    )\n",
        "\n",
        "    return trainer"
      ],
      "execution_count": 0,
      "outputs": []
    },
    {
      "metadata": {
        "id": "DaMN5SPrJ_on",
        "colab_type": "code",
        "colab": {}
      },
      "cell_type": "code",
      "source": [
        "train_dataset, validation_dataset = create_datasets(dataset_root)"
      ],
      "execution_count": 0,
      "outputs": []
    },
    {
      "metadata": {
        "id": "KUidNkHlKTjh",
        "colab_type": "code",
        "colab": {}
      },
      "cell_type": "code",
      "source": [
        "trainer = create_trainer(200, train_dataset, validation_dataset, 0)"
      ],
      "execution_count": 0,
      "outputs": []
    },
    {
      "metadata": {
        "id": "kawTWjlNKZTA",
        "colab_type": "code",
        "colab": {}
      },
      "cell_type": "code",
      "source": [
        "trainer.run()"
      ],
      "execution_count": 0,
      "outputs": []
    },
    {
      "metadata": {
        "colab_type": "code",
        "id": "d9f1Sr7QPLgL",
        "colab": {}
      },
      "cell_type": "code",
      "source": [
        "test_dataset = create_test_dataset(dataset_root)"
      ],
      "execution_count": 0,
      "outputs": []
    },
    {
      "metadata": {
        "colab_type": "text",
        "id": "l_M9geyFPLgO"
      },
      "cell_type": "markdown",
      "source": [
        "- TODO: 説明 - validationセットの評価"
      ]
    },
    {
      "metadata": {
        "colab_type": "code",
        "id": "C_7Qhz7RPLgP",
        "colab": {}
      },
      "cell_type": "code",
      "source": [
        "pred_labels_val, gt_labels_val = evaluate(trainer, validation_dataset, 0)"
      ],
      "execution_count": 0,
      "outputs": []
    },
    {
      "metadata": {
        "colab_type": "code",
        "id": "R4C-mFzBPLgQ",
        "colab": {}
      },
      "cell_type": "code",
      "source": [
        "print_confusion_matrix(gt_labels_val, pred_labels_val)"
      ],
      "execution_count": 0,
      "outputs": []
    },
    {
      "metadata": {
        "colab_type": "code",
        "id": "n3z2ygYkPLgU",
        "colab": {}
      },
      "cell_type": "code",
      "source": [
        "print_scores(gt_labels_val, pred_labels_val)"
      ],
      "execution_count": 0,
      "outputs": []
    },
    {
      "metadata": {
        "colab_type": "text",
        "id": "j6I9vlzVPLgX"
      },
      "cell_type": "markdown",
      "source": [
        "- TODO: 説明文 - テストセットの評価"
      ]
    },
    {
      "metadata": {
        "colab_type": "code",
        "id": "7Ywx3uWWPLgZ",
        "colab": {}
      },
      "cell_type": "code",
      "source": [
        "pred_labels_test, gt_labels_test = evaluate(trainer, test_dataset, 0)"
      ],
      "execution_count": 0,
      "outputs": []
    },
    {
      "metadata": {
        "colab_type": "code",
        "id": "6__ydaA_PLgd",
        "colab": {}
      },
      "cell_type": "code",
      "source": [
        "print_confusion_matrix(gt_labels_test, pred_labels_test)"
      ],
      "execution_count": 0,
      "outputs": []
    },
    {
      "metadata": {
        "colab_type": "code",
        "id": "TGFyzW2_PLgh",
        "colab": {}
      },
      "cell_type": "code",
      "source": [
        "print_scores(gt_labels_test, pred_labels_test)"
      ],
      "execution_count": 0,
      "outputs": []
    },
    {
      "metadata": {
        "id": "QUZQOrwaY1iA",
        "colab_type": "text"
      },
      "cell_type": "markdown",
      "source": [
        "### ノイズ除去の効果検証"
      ]
    },
    {
      "metadata": {
        "id": "jGyLs3AQJpVP",
        "colab_type": "text"
      },
      "cell_type": "markdown",
      "source": [
        "- TODO: 説明 - 心電図波形には高周波ノイズ(筋電図ノイズ(Electromyogram noise)、加算性白色ガウスノイズ(Additive white Gaussian noise)力線妨害(power line interference))と、低周波ノイズ(基線変動ノイズ(baseline wandering))が含まれているため, 徐脈などの異常波形をうまく判別するために, 不要なノイズを除去する前処理を行うのが通例である\n",
        "- TODO: 説明 - ノイズフィルタリングについて簡単に説明する\n",
        "- TODO: MIT-BIHデータセットでは、≧0.1Hz & ≦100Hzのband-pass filterが既に適用されているが、それよりも厳しめのフィルタリングを行い, その効果を検証する(https://www.physionet.org/physiobank/database/html/mitdbdir/intro.htm#selection)\n",
        "\n",
        "\n",
        "\n",
        "- Pros: ノイズを除くことで徐脈などの異常波形パターンを特徴として捉えやすくなる可能性がある\n",
        "- Cons: 波形に含まれている重要な情報が, フィルタリングによって失われる可能性がある"
      ]
    },
    {
      "metadata": {
        "id": "JErWrrR07cjB",
        "colab_type": "code",
        "colab": {}
      },
      "cell_type": "code",
      "source": [
        "from scipy.signal import butter, lfilter, medfilt\n",
        "\n",
        "\n",
        "class DenoiseECGDatasetPreprocessor(BaseECGDatasetPreprocessor):\n",
        "\n",
        "    def __init__(\n",
        "            self,\n",
        "            dataset_root='./',\n",
        "            window_size=720,\n",
        "            random_state=45\n",
        "    ):\n",
        "        super(DenoiseECGDatasetPreprocessor, self).__init__(\n",
        "        dataset_root, window_size, random_state)\n",
        "\n",
        "    def denoise_signal(\n",
        "            self,\n",
        "            signal,\n",
        "            cutoff_low=0.3,\n",
        "            cutoff_high=30.,\n",
        "            order=5\n",
        "    ):\n",
        "        nyquist = self.sample_rate / 2.\n",
        "        if cutoff_low <= 0.5 and cutoff_high >= 2.5:\n",
        "            cut_off = (cutoff_low / nyquist, cutoff_high / nyquist)\n",
        "            b, a = butter(order, cut_off, analog=False, btype='band')\n",
        "        elif cutoff_low <= 0.5:\n",
        "            cut_off = cutoff_low / nyquist\n",
        "            b, a = butter(order, cut_off, analog=False, btype='high')\n",
        "        elif cutoff_high >= 2.5:\n",
        "            cut_off = cutoff_high / nyquist\n",
        "            b, a = butter(order, cut_off, analog=False, btype='low')\n",
        "        else:\n",
        "            return signal\n",
        "        return lfilter(b, a, signal)\n",
        "\n",
        "    def remove_baseline_wander(\n",
        "            self,\n",
        "            signal\n",
        "    ):\n",
        "        # first median filter to remove QRS complexes and P-waves.\n",
        "        window_first = int(200 * self.sample_rate / 1000.) + 1  # 73\n",
        "        signal_mid = medfilt(signal, window_first)\n",
        "        # second median filter to remove T-waves.\n",
        "        window_second = int(600 * self.sample_rate / 1000.) + 1 # 217\n",
        "        return medfilt(signal_mid, window_second)\n",
        "\n",
        "    def create_data_slices(\n",
        "            self,\n",
        "            signal,\n",
        "            symbols,\n",
        "            positions\n",
        "    ):\n",
        "        X = []\n",
        "        y = []\n",
        "        sig_len = len(signal)\n",
        "        for i in range(len(symbols)):\n",
        "            start = positions[i] - self.window_size // 2\n",
        "            end = positions[i] + self.window_size // 2\n",
        "            if symbols[i] in self.valid_symbols and start >= 0 and end <= sig_len:\n",
        "                segment = signal[start:end]\n",
        "                assert len(segment) == self.window_size, \"Invalid length\"\n",
        "                X.append(segment)\n",
        "                y.append(self.labels.index(self.label_map[symbols[i]]))\n",
        "        return np.array(X), np.array(y)\n",
        "\n",
        "    def prepare_dataset(\n",
        "            self,\n",
        "            denoise=False,\n",
        "            remove_bw=False,\n",
        "            normalize=True\n",
        "    ):\n",
        "        if not os.path.isdir(self.download_dir):\n",
        "            self.download_data()\n",
        "\n",
        "        train_records, validation_records, test_records = self.split_record_lists\n",
        "\n",
        "        # prepare training dataset\n",
        "        self._prepare_dataset_core(train_records, \"train\", denoise, remove_bw, normalize)\n",
        "        # prepare validation dataset\n",
        "        self._prepare_dataset_core(validation_records, \"validation\", denoise, remove_bw, normalize)\n",
        "        # prepare test dataset\n",
        "        self._prepare_dataset_core(test_records, \"test\", denoise, remove_bw, normalize)\n",
        "\n",
        "    def _prepare_dataset_core(\n",
        "            self,\n",
        "            record_list,\n",
        "            mode=\"train\",\n",
        "            denoise=False,\n",
        "            remove_baseline_wander=False,\n",
        "            normalize=True\n",
        "    ):\n",
        "        X, y = None, None\n",
        "        for i in range(len(record_list)):\n",
        "            signal, symbols, positions = self.load_data(record_list[i])\n",
        "            if denoise:\n",
        "                signal = self.denoise_signal(signal)\n",
        "            if remove_baseline_wander:\n",
        "                signal = self.remove_baseline_wander(signal)\n",
        "            if normalize:\n",
        "                signal = self.normalize_signal(signal)\n",
        "            if i == 0:\n",
        "                X, y = self.create_data_slices(signal, symbols, positions)\n",
        "            else:\n",
        "                X_tmp, y_tmp = self.create_data_slices(signal, symbols, positions)\n",
        "                X = np.vstack((X, X_tmp))\n",
        "                y = np.concatenate((y, y_tmp))\n",
        "        os.makedirs(os.path.join(self.dataset_root, mode), exist_ok=True)\n",
        "        np.save(os.path.join(self.dataset_root, mode, \"X.npy\"), X)\n",
        "        np.save(os.path.join(self.dataset_root, mode, \"y.npy\"), y)\n"
      ],
      "execution_count": 0,
      "outputs": []
    },
    {
      "metadata": {
        "id": "U19pzjkY85IP",
        "colab_type": "code",
        "colab": {}
      },
      "cell_type": "code",
      "source": [
        "d_preprocessor = DenoiseECGDatasetPreprocessor(dataset_root)"
      ],
      "execution_count": 0,
      "outputs": []
    },
    {
      "metadata": {
        "id": "-ASH3PS2a4td",
        "colab_type": "text"
      },
      "cell_type": "markdown",
      "source": [
        "TODO: 説明 - 5次のButterworth filter (band-pass)を適用してノイズ除去を行う"
      ]
    },
    {
      "metadata": {
        "id": "STu_XB-hNOMy",
        "colab_type": "code",
        "colab": {}
      },
      "cell_type": "code",
      "source": [
        "d_preprocessor.prepare_dataset(denoise=True)"
      ],
      "execution_count": 0,
      "outputs": []
    },
    {
      "metadata": {
        "id": "RCIkhIvUNhcQ",
        "colab_type": "code",
        "colab": {}
      },
      "cell_type": "code",
      "source": [
        "X_train_d = np.load(os.path.join(dataset_root, 'train', 'X.npy'))\n",
        "y_train_d = np.load(os.path.join(dataset_root, 'train', 'y.npy'))\n",
        "X_val_d = np.load(os.path.join(dataset_root, 'validation', 'X.npy'))\n",
        "y_val_d = np.load(os.path.join(dataset_root, 'validation', 'y.npy'))"
      ],
      "execution_count": 0,
      "outputs": []
    },
    {
      "metadata": {
        "id": "EDsqmOiYOYUL",
        "colab_type": "code",
        "outputId": "e3778e92-2ef1-47bb-e11c-634bff97e145",
        "colab": {
          "base_uri": "https://localhost:8080/",
          "height": 265
        }
      },
      "cell_type": "code",
      "source": [
        "plt.subplots(figsize=(12, 4))\n",
        "plt.subplot(1, 2, 1)\n",
        "plt.plot(X_train[idx_n[0]])\n",
        "plt.subplot(1, 2, 2)\n",
        "plt.plot(X_train_d[idx_n[0]])\n",
        "plt.show()"
      ],
      "execution_count": 0,
      "outputs": [
        {
          "output_type": "display_data",
          "data": {
            "image/png": "[encoded data removed]",
            "text/plain": [
              "<matplotlib.figure.Figure at 0x7fa7fd2ba400>"
            ]
          },
          "metadata": {
            "tags": []
          }
        }
      ]
    },
    {
      "metadata": {
        "id": "yYWeI-n5ccof",
        "colab_type": "text"
      },
      "cell_type": "markdown",
      "source": [
        "左図がフィルタリング前、右図がフィルタリング後"
      ]
    },
    {
      "metadata": {
        "id": "C70lLfAHbOOH",
        "colab_type": "code",
        "outputId": "14cd5452-23a1-42da-d771-6884f76162ef",
        "colab": {
          "base_uri": "https://localhost:8080/",
          "height": 442
        }
      },
      "cell_type": "code",
      "source": [
        "train_dataset, validation_dataset = create_datasets(dataset_root)\n",
        "trainer = create_trainer(200, train_dataset, validation_dataset, 0)\n",
        "trainer.run()"
      ],
      "execution_count": 0,
      "outputs": [
        {
          "output_type": "stream",
          "text": [
            "epoch       iteration   main/loss   main/accuracy  val/main/loss  val/main/accuracy\n",
            "\u001b[J0           50          0.238227    0.9294                                           \n",
            "\u001b[J0           100         0.0846091   0.9721                                           \n",
            "\u001b[J0           150         0.0452262   0.9919                                           \n",
            "\u001b[J0           200         0.0372323   0.993          0.211192       0.917703           \n",
            "\u001b[J1           250         0.0385774   0.9931                                           \n",
            "\u001b[J1           300         0.0307148   0.9942                                           \n",
            "\u001b[J1           350         0.0219792   0.9952                                           \n",
            "\u001b[J1           400         0.0232242   0.9952         0.454147       0.875225           \n",
            "\u001b[J1           450         0.0228253   0.9949                                           \n",
            "\u001b[J2           500         0.0170447   0.996                                            \n",
            "\u001b[J2           550         0.0170798   0.9959                                           \n",
            "\u001b[J2           600         0.015922    0.9966         0.346454       0.887838           \n",
            "\u001b[J2           650         0.0188995   0.9961                                           \n",
            "\u001b[J2           700         0.0152161   0.9959                                           \n",
            "\u001b[J3           750         0.0163303   0.9965                                           \n",
            "\u001b[J3           800         0.0131289   0.9963         0.391766       0.887928           \n",
            "\u001b[J3           850         0.00985098  0.9975                                           \n",
            "\u001b[J3           900         0.0112652   0.9968                                           \n",
            "\u001b[J3           950         0.0136274   0.9974                                           \n",
            "\u001b[J4           1000        0.0136431   0.9969         0.41089        0.887793           \n",
            "\u001b[J4           1050        0.0124907   0.9971                                           \n",
            "\u001b[J4           1100        0.012531    0.9969                                           \n",
            "\u001b[J4           1150        0.0092755   0.9969                                           \n",
            "\u001b[J4           1200        0.0109029   0.9973         0.388348       0.888964           \n"
          ],
          "name": "stdout"
        }
      ]
    },
    {
      "metadata": {
        "id": "C2IeDYwSeP3J",
        "colab_type": "code",
        "colab": {}
      },
      "cell_type": "code",
      "source": [
        "test_dataset = create_test_dataset(dataset_root)"
      ],
      "execution_count": 0,
      "outputs": []
    },
    {
      "metadata": {
        "id": "5U3EVnexeasF",
        "colab_type": "code",
        "outputId": "ffb879e7-8891-4eb2-914c-5459ca463c72",
        "colab": {
          "base_uri": "https://localhost:8080/",
          "height": 170
        }
      },
      "cell_type": "code",
      "source": [
        "pred_labels_val, gt_labels_val = evaluate(trainer, validation_dataset, 0)\n",
        "print_scores(gt_labels_val, pred_labels_val)"
      ],
      "execution_count": 0,
      "outputs": [
        {
          "output_type": "stream",
          "text": [
            "             precision    recall  f1-score   support\n",
            "\n",
            "          N       0.98      0.91      0.94     20093\n",
            "          S       0.53      0.65      0.58       931\n",
            "          V       0.32      0.73      0.45      1067\n",
            "\n",
            "avg / total       0.93      0.89      0.90     22091\n",
            "\n",
            "accuracy:  0.8879634240188312\n"
          ],
          "name": "stdout"
        }
      ]
    },
    {
      "metadata": {
        "id": "qHnh-vFuelQk",
        "colab_type": "code",
        "outputId": "f8ffa267-1cb9-49de-9227-c55f005d5fb6",
        "colab": {
          "base_uri": "https://localhost:8080/",
          "height": 170
        }
      },
      "cell_type": "code",
      "source": [
        "pred_labels_test, gt_labels_test = evaluate(trainer, test_dataset, 0)\n",
        "print_scores(gt_labels_test, pred_labels_test)"
      ],
      "execution_count": 0,
      "outputs": [
        {
          "output_type": "stream",
          "text": [
            "             precision    recall  f1-score   support\n",
            "\n",
            "          N       1.00      0.89      0.94     23280\n",
            "          S       0.02      0.38      0.04       104\n",
            "          V       0.80      0.93      0.86      2233\n",
            "\n",
            "avg / total       0.97      0.89      0.93     25617\n",
            "\n",
            "accuracy:  0.893898582972245\n"
          ],
          "name": "stdout"
        }
      ]
    },
    {
      "metadata": {
        "id": "0R_lnZLcIn-y",
        "colab_type": "code",
        "colab": {}
      },
      "cell_type": "code",
      "source": [
        ""
      ],
      "execution_count": 0,
      "outputs": []
    }
  ]
}