{
 "cells": [
  {
   "cell_type": "markdown",
   "metadata": {
    "colab_type": "text",
    "id": "7je53AV_Spq9"
   },
   "source": [
    "# Chainerハンズオン：画像セグメンテーション\n",
    "\n",
    "[Open on Github](https://github.com/mitmul/chainer-handson/blob/master/segmentation-handson/Image_Segmentation_with_Chainer.ipynb)\n",
    "\n",
    "画像を対象とした深層学習の応用技術には様々なものがあります．例えば，画像の中の個別の物体の周りを矩形で囲むようにして検出する**物体検出**や，画像内で個別物体が占める領域を認識する**画像セグメンテーション**などがあります．\n",
    "\n",
    "**物体検出**は，対象物体の**「種類」と「位置」を認識する技術**であるといえます．\n",
    "\n",
    "![](https://github.com/mitmul/chainer-handson/raw/master/segmentation-handson/FasterRCNN-result.png)\n",
    "物体検出の例．矩形で対象物体を囲い，そのクラスを答えるタスク．\n",
    "\n",
    "**画像セグメンテーション**には2種類あります．1つは，個別の物体を区別するInstance-aware Segmentationです．もう一つは，同一クラスの物体であれば個を区別しないSemantic Segmentationです．今回は，後者を扱います．\n",
    "\n",
    "![](https://github.com/mitmul/chainer-handson/raw/master/segmentation-handson/PSPNet-result.png)\n",
    "Semantic Segmentationの例．ピクセル単位でクラス分類を行うタスク．画像を，予め決められた数の色で塗り絵をするようなイメージ．\n",
    "\n",
    "画像セグメンテーションは，画像全体に対して一つのクラスを割り当てる分類問題とは異なり，画像内の全ピクセルを，ピクセルごとに分類していきます．そのため，Pixel labeling タスクとも呼ばれます．これは，対象物体の**「種類」と「位置」と「形」を認識する技術**であるといえるでしょう．\n",
    "\n",
    "今回は，深層学習フレームワークChainerを用いて，このSemantic Segmentationタスクに取り組んでみましょう．"
   ]
  },
  {
   "cell_type": "markdown",
   "metadata": {
    "colab_type": "text",
    "id": "hvW0-s0mSpq-"
   },
   "source": [
    "## 環境\n",
    "\n",
    "ここで用いるライブラリは，\n",
    "\n",
    "- Chainer\n",
    "- CuPy\n",
    "- ChainerCV\n",
    "- matplotlib\n",
    "\n",
    "です．Google Colab上では，以下のようにしてインストールすることができます．以下のセルを実行してください．"
   ]
  },
  {
   "cell_type": "code",
   "execution_count": 1,
   "metadata": {
    "colab": {},
    "colab_type": "code",
    "id": "QbU-na_HWMpR"
   },
   "outputs": [],
   "source": [
    "# !apt -y install libcusparse8.0 libnvrtc8.0 libnvtoolsext1\n",
    "# !ln -snf /usr/lib/x86_64-linux-gnu/libnvrtc-builtins.so.8.0 /usr/lib/x86_64-linux-gnu/libnvrtc-builtins.so\n",
    "# !pip install chainer cupy-cuda80 chainercv matplotlib"
   ]
  },
  {
   "cell_type": "markdown",
   "metadata": {
    "colab_type": "text",
    "id": "xQivMLFwXta7"
   },
   "source": [
    "インストールが完了したら，以下のセルを実行して，各ライブラリのバージョンなどを確認します．"
   ]
  },
  {
   "cell_type": "code",
   "execution_count": 1,
   "metadata": {
    "colab": {
     "base_uri": "https://localhost:8080/",
     "height": 238
    },
    "colab_type": "code",
    "id": "4dJCchkmSpq-",
    "outputId": "efa91500-6e75-4d6d-8396-6c17bb4dac9b"
   },
   "outputs": [
    {
     "ename": "ModuleNotFoundError",
     "evalue": "No module named 'chainer'",
     "output_type": "error",
     "traceback": [
      "\u001b[0;31m---------------------------------------------------------------------------\u001b[0m",
      "\u001b[0;31mModuleNotFoundError\u001b[0m                       Traceback (most recent call last)",
      "\u001b[0;32m<ipython-input-1-49e18ac51f5d>\u001b[0m in \u001b[0;36m<module>\u001b[0;34m\u001b[0m\n\u001b[0;32m----> 1\u001b[0;31m \u001b[0;32mimport\u001b[0m \u001b[0mchainer\u001b[0m\u001b[0;34m\u001b[0m\u001b[0m\n\u001b[0m\u001b[1;32m      2\u001b[0m \u001b[0;32mimport\u001b[0m \u001b[0mcupy\u001b[0m\u001b[0;34m\u001b[0m\u001b[0m\n\u001b[1;32m      3\u001b[0m \u001b[0;32mimport\u001b[0m \u001b[0mchainercv\u001b[0m\u001b[0;34m\u001b[0m\u001b[0m\n\u001b[1;32m      4\u001b[0m \u001b[0;32mimport\u001b[0m \u001b[0mmatplotlib\u001b[0m\u001b[0;34m\u001b[0m\u001b[0m\n\u001b[1;32m      5\u001b[0m \u001b[0;34m\u001b[0m\u001b[0m\n",
      "\u001b[0;31mModuleNotFoundError\u001b[0m: No module named 'chainer'"
     ]
    }
   ],
   "source": [
    "import chainer\n",
    "import cupy\n",
    "import chainercv\n",
    "import matplotlib\n",
    "\n",
    "chainer.print_runtime_info()\n",
    "print('ChainerCV:', chainercv.__version__)\n",
    "print('matplotlib:', matplotlib.__version__)"
   ]
  },
  {
   "cell_type": "markdown",
   "metadata": {
    "colab_type": "text",
    "id": "N6-p0PhOSprA"
   },
   "source": [
    "## 1. Semantic Segmentationについて\n",
    "\n",
    "Semantic Segmentationは，Computer Visionの分野で現在も活発に研究が行われているタスクの一つで，入力画像の画素ひとつひとつに対して，なんらかのクラスを与えていくという問題です．しかし，**人間でもあるピクセルひとつだけを見てそれが何かを推測するのは不可能です**．そのため，いかにして周囲のピクセルの情報を加味しながら，ひとつひとつのピクセルの分類を行うか，が重要となります．\n",
    "\n",
    "ニューラルネットワークを用いてこの問題を解く場合は，**「画像を入力して，画像を出力するネットワーク」**を作って学習することになります．そのため，入力画像とペアになる正解ラベル画像は，同じ大きさを持つ，各ピクセルの所属クラス番号が入ったシングルチャンネルの画像とすることが一般的です．\n",
    "\n",
    "ネットワークの出力は，$C$クラス分類をする場合は$C$チャンネルの画像になります．それを各ピクセルごとにチャンネル方向にSoftmaxを取って確率ベクトルにし，正解のクラスの値が大きくなるよう（高い確信をもって正解クラスを予測できるよう）学習を進めます．画像分類（Classification）の際のロス計算を，**ピクセルごとに行っている**と考えると分かりやすいかと思います．ピクセルごとの分類誤差を，画像サイズ分だけ足し合わせたものがSemantic Segmentationタスクにおいて最小化したいロス関数となります．\n",
    "\n",
    "ここで，$C=2$の場合だけは，ネットワークの出力を$C-1 = 1$チャネル画像にし，ロス関数をSigmoid Cross Entropyとします．$C \\geq 2$の場合は，ネットワークの出力を$C$チャンネル画像にし，チャンネル方向にSoftmaxを取った上で正解ラベル画像とのCross entropyを計算するSoftmax Cross Entropyをロス関数とします．2クラスの場合に出力の1チャネル画像を閾値 $0.5$ で二値化し，予測ラベル画像として出力するのは，$C \\geq 2$クラスの場合において$C$個のクラスそれぞれに確率が与えられたあとそれが最大になるチャンネル番号を予測クラスとして出力するのと同じことです．"
   ]
  },
  {
   "cell_type": "markdown",
   "metadata": {
    "colab_type": "text",
    "id": "brsImW2ySprB"
   },
   "source": [
    "## 2. 使用するデータセット\n",
    "\n",
    "これから使用するデータセットは，心臓MRI画像（短軸像）と，それに専門家がラベルを付けたものです．データについて詳しくはこちらをご参照ください[[1](#1), [2](#2), [3](#3)]．\n",
    "\n",
    "下記にこのデータセットから抜き出した画像ペアの例を示します．下のセルを実行してみてください．"
   ]
  },
  {
   "cell_type": "code",
   "execution_count": 3,
   "metadata": {
    "colab": {},
    "colab_type": "code",
    "id": "BMtGEZWIY0EW"
   },
   "outputs": [
    {
     "name": "stdout",
     "output_type": "stream",
     "text": [
      "  % Total    % Received % Xferd  Average Speed   Time    Time     Time  Current\n",
      "                                 Dload  Upload   Total   Spent    Left  Speed\n",
      "100   599    0   599    0     0    191      0 --:--:--  0:00:03 --:--:--   204\n",
      "100 7533k  100 7533k    0     0   784k      0  0:00:09  0:00:09 --:--:-- 1636k 0    0     0    0     0      0      0 --:--:--  0:00:04 --:--:--     0\n",
      "Archive:  train.zip\n",
      "   creating: train/\n",
      "   creating: train/image/\n",
      "  inflating: train/image/000.png     \n",
      "  inflating: train/image/001.png     \n",
      "  inflating: train/image/002.png     \n",
      "  inflating: train/image/003.png     \n",
      "  inflating: train/image/004.png     \n",
      "  inflating: train/image/005.png     \n",
      "  inflating: train/image/006.png     \n",
      "  inflating: train/image/007.png     \n",
      "  inflating: train/image/008.png     \n",
      "  inflating: train/image/009.png     \n",
      "  inflating: train/image/010.png     \n",
      "  inflating: train/image/011.png     \n",
      "  inflating: train/image/012.png     \n",
      "  inflating: train/image/013.png     \n",
      "  inflating: train/image/014.png     \n",
      "  inflating: train/image/015.png     \n",
      "  inflating: train/image/016.png     \n",
      "  inflating: train/image/017.png     \n",
      "  inflating: train/image/018.png     \n",
      "  inflating: train/image/019.png     \n",
      "  inflating: train/image/020.png     \n",
      "  inflating: train/image/021.png     \n",
      "  inflating: train/image/022.png     \n",
      "  inflating: train/image/023.png     \n",
      "  inflating: train/image/024.png     \n",
      "  inflating: train/image/025.png     \n",
      "  inflating: train/image/026.png     \n",
      "  inflating: train/image/027.png     \n",
      "  inflating: train/image/028.png     \n",
      "  inflating: train/image/029.png     \n",
      "  inflating: train/image/030.png     \n",
      "  inflating: train/image/031.png     \n",
      "  inflating: train/image/032.png     \n",
      "  inflating: train/image/033.png     \n",
      "  inflating: train/image/034.png     \n",
      "  inflating: train/image/035.png     \n",
      "  inflating: train/image/036.png     \n",
      "  inflating: train/image/037.png     \n",
      "  inflating: train/image/038.png     \n",
      "  inflating: train/image/039.png     \n",
      "  inflating: train/image/040.png     \n",
      "  inflating: train/image/041.png     \n",
      "  inflating: train/image/042.png     \n",
      "  inflating: train/image/043.png     \n",
      "  inflating: train/image/044.png     \n",
      "  inflating: train/image/045.png     \n",
      "  inflating: train/image/046.png     \n",
      "  inflating: train/image/047.png     \n",
      "  inflating: train/image/048.png     \n",
      "  inflating: train/image/049.png     \n",
      "  inflating: train/image/050.png     \n",
      "  inflating: train/image/051.png     \n",
      "  inflating: train/image/052.png     \n",
      "  inflating: train/image/053.png     \n",
      "  inflating: train/image/054.png     \n",
      "  inflating: train/image/055.png     \n",
      "  inflating: train/image/056.png     \n",
      "  inflating: train/image/057.png     \n",
      "  inflating: train/image/058.png     \n",
      "  inflating: train/image/059.png     \n",
      "  inflating: train/image/060.png     \n",
      "  inflating: train/image/061.png     \n",
      "  inflating: train/image/062.png     \n",
      "  inflating: train/image/063.png     \n",
      "  inflating: train/image/064.png     \n",
      "  inflating: train/image/065.png     \n",
      "  inflating: train/image/066.png     \n",
      "  inflating: train/image/067.png     \n",
      "  inflating: train/image/068.png     \n",
      "  inflating: train/image/069.png     \n",
      "  inflating: train/image/070.png     \n",
      "  inflating: train/image/071.png     \n",
      "  inflating: train/image/072.png     \n",
      "  inflating: train/image/073.png     \n",
      "  inflating: train/image/074.png     \n",
      "  inflating: train/image/075.png     \n",
      "  inflating: train/image/076.png     \n",
      "  inflating: train/image/077.png     \n",
      "  inflating: train/image/078.png     \n",
      "  inflating: train/image/079.png     \n",
      "  inflating: train/image/080.png     \n",
      "  inflating: train/image/081.png     \n",
      "  inflating: train/image/082.png     \n",
      "  inflating: train/image/083.png     \n",
      "  inflating: train/image/084.png     \n",
      "  inflating: train/image/085.png     \n",
      "  inflating: train/image/086.png     \n",
      "  inflating: train/image/087.png     \n",
      "  inflating: train/image/088.png     \n",
      "  inflating: train/image/089.png     \n",
      "  inflating: train/image/090.png     \n",
      "  inflating: train/image/091.png     \n",
      "  inflating: train/image/092.png     \n",
      "  inflating: train/image/093.png     \n",
      "  inflating: train/image/094.png     \n",
      "  inflating: train/image/095.png     \n",
      "  inflating: train/image/096.png     \n",
      "  inflating: train/image/097.png     \n",
      "  inflating: train/image/098.png     \n",
      "  inflating: train/image/099.png     \n",
      "  inflating: train/image/100.png     \n",
      "  inflating: train/image/101.png     \n",
      "  inflating: train/image/102.png     \n",
      "  inflating: train/image/103.png     \n",
      "  inflating: train/image/104.png     \n",
      "  inflating: train/image/105.png     \n",
      "  inflating: train/image/106.png     \n",
      "  inflating: train/image/107.png     \n",
      "  inflating: train/image/108.png     \n",
      "  inflating: train/image/109.png     \n",
      "  inflating: train/image/110.png     \n",
      "  inflating: train/image/111.png     \n",
      "  inflating: train/image/112.png     \n",
      "  inflating: train/image/113.png     \n",
      "  inflating: train/image/114.png     \n",
      "  inflating: train/image/115.png     \n",
      "  inflating: train/image/116.png     \n",
      "  inflating: train/image/117.png     \n",
      "  inflating: train/image/118.png     \n",
      "  inflating: train/image/119.png     \n",
      "  inflating: train/image/120.png     \n",
      "  inflating: train/image/121.png     \n",
      "  inflating: train/image/122.png     \n",
      "  inflating: train/image/123.png     \n",
      "  inflating: train/image/124.png     \n",
      "  inflating: train/image/125.png     \n",
      "  inflating: train/image/126.png     \n",
      "  inflating: train/image/127.png     \n",
      "  inflating: train/image/128.png     \n",
      "  inflating: train/image/129.png     \n",
      "  inflating: train/image/130.png     \n",
      "  inflating: train/image/131.png     \n",
      "  inflating: train/image/132.png     \n",
      "  inflating: train/image/133.png     \n",
      "  inflating: train/image/134.png     \n",
      "  inflating: train/image/135.png     \n",
      "  inflating: train/image/136.png     \n",
      "  inflating: train/image/137.png     \n",
      "  inflating: train/image/138.png     \n",
      "  inflating: train/image/139.png     \n",
      "  inflating: train/image/140.png     \n",
      "  inflating: train/image/141.png     \n",
      "  inflating: train/image/142.png     \n",
      "  inflating: train/image/143.png     \n",
      "  inflating: train/image/144.png     \n",
      "  inflating: train/image/145.png     \n",
      "  inflating: train/image/146.png     \n",
      "  inflating: train/image/147.png     \n",
      "  inflating: train/image/148.png     \n",
      "  inflating: train/image/149.png     \n",
      "  inflating: train/image/150.png     \n",
      "  inflating: train/image/151.png     \n",
      "  inflating: train/image/152.png     \n",
      "  inflating: train/image/153.png     \n",
      "  inflating: train/image/154.png     \n",
      "  inflating: train/image/155.png     \n",
      " extracting: train/image/156.png     \n",
      "  inflating: train/image/157.png     \n",
      "  inflating: train/image/158.png     \n",
      "  inflating: train/image/159.png     \n",
      "  inflating: train/image/160.png     \n",
      "  inflating: train/image/161.png     \n",
      "  inflating: train/image/162.png     \n",
      "  inflating: train/image/163.png     \n",
      "  inflating: train/image/164.png     \n",
      "  inflating: train/image/165.png     \n",
      "  inflating: train/image/166.png     \n",
      "  inflating: train/image/167.png     \n",
      "  inflating: train/image/168.png     \n",
      "  inflating: train/image/169.png     \n",
      "  inflating: train/image/170.png     \n",
      "  inflating: train/image/171.png     \n",
      "  inflating: train/image/172.png     \n",
      "  inflating: train/image/173.png     \n",
      "  inflating: train/image/174.png     \n",
      "  inflating: train/image/175.png     \n",
      "  inflating: train/image/176.png     \n",
      "  inflating: train/image/177.png     \n",
      "  inflating: train/image/178.png     \n",
      "  inflating: train/image/179.png     \n",
      "  inflating: train/image/180.png     \n",
      "  inflating: train/image/181.png     \n",
      "  inflating: train/image/182.png     \n",
      "  inflating: train/image/183.png     \n",
      "  inflating: train/image/184.png     \n",
      "  inflating: train/image/185.png     \n",
      "  inflating: train/image/186.png     \n",
      "  inflating: train/image/187.png     \n",
      "  inflating: train/image/188.png     \n",
      "  inflating: train/image/189.png     \n",
      "  inflating: train/image/190.png     \n",
      "  inflating: train/image/191.png     \n",
      "  inflating: train/image/192.png     \n",
      "  inflating: train/image/193.png     \n",
      "  inflating: train/image/194.png     \n",
      "  inflating: train/image/195.png     \n",
      "  inflating: train/image/196.png     \n",
      "  inflating: train/image/197.png     \n",
      "  inflating: train/image/198.png     \n",
      "  inflating: train/image/199.png     \n",
      "  inflating: train/image/200.png     \n",
      "  inflating: train/image/201.png     \n",
      "  inflating: train/image/202.png     \n",
      "  inflating: train/image/203.png     \n",
      "  inflating: train/image/204.png     \n",
      "  inflating: train/image/205.png     \n",
      "  inflating: train/image/206.png     \n",
      "  inflating: train/image/207.png     \n",
      "  inflating: train/image/208.png     \n",
      "  inflating: train/image/209.png     \n",
      "  inflating: train/image/210.png     \n",
      "  inflating: train/image/211.png     \n",
      "  inflating: train/image/212.png     \n",
      "  inflating: train/image/213.png     \n",
      "  inflating: train/image/214.png     \n",
      "  inflating: train/image/215.png     \n",
      "  inflating: train/image/216.png     \n",
      "  inflating: train/image/217.png     \n",
      "  inflating: train/image/218.png     \n",
      "  inflating: train/image/219.png     \n",
      "  inflating: train/image/220.png     \n",
      "  inflating: train/image/221.png     \n",
      "  inflating: train/image/222.png     \n",
      "  inflating: train/image/223.png     \n",
      "  inflating: train/image/224.png     \n",
      "  inflating: train/image/225.png     \n",
      "  inflating: train/image/226.png     \n",
      "  inflating: train/image/227.png     \n",
      "  inflating: train/image/228.png     \n",
      "  inflating: train/image/229.png     \n",
      "  inflating: train/image/230.png     \n",
      "  inflating: train/image/231.png     \n",
      "  inflating: train/image/232.png     \n",
      "  inflating: train/image/233.png     \n",
      "   creating: train/label/\n",
      "  inflating: train/label/000.png     \n",
      "  inflating: train/label/001.png     \n",
      "  inflating: train/label/002.png     \n",
      "  inflating: train/label/003.png     \n",
      "  inflating: train/label/004.png     \n",
      "  inflating: train/label/005.png     \n",
      "  inflating: train/label/006.png     \n",
      "  inflating: train/label/007.png     \n",
      "  inflating: train/label/008.png     \n",
      "  inflating: train/label/009.png     \n",
      "  inflating: train/label/010.png     \n",
      "  inflating: train/label/011.png     \n",
      "  inflating: train/label/012.png     \n",
      "  inflating: train/label/013.png     \n",
      "  inflating: train/label/014.png     \n",
      "  inflating: train/label/015.png     \n",
      "  inflating: train/label/016.png     \n",
      "  inflating: train/label/017.png     \n",
      "  inflating: train/label/018.png     \n",
      "  inflating: train/label/019.png     \n",
      "  inflating: train/label/020.png     \n",
      "  inflating: train/label/021.png     \n",
      "  inflating: train/label/022.png     \n",
      "  inflating: train/label/023.png     \n",
      "  inflating: train/label/024.png     \n",
      "  inflating: train/label/025.png     \n",
      "  inflating: train/label/026.png     \n",
      "  inflating: train/label/027.png     \n",
      "  inflating: train/label/028.png     \n",
      "  inflating: train/label/029.png     \n",
      "  inflating: train/label/030.png     \n",
      "  inflating: train/label/031.png     \n",
      "  inflating: train/label/032.png     \n",
      "  inflating: train/label/033.png     \n",
      "  inflating: train/label/034.png     \n",
      "  inflating: train/label/035.png     \n",
      "  inflating: train/label/036.png     \n",
      "  inflating: train/label/037.png     \n",
      "  inflating: train/label/038.png     \n",
      "  inflating: train/label/039.png     \n",
      "  inflating: train/label/040.png     \n",
      "  inflating: train/label/041.png     \n",
      "  inflating: train/label/042.png     \n",
      "  inflating: train/label/043.png     \n",
      "  inflating: train/label/044.png     \n",
      "  inflating: train/label/045.png     \n",
      "  inflating: train/label/046.png     \n",
      "  inflating: train/label/047.png     \n",
      "  inflating: train/label/048.png     \n",
      "  inflating: train/label/049.png     \n",
      "  inflating: train/label/050.png     \n",
      "  inflating: train/label/051.png     \n",
      "  inflating: train/label/052.png     \n",
      "  inflating: train/label/053.png     \n",
      "  inflating: train/label/054.png     \n",
      "  inflating: train/label/055.png     \n",
      "  inflating: train/label/056.png     \n",
      "  inflating: train/label/057.png     \n",
      "  inflating: train/label/058.png     \n",
      "  inflating: train/label/059.png     \n",
      "  inflating: train/label/060.png     \n",
      "  inflating: train/label/061.png     \n",
      "  inflating: train/label/062.png     \n",
      "  inflating: train/label/063.png     \n",
      "  inflating: train/label/064.png     \n",
      "  inflating: train/label/065.png     \n",
      "  inflating: train/label/066.png     \n",
      "  inflating: train/label/067.png     \n",
      "  inflating: train/label/068.png     \n",
      "  inflating: train/label/069.png     \n",
      "  inflating: train/label/070.png     \n",
      "  inflating: train/label/071.png     \n",
      "  inflating: train/label/072.png     \n",
      "  inflating: train/label/073.png     \n",
      "  inflating: train/label/074.png     \n",
      "  inflating: train/label/075.png     \n",
      "  inflating: train/label/076.png     \n",
      "  inflating: train/label/077.png     \n",
      "  inflating: train/label/078.png     \n",
      "  inflating: train/label/079.png     \n",
      "  inflating: train/label/080.png     \n",
      "  inflating: train/label/081.png     \n",
      "  inflating: train/label/082.png     \n",
      "  inflating: train/label/083.png     \n",
      "  inflating: train/label/084.png     \n",
      "  inflating: train/label/085.png     \n",
      "  inflating: train/label/086.png     \n",
      "  inflating: train/label/087.png     \n",
      "  inflating: train/label/088.png     \n",
      "  inflating: train/label/089.png     \n",
      "  inflating: train/label/090.png     \n",
      "  inflating: train/label/091.png     \n",
      "  inflating: train/label/092.png     \n",
      "  inflating: train/label/093.png     \n",
      "  inflating: train/label/094.png     \n",
      "  inflating: train/label/095.png     \n",
      "  inflating: train/label/096.png     \n",
      "  inflating: train/label/097.png     \n",
      "  inflating: train/label/098.png     \n",
      "  inflating: train/label/099.png     \n",
      "  inflating: train/label/100.png     \n",
      "  inflating: train/label/101.png     \n",
      "  inflating: train/label/102.png     \n",
      "  inflating: train/label/103.png     \n",
      "  inflating: train/label/104.png     \n",
      "  inflating: train/label/105.png     \n",
      "  inflating: train/label/106.png     \n",
      "  inflating: train/label/107.png     \n",
      "  inflating: train/label/108.png     \n",
      "  inflating: train/label/109.png     \n",
      "  inflating: train/label/110.png     \n",
      "  inflating: train/label/111.png     \n",
      "  inflating: train/label/112.png     \n",
      "  inflating: train/label/113.png     \n",
      "  inflating: train/label/114.png     \n",
      "  inflating: train/label/115.png     \n",
      "  inflating: train/label/116.png     \n",
      "  inflating: train/label/117.png     \n",
      "  inflating: train/label/118.png     \n",
      "  inflating: train/label/119.png     \n",
      "  inflating: train/label/120.png     \n",
      "  inflating: train/label/121.png     \n",
      "  inflating: train/label/122.png     \n",
      "  inflating: train/label/123.png     \n",
      "  inflating: train/label/124.png     \n",
      "  inflating: train/label/125.png     \n",
      "  inflating: train/label/126.png     \n",
      "  inflating: train/label/127.png     \n",
      "  inflating: train/label/128.png     \n",
      "  inflating: train/label/129.png     \n",
      "  inflating: train/label/130.png     \n",
      "  inflating: train/label/131.png     \n",
      "  inflating: train/label/132.png     \n",
      "  inflating: train/label/133.png     \n",
      "  inflating: train/label/134.png     \n",
      "  inflating: train/label/135.png     \n",
      "  inflating: train/label/136.png     \n",
      "  inflating: train/label/137.png     \n",
      "  inflating: train/label/138.png     \n",
      "  inflating: train/label/139.png     \n",
      "  inflating: train/label/140.png     \n",
      "  inflating: train/label/141.png     \n",
      "  inflating: train/label/142.png     \n",
      "  inflating: train/label/143.png     \n",
      "  inflating: train/label/144.png     \n",
      "  inflating: train/label/145.png     \n",
      "  inflating: train/label/146.png     \n",
      "  inflating: train/label/147.png     \n",
      "  inflating: train/label/148.png     \n",
      "  inflating: train/label/149.png     \n",
      "  inflating: train/label/150.png     \n",
      "  inflating: train/label/151.png     \n",
      "  inflating: train/label/152.png     \n",
      "  inflating: train/label/153.png     \n",
      "  inflating: train/label/154.png     \n",
      "  inflating: train/label/155.png     \n",
      "  inflating: train/label/156.png     \n",
      "  inflating: train/label/157.png     \n",
      "  inflating: train/label/158.png     \n",
      "  inflating: train/label/159.png     \n",
      "  inflating: train/label/160.png     \n",
      "  inflating: train/label/161.png     \n",
      "  inflating: train/label/162.png     \n",
      "  inflating: train/label/163.png     \n",
      "  inflating: train/label/164.png     \n",
      "  inflating: train/label/165.png     \n",
      "  inflating: train/label/166.png     \n",
      "  inflating: train/label/167.png     \n",
      "  inflating: train/label/168.png     \n",
      "  inflating: train/label/169.png     \n",
      "  inflating: train/label/170.png     \n",
      "  inflating: train/label/171.png     \n",
      "  inflating: train/label/172.png     \n",
      "  inflating: train/label/173.png     \n",
      "  inflating: train/label/174.png     \n",
      "  inflating: train/label/175.png     \n",
      "  inflating: train/label/176.png     \n",
      "  inflating: train/label/177.png     \n",
      "  inflating: train/label/178.png     \n",
      "  inflating: train/label/179.png     \n",
      "  inflating: train/label/180.png     \n",
      "  inflating: train/label/181.png     \n",
      "  inflating: train/label/182.png     \n",
      "  inflating: train/label/183.png     \n"
     ]
    },
    {
     "name": "stdout",
     "output_type": "stream",
     "text": [
      "  inflating: train/label/184.png     \n",
      "  inflating: train/label/185.png     \n",
      "  inflating: train/label/186.png     \n",
      "  inflating: train/label/187.png     \n",
      "  inflating: train/label/188.png     \n",
      "  inflating: train/label/189.png     \n",
      "  inflating: train/label/190.png     \n",
      "  inflating: train/label/191.png     \n",
      "  inflating: train/label/192.png     \n",
      "  inflating: train/label/193.png     \n",
      "  inflating: train/label/194.png     \n",
      "  inflating: train/label/195.png     \n",
      "  inflating: train/label/196.png     \n",
      "  inflating: train/label/197.png     \n",
      "  inflating: train/label/198.png     \n",
      "  inflating: train/label/199.png     \n",
      "  inflating: train/label/200.png     \n",
      "  inflating: train/label/201.png     \n",
      "  inflating: train/label/202.png     \n",
      "  inflating: train/label/203.png     \n",
      "  inflating: train/label/204.png     \n",
      "  inflating: train/label/205.png     \n",
      "  inflating: train/label/206.png     \n",
      "  inflating: train/label/207.png     \n",
      "  inflating: train/label/208.png     \n",
      "  inflating: train/label/209.png     \n",
      "  inflating: train/label/210.png     \n",
      "  inflating: train/label/211.png     \n",
      "  inflating: train/label/212.png     \n",
      "  inflating: train/label/213.png     \n",
      "  inflating: train/label/214.png     \n",
      "  inflating: train/label/215.png     \n",
      "  inflating: train/label/216.png     \n",
      "  inflating: train/label/217.png     \n",
      "  inflating: train/label/218.png     \n",
      "  inflating: train/label/219.png     \n",
      "  inflating: train/label/220.png     \n",
      "  inflating: train/label/221.png     \n",
      "  inflating: train/label/222.png     \n",
      "  inflating: train/label/223.png     \n",
      "  inflating: train/label/224.png     \n",
      "  inflating: train/label/225.png     \n",
      "  inflating: train/label/226.png     \n",
      "  inflating: train/label/227.png     \n",
      "  inflating: train/label/228.png     \n",
      "  inflating: train/label/229.png     \n",
      "  inflating: train/label/230.png     \n",
      "  inflating: train/label/231.png     \n",
      "  inflating: train/label/232.png     \n",
      "  inflating: train/label/233.png     \n",
      "  % Total    % Received % Xferd  Average Speed   Time    Time     Time  Current\n",
      "                                 Dload  Upload   Total   Spent    Left  Speed\n",
      "100   597    0   597    0     0    225      0 --:--:--  0:00:02 --:--:--   225\n",
      "100  886k  100  886k    0     0   121k      0  0:00:07  0:00:07 --:--:--  255k\n",
      "Archive:  val.zip\n",
      "   creating: val/\n",
      "   creating: val/image/\n",
      "  inflating: val/image/000.png       \n",
      "  inflating: val/image/001.png       \n",
      " extracting: val/image/002.png       \n",
      "  inflating: val/image/003.png       \n",
      "  inflating: val/image/004.png       \n",
      "  inflating: val/image/005.png       \n",
      "  inflating: val/image/006.png       \n",
      "  inflating: val/image/007.png       \n",
      "  inflating: val/image/008.png       \n",
      "  inflating: val/image/009.png       \n",
      "  inflating: val/image/010.png       \n",
      "  inflating: val/image/011.png       \n",
      "  inflating: val/image/012.png       \n",
      "  inflating: val/image/013.png       \n",
      "  inflating: val/image/014.png       \n",
      "  inflating: val/image/015.png       \n",
      "  inflating: val/image/016.png       \n",
      "  inflating: val/image/017.png       \n",
      "  inflating: val/image/018.png       \n",
      "  inflating: val/image/019.png       \n",
      "  inflating: val/image/020.png       \n",
      "  inflating: val/image/021.png       \n",
      "  inflating: val/image/022.png       \n",
      "  inflating: val/image/023.png       \n",
      "  inflating: val/image/024.png       \n",
      "  inflating: val/image/025.png       \n",
      "   creating: val/label/\n",
      "  inflating: val/label/000.png       \n",
      "  inflating: val/label/001.png       \n",
      "  inflating: val/label/002.png       \n",
      "  inflating: val/label/003.png       \n",
      "  inflating: val/label/004.png       \n",
      "  inflating: val/label/005.png       \n",
      "  inflating: val/label/006.png       \n",
      "  inflating: val/label/007.png       \n",
      "  inflating: val/label/008.png       \n",
      "  inflating: val/label/009.png       \n",
      "  inflating: val/label/010.png       \n",
      "  inflating: val/label/011.png       \n",
      "  inflating: val/label/012.png       \n",
      "  inflating: val/label/013.png       \n",
      "  inflating: val/label/014.png       \n",
      "  inflating: val/label/015.png       \n",
      "  inflating: val/label/016.png       \n",
      "  inflating: val/label/017.png       \n",
      "  inflating: val/label/018.png       \n",
      "  inflating: val/label/019.png       \n",
      "  inflating: val/label/020.png       \n",
      "  inflating: val/label/021.png       \n",
      "  inflating: val/label/022.png       \n",
      "  inflating: val/label/023.png       \n",
      "  inflating: val/label/024.png       \n",
      "  inflating: val/label/025.png       \n"
     ]
    }
   ],
   "source": [
    "!curl -L -O https://github.com/mitmul/chainer-handson/releases/download/SegmentationDataset/train.zip\n",
    "!unzip train.zip && rm -rf train.zip\n",
    "!curl -L -O https://github.com/mitmul/chainer-handson/releases/download/SegmentationDataset/val.zip\n",
    "!unzip val.zip && rm -rf val.zip"
   ]
  },
  {
   "cell_type": "code",
   "execution_count": 4,
   "metadata": {
    "colab": {
     "base_uri": "https://localhost:8080/",
     "height": 204
    },
    "colab_type": "code",
    "id": "fYrsnyUNSprC",
    "outputId": "677e071d-f38b-437e-e709-57fde97c1b8b"
   },
   "outputs": [
    {
     "data": {
      "image/png": "[encoded data removed]",
      "text/plain": [
       "<Figure size 432x288 with 2 Axes>"
      ]
     },
     "metadata": {
      "needs_background": "light"
     },
     "output_type": "display_data"
    }
   ],
   "source": [
    "%matplotlib inline\n",
    "\n",
    "import matplotlib.pyplot as plt\n",
    "import numpy as np\n",
    "\n",
    "from PIL import Image\n",
    "\n",
    "# PILライブラリで画像を読み込む\n",
    "img = np.asarray(Image.open('train/image/000.png'))\n",
    "label = np.asarray(Image.open('train/label/000.png'))\n",
    "\n",
    "# matplotlibライブラリを使って2つの画像を並べて表示\n",
    "fig, axes = plt.subplots(1, 2)\n",
    "axes[0].set_axis_off()\n",
    "axes[0].imshow(img, cmap='gray')\n",
    "axes[1].set_axis_off()\n",
    "axes[1].imshow(label, cmap='gray')\n",
    "plt.show()"
   ]
  },
  {
   "cell_type": "markdown",
   "metadata": {
    "colab_type": "text",
    "id": "GGUIUVdmSprE"
   },
   "source": [
    "左側がMRI画像，右側がそれに対し専門家が作成した左心室の部分のマスク画像となっています．右側のマスク画像のうち，**白く塗りつぶされている領域が，今回見つけ出したい左心室の領域となっています**．左心室の大きさは，画像ごとに異なっており，形もまた様々です．ただし，**画像全体に対して左心室が占める領域は比較的小さい**ということは共通しています．\n",
    "\n",
    "今回は，MRI画像データを，提供元が配布している形式（DICOM形式）から扱いやすいよう一般的な画像フォーマット（PNG）に変換して用いますが，そのための作業については説明しません．こういったデータの整形や前処理が，機械学習においては非常に重要となることがあるのは確かですが，今回はその部分に関する解説はスコープを大きくはずれるため，割愛します．（もし今回用いるMRI画像群のデータ整形の方法について興味をお持ちの方は，以前行われたKaggleのコンペティションに関連して提供されているこちらのチュートリアルをご参照ください：[Kaggle competition: Second Annual Data Science Bowl](https://www.kaggle.com/c/second-annual-data-science-bowl/details/deep-learning-tutorial)）\n",
    "\n",
    "今回用いるデータセットの元となったデータは，医療画像では一般的な画像フォーマットである [DICOM](https://en.wikipedia.org/wiki/DICOM) 形式の 256 x 256 サイズのグレースケール画像で配布されているものです．今回は，これをあらかじめPNG画像に変換しておきました．ラベル画像は，同じ大きさの二値画像となっており，**左心室の領域内部のピクセルは画素値として1を持ち，それ以外のピクセルは0で埋められています**．今回用いる学習用データセットは234枚の画像ペア（グレースケールのMRI画像と，対応する二値のラベル画像のペア）を持ちます．検証用データとしては，26枚の画像を学習用データとは別に用意してあります．"
   ]
  },
  {
   "cell_type": "markdown",
   "metadata": {
    "colab_type": "text",
    "id": "HMrqUDzzSprE"
   },
   "source": [
    "## 3. Chainerの概要\n",
    "\n",
    "Chainerは**Define-by-Run**を特徴とするDeep Learningフレームワークです．**Define-by-Run**とは，CaffeやTensorFlowなどのように，**モデルアーキテクチャを定義して確定（define）**\n",
    "させてから**データを流し込んで実行（run）**する，という**Define-and-Run**と異なり，**「データに対する計算を実行（run）することによってモデルが定義される（define）」**というものです．\n",
    "\n",
    "![](https://github.com/mitmul/chainer-handson/raw/master/segmentation-handson/define-by-run.png)"
   ]
  },
  {
   "cell_type": "markdown",
   "metadata": {
    "colab_type": "text",
    "id": "jgzsg0xTSprF"
   },
   "source": [
    "このため，データの内容によって処理を分けるようなモデルが作りやすく，またRNNのように可変回数のループ処理が含まれるような構造を記述しやすくなります．今回は，Semantic Segmentationに取り組みますので，画像から画像を出力するシングルパスのネットワークを記述します．"
   ]
  },
  {
   "cell_type": "markdown",
   "metadata": {
    "colab_type": "text",
    "id": "rvpjNb9uSprG"
   },
   "source": [
    "### 3.1 Chainerを用いた学習の流れ\n",
    "\n",
    "Chainerには，学習ループ抽象化のためのクラスである`Trainer`が用意されています．これを用いて，2クラスのSemantic Segmentationタスクに取り組みます．`Trainer`を使って学習を行う際にユーザが準備することは，以下のようになります．\n",
    "\n",
    "1. Datasetオブジェクトの準備（学習に使うデータを一つ一つ返す）\n",
    "2. DatasetオブジェクトをIteratorにくるむ（Dataset内のデータをバッチサイズ分束ねて返す）\n",
    "3. モデルの定義（学習対象になるニューラルネットワーク．`chainer.Chain`クラスを継承して書く）\n",
    "4. 最適化手法の選択（`chainer.optimizers`以下にある最適化手法から選ぶ）\n",
    "5. `Updater`オブジェクトの準備（`Iterator`と`Optimizer`をとり，実際の学習部分（パラメータアップデート）を行うもの）\n",
    "6. `Trainer`オブジェクトの作成（学習ループの管理）\n",
    "\n",
    "`Trainer`に含まれるコンポーネントは，以下のような関係になっています．\n",
    "\n",
    "![](https://github.com/mitmul/chainer-handson/raw/master/segmentation-handson/trainer.png)"
   ]
  },
  {
   "cell_type": "markdown",
   "metadata": {
    "colab_type": "text",
    "id": "8MwXJDwvSprG"
   },
   "source": [
    "- `Updater`は，`Iterator`から`Dataset`にあるデータを指定したバッチサイズ数だけ取り出し，`Model`に与えてロスを計算し，`Optimizer`によってパラメータを更新する，という一連の作業（これが1 iterationになります）を隠蔽しています．\n",
    "- `Trainer`は`Extension`という拡張機能を使うことができ，指定したタイミング（毎iterationや，毎epoch）でログを取る，ロスや精度のプロットを描画して保存，などを自動的に行うことができます．"
   ]
  },
  {
   "cell_type": "markdown",
   "metadata": {
    "colab_type": "text",
    "id": "v_Fv_HaoSprH"
   },
   "source": [
    "Chainerを用いてネットワークの学習を記述する場合は，上の図の**内側から順に定義していき**，最後にすべてを持った`Trainer`オブジェクトを作成し，`trainer.run()`のようにして学習を開始することになります．\n",
    "\n",
    "（`Trainer`を使わず，自分で学習ループを記述することもできますが，今回は`Trainer`を使用することを前提とします．自分で学習ループを記述する方法を知りたい場合は，こちらの公式チュートリアルが参考になります：[How to write a training loop in Chainer](https://docs.chainer.org/en/latest/tutorial/train_loop.html)）"
   ]
  },
  {
   "cell_type": "markdown",
   "metadata": {
    "colab_type": "text",
    "id": "-5yuQ_VBSprI"
   },
   "source": [
    "## 4. 三層パーセプトロンによるセグメンテーション\n",
    "\n",
    "まずはシンプルなモデルから学習を開始します．全結合層3つからなる三層パーセプトロンを使って，MRI画像を入力にとり，左心室らしさのグレースケール画像を出力するモデルを学習しましょう．"
   ]
  },
  {
   "cell_type": "markdown",
   "metadata": {
    "colab_type": "text",
    "id": "FScZCHDrSprJ"
   },
   "source": [
    "### 4.1 データセットの準備\n",
    "\n",
    "まずはデータセットの準備をします．Chainerにはいくつかの便利なデータセットまわりのクラスが用意されています．`ImageDataset`は，画像ファイルへのファイルパスのリストを渡して初期化してやると，そのパスにある画像を**学習時に**ディスクから読み込み，返してくれるようなデータセットクラスです．`TupleDataset`は，複数のデータセットオブジェクトを渡して初期化してやると，それらから同じインデックスを持つデータをタプルに束ねて返してくれるようなデータセットオブジェクトを作成するクラスです．（Pythonの`zip`のようなイメージです）\n",
    "\n",
    "今回はSemantic Segmentationなので，入力も出力も画像です．なので，2つの`ImageDataset`オブジェクトを作成します．以下のセルを実行してください．"
   ]
  },
  {
   "cell_type": "code",
   "execution_count": 5,
   "metadata": {
    "colab": {},
    "colab_type": "code",
    "id": "wL7MAXtNSprK"
   },
   "outputs": [],
   "source": [
    "import glob\n",
    "from chainer import datasets\n",
    "\n",
    "def create_dataset(img_filenames, label_filenames):\n",
    "    img = datasets.ImageDataset(img_filenames)\n",
    "    img = datasets.TransformDataset(img, lambda x: x / 255.)  # 0-1に正規化\n",
    "    label = datasets.ImageDataset(label_filenames, dtype=np.int32)\n",
    "    dataset = datasets.TupleDataset(img, label)\n",
    "    return dataset"
   ]
  },
  {
   "cell_type": "markdown",
   "metadata": {
    "colab_type": "text",
    "id": "Xucn9Z1LSprN"
   },
   "source": [
    "上の関数は，入力画像のファイルパスのリスト`img_filenames`と，正解ラベル画像（0 or 1の画素値を持つ二値画像）のファイルパスのリスト`label_filenames`を与えて，2つのデータセットオブジェクトを`TupleDataset`で束ねて返すものになっています．\n",
    "\n",
    "`img`は入力画像のデータセットですが，まるで入力画像が入ったリストのようになっています．そのため，`img[i]`のようにすれば`i`番目の画像が返ってきます（`[i]`でアクセスしたときに初めてディスクから画像が読み込まれます）．\n",
    "\n",
    "`label`も同様に，ラベル画像のリストです．これらを`TupleDataset`で束ねて作った`dataset`は，`dataset[i]`でアクセスすると`(img[i], label[i])`というタプルを返すものになります．（`img`と`label`が同じ長さのリストだとすると，`zip(img, label)`を行っているようなイメージです．）\n",
    "\n",
    "ここで，この関数内の2行目では，はじめに`ImageDataset`で作った入力データセットを，`TransformDataset`でくるんでいます．`TransformDataset`は，第1引数に与えられたデータセットにアクセスする際に**第2引数に与えた関数をくぐらせてから返す**ようにできるクラスで，任意の関数を与えてデータを変換させる処理をはさむことができます．これを使うと，内部で乱数によって様々な変換（画像の場合，ランダムに左右反転を行ったり，ランダムな角度で回転をしたり，などがよく行われます）を施す関数を渡すことでData augmentationを簡単に実装することができます．ここでは，変換を行う関数を`lambda`関数を使って与え，単純に値域を$[0, 1]$に変換するだけの処理を行っています．\n",
    "\n",
    "この`create_dataset`関数を使って学習用・検証用それぞれのデータセットオブジェクトを作成しましょう．下のセルを実行してください．"
   ]
  },
  {
   "cell_type": "code",
   "execution_count": 6,
   "metadata": {
    "colab": {},
    "colab_type": "code",
    "id": "gLwVX846SprN"
   },
   "outputs": [],
   "source": [
    "def create_datasets():\n",
    "    # Python標準のglobを使ってMRI画像ファイル名/ラベル画像ファイル名の一覧を取得\n",
    "    train_img_filenames = sorted(glob.glob('train/image/*.png'))\n",
    "    train_label_filenames = sorted(glob.glob('train/label/*.png'))\n",
    "\n",
    "    # リストを渡して，データセットオブジェクト train を作成\n",
    "    train = create_dataset(train_img_filenames, train_label_filenames)\n",
    "\n",
    "    # 同様のことをvalidationデータに対しても行う\n",
    "    val_img_filenames = sorted(glob.glob('val/image/*.png'))\n",
    "    val_label_filenames = sorted(glob.glob('val/label/*.png'))\n",
    "    val = create_dataset(val_img_filenames, val_label_filenames)\n",
    "    \n",
    "    return train, val"
   ]
  },
  {
   "cell_type": "markdown",
   "metadata": {
    "colab_type": "text",
    "id": "7fMFbheJSprR"
   },
   "source": [
    "こちらの関数では，まずPython標準に備わっている`glob`を使って，`.png`の拡張子を持つ画像ファイルを指定したディレクトリ以下から探してきて，ファイルパスリストを作っています．次に，入力画像とラベル画像のファイルリストが同じインデックスで対応したデータをそれぞれ指すように，`sorted`を使ってファイル名をソートしています．そのあと，それらのファイル名リストを先程の`create_dataset`関数に渡して，データセットオブジェクトを作成しています．同様のことをvalidation用の画像ファイルに対しても行い，`train`と`val`2つのデータセットオブジェクトを作成して返します．\n",
    "\n",
    "ではこの関数を呼んでみましょう．下のセルを実行してください．"
   ]
  },
  {
   "cell_type": "code",
   "execution_count": null,
   "metadata": {
    "colab": {
     "base_uri": "https://localhost:8080/",
     "height": 68
    },
    "colab_type": "code",
    "id": "L44uqOHXSprR",
    "outputId": "5d73b88f-595f-49c9-e087-bf8784d34c49"
   },
   "outputs": [
    {
     "name": "stdout",
     "output_type": "stream",
     "text": [
      "Dataset size:\n",
      "\ttrain:\t234\n",
      "\tvalid:\t26\n"
     ]
    }
   ],
   "source": [
    "train, val = create_datasets()\n",
    "\n",
    "print('Dataset size:\\n\\ttrain:\\t{}\\n\\tvalid:\\t{}'.format(len(train), len(val)))"
   ]
  },
  {
   "cell_type": "markdown",
   "metadata": {
    "colab_type": "text",
    "id": "p8d5DHntSprU"
   },
   "source": [
    "この関数を呼べば，訓練用データセットオブジェクトと検証用データセットオブジェクトを作成できます．データセットオブジェクトは基本的にはリストとして扱うことができるので，組み込み関数の`len()`を使っていくつのデータ点が含まれているかを知ることができます．"
   ]
  },
  {
   "cell_type": "markdown",
   "metadata": {
    "colab_type": "text",
    "id": "EawmNqfnSprU"
   },
   "source": [
    "### 4.2 モデルの定義\n",
    "\n",
    "次に，訓練するモデルの定義です．まずはじめは，最もシンプルな全結合型ネットワークを定義してみます．以下のコードを実行してみましょう．"
   ]
  },
  {
   "cell_type": "code",
   "execution_count": null,
   "metadata": {
    "colab": {},
    "colab_type": "code",
    "id": "2tO-E0NGSprW"
   },
   "outputs": [],
   "source": [
    "import chainer\n",
    "import chainer.functions as F\n",
    "import chainer.links as L\n",
    "\n",
    "class MultiLayerPerceptron(chainer.Chain):\n",
    "    \n",
    "    def __init__(self, out_h, out_w):\n",
    "        super().__init__()\n",
    "        with self.init_scope():\n",
    "            self.l1 = L.Linear(None, 100)\n",
    "            self.l2 = L.Linear(100, 100)\n",
    "            self.l3 = L.Linear(100, out_h * out_w)\n",
    "        self.out_h = out_h\n",
    "        self.out_w = out_w\n",
    "    \n",
    "    def __call__(self, x):\n",
    "        h = F.relu(self.l1(x))\n",
    "        h = F.relu(self.l2(h))\n",
    "        h = self.l3(h)\n",
    "        n = x.shape[0]\n",
    "        \n",
    "        return h.reshape((n, 1, self.out_h, self.out_w))"
   ]
  },
  {
   "cell_type": "markdown",
   "metadata": {
    "colab_type": "text",
    "id": "aYdKpLRHSprY"
   },
   "source": [
    "全結合層（`Linear`レイヤ）で終わるネットワークは，出力が1次元のベクトルになるので，それを画像の形にreshapeするためのサイズ情報（`out_h`, `out_w`）をコンストラクタに渡しています．\n",
    "\n",
    "Chainerでは，`Chain`クラスを継承したクラスを書いてモデルの定義を行うのが一般的です．コンストラクタで学習対象になるパラメータを持つレイヤ（`Link`と呼ばれます）のオブジェクトを登録していきます．この際，`init_scope`を用いて作ったコンテキストの中で行う必要があります．こうすると，自動的に最適化の対象にしてくれます．\n",
    "\n",
    "`__call__`では，実際に行いたいforward計算を記述しています．ここでは3つの全結合層を，活性化関数にReLUを用いる形で繋げています．最後に，正解のマスク画像とそのまま比較しやすいように，画像の形にreshapeして返しています．\n",
    "\n",
    "ここで，出力のチャンネル数を1にしているのは，今回対象とするデータは**左心室か左心室でないか，というニクラス分類**になるので，「左心室である確率」を与える一つの値を考えれば良いことになるからです．通常，$C$個のクラスがある場合は$C$次元の予測ベクトルを各ピクセルごとに作成し，そのピクセルにおいて最も大きな値を持つチャンネルのインデックスを予測として返すようにしますが，2クラス分類の場合では，これは予測確率が0.5より大きければpositive，0.5以下ならnegativeとすれば同じことになります．"
   ]
  },
  {
   "cell_type": "markdown",
   "metadata": {
    "colab_type": "text",
    "id": "usGCNgiRSprY"
   },
   "source": [
    "### 4.3 Trainerの定義\n",
    "\n",
    "Chainerには，学習ループを抽象化する`Trainer`というクラスが用意されており，これを用いて色々なExtensionを活用することで，ログをとったりsnapshotを保存したり，epochごとにvalidationデータで検証したりといったことを簡単に実装することができます．代表的なExtensionには，以下のようなものがあります．\n",
    "\n",
    "- ログを自動的にファイルに保存（LogReport)\n",
    "- 標準出力に定期的にロスなどの情報を出力（PrintReport）\n",
    "- ロスを定期的にグラフで可視化して画像として保存（PlotReport)\n",
    "- 定期的にモデルやOptimizerの状態を自動シリアライズ（snapshot/snapshot_object）\n",
    "- 学習の進捗を示すプログレスバーを表示（ProgressBar）\n",
    "- モデルの構造をGraphvizのdot形式で保存（dump_graph）\n",
    "\n",
    "それでは，\n",
    "\n",
    "- ミニバッチサイズ（batchsize）\n",
    "- 学習用データセット（train）\n",
    "- 検証用データセット（val）\n",
    "- 学習を停止するタイミング（stop）\n",
    "- 使用するデバイス（device）← `-1`にするとCPU，`>=0`の場合はそのIDを持つGPU\n",
    "\n",
    "を与えると，それに基づいて`Trainer`オブジェクトを作成して返してくれる`create_trainer`関数を定義しましょう．以下のセルを実行してください．"
   ]
  },
  {
   "cell_type": "code",
   "execution_count": null,
   "metadata": {
    "colab": {},
    "colab_type": "code",
    "id": "tnzh7wZySpra"
   },
   "outputs": [],
   "source": [
    "from chainer import iterators\n",
    "from chainer import training\n",
    "from chainer import optimizers\n",
    "from chainer.training import extensions\n",
    "\n",
    "def create_trainer(batchsize, train, val, stop, device=-1):\n",
    "    # 先程定義したモデルを使用\n",
    "    model = MultiLayerPerceptron(out_h=256, out_w=256)\n",
    "    \n",
    "    # ピクセルごとの二値分類なので，ロス関数にSigmoid cross entropyを，\n",
    "    # 精度をはかる関数としてBinary accuracyを指定しています\n",
    "    train_model = L.Classifier(\n",
    "        model, lossfun=F.sigmoid_cross_entropy, accfun=F.binary_accuracy)\n",
    "\n",
    "    # 最適化手法にAdamを使います\n",
    "    optimizer = optimizers.Adam()\n",
    "    optimizer.setup(train_model)\n",
    "\n",
    "    # データセットから，指定したバッチサイズ数のデータ点をまとめて取り出して返すイテレータを定義します\n",
    "    train_iter = iterators.MultiprocessIterator(train, batchsize)\n",
    "    val_iter = iterators.MultiprocessIterator(val, batchsize, repeat=False, shuffle=False)\n",
    "    \n",
    "    # イテレータからデータを引き出し，モデルに渡して，ロスを計算し，backwardしてパラメータを更新，\n",
    "    # までの一連の処理を行う updater を定義します\n",
    "    updater = training.StandardUpdater(train_iter, optimizer, device=device)\n",
    "    \n",
    "    # 様々な付加機能をExtensionとして与えられるTrainerを使います\n",
    "    trainer = training.trainer.Trainer(updater, stop)\n",
    "    \n",
    "    logging_attributes = [\n",
    "        'epoch', 'main/loss', 'main/accuracy', 'val/main/loss', 'val/main/accuracy']\n",
    "    trainer.extend(extensions.LogReport(logging_attributes))\n",
    "    trainer.extend(extensions.PrintReport(logging_attributes))\n",
    "    trainer.extend(extensions.PlotReport(['main/loss', 'val/main/loss'], 'epoch', file_name='loss.png'))\n",
    "    trainer.extend(extensions.PlotReport(['main/accuracy', 'val/main/accuracy'], 'epoch', file_name='accuracy.png'))\n",
    "    trainer.extend(extensions.Evaluator(val_iter, optimizer.target, device=device), name='val')\n",
    "    \n",
    "    return trainer"
   ]
  },
  {
   "cell_type": "markdown",
   "metadata": {
    "colab_type": "text",
    "id": "Zw7vdytqSpre"
   },
   "source": [
    "この関数定義の中の最後の方では，**複数の`Extension`を追加しています**．これはログのファイルへの自動保存（`LogReport`）やその標準出力への表示（`PrintReport`），ロスや精度のプロットの自動作成（`PlotReport`），指定したタイミングおきにvalidationデータで評価（`Evaluator`），などをしてくれる拡張機能の定義です．\n",
    "\n",
    "詳しくは，こちらにある`Extension`の一覧から，使い方やできることを調べることができます： [Trainer extensions](https://docs.chainer.org/en/v2.0.2/reference/extensions.html)"
   ]
  },
  {
   "cell_type": "markdown",
   "metadata": {
    "colab_type": "text",
    "id": "5nyc3T7jSprf"
   },
   "source": [
    "### 4.4 学習開始\n",
    "\n",
    "それでは，さっそく学習を開始してみましょう！\n",
    "\n",
    "たった今作成した`Trainer`オブジェクトを使って，学習を開始してみます．`Trainer`オブジェクトはすでに学習に関する全ての設定・情報を持っているので，`run()`メソッドを呼ぶだけで学習が開始されます．\n",
    "\n",
    "下のセルを実行してください．"
   ]
  },
  {
   "cell_type": "code",
   "execution_count": null,
   "metadata": {
    "colab": {
     "base_uri": "https://localhost:8080/",
     "height": 408
    },
    "colab_type": "code",
    "id": "fHzNmtxXSprg",
    "outputId": "a7e7ab5e-4b7c-4a75-c1a1-6a65910071e7"
   },
   "outputs": [
    {
     "name": "stderr",
     "output_type": "stream",
     "text": [
      "/home/shunta/.pyenv/versions/miniconda3-4.3.30/lib/python3.6/site-packages/chainer/iterators/multiprocess_iterator.py:31: TimeoutWarning: Stalled dataset is detected. See the documentation of MultiprocessIterator for common causes and workarounds:\n",
      "https://docs.chainer.org/en/stable/reference/generated/chainer.iterators.MultiprocessIterator.html\n",
      "  MultiprocessIterator.TimeoutWarning)\n"
     ]
    },
    {
     "name": "stdout",
     "output_type": "stream",
     "text": [
      "epoch       main/loss   main/accuracy  val/main/loss  val/main/accuracy\n",
      "\u001b[J1           1.16116     0.516219       0.884883       0.540456           \n",
      "\u001b[J2           0.769303    0.558988       0.666328       0.596586           \n",
      "\u001b[J3           0.66078     0.609882       0.6418         0.641107           \n",
      "\u001b[J4           0.620227    0.661099       0.57939        0.697155           \n",
      "\u001b[J5           0.547391    0.722863       0.488097       0.766795           \n",
      "\u001b[J6           0.463796    0.783587       0.407258       0.817102           \n",
      "\u001b[J7           0.365253    0.840748       0.292452       0.878525           \n",
      "\u001b[J8           0.253164    0.898304       0.189144       0.927717           \n",
      "\u001b[J9           0.168333    0.936696       0.129739       0.952724           \n",
      "\u001b[J10          0.108753    0.961309       0.077859       0.972872           \n",
      "\u001b[J11          0.0670689   0.976987       0.051029       0.98176            \n",
      "\u001b[J12          0.0471002   0.983069       0.0409248      0.984915           \n",
      "\u001b[J13          0.0378352   0.9859         0.0344964      0.98636            \n",
      "\u001b[J14          0.0337616   0.986778       0.0317519      0.986989           \n",
      "\u001b[J15          0.0323231   0.986839       0.0305757      0.987178           \n",
      "\u001b[J16          0.0302366   0.987415       0.0297527      0.987253           \n",
      "\u001b[J17          0.029758    0.987453       0.0291033      0.987429           \n",
      "\u001b[J18          0.0296114   0.987247       0.028735       0.987457           \n",
      "\u001b[J19          0.0288326   0.987376       0.0283449      0.987592           \n",
      "\u001b[J20          0.0282586   0.987818       0.0282267      0.987437           \n",
      "CPU times: user 1min 6s, sys: 18.9 s, total: 1min 25s\n",
      "Wall time: 15min 52s\n"
     ]
    }
   ],
   "source": [
    "%%time\n",
    "trainer = create_trainer(64, train, val, (20, 'epoch'), device=0)\n",
    "trainer.run()"
   ]
  },
  {
   "cell_type": "markdown",
   "metadata": {
    "colab_type": "text",
    "id": "BQY_JoQsSprj"
   },
   "source": [
    "学習に15秒程度かかったと思います．表示されたのは`PrintReport`というExtensionが出力したログの情報です．現在のエポック数，ロス，精度（学習データセットに対してのものは`main/loss`, `main/accuracy`，検証データセットに対してのものは`val/main/loss`, `val/main/accuracy`）が表示されています．\n",
    "\n",
    "それでは次に，`PlotReport`拡張が出力したグラフを見てみましょう．学習が終了したら，以下の2つのセルを実行してみてください．"
   ]
  },
  {
   "cell_type": "code",
   "execution_count": null,
   "metadata": {
    "colab": {
     "base_uri": "https://localhost:8080/",
     "height": 279
    },
    "colab_type": "code",
    "id": "gSe9PO7DSprk",
    "outputId": "9936ddf0-18c8-44f8-d9c0-8d564b276a3a"
   },
   "outputs": [
    {
     "data": {
      "image/png": "[encoded data removed]",
      "text/plain": [
       "<IPython.core.display.Image object>"
      ]
     },
     "execution_count": 11,
     "metadata": {},
     "output_type": "execute_result"
    }
   ],
   "source": [
    "from IPython.display import Image\n",
    "Image('result/loss.png')"
   ]
  },
  {
   "cell_type": "code",
   "execution_count": null,
   "metadata": {
    "colab": {
     "base_uri": "https://localhost:8080/",
     "height": 279
    },
    "colab_type": "code",
    "id": "lvnccpd5Sprl",
    "outputId": "2e137e1c-4ff3-4959-8689-419bb6676f8f"
   },
   "outputs": [
    {
     "data": {
      "image/png": "[encoded data removed]",
      "text/plain": [
       "<IPython.core.display.Image object>"
      ]
     },
     "execution_count": 12,
     "metadata": {},
     "output_type": "execute_result"
    }
   ],
   "source": [
    "Image('result/accuracy.png')"
   ]
  },
  {
   "cell_type": "markdown",
   "metadata": {
    "colab_type": "text",
    "id": "2RPUAqyqSpro"
   },
   "source": [
    "うまく学習が進んでいるようです．Training loss, Validation lossともにほぼ0近くまで下がっており，また両者のデータセットに対するAccuracyも最大の1に近づいていっています．\n",
    "\n",
    "これらのプロットは，Trainerの初期化の際に渡す`out`という引数で指定された場所に画像として保存されています．これは逐次更新されているので，実際には学習の途中でもその時点でのプロットを確認することができます．学習の進み具合を視覚的に確認するのに便利です．"
   ]
  },
  {
   "cell_type": "markdown",
   "metadata": {
    "colab_type": "text",
    "id": "W5xg70FaSpro"
   },
   "source": [
    "### 4.5 評価\n",
    "\n",
    "さて，学習結果は一見良好でした．Accuracyは最大値の1にほぼ漸近していました．しかし，この指標はどういう指標なのでしょうか？何をもって「精度（Accuracy）」と言っていたのでしょうか．\n",
    "\n",
    "一般的にSemantic Segmentationの結果は上で「accuracy」と表示されていた**Pixel accuracy**や，それとは異なる指標である**Mean Intersection over Union (mIoU)**といった値で評価が行われます．それぞれの定義は以下のようになっています．\n",
    "\n",
    "正解クラスが$i$であるピクセルをモデルがクラス$j$に分類した数を$N_{ij}$とすると，\n",
    "\n",
    "$$\n",
    "{\\rm Pixel\\ Accuracy} = \\frac{\\sum_{i=1}^k N_{ii}}{\\sum_{i=1}^k \\sum_{j=1}^k N_{ij}}\n",
    "$$\n",
    "\n",
    "$$\n",
    "{\\rm mIoU} = \\frac{1}{k} \\sum_{i=1}^k \\frac{N_{ii}}{\\sum_{j=1}^k N_{ij} + \\sum_{j=1}^k N_{ji} - N_{ii}}\n",
    "$$\n",
    "\n",
    "です．では，改めてこの2つの値をValidationデータセットに対して，**今学習したモデルを使って計算してみましょう．**\n",
    "\n",
    "今回は，これらの値を計算するために，[ChainerCV](https://github.com/chainer/chainercv) [[11]](#11)を用います．ChainerCVはコンピュータビジョンタスクで頻出する計算やモデル・データ等の扱いを統一的に行えるChainerの追加パッケージです．上の2つの指標をあらためて計算するために，ChainerCVが提供するSemantic Segmentationタスク用の評価指標計算のための関数を用いてみましょう．\n",
    "\n",
    "以下のセルを実行してください．"
   ]
  },
  {
   "cell_type": "code",
   "execution_count": 2,
   "metadata": {
    "colab": {
     "base_uri": "https://localhost:8080/",
     "height": 51
    },
    "colab_type": "code",
    "id": "2weVbMguSpro",
    "outputId": "75428eba-ce62-4f90-8118-7f6386b7b5c2"
   },
   "outputs": [
    {
     "ename": "ModuleNotFoundError",
     "evalue": "No module named 'chainer'",
     "output_type": "error",
     "traceback": [
      "\u001b[0;31m---------------------------------------------------------------------------\u001b[0m",
      "\u001b[0;31mModuleNotFoundError\u001b[0m                       Traceback (most recent call last)",
      "\u001b[0;32m<ipython-input-2-c7b8333b655e>\u001b[0m in \u001b[0;36m<module>\u001b[0;34m\u001b[0m\n\u001b[0;32m----> 1\u001b[0;31m \u001b[0;32mfrom\u001b[0m \u001b[0mchainer\u001b[0m \u001b[0;32mimport\u001b[0m \u001b[0mcuda\u001b[0m\u001b[0;34m\u001b[0m\u001b[0m\n\u001b[0m\u001b[1;32m      2\u001b[0m \u001b[0;32mfrom\u001b[0m \u001b[0mchainercv\u001b[0m \u001b[0;32mimport\u001b[0m \u001b[0mevaluations\u001b[0m\u001b[0;34m\u001b[0m\u001b[0m\n\u001b[1;32m      3\u001b[0m \u001b[0;34m\u001b[0m\u001b[0m\n\u001b[1;32m      4\u001b[0m \u001b[0;32mdef\u001b[0m \u001b[0mevaluate\u001b[0m\u001b[0;34m(\u001b[0m\u001b[0mtrainer\u001b[0m\u001b[0;34m,\u001b[0m \u001b[0mval\u001b[0m\u001b[0;34m,\u001b[0m \u001b[0mdevice\u001b[0m\u001b[0;34m=\u001b[0m\u001b[0;34m-\u001b[0m\u001b[0;36m1\u001b[0m\u001b[0;34m)\u001b[0m\u001b[0;34m:\u001b[0m\u001b[0;34m\u001b[0m\u001b[0m\n\u001b[1;32m      5\u001b[0m     \u001b[0;31m# Trainerオブジェクトから学習済みモデルを取り出す\u001b[0m\u001b[0;34m\u001b[0m\u001b[0;34m\u001b[0m\u001b[0m\n",
      "\u001b[0;31mModuleNotFoundError\u001b[0m: No module named 'chainer'"
     ]
    }
   ],
   "source": [
    "from chainer import cuda\n",
    "from chainercv import evaluations\n",
    "\n",
    "def evaluate(trainer, val, device=-1):\n",
    "    # Trainerオブジェクトから学習済みモデルを取り出す\n",
    "    model = trainer.updater.get_optimizer('main').target.predictor\n",
    "\n",
    "    # validationデータ全部に対して予測を行う\n",
    "    preds = []\n",
    "    for img, label in val:\n",
    "        img = cuda.to_gpu(img[np.newaxis], device)\n",
    "        pred = model(img)\n",
    "        pred = cuda.to_cpu(pred.data[0, 0] > 0)\n",
    "        preds.append((pred, label[0]))\n",
    "    pred_labels, gt_labels = zip(*preds)\n",
    "\n",
    "    # 評価をして結果を表示\n",
    "    evals = evaluations.eval_semantic_segmentation(pred_labels, gt_labels)\n",
    "    print('Pixel Accuracy:', evals['pixel_accuracy'])\n",
    "    print('mIou:', evals['miou'])\n",
    "    \n",
    "evaluate(trainer, val, device=0)"
   ]
  },
  {
   "cell_type": "markdown",
   "metadata": {
    "colab_type": "text",
    "id": "ca5XvESYSprq"
   },
   "source": [
    "2つの数字が表示されました．\n",
    "\n",
    "Pixel Accuracyの値は`PrintReport`が表示した val/main/accuracy と同じ値になっています．学習中に\"accuracy\"として表示していたものは，Pixel Accuracyと同じものでした．こちらは，とても高い値を示しています．最大値が1に対して，0.98以上の値が出ます．\n",
    "\n",
    "一方で，同じ最大値1の指標であるmean IoU（`miou`）が思ったより低いことが分かります．なぜでしょうか．\n",
    "\n",
    "Pixel Accuracyは画像全体の画素数に対して，true positive + true negative（つまり，黒を黒，白を白と当てられた合計数） の割合を見るため，画像全体に対して negative (\n",
    "黒）が多い場合は true positive （白を当てられた数）が小さくてもtrue negativeが大きければ結果としてPixel Accuracyは高い値になります．つまり，**class imbalance（白と黒の数が大きく違う）が起きている際に，少ないクラスへの予測誤差が相対的に小さくなる**ということです．\n",
    "\n",
    "一方，mean IoU の場合は，予測と正解の両画像における「positiveとtrueの和領域」（白と予測した部分と，白が正解である領域の和）に対する「true positive」（白という予測が正解していた領域）の割合を見るので，画像全体の大きさに影響されません．わかりやすく図にすると，以下のようになります．\n",
    "\n",
    "![](https://github.com/mitmul/chainer-handson/raw/master/segmentation-handson/miou.png)\n",
    "\n",
    "この図の言葉で書くと，IoUは，\n",
    "\n",
    "$$IoU = \\frac{\\rm true\\_positive}{{\\rm positive} + {\\rm true} - {\\rm true\\_positive}}$$\n",
    "\n",
    "となります．\n",
    "\n",
    "では，実際に得られたモデルを使って validation データに予測を行った結果を可視化して，**「Pixel Accuracy は高いが mIoU が低い」ことの問題を確認してみましょう**．以下のセルを実行してください．"
   ]
  },
  {
   "cell_type": "code",
   "execution_count": 3,
   "metadata": {
    "colab": {
     "base_uri": "https://localhost:8080/",
     "height": 578
    },
    "colab_type": "code",
    "id": "atA-a3U2Sprr",
    "outputId": "b59cec36-11a3-48d0-a05c-aba6da001b0d"
   },
   "outputs": [
    {
     "ename": "NameError",
     "evalue": "name 'trainer' is not defined",
     "output_type": "error",
     "traceback": [
      "\u001b[0;31m---------------------------------------------------------------------------\u001b[0m",
      "\u001b[0;31mNameError\u001b[0m                                 Traceback (most recent call last)",
      "\u001b[0;32m<ipython-input-3-f34e96e26a26>\u001b[0m in \u001b[0;36m<module>\u001b[0;34m\u001b[0m\n\u001b[1;32m     18\u001b[0m         \u001b[0mplt\u001b[0m\u001b[0;34m.\u001b[0m\u001b[0mshow\u001b[0m\u001b[0;34m(\u001b[0m\u001b[0;34m)\u001b[0m\u001b[0;34m\u001b[0m\u001b[0m\n\u001b[1;32m     19\u001b[0m \u001b[0;34m\u001b[0m\u001b[0m\n\u001b[0;32m---> 20\u001b[0;31m \u001b[0mshow_predicts\u001b[0m\u001b[0;34m(\u001b[0m\u001b[0mtrainer\u001b[0m\u001b[0;34m,\u001b[0m \u001b[0mval\u001b[0m\u001b[0;34m,\u001b[0m \u001b[0mdevice\u001b[0m\u001b[0;34m=\u001b[0m\u001b[0;36m0\u001b[0m\u001b[0;34m)\u001b[0m\u001b[0;34m\u001b[0m\u001b[0m\n\u001b[0m",
      "\u001b[0;31mNameError\u001b[0m: name 'trainer' is not defined"
     ]
    }
   ],
   "source": [
    "def show_predicts(trainer, val, device=-1, n_sample=3):\n",
    "    # Trainerオブジェクトから学習済みモデルを取り出す\n",
    "    model = trainer.updater.get_optimizer('main').target.predictor\n",
    "\n",
    "    for i in range(n_sample):\n",
    "        img, label = val[i]\n",
    "        img = cuda.to_gpu(img, device)\n",
    "        pred = model(img[np.newaxis])\n",
    "        pred = cuda.to_cpu(pred.data[0, 0] > 0)        \n",
    "        fig, axes = plt.subplots(1, 2)\n",
    "\n",
    "        axes[0].set_axis_off()\n",
    "        axes[0].imshow(pred, cmap='gray')\n",
    "\n",
    "        axes[1].set_axis_off()\n",
    "        axes[1].imshow(label[0], cmap='gray')\n",
    "\n",
    "        plt.show()\n",
    "\n",
    "show_predicts(trainer, val, device=0)"
   ]
  },
  {
   "cell_type": "markdown",
   "metadata": {
    "colab_type": "text",
    "id": "uIPy6N-ISprs"
   },
   "source": [
    "左の列が予測ラベルで，右の列が正解ラベルです．3行目に顕著なように，予測のpositive領域（白い領域）はかなり正解に対して小さめに出ています．これでも全体を平均してPixel Accuracy 99%以上ということは，Pixel Accuracyは評価指標として今回のようなデータセットにはあまり合っていない可能性があります．\n",
    "\n",
    "以降は，どうやって`miou`(mean Intersection over Union)を改善するかに取り組んでみましょう．"
   ]
  },
  {
   "cell_type": "markdown",
   "metadata": {
    "colab_type": "text",
    "id": "QwYIGRnmSprv"
   },
   "source": [
    "## 5. 畳み込みネットワークを用いたセグメンテーション\n",
    "\n",
    "mIoU改善のため，モデルを全結合層のみから構成されるものから，画像関連のタスクで多く用いられる，畳み込みレイヤを用いたより深いモデルに変えてみましょう．今回用いるLinkは，`Convolution2D`と`Deconvolution2D`の2つだけです．それぞれ，カーネルサイズ（`ksize`），ストライド（`stride`），パディング（`pad`）を指定することができます．これらがどのように出力を変化させるかを，まずはまとめてみましょう．"
   ]
  },
  {
   "cell_type": "markdown",
   "metadata": {
    "colab_type": "text",
    "id": "7gK3nG-cSprv"
   },
   "source": [
    "### 5.1 Convolutionレイヤ\n",
    "\n",
    "`Convolution2D`というLinkは，一般的な畳込みレイヤの実装です．畳み込み層のパラメータを設定する際には，以下の点を知っておくと便利です．\n",
    "\n",
    "- paddingを使って計算後の出力サイズを維持しやすくするために，奇数のカーネルサイズにする（$\\lfloor {\\rm ksize} / 2 \\rfloor$をpadに指定すると，stride=1の際に画像サイズが変わらなくなる）\n",
    "- 出力feature mapを縮小したい場合は，>1の値をstrideに与える（stride=nだと1/nになる）\n",
    "- 出力サイズは，$({\\rm input\\_size} + {\\rm pad} \\times 2) / {\\rm stride} + 1$になる．つまり，strideを大きくすると出力特徴マップは小さくなる．"
   ]
  },
  {
   "cell_type": "markdown",
   "metadata": {
    "colab_type": "text",
    "id": "D5pnY7NrSprw"
   },
   "source": [
    "### 5.2 Deconvolutionレイヤ\n",
    "\n",
    "`Deconvolution2D`は，その名とは異なり数学的な意味でのdeconvolutionではありません（！）そのため，Transposed convolutionや，Backward convolutionと呼ばれることも多いレイヤです．フィルタの適用の仕方はConvolutionと同じで，ただ事前に入力特徴マップの値を飛び飛びに配置するなどの処理が入る部分が異なっています．`Deconvolution2D`レイヤのパラメータを設定する際には，以下の点を知っておくと便利です．\n",
    "\n",
    "- カーネルサイズをstrideで割り切れる数にする（checker board artifactを防ぐため．こちらを参考のこと：[Deconvolution and Checkerboard Artifacts](https://distill.pub/2016/deconv-checkerboard/)）\n",
    "- 出力サイズは，${\\rm stride} \\times ({\\rm input\\_size} - 1) + {\\rm ksize} - 2 * {\\rm pad}$となるので，目的の拡大後サイズになるようパラメータを調整する\n",
    "\n",
    "Deconvolution2Dにおいては，padが意味するものが少し直感的でないため，以下に実際に行われる操作を説明した図を用意しました．\n",
    "\n",
    "![](https://github.com/mitmul/chainer-handson/raw/master/segmentation-handson/deconv_pad-0.png)\n",
    "![](https://github.com/mitmul/chainer-handson/raw/master/segmentation-handson/deconv_pad-1.png)\n",
    "\n",
    "気をつける点は，ksizeとstrideに従って配置・拡張したfeature mapの周囲を「削る量」がpadになっている点です．そのあと行われる演算自体はstride=1, pad=0のConvolutionと同じになります．\n",
    "\n",
    "こちらに，非常にわかりやすく各種Convolution/Deconvolutionの計算を表したGIFアニメがあるので，参考にしてください：[Convolution arithmetic](https://github.com/vdumoulin/conv_arithmetic)"
   ]
  },
  {
   "cell_type": "markdown",
   "metadata": {
    "colab_type": "text",
    "id": "7toHJo-ySprx"
   },
   "source": [
    "### 5.3 全畳込みネットワーク\n",
    "\n",
    "それではさっそくConvolutionレイヤーとDeconvolutionレイヤーのみからなるネットワークをChainerで書いてみましょう！以下のモデルは，Fully Convolutional Networkと呼ばれるネットワークに類似したものです．詳しくはこちらの文献を参照してください [[4](#4), [5](#5), [6](#6)]\n",
    "\n",
    "以下のFullyConvolutionalNetworkというモデルの定義には，FIXME_1 ~ FIXME_5まで，5つの定数が含まれていますが，値が与えられていません．それぞれは，Convolutionの出力側のチャンネル数になります．試しにこれを，\n",
    "\n",
    "- FIXME_1 = 64\n",
    "- FIXME_2 = 128\n",
    "- FIXME_3 = 128\n",
    "- FIXME_4 = 128\n",
    "- FIXME_5 = 128\n",
    "\n",
    "と書き換えて，下のセルを実行してみましょう．入力チャンネル数は，`None`を与えておくと，実行時に自動的に決定してくれます．"
   ]
  },
  {
   "cell_type": "code",
   "execution_count": null,
   "metadata": {
    "colab": {},
    "colab_type": "code",
    "id": "SOzorw47gYvY"
   },
   "outputs": [],
   "source": [
    "FIXME_1 = 64\n",
    "FIXME_2 = 128\n",
    "FIXME_3 = 128\n",
    "FIXME_4 = 128\n",
    "FIXME_5 = 128"
   ]
  },
  {
   "cell_type": "code",
   "execution_count": null,
   "metadata": {
    "colab": {
     "base_uri": "https://localhost:8080/",
     "height": 34
    },
    "colab_type": "code",
    "id": "B7WGsingSprx",
    "outputId": "4848b664-89b9-444f-ad7e-1743d60f8fac"
   },
   "outputs": [
    {
     "name": "stdout",
     "output_type": "stream",
     "text": [
      "(256, 256)\n"
     ]
    }
   ],
   "source": [
    "from chainer import reporter\n",
    "from chainer import cuda\n",
    "from chainercv import evaluations\n",
    "\n",
    "class FullyConvolutionalNetwork(chainer.Chain):\n",
    "    \n",
    "    def __init__(self, out_h, out_w, n_class=1):\n",
    "        super().__init__()\n",
    "        with self.init_scope():\n",
    "            # L.Convolution2D(in_ch, out_ch, ksize, stride, pad)\n",
    "            # in_chは省略することができるので，\n",
    "            # L.Convolution2D(out_ch, ksize, stride, pad)\n",
    "            # と書いても良い！\n",
    "            self.conv1 = L.Convolution2D(None, FIXME_1, ksize=5, stride=2, pad=2)\n",
    "            self.conv2 = L.Convolution2D(None, FIXME_2, ksize=5, stride=2, pad=2)\n",
    "            self.conv3 = L.Convolution2D(None, FIXME_3, ksize=3, stride=1, pad=1)\n",
    "            self.conv4 = L.Convolution2D(None, FIXME_4, ksize=3, stride=1, pad=1)\n",
    "            self.conv5 = L.Convolution2D(None, FIXME_5, ksize=1, stride=1, pad=0)\n",
    "            # L.Deconvolution2D(in_ch, out_ch, ksize, stride, pad)\n",
    "            # in_chは省略することができるので，\n",
    "            # L.Deconvolution2D(out_ch, ksize, stride, pad)\n",
    "            # と書いても良い！\n",
    "            self.deconv6 = L.Deconvolution2D(None, n_class, ksize=32, stride=16, pad=8)\n",
    "        self.out_h = out_h\n",
    "        self.out_w = out_w\n",
    "    \n",
    "    def __call__(self, x):\n",
    "        h = F.relu(self.conv1(x))\n",
    "        h = F.max_pooling_2d(h, 2, 2)\n",
    "        \n",
    "        h = F.relu(self.conv2(h))\n",
    "        h = F.max_pooling_2d(h, 2, 2)\n",
    "        \n",
    "        h = F.relu(self.conv3(h)) \n",
    "        h = F.relu(self.conv4(h))\n",
    "        h = self.conv5(h)\n",
    "        h = self.deconv6(h)\n",
    "        \n",
    "        return h.reshape(x.shape[0], 1, h.shape[2], h.shape[3])\n",
    "\n",
    "print(FullyConvolutionalNetwork(256, 256)(np.zeros((1, 1, 256, 256), dtype=np.float32)).shape[2:])\n"
   ]
  },
  {
   "cell_type": "markdown",
   "metadata": {
    "colab_type": "text",
    "id": "j7-WbsG8Spry"
   },
   "source": [
    "FIXME_1 ~ FIXME_5を書き換えた上で上のセルを実行すると，ネットワークの出力サイズが表示されます．今回の入力画像は(256, 256)サイズの画像ですから，出力が256 x 256という同じ大\n",
    "きさになっていることが確認できればOKです．"
   ]
  },
  {
   "cell_type": "markdown",
   "metadata": {
    "colab_type": "text",
    "id": "6Ptqh2ghSpry"
   },
   "source": [
    "### 5.4 Classifierクラスの改良\n",
    "\n",
    "次に，学習中にチェックするものとして，Pixel AccuracyだけでなくmIOUも追加するために，ロス関数を計算するClassifierクラスを，自分でカスタマイズしたものに置き換えます．それは，以下のように定義されます．下記のセルを実行してみましょう．"
   ]
  },
  {
   "cell_type": "code",
   "execution_count": null,
   "metadata": {
    "colab": {},
    "colab_type": "code",
    "id": "ycDjvqQtSprz"
   },
   "outputs": [],
   "source": [
    "class PixelwiseSigmoidClassifier(chainer.Chain):\n",
    "    \n",
    "    def __init__(self, predictor):\n",
    "        super().__init__()\n",
    "        with self.init_scope():\n",
    "            # 学習対象のモデルをpredictorとして保持しておく\n",
    "            self.predictor = predictor\n",
    "    \n",
    "    def __call__(self, x, t):\n",
    "        # 学習対象のモデルでまず推論を行う\n",
    "        y = self.predictor(x)\n",
    "        \n",
    "        # 2クラス分類の誤差を計算\n",
    "        loss = F.sigmoid_cross_entropy(y, t)\n",
    "\n",
    "        # 予測結果（0~1の連続値を持つグレースケール画像）を二値化し，\n",
    "        # ChainerCVのeval_semantic_segmentation関数に正解ラベルと\n",
    "        # 共に渡して各種スコアを計算\n",
    "        y, t = cuda.to_cpu(F.sigmoid(y).data), cuda.to_cpu(t)\n",
    "        y = np.asarray(y > 0.5, dtype=np.int32)\n",
    "        y, t = y[:, 0, ...], t[:, 0, ...]\n",
    "        evals = evaluations.eval_semantic_segmentation(y, t)\n",
    "\n",
    "        # 学習中のログに出力\n",
    "        reporter.report({'loss': loss,\n",
    "                         'miou': evals['miou'],\n",
    "                         'pa': evals['pixel_accuracy']}, self)\n",
    "        return loss"
   ]
  },
  {
   "cell_type": "markdown",
   "metadata": {
    "colab_type": "text",
    "id": "xc_ZaQbnSpr1"
   },
   "source": [
    "Trainerは，Optimizerにセットされたモデルが「ロスの値を返す」ものと考えるので，最初のモデルではモデルの根幹部分をとってロスを計算して返すような`L.Classifier`でモデルをくるんでOptimizerに渡していました．Chainerが用意しているこの`L.Classifier`は，内部でロスだけでなくAccuracyも計算し，`reporter.report`に辞書を渡す形で`LogReport`などのExtensionが補足できるように値の報告を行うまでやってくれます．1つ目のモデルでは，この`L.Classifier`の引数にモデルだけでなく`lossfun`と`accfun`も指定することで，この`PixelwiseSigmoidClassifier`とほぼおなじような処理を行うようにしていました．しかし，`L.Classifier`はmean IoUの計算をしてくれません．\n",
    "\n",
    "そこで，今回は`L.Classifier`を自前の`PixelwiseSigmoidClassifier`に置き換え，自分で実際のロスとなる`F.sigmoid_cross_entropy`の計算を書きつつ，予測（上記コード中の`y`）に対してPixel Accuracyとmean IoUの両方を計算して，報告するようにします．`__call__`自体はロスの値（スカラ）を返すことが期待されているので，`F.sigmoid_cross_entropy`の返り値である`loss`だけを`return`しています．"
   ]
  },
  {
   "cell_type": "markdown",
   "metadata": {
    "colab_type": "text",
    "id": "4o7iJhNZSpr1"
   },
   "source": [
    "### 5.5 新しいモデルを使った学習\n",
    "\n",
    "では，これらのモデルとカスタムClassifierを使って，Trainerによる学習を行ってみましょう．以下のセルを実行してください．"
   ]
  },
  {
   "cell_type": "code",
   "execution_count": null,
   "metadata": {
    "colab": {},
    "colab_type": "code",
    "id": "VOwxiL8fSpr2"
   },
   "outputs": [],
   "source": [
    "def create_trainer(batchsize, train, val, stop, device=-1, log_trigger=(1, 'epoch')):\n",
    "    model = FullyConvolutionalNetwork(out_h=256, out_w=256)    \n",
    "    train_model = PixelwiseSigmoidClassifier(model)\n",
    "    \n",
    "    optimizer = optimizers.Adam(eps=1e-05)\n",
    "    optimizer.setup(train_model)\n",
    "\n",
    "    train_iter = iterators.MultiprocessIterator(train, batchsize)\n",
    "    val_iter = iterators.MultiprocessIterator(val, batchsize, repeat=False, shuffle=False)\n",
    "    \n",
    "    updater = training.StandardUpdater(train_iter, optimizer, device=device)\n",
    "    \n",
    "    trainer = training.trainer.Trainer(updater, stop, out='result_fcn')\n",
    "    \n",
    "    logging_attributes = [\n",
    "        'epoch', 'main/loss', 'main/miou', 'main/pa',\n",
    "        'val/main/loss', 'val/main/miou', 'val/main/pa']\n",
    "    trainer.extend(extensions.LogReport(logging_attributes), trigger=log_trigger)\n",
    "    trainer.extend(extensions.PrintReport(logging_attributes), trigger=log_trigger)\n",
    "    trainer.extend(extensions.PlotReport(['main/loss', 'val/main/loss'], 'epoch', file_name='loss.png'))\n",
    "    trainer.extend(extensions.PlotReport(['main/miou', 'val/main/miou'], 'epoch', file_name='miou.png'))\n",
    "    trainer.extend(extensions.PlotReport(['main/pa', 'val/main/pa'], 'epoch', file_name='pa.png'))\n",
    "    trainer.extend(extensions.Evaluator(val_iter, train_model, device=device), name='val')\n",
    "    trainer.extend(extensions.dump_graph('main/loss'))\n",
    "    return trainer"
   ]
  },
  {
   "cell_type": "markdown",
   "metadata": {
    "colab_type": "text",
    "id": "cy11SO2WSpr4"
   },
   "source": [
    "これが今回用いるTrainerオブジェクトを作成する関数です．最初のケースと違うところは，ログをファイルに記録する`LogReport`や標準出力にログを指定項目を出力する`PrintReport`，またグラフを出力する`PlotReport`拡張で`loss`と`accuracy`（ここでは`pa`=Pixel Accuracy）だけでなく`miou`も出力しているところです．\n",
    "\n",
    "それでは学習を開始します．最初のモデルではmiouが0.68強までしかいかなかったことを思い出しつつ，経過を見てみましょう．今回はモデルが大きくなりパラメータ数も増えているため，少し学習に時間がかかります（6分強かかります）\n",
    "\n",
    "下記のセルを実行してください．"
   ]
  },
  {
   "cell_type": "code",
   "execution_count": null,
   "metadata": {
    "colab": {
     "base_uri": "https://localhost:8080/",
     "height": 428
    },
    "colab_type": "code",
    "id": "7cGbGTEWSpr4",
    "outputId": "1129a9bd-f47b-4990-e409-b4e46182f404"
   },
   "outputs": [
    {
     "name": "stdout",
     "output_type": "stream",
     "text": [
      "epoch       main/loss   main/miou   main/pa     val/main/loss  val/main/miou  val/main/pa\n",
      "\u001b[J10          0.205026    0.49207     0.98414     0.211009       0.491119       0.982238     \n",
      "\u001b[J20          0.0755453   0.491809    0.983618    0.0825169      0.491152       0.982304     \n",
      "\u001b[J30          0.0502206   0.492705    0.98278     0.0568561      0.493948       0.982295     \n",
      "\u001b[J40          0.0441408   0.527285    0.984133    0.0474262      0.501581       0.982609     \n",
      "\u001b[J50          0.0341481   0.628317    0.987373    0.0405631      0.629261       0.985693     \n",
      "\u001b[J60          0.0292005   0.734436    0.990006    0.0321589      0.678898       0.98809      \n",
      "\u001b[J70          0.0275883   0.65795     0.98914     0.0302435      0.76224        0.988245     \n",
      "\u001b[J80          0.017457    0.832637    0.993795    0.0210762      0.805093       0.991731     \n"
     ]
    }
   ],
   "source": [
    "%%time\n",
    "trainer = create_trainer(128, train, val, (200, 'epoch'), device=0, log_trigger=(10, 'epoch'))\n",
    "trainer.run()"
   ]
  },
  {
   "cell_type": "markdown",
   "metadata": {
    "colab_type": "text",
    "id": "nwL-7kLzSpr5"
   },
   "source": [
    "学習が終了しました．`PrintReport`が出力した経過の値を見る限り，mIoUが少なくとも0.90近くまで到達していることがわかります．"
   ]
  },
  {
   "cell_type": "markdown",
   "metadata": {
    "colab_type": "text",
    "id": "q7d7QqRqSpr6"
   },
   "source": [
    "### 5.6 学習結果を見てみよう\n",
    "\n",
    "では，今回の学習で`PlotReport`拡張が出力したグラフを見てみましょう．下記の3つのセルを実行してください．"
   ]
  },
  {
   "cell_type": "code",
   "execution_count": null,
   "metadata": {
    "colab": {
     "base_uri": "https://localhost:8080/",
     "height": 296
    },
    "colab_type": "code",
    "id": "d4QamN-YSpr6",
    "outputId": "7f778fdb-2609-4249-8ada-06f690b1b0cb"
   },
   "outputs": [],
   "source": [
    "from IPython.display import Image\n",
    "print('Loss')\n",
    "Image('result_fcn/loss.png')"
   ]
  },
  {
   "cell_type": "code",
   "execution_count": null,
   "metadata": {
    "colab": {
     "base_uri": "https://localhost:8080/",
     "height": 296
    },
    "colab_type": "code",
    "id": "swNzUUkqSpr8",
    "outputId": "eb59fa90-78d0-446c-9edf-eb018a859f86"
   },
   "outputs": [],
   "source": [
    "print('mean IoU')\n",
    "Image('result_fcn/miou.png')"
   ]
  },
  {
   "cell_type": "code",
   "execution_count": null,
   "metadata": {
    "colab": {
     "base_uri": "https://localhost:8080/",
     "height": 296
    },
    "colab_type": "code",
    "id": "Vo6EPBfdSpr9",
    "outputId": "c88ef31a-3672-4435-9577-116e8db11acf"
   },
   "outputs": [],
   "source": [
    "print('Pixel Accuracy')\n",
    "Image('result_fcn/pa.png')"
   ]
  },
  {
   "cell_type": "markdown",
   "metadata": {
    "colab_type": "text",
    "id": "CnVA6KwQSpr_"
   },
   "source": [
    "Pixel Accuracyが0.99以上であるだけでなく，mIoUも0.90近くまで上がっています．mIoUに注目すると，最初のモデル（0.68程度）と比べて随分精度が上がっていることがわかると思います．実際にvalidationデータに対して推論を行った際の予測ラベル画像を見て，結果を確認しましょう．以下のセルを実行してください．"
   ]
  },
  {
   "cell_type": "code",
   "execution_count": null,
   "metadata": {
    "colab": {
     "base_uri": "https://localhost:8080/",
     "height": 612
    },
    "colab_type": "code",
    "id": "pkfCHRZOSpr_",
    "outputId": "f3e8125e-a3d1-418c-d22b-c84127553321"
   },
   "outputs": [],
   "source": [
    "evaluate(trainer, val, device=0)\n",
    "show_predicts(trainer, val, device=0, )"
   ]
  },
  {
   "cell_type": "markdown",
   "metadata": {
    "colab_type": "text",
    "id": "NKs1onagSpsB"
   },
   "source": [
    "一つ目のモデルの結果を確認した際と同じ画像が3つ並べられています．一つ目の結果よりも，特に3行目に注目すると，だいぶ正解ラベルに近い形のマスクを推定できていることがわかります．\n",
    "\n",
    "畳み込み層だけからなるより深いモデルを学習に用いることで，大きく結果を改善することができました．しかし，もう改善の余地が無いというわけではありません．さらに結果を改善するにはどうすればよいのでしょうか？"
   ]
  },
  {
   "cell_type": "markdown",
   "metadata": {
    "colab_type": "text",
    "id": "YpnDxZ49SpsB"
   },
   "source": [
    "## 6. さらなる精度向上へのヒント\n",
    "\n",
    "Semantic Segmentationでは，どうやって入力画像における広い範囲の情報を1つのピクセルの予測に役立てるか，どうやって複数の解像度における予測結果を考慮するか，などが重要な問題意識となります．また，ニューラルネットワークでは一般に，レイヤを重ねれば重ねるほど，特徴量の抽象度が上がっていくとされています．しかし，Semantic Segmentationでは，正確に対象物体の輪郭を表すマスク画像を出力したいので，low levelな情報（エッジ・局所的な画素値勾配のような情報，色の一貫性など）も考慮して最終的な予測結果を作りたくなります．そのために，ネットワークの出力に近いレイヤでどうやって入力に近いレイヤで取り出された特徴を活用すればよいか，が重要になってきます．\n",
    "\n",
    "これらの視点からいくつもの新しいモデルが提案されています．代表的なものを挙げると，例えば以下のようなものがあります．\n",
    "\n",
    "### 6.1 SegNet [[8]](#8)\n",
    "\n",
    "下層で行ったMax Poolingの際に「どのピクセルが最大値だったか（pooling indices)\n",
    "」の情報をとっておき，上層でそのpooling indicesを使ってUpsamplingする手法．[ChainerCV](https://github.com/chainer/chainercv)にてChainerで実装されたモデル及び完全な再現実験を含むコードが公開されている．\n",
    "\n",
    "![](https://github.com/mitmul/chainer-handson/raw/master/segmentation-handson/SegNet.png)\n",
    "\n",
    "### 6.2 U-Net [[9]](#9)\n",
    "\n",
    "下層の出力特徴マップを，上層の入力にConcatenateすることで活用する構造．全体がアルファベットの \"U\" のような形をしていることから「U-Net」と呼ばれる\n",
    "\n",
    "![](https://github.com/mitmul/chainer-handson/raw/master/segmentation-handson/U-Net.png)\n",
    "\n",
    "### 6.3 PSPNet [[10]](#10)\n",
    "\n",
    "Pyramid Pooling Moduleを提案し，異なる大きさのsub-regionごとの特徴を大域的なコンテキストを考慮するために活用することで，ImageNet 2017 Scene Parsing Challengeで優勝したモデル．\n",
    "\n",
    "![](https://github.com/mitmul/chainer-handson/raw/master/segmentation-handson/PSPNet.png)\n",
    "\n",
    "それでは，お時間のある方は，こういった論文を参考に，上記二つ目のモデルを改良して，さらに高い精度が出せるよう工夫してみてください．"
   ]
  },
  {
   "cell_type": "markdown",
   "metadata": {
    "colab_type": "text",
    "id": "DCWZoBoCSpsC"
   },
   "source": [
    "## 7. その他の参考資料\n",
    "\n",
    "最後に，本資料作成者によるいくつかのセグメンテーションに関する資料をここに載せます．\n",
    "\n",
    "- [最近のセグメンテーション手法の簡単な紹介](https://www.slideshare.net/mitmul/a-brief-introduction-to-recent-segmentation-methods)\n",
    "- [Pyramid Scene Parsing Network (CVPR 2017)の紹介](https://www.slideshare.net/mitmul/unofficial-pyramid-scene-parsing-network-cvpr-2017)\n",
    "\n",
    "また，以下のレビュー論文も昨今のDeep learningを活用したセグメンテーション手法についてよくまとまっており，参考になります．\n",
    "\n",
    "- [A Review on Deep Learning Techniques Applied to Semantic Segmentation](https://arxiv.org/abs/1704.06857)"
   ]
  },
  {
   "cell_type": "markdown",
   "metadata": {
    "colab_type": "text",
    "id": "dm858sxiSpsD"
   },
   "source": [
    "## References\n",
    "\n",
    "[1] Sunnybrook cardiac images from earlier competition http://smial.sri.utoronto.ca/LV_Challenge/Data.html\n",
    "\n",
    "[2] This \"Sunnybrook Cardiac MR Database\" is made available under the CC0 1.0 Universal license described above, and with more detail here: http://creativecommons.org/publicdomain/zero/1.0/\n",
    "\n",
    "[3] Attribution:\n",
    "Radau P, Lu Y, Connelly K, Paul G, Dick AJ, Wright GA. \"Evaluation Framework for Algorithms Segmenting Short Axis Cardiac MRI.\" The MIDAS Journal -Cardiac MR Left Ventricle Segmentation Challenge, http://hdl.handle.net/10380/3070\n",
    "\n",
    "[4] http://fcn.berkeleyvision.org/\n",
    "\n",
    "[5] Long, Shelhamer, Darrell; \"Fully Convoutional Networks for Semantic Segmentation\", CVPR 2015.\n",
    "\n",
    "[6] Zeiler, Krishnan, Taylor, Fergus; \"Deconvolutional Networks\", CVPR 2010.\n",
    "\n",
    "[7] https://www.kaggle.com/c/second-annual-data-science-bowl/details/deep-learning-tutorial\n",
    "\n",
    "[8] Vijay Badrinarayanan, Alex Kendall and Roberto Cipolla \"SegNet: A Deep Convolutional Encoder-Decoder Architecture for Image Segmentation.\" PAMI, 2017\n",
    "\n",
    "[9] Olaf Ronneberger, Philipp Fischer, Thomas Brox, \"U-Net: Convolutional Networks for Biomedical Image Segmentation\", MICCAI 2015\n",
    "\n",
    "[10] Hengshuang Zhao, Jianping Shi, Xiaojuan Qi, Xiaogang Wang and Jiaya Jia, \"Pyramid Scene Parsing Network\", CVPR 2017\n",
    "\n",
    "[11] Yusuke Niitani, Toru Ogawa, Shunta Saito, Masaki Saito, \"ChainerCV: a Library for Deep Learning in Computer Vision\", ACM Multimedia (ACMMM), Open Source Software Competition, 2017"
   ]
  },
  {
   "cell_type": "markdown",
   "metadata": {
    "colab_type": "text",
    "id": "5lW2RotbSpsG"
   },
   "source": [
    "(c) Shunta Saito, Preferred Networks, inc. 2017"
   ]
  }
 ],
 "metadata": {
  "accelerator": "GPU",
  "colab": {
   "collapsed_sections": [
    "7gK3nG-cSprv",
    "D5pnY7NrSprw",
    "YpnDxZ49SpsB"
   ],
   "name": "Image Segmentation with Chainer.ipynb",
   "provenance": [],
   "toc_visible": true,
   "version": "0.3.2"
  },
  "kernelspec": {
   "display_name": "Python 3",
   "language": "python",
   "name": "python3"
  },
  "language_info": {
   "codemirror_mode": {
    "name": "ipython",
    "version": 3
   },
   "file_extension": ".py",
   "mimetype": "text/x-python",
   "name": "python",
   "nbconvert_exporter": "python",
   "pygments_lexer": "ipython3",
   "version": "3.6.3"
  }
 },
 "nbformat": 4,
 "nbformat_minor": 1
}
