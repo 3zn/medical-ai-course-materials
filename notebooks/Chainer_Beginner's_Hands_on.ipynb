{
  "nbformat": 4,
  "nbformat_minor": 0,
  "metadata": {
    "colab": {
      "name": "Chainer Beginer's Hands-on.ipynb",
      "version": "0.3.2",
      "provenance": [],
      "collapsed_sections": [
        "71RNU5KmMq31",
        "3sFOwliOMq4Q",
        "VPRotZdNMq4V",
        "BywdNhUSMq4s",
        "D2tRnyVYMq4y",
        "WD1oaVYTMq6Z"
      ]
    },
    "kernelspec": {
      "name": "python3",
      "display_name": "Python 3"
    },
    "accelerator": "GPU"
  },
  "cells": [
    {
      "metadata": {
        "id": "n0_KFOv4Mq3N",
        "colab_type": "text"
      },
      "cell_type": "markdown",
      "source": [
        "Update (2018/04/20): Chainer v4に合わせ内容を更新しました。\n",
        "\n",
        "**注意：**\n",
        "\n",
        "- 今回はニューラルネットワーク自体が何なのかといった説明は省きます。\n",
        "- この記事はJupyter notebookを使って書かれていますので、コードは上から順番に実行できるようにチェックされています。元のJupyter notebookファイルはGoogle Colaboratory上で実行できるようにここに置かれています：[Chainer Beginer's Hands-on]()\n",
        "\n",
        "Qiitaだとページ内リンクつきの目次が勝手に作成されるので、全体概要はそちらを眺めて把握してください。"
      ]
    },
    {
      "metadata": {
        "id": "-IPVDlAAMtK1",
        "colab_type": "code",
        "outputId": "87f1d971-3b3b-48d8-c5c6-4f1606ac5c04",
        "colab": {
          "base_uri": "https://localhost:8080/",
          "height": 221
        }
      },
      "cell_type": "code",
      "source": [
        "!curl https://colab.chainer.org/install | CHAINER_VERSION=\"==5.0.0rc1\" CUPY_VERSION=\"==5.0.0rc1\" sh -"
      ],
      "execution_count": 0,
      "outputs": [
        {
          "output_type": "stream",
          "text": [
            "  % Total    % Received % Xferd  Average Speed   Time    Time     Time  Current\n",
            "                                 Dload  Upload   Total   Spent    Left  Speed\n",
            "\r  0     0    0     0    0     0      0      0 --:--:-- --:--:-- --:--:--     0\r100  1379  100  1379    0     0   9850      0 --:--:-- --:--:-- --:--:--  9850\n",
            "+ apt -y -q install cuda-libraries-dev-9-2\n",
            "Reading package lists...\n",
            "Building dependency tree...\n",
            "Reading state information...\n",
            "cuda-libraries-dev-9-2 is already the newest version (9.2.148-1).\n",
            "0 upgraded, 0 newly installed, 0 to remove and 3 not upgraded.\n",
            "+ pip install -q cupy-cuda92 ==5.0.0rc1 chainer ==5.0.0rc1\n",
            "+ set +ex\n",
            "Installation succeeded!\n"
          ],
          "name": "stdout"
        }
      ]
    },
    {
      "metadata": {
        "id": "fzldShWcMq3O",
        "colab_type": "text"
      },
      "cell_type": "markdown",
      "source": [
        "# インストール\n",
        "\n",
        "Chainerのインストールはとても簡単です。Chainer本体はすべてPythonコードのみからなるので、インストールも"
      ]
    },
    {
      "metadata": {
        "id": "1reusuyGMq3P",
        "colab_type": "code",
        "colab": {}
      },
      "cell_type": "code",
      "source": [
        "!pip install chainer"
      ],
      "execution_count": 0,
      "outputs": []
    },
    {
      "metadata": {
        "id": "THvtsN5qMq3T",
        "colab_type": "text"
      },
      "cell_type": "markdown",
      "source": [
        "で完了です。ただ、これだけではGPUは使えません。GPUを使うためには、**別途CuPyをインストールする必要があります。**ただCuPyのインストールもとても簡単です。"
      ]
    },
    {
      "metadata": {
        "id": "eJeLnbIqMq3U",
        "colab_type": "code",
        "colab": {}
      },
      "cell_type": "code",
      "source": [
        "!pip install cupy-cuda80"
      ],
      "execution_count": 0,
      "outputs": []
    },
    {
      "metadata": {
        "id": "YLbP1BkTMq3W",
        "colab_type": "text"
      },
      "cell_type": "markdown",
      "source": [
        "以上です。Google Colabの環境がCUDA8.0の環境であったため`cupy-cuda80`をインストールしていますが、この末尾の2つの数字はCUDAのバージョンを表しています。お使いの環境のCUDAバージョンに合わせて、\n",
        "\n",
        "- `cupy-cuda80`（CUDA 8.0用）\n",
        "- `cupy-cuda90`（CUDA9.0用）\n",
        "- `cupy-cuda91`（CUDA9.1用）\n",
        "\n",
        "の3つから適切なものを選択して`pip install`してください。CuPy v4.0.0からwheelでのインストールが可能となりましたので、これにより自動的にcuDNNやNCCL2といったライブラリもインストールされ、CuPyから使用可能になります。（cuDNNを独立に取ってくる方法を注に書いておきます[^cudnnenv]）\n",
        "\n",
        "また、Chainer v4.0.0から`chainer.print_runtime_info()`という便利なメソッドが追加されました。以下のコマンドをターミナルで実行し、ChainerやCuPyが正しくインストールされたかを確認してみましょう。"
      ]
    },
    {
      "metadata": {
        "id": "pNPcxcV1Mq3X",
        "colab_type": "code",
        "outputId": "c64cb336-7b04-403b-c911-e49c44d5f729",
        "colab": {
          "base_uri": "https://localhost:8080/",
          "height": 221
        }
      },
      "cell_type": "code",
      "source": [
        "!python -c 'import chainer; chainer.print_runtime_info()'"
      ],
      "execution_count": 0,
      "outputs": [
        {
          "output_type": "stream",
          "text": [
            "Platform: Linux-4.14.65+-x86_64-with-Ubuntu-18.04-bionic\n",
            "Chainer: 5.0.0rc1\n",
            "NumPy: 1.14.6\n",
            "CuPy:\n",
            "  CuPy Version          : 5.0.0rc1\n",
            "  CUDA Root             : /usr/local/cuda\n",
            "  CUDA Build Version    : 9020\n",
            "  CUDA Driver Version   : 9020\n",
            "  CUDA Runtime Version  : 9020\n",
            "  cuDNN Build Version   : 7201\n",
            "  cuDNN Version         : 7201\n",
            "  NCCL Build Version    : 2213\n"
          ],
          "name": "stdout"
        }
      ]
    },
    {
      "metadata": {
        "id": "8GFokOwXMq3b",
        "colab_type": "text"
      },
      "cell_type": "markdown",
      "source": [
        "うまくできていますね。以下のチュートリアルでは、matplotlibを可視化に使いますので、これも同時にインストールしておきましょう。"
      ]
    },
    {
      "metadata": {
        "id": "AGHezHvdMq3b",
        "colab_type": "code",
        "colab": {}
      },
      "cell_type": "code",
      "source": [
        "!pip install matplotlib"
      ],
      "execution_count": 0,
      "outputs": []
    },
    {
      "metadata": {
        "id": "BEXrvPLGMq3e",
        "colab_type": "text"
      },
      "cell_type": "markdown",
      "source": [
        "また、計算グラフの可視化にGraphvizを使いますので、こちらもインストールしておいてください。"
      ]
    },
    {
      "metadata": {
        "id": "Cp1v4ygDMq3f",
        "colab_type": "text"
      },
      "cell_type": "markdown",
      "source": [
        "# 学習ループを書いてみよう\n",
        "\n",
        "ここでは、有名な手書き数字のデータセットMNISTを使って、画像を10クラスに分類するネットワークを書いて訓練してみます。"
      ]
    },
    {
      "metadata": {
        "id": "pON7OjrkMq3f",
        "colab_type": "text"
      },
      "cell_type": "markdown",
      "source": [
        "## 1. データセットの準備\n",
        "\n",
        "教師あり学習の場合、**データセットは「入力データ」と「それと対になるラベルデータ」を返すオブジェクトである必要があります。**\n",
        "ChainerにはMNISTやCIFAR10/100のようなよく用いられるデータセットに対して、データをダウンロードしてくるところからそのような機能をもったオブジェクトを作るところまで自動的にやってくれる便利なメソッドがあるので、ここではひとまずこれを用いましょう。"
      ]
    },
    {
      "metadata": {
        "id": "co0qbD2dMq3f",
        "colab_type": "code",
        "colab": {}
      },
      "cell_type": "code",
      "source": [
        "from chainer.datasets import mnist\n",
        "\n",
        "# データセットがダウンロード済みでなければ、ダウンロードも行う\n",
        "train_val, test = mnist.get_mnist(withlabel=True, ndim=1)"
      ],
      "execution_count": 0,
      "outputs": []
    },
    {
      "metadata": {
        "id": "k6phOMcvMq3j",
        "colab_type": "text"
      },
      "cell_type": "markdown",
      "source": [
        "データセットオブジェクト自体は準備ができました。これは、例えば `train_val[i]` などとすると**i番目の `(data, label)` というタプルを返すリスト** と同様のものになっています（**実際ただのPythonリストもChainerのデータセットオブジェクトとして使えます**）。では0番目のデータとラベルを取り出して、表示してみましょう。"
      ]
    },
    {
      "metadata": {
        "id": "uylrRDSfMq3k",
        "colab_type": "code",
        "outputId": "6f03f3a0-93bc-4cd6-8f77-5b98cd9e76ab",
        "colab": {
          "base_uri": "https://localhost:8080/",
          "height": 283
        }
      },
      "cell_type": "code",
      "source": [
        "# matplotlibを使ったグラフ描画結果がnotebook内に表示されるようにします。\n",
        "%matplotlib inline\n",
        "import matplotlib.pyplot as plt\n",
        "\n",
        "# データの例示\n",
        "x, t = train_val[0]  # 0番目の (data, label) を取り出す\n",
        "plt.imshow(x.reshape(28, 28), cmap='gray')\n",
        "plt.axis('off')\n",
        "plt.show()\n",
        "print('label:', t)"
      ],
      "execution_count": 0,
      "outputs": [
        {
          "output_type": "display_data",
          "data": {
            "image/png": "[encoded data removed]",
            "text/plain": [
              "<matplotlib.figure.Figure at 0x7f93f85e0d30>"
            ]
          },
          "metadata": {
            "tags": []
          }
        },
        {
          "output_type": "stream",
          "text": [
            "label: 5\n"
          ],
          "name": "stdout"
        }
      ]
    },
    {
      "metadata": {
        "id": "oTy7XDwMMq3o",
        "colab_type": "text"
      },
      "cell_type": "markdown",
      "source": [
        "### 1.1 Validation用データセットを作る\n",
        "\n",
        "次に、上で作成した`train_val`データセットを、Training用のデータセットとValidation用のデータセットに分割しましょう。これもChainerの便利な関数を使えば簡単にできます。元々60000個のデータが入っている`train`データセット50000個のデータをTraining用に、残りの10000個をValidation用にしてみます。"
      ]
    },
    {
      "metadata": {
        "id": "xeCk_TCcMq3o",
        "colab_type": "code",
        "colab": {}
      },
      "cell_type": "code",
      "source": [
        "from chainer.datasets import split_dataset_random\n",
        "\n",
        "train, valid = split_dataset_random(train_val, 50000, seed=0)"
      ],
      "execution_count": 0,
      "outputs": []
    },
    {
      "metadata": {
        "id": "kJrPx08DMq3q",
        "colab_type": "text"
      },
      "cell_type": "markdown",
      "source": [
        "これだけで元々の`train_val`を、ランダムに選んだ50000個の`train`データセットと`valid`データセットに分けることができました。何度も実行する際に異なる分け方になってしまわないよう、第3引数の`seed`を設定しておくことをオススメします。それでは、それぞれのデータセットの中に入っているデータの数を確認してみましょう。"
      ]
    },
    {
      "metadata": {
        "id": "TfT0WBQfMq3r",
        "colab_type": "code",
        "outputId": "21598dfb-2398-4313-e877-90e31c8cd223",
        "colab": {
          "base_uri": "https://localhost:8080/",
          "height": 73
        }
      },
      "cell_type": "code",
      "source": [
        "print('Training dataset size:', len(train))\n",
        "print('Validation dataset size:', len(valid))"
      ],
      "execution_count": 0,
      "outputs": [
        {
          "output_type": "stream",
          "text": [
            "Training dataset size: 50000\n",
            "Validation dataset size: 10000\n"
          ],
          "name": "stdout"
        }
      ]
    },
    {
      "metadata": {
        "id": "IbZLLj6ZMq3v",
        "colab_type": "text"
      },
      "cell_type": "markdown",
      "source": [
        "## 2. Iteratorの作成\n",
        "\n",
        "データセットの準備は完了しましたが、このままネットワークの学習に使うのは少し面倒です。なぜなら、ネットワークのパラメータ最適化手法として広く用いられているStochastic Gradient Descent (SGD)という手法では、一般的にいくつかのデータを束ねた**ミニバッチ**と呼ばれる単位でネットワークにデータを渡し、それに対する予測を作って、ラベルと比較するということを行います。そのため、**バッチサイズ分だけデータとラベルを束ねる作業が必要です。**\n",
        "\n",
        "そこで、**データセットから決まった数のデータとラベルを取得し、それらを束ねてミニバッチを作ってくれる機能を持った`Iterator`を使いましょう。**`Iterator`は、先程作ったデータセットオブジェクトを渡して初期化してやったあとは、`next()`メソッドで新しいミニバッチを返してくれます。内部ではデータセットを何周なめたか（`epoch`）などの情報がどうように記録されているおり、学習ループを書いていく際に便利です。\n",
        "\n",
        "データセットオブジェクトからイテレータを作るには、以下のようにします。"
      ]
    },
    {
      "metadata": {
        "id": "cZdvCRhxMq3w",
        "colab_type": "code",
        "colab": {}
      },
      "cell_type": "code",
      "source": [
        "from chainer import iterators\n",
        "\n",
        "batchsize = 128\n",
        "\n",
        "train_iter = iterators.SerialIterator(train, batchsize)\n",
        "valid_iter = iterators.SerialIterator(\n",
        "    valid, batchsize, repeat=False, shuffle=False)\n",
        "test_iter = iterators.SerialIterator(\n",
        "    test, batchsize, repeat=False, shuffle=False)"
      ],
      "execution_count": 0,
      "outputs": []
    },
    {
      "metadata": {
        "id": "elxQ9EGEMq30",
        "colab_type": "text"
      },
      "cell_type": "markdown",
      "source": [
        "ここでは、学習に用いるデータセット用のイテレータ（`train_iter`）と、検証用のデータセット用のイテレータ（`valid_iter`）、および学習したネットワークの評価に用いるテストデータセット用のイテレータ（`test_iter`）の計3つを作成しています。ここで、`batchsize = 128`としているので、作成した3つの`Iterator`は、例えば`train_iter.next()`などとすると128枚の数字画像データを一括りにして返してくれます。"
      ]
    },
    {
      "metadata": {
        "id": "71RNU5KmMq31",
        "colab_type": "text"
      },
      "cell_type": "markdown",
      "source": [
        "#### NOTE: `SerialIterator`について\n",
        "\n",
        "Chainerがいくつか用意している`Iterator`の一種である`SerialIterator`は、データセットの中のデータを順番に取り出してくる最もシンプルな`Iterator`です。コンストラクタの引数にデータセットオブジェクトと、バッチサイズを取ります。このとき、渡したデータセットオブジェクトから、何周も何周もデータを繰り返し読み出す必要がある場合は`repeat`引数を`True`とし、1周が終わったらそれ以上データを取り出したくない場合はこれを`False`とします。これは、主にvalidation用のデータセットに対して使うフラグです。デフォルトでは、`True`になっています。また、`shuffle`引数に`True`を渡すと、データセットから取り出されてくるデータの順番をエポックごとにランダムに変更します。`SerialIterator`の他にも、マルチプロセスで高速にデータを処理できるようにした`MultiprocessIterator`や`MultithreadIterator`など、複数の`Iterator`が用意されています。詳しくは以下を見てください。\n",
        "\n",
        "- [Chainerで使えるIterator一覧](https://docs.chainer.org/en/stable/reference/iterators.html)"
      ]
    },
    {
      "metadata": {
        "id": "PX0GJaWLMq32",
        "colab_type": "text"
      },
      "cell_type": "markdown",
      "source": [
        "## 3. ネットワークの定義\n",
        "\n",
        "では、学習させるネットワークを定義してみましょう。今回は、全結合層のみからなる多層パーセプトロンを作ってみます。中間層のユニット数は適当に100とし、今回は10クラス分類をしたいので、出力ユニット数は10とします。今回用いるMNISTデータセットは0〜9までの数字のいずれかを意味する10種のラベルを持つためです。では、ネットワークを定義するために必要な`Link`, `Function`, そして`Chain`について、簡単にここで説明を行います。\n",
        "\n",
        "### LinkとFunction\n",
        "\n",
        "Chainerでは、ニューラルネットワークの各層を、`Link`と`Function`に区別します。\n",
        "\n",
        "- **`Link`は、パラメータを持つ関数です。**\n",
        "- **`Function`は、パラメータを持たない関数です。**\n",
        "\n",
        "これらを組み合わせてネットワークを記述します。パラメータを持つ層は、`chainer.links`モジュール以下にたくさん用意されています。パラメータを持たない層は、`chainer.functions`モジュール以下にたくさん用意されています。これらに簡単にアクセスするために、\n",
        "\n",
        "```\n",
        "import chainer.links as L\n",
        "import chainer.functions as F\n",
        "```\n",
        "\n",
        "と別名を与えて、`L.Convolution2D(...)`や`F.relu(...)`のように用いる慣習がありますが、特にこれが決まった書き方というわけではありません。\n",
        "\n",
        "### Chain\n",
        "\n",
        "`Chain`は、**パラメータを持つ層（`Link`）をまとめておくためのクラス**です。パラメータを持つということは、基本的にネットワークの学習の際にそれらを更新していく必要があるということです（更新されないパラメータを持たせることもできます）。Chainerでは、モデルのパラメータの更新は、`Optimizer`という機能が担います。その際、更新すべき全てのパラメータを簡単に発見できるように、`Chain`で一箇所にまとめておきます。そうすると、`Chain.params()`メソッドを使って**更新されるパラメータ一覧が簡単に取得できます。**\n",
        "\n",
        "### Chainを継承してネットワークを定義しよう\n",
        "\n",
        "Chainerでは、ネットワークは`Chain`クラスを継承したクラスとして定義されることが一般的です。その場合、そのクラスのコンストラクタで、`self.init_scope()`で作られる`with`コンテキストを作り、その中でネットワークに登場する`Link`をプロパティとして登録しておきます。こうすると、自動的に`Optimizer`が最適化対象のパラメータを持つ層だな、と捉えてくれます。\n",
        "\n",
        "もう一つ、一般的なのは、ネットワークの前進計算（データを渡して、出力を返す）を、`__call__`メソッドに書いておくという方法です。こうすると、ネットワーククラスをinstantiateして作ったオブジェクトを、関数のようにして使うことができます（例：`output = net(data)`）。\n",
        "\n",
        "### GPUで実行するには\n",
        "\n",
        "`Chain`クラスは`to_gpu`メソッドを持ち、この引数にGPU IDを指定すると、指定したGPU IDのメモリ上にネットワークの全パラメータを転送します。こうしておくと、前進計算も学習の際のパラメータ更新なども全部GPU上で行われるようになります。GPU IDとして-1を使うと、すなわちこれはCPUを意味します。\n",
        "\n",
        "### 同じ結果を保証したい\n",
        "\n",
        "ネットワークを書き始める前に、まずは乱数シードを固定して、本記事とほぼ同様の結果が再現できるようにしておきましょう。（cuDNNが有効になっている環境下でより厳密に計算結果の再現性を保証したい場合は、`chainer.config.cudnn_deterministic`というConfiguringオプションについて知る必要があります。こちらのドキュメントを参照してください：[chainer.config.cudnn_deterministic](https://docs.chainer.org/en/stable/reference/configuration.html?highlight=chainer.config.cudnn_deterministic)。"
      ]
    },
    {
      "metadata": {
        "id": "5JecdGUXMq32",
        "colab_type": "code",
        "colab": {}
      },
      "cell_type": "code",
      "source": [
        "import random\n",
        "import numpy\n",
        "import chainer\n",
        "\n",
        "def reset_seed(seed=0):\n",
        "    random.seed(seed)\n",
        "    numpy.random.seed(seed)\n",
        "    if chainer.cuda.available:\n",
        "        chainer.cuda.cupy.random.seed(seed)\n",
        "        \n",
        "reset_seed(0)"
      ],
      "execution_count": 0,
      "outputs": []
    },
    {
      "metadata": {
        "id": "G_HvOMluMq37",
        "colab_type": "text"
      },
      "cell_type": "markdown",
      "source": [
        "### ネットワークを表すコード\n",
        "\n",
        "いよいよネットワークを書いてみます！"
      ]
    },
    {
      "metadata": {
        "id": "VQ-6GuZNMq3_",
        "colab_type": "code",
        "colab": {}
      },
      "cell_type": "code",
      "source": [
        "import chainer\n",
        "import chainer.links as L\n",
        "import chainer.functions as F\n",
        "\n",
        "class MLP(chainer.Chain):\n",
        "\n",
        "    def __init__(self, n_mid_units=100, n_out=10):\n",
        "        super(MLP, self).__init__()\n",
        "        \n",
        "        # パラメータを持つ層の登録\n",
        "        with self.init_scope():\n",
        "            self.l1 = L.Linear(None, n_mid_units)\n",
        "            self.l2 = L.Linear(n_mid_units, n_mid_units)\n",
        "            self.l3 = L.Linear(n_mid_units, n_out)\n",
        "\n",
        "    def __call__(self, x):\n",
        "        # データを受け取った際のforward計算を書く\n",
        "        h1 = F.relu(self.l1(x))\n",
        "        h2 = F.relu(self.l2(h1))\n",
        "        return self.l3(h2)\n",
        "\n",
        "gpu_id = 0  # CPUを用いる場合は、この値を-1にしてください\n",
        "\n",
        "net = MLP()\n",
        "\n",
        "if gpu_id >= 0:\n",
        "    net.to_gpu(gpu_id)"
      ],
      "execution_count": 0,
      "outputs": []
    },
    {
      "metadata": {
        "id": "BnYIri8AMq4C",
        "colab_type": "text"
      },
      "cell_type": "markdown",
      "source": [
        "できました！疑問点はありませんか？ちなみに、Chainerにはたくさんの学習可能なレイヤやパラメータを持たないレイヤが用意されています。ぜひ一度以下の一覧のページを見てみましょう。\n",
        "\n",
        "- [Chainerで使える関数(`Function`)一覧](https://docs.chainer.org/en/stable/reference/functions.html)\n",
        "- [Chainerで学習できるレイヤ(`Link`)一覧](https://docs.chainer.org/en/stable/reference/links.html)\n",
        "\n",
        "`Link`一覧には、ニューラルネットワークによく用いられる全結合層や畳み込み層、LSTMなどや、ReLUなどの活性化関数などなどだけでなく、有名なネットワーク全体も`Link`として載っています。ResNetや、VGGなどです。また、`Function`一覧には、画像の大きさをresizeしたり、サイン・コサインのような関数を始め、いろいろなネットワークの要素として使える関数が載っています。"
      ]
    },
    {
      "metadata": {
        "id": "qIN7jkqPMq4C",
        "colab_type": "text"
      },
      "cell_type": "markdown",
      "source": [
        "#### NOTE\n",
        "\n",
        "上のネットワーク定義で、`L.Linear`は全結合層を意味しますが、最初のLinear層は第一引数に`None`が渡されています。これは、実行時に、つまり**データがその層に入力された瞬間、必要な数の入力側ユニット数を自動的に計算する**ということを意味します。ネットワークが最初に計算を行う際に、初めて `(n_input)` $\\times$ `n_mid_units` の大きさの行列を作成し、それを学習対象とするパラメータとして保持します。これは後々、畳み込み層を全結合層の前に配置する際などに便利な機能です。\n",
        "\n",
        "様々な`Link`は、それぞれ学習対象となるパラメータを保持しています。それらの値は、NumPyの配列として簡単に取り出して見ることができます。例えば、上のモデル`MLP`は`l1`という名前の全結合層が登録されています。この全結合層は重み行列`W`とバイアス`b`という2つのパラメータを持ちます。これらには外から以下のようにしてアクセスすることができます："
      ]
    },
    {
      "metadata": {
        "id": "bn8mqvauMq4D",
        "colab_type": "code",
        "outputId": "c4e8a0a4-1345-41b7-d31a-11537f3ff176",
        "colab": {
          "base_uri": "https://localhost:8080/",
          "height": 145
        }
      },
      "cell_type": "code",
      "source": [
        "print('1つ目の全結合相のバイアスパラメータの形は、', net.l1.b.shape)\n",
        "print('初期化直後のその値は、', net.l1.b.array)"
      ],
      "execution_count": 0,
      "outputs": [
        {
          "output_type": "stream",
          "text": [
            "1つ目の全結合相のバイアスパラメータの形は、 (100,)\n",
            "初期化直後のその値は、 [0. 0. 0. 0. 0. 0. 0. 0. 0. 0. 0. 0. 0. 0. 0. 0. 0. 0. 0. 0. 0. 0. 0. 0.\n",
            " 0. 0. 0. 0. 0. 0. 0. 0. 0. 0. 0. 0. 0. 0. 0. 0. 0. 0. 0. 0. 0. 0. 0. 0.\n",
            " 0. 0. 0. 0. 0. 0. 0. 0. 0. 0. 0. 0. 0. 0. 0. 0. 0. 0. 0. 0. 0. 0. 0. 0.\n",
            " 0. 0. 0. 0. 0. 0. 0. 0. 0. 0. 0. 0. 0. 0. 0. 0. 0. 0. 0. 0. 0. 0. 0. 0.\n",
            " 0. 0. 0. 0.]\n"
          ],
          "name": "stdout"
        }
      ]
    },
    {
      "metadata": {
        "id": "-ExaLiUFMq4H",
        "colab_type": "text"
      },
      "cell_type": "markdown",
      "source": [
        "しかしここで、`net.l1.W.array`の中身を同様に表示してみようとすると、`None`が返されます。"
      ]
    },
    {
      "metadata": {
        "id": "U8fNWFseMq4I",
        "colab_type": "code",
        "outputId": "14c4f434-2b1a-4b88-b8b2-ba96a3e59d60",
        "colab": {
          "base_uri": "https://localhost:8080/",
          "height": 55
        }
      },
      "cell_type": "code",
      "source": [
        "print(net.l1.W.array)"
      ],
      "execution_count": 0,
      "outputs": [
        {
          "output_type": "stream",
          "text": [
            "None\n"
          ],
          "name": "stdout"
        }
      ]
    },
    {
      "metadata": {
        "id": "qdDHoa8kMq4L",
        "colab_type": "text"
      },
      "cell_type": "markdown",
      "source": [
        "なぜでしょうか？我々は`l1`をネットワークに登録するときに、`L.Linear`の第一引数に`None`を渡しましたね。そして、**まだネットワークに一度もデータを入力していません**。そのため、**まだ重み行列`W`は作成されていません。**そのため、まだ`net.l1.W`は具体的な配列を保持していないのです。"
      ]
    },
    {
      "metadata": {
        "id": "yF92dGMjMq4M",
        "colab_type": "text"
      },
      "cell_type": "markdown",
      "source": [
        "## 4. 最適化手法の選択\n",
        "\n",
        "では、上で定義したネットワークをMNISTデータセットを使って訓練してみましょう。学習時に用いる最適化の手法としてはいろいろな種類のものが提案されていますが、Chainerは多くの手法を同一のインターフェースで利用できるよう、`Optimizer`という機能でそれらを提供しています。`chainer.optimizers`モジュール以下に色々なものを見つけることができます。一覧はこちらにあります：\n",
        "\n",
        "- [Chainerで使える最適化手法一覧](https://docs.chainer.org/en/stable/reference/optimizers.html)\n",
        "\n",
        "ここでは最もシンプルな勾配降下法の手法である`optimizers.SGD`を用います。`Optimizer`のオブジェクトには、`setup`メソッドを使ってモデル（`Chain`オブジェクト）を渡します。こうすることで`Optimizer`に、何を最適化すればいいか把握させることができます。\n",
        "\n",
        "他にもいろいろな最適化手法が手軽に試せるので、色々と試してみて結果の変化を見てみてください。例えば、下の`chainer.optimizers.SGD`のうち`SGD`の部分を`MomentumSGD`, `RMSprop`,  `Adam`などに変えるだけで、最適化手法の違いがどのような学習曲線（ロスカーブ）の違いを生むかなどを簡単に調べることができます。"
      ]
    },
    {
      "metadata": {
        "id": "Bfr21c6dMq4N",
        "colab_type": "code",
        "colab": {}
      },
      "cell_type": "code",
      "source": [
        "from chainer import optimizers\n",
        "\n",
        "optimizer = optimizers.SGD(lr=0.01).setup(net)"
      ],
      "execution_count": 0,
      "outputs": []
    },
    {
      "metadata": {
        "id": "3sFOwliOMq4Q",
        "colab_type": "text"
      },
      "cell_type": "markdown",
      "source": [
        "#### NOTE\n",
        "\n",
        "今回はSGDのコンストラクタの`lr`という引数に $0.01$ を与えました。この値は学習率として知られ、モデルをうまく訓練して良いパフォーマンスを発揮させるために調整する必要がある重要な**ハイパーパラメータ**として知られています。"
      ]
    },
    {
      "metadata": {
        "id": "lqFm-as1Mq4R",
        "colab_type": "text"
      },
      "cell_type": "markdown",
      "source": [
        "## 5. 学習する\n",
        "\n",
        "いよいよ学習をスタートします！今回は分類問題なので、`softmax_cross_entropy`というロス関数を使って最小化すべきロスの値を計算します。\n",
        "\n",
        "まず、ネットワークにデータを渡して、出てきた出力と、入力データに対応する正解ラベルを、`Function`の一種でありスカラ値を返す**ロス関数**に渡し、ロス（最小化したい値）の計算を行います。ロスは、`chainer.Variable`のオブジェクトになっています。そして、この`Variable`は、**今まで自分にどんな計算が施されたかを辿れるようになっています。**この仕組みが、Define-by-Run [[Tokui 2015]](http://learningsys.org/papers/LearningSys_2015_paper_33.pdf)とよばれる発明の中心的な役割を果たしています。\n",
        "\n",
        "ここでは誤差逆伝播法自体の説明は割愛しますが、**計算したロスに対する勾配をネットワークに逆向きに流していく**処理は、Chainerではネットワークが吐き出した`Variable`が持つ`backward()`メソッドを呼ぶだけでできます。これを呼ぶと、前述のようにこれまでの計算過程を逆向きに遡って**誤差逆伝播用の計算グラフを構築し**、途中のパラメータの勾配を連鎖率を使って計算してくれます。（詳しくは筆者が[日本ソフトウェア科学会で行ったチュートリアルの資料](https://www.slideshare.net/mitmul/chainer-79942361)をご覧ください。）\n",
        "\n",
        "こうして計算された各パラメータに対する勾配を使って、先程`Optimizer`を作成する際に指定したアルゴリズムを使ってネットワークパラメータの更新（＝学習）が行われるわけです。\n",
        "\n",
        "まとめると、今回1回の更新処理の中で行うのは、以下の4項目です。\n",
        "\n",
        "1. ネットワークにデータを渡して出力`y`を得る\n",
        "2. 出力`y`と正解ラベル`t`を使って、最小化すべきロスの値を`softmax_cross_entropy`関数で計算する\n",
        "3. `softmax_cross_entropy`関数の出力（`Variable`）の`backward()`メソッドを呼んで、ネットワークの全てのパラメータの勾配を誤差逆伝播法で計算する\n",
        "4. Optimizerの`update`メソッドを呼び、3.で計算した勾配を使って全パラメータを更新する\n",
        "\n",
        "パラメータの更新は、何度も何度も繰り返し行います。一度の更新に用いられるデータは、ネットワークに入力されたバッチサイズ分だけ束ねられたデータのみです。そのため、データセット全体のデータを使うために、次のミニバッチを入力して再度更新、その次のミニバッチを使ってまた更新、ということを繰り返すわけです。そのため、この過程を学習ループと呼んでいます。\n",
        "\n",
        "#### NOTE: ロス関数\n",
        "\n",
        "ちなみに、ロス関数は、例えば分類問題ではなく簡単な回帰問題を解きたいような場合、`F.softmax_cross_entropy`の代わりに`F.mean_squared_error`などを用いることもできます。他にも、いろいろな問題設定に対応するために様々なロス関数がChainerには用意されています。こちらからその一覧を見ることができます：\n",
        "\n",
        "- [Chainerで使えるロス関数一覧](http://docs.chainer.org/en/stable/reference/functions.html#loss-functions)\n",
        "\n",
        "### 学習ループのコード"
      ]
    },
    {
      "metadata": {
        "id": "zBYXpUQpMq4S",
        "colab_type": "code",
        "outputId": "0ace85d5-5baf-414a-d6b6-5d3abbdaaf1b",
        "colab": {
          "base_uri": "https://localhost:8080/",
          "height": 215
        }
      },
      "cell_type": "code",
      "source": [
        "import numpy as np\n",
        "from chainer.dataset import concat_examples\n",
        "from chainer.cuda import to_cpu\n",
        "\n",
        "max_epoch = 10\n",
        "\n",
        "while train_iter.epoch < max_epoch:\n",
        "    \n",
        "    # ---------- 学習の1イテレーション ----------\n",
        "    train_batch = train_iter.next()\n",
        "    x, t = concat_examples(train_batch, gpu_id)\n",
        "    \n",
        "    # 予測値の計算\n",
        "    y = net(x)\n",
        "\n",
        "    # ロスの計算\n",
        "    loss = F.softmax_cross_entropy(y, t)\n",
        "\n",
        "    # 勾配の計算\n",
        "    net.cleargrads()\n",
        "    loss.backward()\n",
        "\n",
        "    # パラメータの更新\n",
        "    optimizer.update()\n",
        "    # --------------- ここまで ----------------\n",
        "\n",
        "    # 1エポック終了ごとにValidationデータに対する予測精度を測って、\n",
        "    # モデルの汎化性能が向上していることをチェックしよう\n",
        "    if train_iter.is_new_epoch:  # 1 epochが終わったら\n",
        "\n",
        "        # ロスの表示\n",
        "        print('epoch:{:02d} train_loss:{:.04f} '.format(\n",
        "            train_iter.epoch, float(to_cpu(loss.data))), end='')\n",
        "\n",
        "        valid_losses = []\n",
        "        valid_accuracies = []\n",
        "        while True:\n",
        "            valid_batch = valid_iter.next()\n",
        "            x_valid, t_valid = concat_examples(valid_batch, gpu_id)\n",
        "\n",
        "            # Validationデータをforward\n",
        "            with chainer.using_config('train', False), \\\n",
        "                    chainer.using_config('enable_backprop', False):\n",
        "                y_valid = net(x_valid)\n",
        "\n",
        "            # ロスを計算\n",
        "            loss_valid = F.softmax_cross_entropy(y_valid, t_valid)\n",
        "            valid_losses.append(to_cpu(loss_valid.array))\n",
        "\n",
        "            # 精度を計算\n",
        "            accuracy = F.accuracy(y_valid, t_valid)\n",
        "            accuracy.to_cpu()\n",
        "            valid_accuracies.append(accuracy.array)\n",
        "                        \n",
        "            if valid_iter.is_new_epoch:\n",
        "                valid_iter.reset()\n",
        "                break\n",
        "\n",
        "        print('val_loss:{:.04f} val_accuracy:{:.04f}'.format(\n",
        "            np.mean(valid_losses), np.mean(valid_accuracies)))\n",
        "        \n",
        "# テストデータでの評価\n",
        "test_accuracies = []\n",
        "while True:\n",
        "    test_batch = test_iter.next()\n",
        "    x_test, t_test = concat_examples(test_batch, gpu_id)\n",
        "\n",
        "    # テストデータをforward\n",
        "    with chainer.using_config('train', False), \\\n",
        "            chainer.using_config('enable_backprop', False):\n",
        "        y_test = net(x_test)\n",
        "\n",
        "    # 精度を計算\n",
        "    accuracy = F.accuracy(y_valid, t_valid)\n",
        "    accuracy.to_cpu()\n",
        "    test_accuracies.append(accuracy.array)\n",
        "\n",
        "    if test_iter.is_new_epoch:\n",
        "        test_iter.reset()\n",
        "        break\n",
        "\n",
        "print('test_accuracy:{:.04f}'.format(np.mean(test_accuracies)))"
      ],
      "execution_count": 0,
      "outputs": [
        {
          "output_type": "stream",
          "text": [
            "epoch:01 train_loss:1.0276 val_loss:0.9709 val_accuracy:0.7956\n",
            "epoch:02 train_loss:0.4606 val_loss:0.5347 val_accuracy:0.8637\n",
            "epoch:03 train_loss:0.4454 val_loss:0.4243 val_accuracy:0.8837\n",
            "epoch:04 train_loss:0.3522 val_loss:0.3740 val_accuracy:0.8949\n",
            "epoch:05 train_loss:0.2433 val_loss:0.3469 val_accuracy:0.9032\n",
            "epoch:06 train_loss:0.2511 val_loss:0.3254 val_accuracy:0.9086\n",
            "epoch:07 train_loss:0.2359 val_loss:0.3136 val_accuracy:0.9095\n",
            "epoch:08 train_loss:0.2356 val_loss:0.2981 val_accuracy:0.9150\n",
            "epoch:09 train_loss:0.1494 val_loss:0.2886 val_accuracy:0.9167\n",
            "epoch:10 train_loss:0.2267 val_loss:0.2791 val_accuracy:0.9210\n",
            "test_accuracy:0.9375\n"
          ],
          "name": "stdout"
        }
      ]
    },
    {
      "metadata": {
        "id": "VPRotZdNMq4V",
        "colab_type": "text"
      },
      "cell_type": "markdown",
      "source": [
        "`val_accuracy`に着目してみると、最終的におおよそ92%程度の精度で手書きの数字が分類できるようになりました。**学習終了後**に、ループの中でValidationデータセットを使ってモデルの汎化性能をおおまかにチェックしているのと同様にして、**テスト用のデータセットを用いて学習が終了したネットワークの評価を行っています。**テストデータでの評価結果は、およそ93.75%の正解率となりました。\n",
        "\n",
        "### 5.1 ValidationやTestを行う際の注意点\n",
        "\n",
        "ここで、ValidationにせよTestにせよ、「評価」を行う際には注意すべき点があります。学習は行わない、評価のためだけのデータをネットワークに渡して出力を計算している部分（例えば、`y_test = net(x_test)`）では、それらの行を2つのコンテキストでくくっています。\n",
        "\n",
        "#### `chainer.using_config('train', False)`\n",
        "\n",
        "まず、今回は学習時と推論時で動作が異なる関数は含まれていないため、実際の効力は持ちませんが、Validationやテストのために推論を行うときは`chainer.config.train = False`とします。以下のように、`chainer.using_config('train', False)`をwith構文と共に使えば、その中では`chainer.config.train = False`となります。\n",
        "\n",
        "```python\n",
        "with chainer.using_config('train', False):\n",
        "    --- 何か推論処理 ---\n",
        "```\n",
        "\n",
        "これは、以下のようにするのと同じことです。\n",
        "\n",
        "```python\n",
        "chainer.config.train = False\n",
        "\n",
        "--- 何か推論処理 ---\n",
        "```\n",
        "\n",
        "ただし、Pythonのコンテキストを利用しない場合は、一度このようにどこかで書くと、それ以降この設定はグローバルにずっと有効になることに注意してください。（推論したあと再び学習を行うという場合は、再度`chainer.config.train = True`などのようにすることが必要になります。`chainer.config`以下の規定の値に何かを代入することはグローバルに作用しますので、次に説明する`enable_backprop`についても同様です。）\n",
        "\n",
        "#### `chainer.using_config('enable_backprop', False)`\n",
        "\n",
        "次に、今回は評価に用いる出力の計算後にロス関数の各パラメータについての勾配は必要ないので、内部に計算グラフを保持しておく必要もないため、`chainer.using_config('enable_backprop', False)`として**無駄な計算グラフの構築を行わないようにし、メモリ消費量を節約しています。**\n",
        "\n",
        "#### NOTE: ChainerのConfig\n",
        "\n",
        "Chainerにはこの他にも、いくつかのグローバルなConfigがプリセットとして用意されています。また、`chainer.config`以下にユーザが自由な設定値を置くこともできます。詳しくはこちらを一読してください：[Configuring Chainer](https://docs.chainer.org/en/stable/reference/configuration.html)"
      ]
    },
    {
      "metadata": {
        "id": "kBF9Qld0Mq4V",
        "colab_type": "text"
      },
      "cell_type": "markdown",
      "source": [
        "## 6. 学習済みモデルを保存する\n",
        "\n",
        "学習が終わったら、その結果を保存します。Chainerには、2種類のフォーマットで学習済みネットワークをシリアライズする機能が用意されています。一つはHDF5形式で、もう一つはNumPyのNPZ形式でネットワークを保存するものです。今回は、追加ライブラリのインストールが必要なHDF5ではなく、NumPy標準機能で提供されているシリアライズ機能（`numpy.savez()`）を利用したNPZ形式でのモデルの保存を行います。"
      ]
    },
    {
      "metadata": {
        "id": "sE7aEqoaMq4W",
        "colab_type": "code",
        "colab": {}
      },
      "cell_type": "code",
      "source": [
        "from chainer import serializers\n",
        "\n",
        "serializers.save_npz('my_mnist.model', net)"
      ],
      "execution_count": 0,
      "outputs": []
    },
    {
      "metadata": {
        "id": "o6lpheDtMq4X",
        "colab_type": "code",
        "outputId": "360615ed-15d1-4990-dff5-27a86bd632bb",
        "colab": {
          "base_uri": "https://localhost:8080/",
          "height": 35
        }
      },
      "cell_type": "code",
      "source": [
        "# ちゃんと保存されていることを確認\n",
        "%ls -la my_mnist.model"
      ],
      "execution_count": 0,
      "outputs": [
        {
          "output_type": "stream",
          "text": [
            "-rw-r--r-- 1 root root 333939 Sep 20 12:11 my_mnist.model\n"
          ],
          "name": "stdout"
        }
      ]
    },
    {
      "metadata": {
        "id": "2g89uLBEMq4a",
        "colab_type": "text"
      },
      "cell_type": "markdown",
      "source": [
        "## 7. 保存したモデルを読み込んで推論する\n",
        "\n",
        "学習したネットワークを、それを使って数字の分類がしたい誰かに渡して、使ってもらうにはどうしたら良いでしょうか。もっともシンプルな方法は、ネットワークの定義がかかれたPythonファイルと、今しがた保存したNPZファイルを渡して、以下のように使うことです。以下のコードの前に、渡したネットワーク定義のファイルからネットワークのクラス（ここでは`MLP`）が読み込まれていることを前提とします。"
      ]
    },
    {
      "metadata": {
        "id": "XoRl-oIEMq4a",
        "colab_type": "code",
        "colab": {}
      },
      "cell_type": "code",
      "source": [
        "# まず同じネットワークのオブジェクトを作る\n",
        "infer_net = MLP()\n",
        "\n",
        "# そのオブジェクトに保存済みパラメータをロードする\n",
        "serializers.load_npz('my_mnist.model', infer_net)"
      ],
      "execution_count": 0,
      "outputs": []
    },
    {
      "metadata": {
        "id": "4klyoIO7Mq4d",
        "colab_type": "text"
      },
      "cell_type": "markdown",
      "source": [
        "以上で準備が整いました。それでは、試しにテストデータの中から一つ目の画像を取ってきて、それに対する分類を行ってみましょう。"
      ]
    },
    {
      "metadata": {
        "id": "le0Fo53xMq4f",
        "colab_type": "code",
        "outputId": "d493f198-3316-4ffb-9a65-9e6847a49a29",
        "colab": {
          "base_uri": "https://localhost:8080/",
          "height": 301
        }
      },
      "cell_type": "code",
      "source": [
        "gpu_id = 0  # CPUで計算をしたい場合は、-1を指定してください\n",
        "\n",
        "if gpu_id >= 0:\n",
        "    infer_net.to_gpu(gpu_id)\n",
        "\n",
        "# 1つ目のテストデータを取り出します\n",
        "x, t = test[0]  #  tは使わない\n",
        "\n",
        "# どんな画像か表示してみます\n",
        "plt.imshow(x.reshape(28, 28), cmap='gray')\n",
        "plt.show()\n",
        "\n",
        "# ミニバッチの形にする（複数の画像をまとめて推論に使いたい場合は、サイズnのミニバッチにしてまとめればよい）\n",
        "print('元の形：', x.shape, end=' -> ')\n",
        "\n",
        "x = x[None, ...]\n",
        "\n",
        "print('ミニバッチの形にしたあと：', x.shape)\n",
        "\n",
        "# ネットワークと同じデバイス上にデータを送る\n",
        "x = infer_net.xp.asarray(x)\n",
        "\n",
        "# モデルのforward関数に渡す\n",
        "with chainer.using_config('train', False), chainer.using_config('enable_backprop', False):\n",
        "    y = infer_net(x)\n",
        "\n",
        "# Variable形式で出てくるので中身を取り出す\n",
        "y = y.array\n",
        "\n",
        "# 結果をCPUに送る\n",
        "y = to_cpu(y)\n",
        "\n",
        "# 予測確率の最大値のインデックスを見る\n",
        "pred_label = y.argmax(axis=1)\n",
        "\n",
        "print('ネットワークの予測:', pred_label[0])"
      ],
      "execution_count": 0,
      "outputs": [
        {
          "output_type": "display_data",
          "data": {
            "image/png": "[encoded data removed]",
            "text/plain": [
              "<matplotlib.figure.Figure at 0x7f93f5c41160>"
            ]
          },
          "metadata": {
            "tags": []
          }
        },
        {
          "output_type": "stream",
          "text": [
            "元の形： (784,) -> ミニバッチの形にしたあと： (1, 784)\n",
            "ネットワークの予測: 7\n"
          ],
          "name": "stdout"
        }
      ]
    },
    {
      "metadata": {
        "id": "tkKEfMPbMq4i",
        "colab_type": "text"
      },
      "cell_type": "markdown",
      "source": [
        "ネットワークの予測は7でした。画像を見る限り、当たっていそうですね！"
      ]
    },
    {
      "metadata": {
        "id": "55aQjRHeMq4i",
        "colab_type": "text"
      },
      "cell_type": "markdown",
      "source": [
        "# Trainerを使ってみよう\n",
        "\n",
        "Chainerは、これまで書いてきたような学習ループを隠蔽する`Trainer`という機能を提供しています。これを使うと、学習ループを陽に書く必要がなくなり、またいろいろな便利なExtentionを使うことで、学習過程でのロスカーブの可視化や、ログの保存などが楽になります。"
      ]
    },
    {
      "metadata": {
        "id": "zqGffNzPMq4j",
        "colab_type": "text"
      },
      "cell_type": "markdown",
      "source": [
        "## 1. データセット・Iterator・ネットワークの準備\n",
        "\n",
        "これらはループを自分で書く場合と同じなので、まとめてしまいます。"
      ]
    },
    {
      "metadata": {
        "id": "LWIQJgmeMq4k",
        "colab_type": "code",
        "colab": {}
      },
      "cell_type": "code",
      "source": [
        "reset_seed(0)\n",
        "\n",
        "train_val, test = mnist.get_mnist()\n",
        "train, valid = split_dataset_random(train_val, 50000, seed=0)\n",
        "\n",
        "batchsize = 128\n",
        "\n",
        "train_iter = iterators.SerialIterator(train, batchsize)\n",
        "valid_iter = iterators.SerialIterator(valid, batchsize, False, False)\n",
        "test_iter = iterators.SerialIterator(test, batchsize, False, False)\n",
        "\n",
        "gpu_id = 0  # CPUを用いたい場合は、-1を指定してください\n",
        "\n",
        "net = MLP()\n",
        "\n",
        "if gpu_id >= 0:\n",
        "    net.to_gpu(gpu_id)"
      ],
      "execution_count": 0,
      "outputs": []
    },
    {
      "metadata": {
        "id": "qpv-bUQfMq4n",
        "colab_type": "text"
      },
      "cell_type": "markdown",
      "source": [
        "## 2. Updaterの準備\n",
        "\n",
        "ここからが学習ループを自分で書く場合と異なる部分です。ループを自分で書く場合には、データセットからバッチサイズ分のデータをとってきてミニバッチに束ねて、それをネットワークに入力して予測を作り、それを正解と比較し、ロスを計算してバックワード（誤差逆伝播）をして、`Optimizer`によってパラメータを更新する、というところまでを、以下のように書いていました。\n",
        "\n",
        "```python\n",
        "# ---------- 学習の1イテレーション ----------\n",
        "train_batch = train_iter.next()\n",
        "x, t = concat_examples(train_batch, gpu_id)\n",
        "\n",
        "# 予測値の計算\n",
        "y = net(x)\n",
        "\n",
        "# ロスの計算\n",
        "loss = F.softmax_cross_entropy(y, t)\n",
        "\n",
        "# 勾配の計算\n",
        "net.cleargrads()\n",
        "loss.backward()\n",
        "\n",
        "# パラメータの更新\n",
        "optimizer.update()\n",
        "```\n",
        "\n",
        "これらの処理を、まるっと`Updater`はまとめてくれます。これを行うために、**`Updater`には`Iterator`と`Optimizer`を渡してやります。** `Iterator`はデータセットオブジェクトを持っていて、そこからミニバッチを作り、`Optimizer`は最適化対象のネットワークを持っていて、それを使って前進計算とロスの計算・パラメータのアップデートをすることができます。そのため、この2つを渡しておけば、上記の処理を`Updater`内で全部行ってもらえるというわけです。では、`Updater`オブジェクトを作成してみましょう。"
      ]
    },
    {
      "metadata": {
        "id": "NIz8Fj2IMq4o",
        "colab_type": "code",
        "colab": {}
      },
      "cell_type": "code",
      "source": [
        "from chainer import training\n",
        "\n",
        "gpu_id = 0  # CPUを使いたい場合は-1を指定してください\n",
        "\n",
        "# ネットワークをClassifierで包んで、ロスの計算などをモデルに含める\n",
        "net = L.Classifier(net)\n",
        "\n",
        "# 最適化手法の選択\n",
        "optimizer = optimizers.SGD(lr=0.01).setup(net)\n",
        "\n",
        "# UpdaterにIteratorとOptimizerを渡す\n",
        "updater = training.StandardUpdater(train_iter, optimizer, device=gpu_id)"
      ],
      "execution_count": 0,
      "outputs": []
    },
    {
      "metadata": {
        "id": "BywdNhUSMq4s",
        "colab_type": "text"
      },
      "cell_type": "markdown",
      "source": [
        "#### NOTE\n",
        "\n",
        "ここでは、ネットワークを`L.Classifier`で包んでいます。`L.Classifier`は一種の`Chain`になっていて、渡されたネットワーク自体を`predictor`というattributeに持ち、**ロス計算を行う機能を追加してくれます。**こうすると、`net()`はデータ`x`だけでなくラベル`t`も取るようになり、まず渡されたデータを`predictor`に通して予測を作り、それを`t`と比較して**ロスの`Variable`を返すようになります。**ロス関数として何を用いるかはデフォルトでは`F.softmax_cross_entropy`となっていますが、`L.Classifier`の引数`lossfunc`にロス計算を行う関数を渡してやれば変更することができるため、Classifierという名前ながら回帰問題などのロス計算機能の追加にも使うことができます。（`L.Classifier(net, lossfun=L.mean_squared_error, compute_accuracy=False)`のようにする）\n",
        "\n",
        "`StandardUpdater`は前述のような`Updater`の担当する処理を遂行するための最もシンプルなクラスです。この他にも複数のGPUを用いるための`ParallelUpdater`などが用意されています。"
      ]
    },
    {
      "metadata": {
        "id": "VxnV33vIMq4s",
        "colab_type": "text"
      },
      "cell_type": "markdown",
      "source": [
        "## 3. Trainerの準備\n",
        "\n",
        "実際に学習ループ部分を隠蔽しているのは`Updater`なので、これがあればもう学習を始められそうですが、`Trainer`はさらに`Updater`を受け取って学習全体の管理を行う機能を提供しています。例えば、**データセットを何周したら学習を終了するか(stop_trigger)** や、**途中のロスの値をどのファイルに保存したいか**、**ロスカーブを可視化した画像ファイルを保存するかどうか**など、学習全体の設定として必須・もしくはあると便利な色々な機能を提供しています。\n",
        "\n",
        "必須なものとしては学習終了のタイミングを指定する`stop_trigger`がありますが、これは`Trainer`オブジェクトを作成するときのコンストラクタで指定します。指定の方法は単純で、`(長さ, 単位)`という形のタプルを与えればよいだけです。「長さ」には数字を、「単位」には`'iteration'`もしくは`'epoch'`のいずれかの文字列を指定します。こうすると、たとえば100 epoch（データセット100周）で学習を終了してください、とか、1000 iteration（1000回更新）で学習を終了してください、といったことが指定できます。`Trainer`を作るときに、`stop_trigger`を指定しないと、学習は自動的には止まりません。\n",
        "\n",
        "では、実際に`Trainer`オブジェクトを作ってみましょう。"
      ]
    },
    {
      "metadata": {
        "id": "-K_GXDUVMq4t",
        "colab_type": "code",
        "colab": {}
      },
      "cell_type": "code",
      "source": [
        "max_epoch = 10\n",
        "\n",
        "# TrainerにUpdaterを渡す\n",
        "trainer = training.Trainer(\n",
        "    updater, (max_epoch, 'epoch'), out='mnist_result')"
      ],
      "execution_count": 0,
      "outputs": []
    },
    {
      "metadata": {
        "id": "LtZDUXIUMq4v",
        "colab_type": "text"
      },
      "cell_type": "markdown",
      "source": [
        "`out`引数では、この次に説明する`Extension`を使って、ログファイルやロスの変化の過程を描画したグラフの画像ファイルなどを保存するディレクトリを指定しています。\n",
        "\n",
        "Trainerと、その内側にあるいろいろなオブジェクトの関係は、図にまとめると以下のようになっています。このイメージを持っておくと自分で部分的に改造したりする際に便利だと思います。\n",
        "\n",
        "![image](https://qiita-image-store.s3.amazonaws.com/0/17934/a751df31-b999-f692-d839-488c26b1c48a.png)"
      ]
    },
    {
      "metadata": {
        "id": "WgLOnmhuMq4v",
        "colab_type": "text"
      },
      "cell_type": "markdown",
      "source": [
        "## 4. TrainerにExtensionを追加する\n",
        "\n",
        "`Trainer`を使う利点として、\n",
        "\n",
        "- ログを自動的にファイルに保存（`LogReport`)\n",
        "- ターミナルに定期的にロスなどの情報を表示（`PrintReport`）\n",
        "- ロスを定期的にグラフで可視化して画像として保存（`PlotReport`)\n",
        "- 定期的にモデルやOptimizerの状態を自動シリアライズ（`snapshot`）\n",
        "- 学習の進捗を示すプログレスバーを表示（`ProgressBar`）\n",
        "- ネットワークの構造をGraphvizのdot形式で保存（`dump_graph`）\n",
        "- ネットワークのパラメータの平均や分散などの統計情報を出力（`ParameterStatistics`）\n",
        "\n",
        "などなどの様々な便利な機能を簡単に利用することができる点があります。これらの機能を利用するには、`Trainer`オブジェクトに対して`extend`メソッドを使って追加したい`Extension`のオブジェクトを渡してやるだけです。では実際に幾つかの`Extension`を追加してみましょう。"
      ]
    },
    {
      "metadata": {
        "id": "oAtZtGfWMq4w",
        "colab_type": "code",
        "colab": {}
      },
      "cell_type": "code",
      "source": [
        "from chainer.training import extensions\n",
        "\n",
        "trainer.extend(extensions.LogReport())\n",
        "trainer.extend(extensions.snapshot(filename='snapshot_epoch-{.updater.epoch}'))\n",
        "trainer.extend(extensions.Evaluator(valid_iter, net, device=gpu_id), name='val')\n",
        "trainer.extend(extensions.PrintReport(['epoch', 'main/loss', 'main/accuracy', 'val/main/loss', 'val/main/accuracy', 'l1/W/data/std', 'elapsed_time']))\n",
        "trainer.extend(extensions.ParameterStatistics(net.predictor.l1, {'std': np.std}))\n",
        "trainer.extend(extensions.PlotReport(['l1/W/data/std'], x_key='epoch', file_name='std.png'))\n",
        "trainer.extend(extensions.PlotReport(['main/loss', 'val/main/loss'], x_key='epoch', file_name='loss.png'))\n",
        "trainer.extend(extensions.PlotReport(['main/accuracy', 'val/main/accuracy'], x_key='epoch', file_name='accuracy.png'))\n",
        "trainer.extend(extensions.dump_graph('main/loss'))"
      ],
      "execution_count": 0,
      "outputs": []
    },
    {
      "metadata": {
        "id": "D2tRnyVYMq4y",
        "colab_type": "text"
      },
      "cell_type": "markdown",
      "source": [
        "### `LogReport`\n",
        "\n",
        "`epoch`や`iteration`ごとの`loss`, `accuracy`などを自動的に集計し、`Trainer`の`out`引数で指定した出力ディレクトリに`log`というファイル名で保存します。\n",
        "\n",
        "### `snapshot`\n",
        "\n",
        "`Trainer`の`out`引数で指定した出力ディレクトリに`Trainer`オブジェクトを指定されたタイミング（デフォルトでは1エポックごと）に保存します。`Trainer`オブジェクトは上述のように`Updater`を持っており、この中に`Optimizer`とモデルが保持されているため、この`Extension`でスナップショットをとっておけば、学習の復帰や学習済みモデルを使った推論などが学習終了後にも可能になります。\n",
        "\n",
        "### `dump_graph`\n",
        "\n",
        "指定された`Variable`オブジェクトから辿れる計算グラフをGraphvizのdot形式で保存します。保存先は`Trainer`の`out`引数で指定した出力ディレクトリです。\n",
        "\n",
        "### `Evaluator`\n",
        "\n",
        "評価用のデータセットの`Iterator`と、学習に使うモデルのオブジェクトを渡しておくことで、学習中のモデルを指定されたタイミングで評価用データセットを用いて評価します。内部では、`chainer.config.using_config('train', False)`が自動的に行われます。`backprop_enable`を`False`にすることは行われないため、メモリ使用効率はデフォルトでは最適ではありませんが、基本的には`Evaluator`を使えば評価を行うという点において問題はありません。\n",
        "\n",
        "### `PrintReport`\n",
        "\n",
        "`Reporter`によって集計された値を標準出力に出力します。このときどの値を出力するかを、リストの形で与えます。\n",
        "\n",
        "### `PlotReport`\n",
        "\n",
        "引数のリストで指定された値の変遷を`matplotlib`ライブラリを使ってグラフに描画し、出力ディレクトリに`file_name`引数で指定されたファイル名で画像として保存します。\n",
        "\n",
        "### `ParameterStatistics`\n",
        "\n",
        "指定したレイヤ（Link）が持つパラメータの平均・分散・最小値・最大値などなどの統計情報を計算して、ログに保存します。パラメータが発散していないかなどをチェックするのに便利です。\n",
        "\n",
        "---\n",
        "\n",
        "これらの`Extension`は、ここで紹介した以外にも、例えば`trigger`によって個別に作動するタイミングを指定できるなどのいくつかのオプションを持っており、より柔軟に組み合わせることができます。詳しくは公式のドキュメントを見てください\n",
        "\n",
        "- [ChainerのTrainer extension一覧](http://docs.chainer.org/en/stable/reference/extensions.html)"
      ]
    },
    {
      "metadata": {
        "id": "UENQI-q5Mq4z",
        "colab_type": "text"
      },
      "cell_type": "markdown",
      "source": [
        "## 5. 学習を開始する\n",
        "\n",
        "学習を開始するには、`Trainer`オブジェクトのメソッド`run`を呼ぶだけです！"
      ]
    },
    {
      "metadata": {
        "id": "h92kAz7-Mq4z",
        "colab_type": "code",
        "outputId": "a673293f-49a3-4b77-f70e-253add7182bd",
        "colab": {
          "base_uri": "https://localhost:8080/",
          "height": 215
        }
      },
      "cell_type": "code",
      "source": [
        "trainer.run()"
      ],
      "execution_count": 0,
      "outputs": [
        {
          "output_type": "stream",
          "text": [
            "epoch       main/loss   main/accuracy  val/main/loss  val/main/accuracy  l1/W/data/std  elapsed_time\n",
            "\u001b[J1           1.66911     0.599864       0.939099       0.805182           0.0359232      4.05647       \n",
            "\u001b[J2           0.672979    0.843211       0.518214       0.86699            0.0366046      8.77453       \n",
            "\u001b[J3           0.459943    0.878806       0.415202       0.88657            0.0370377      13.576        \n",
            "\u001b[J4           0.389616    0.893163       0.368694       0.896756           0.0372996      18.4358       \n",
            "\u001b[J5           0.353006    0.900915       0.341136       0.904173           0.0374883      23.1765       \n",
            "\u001b[J6           0.329981    0.907192       0.324045       0.907733           0.0376419      28.1265       \n",
            "\u001b[J7           0.312307    0.911105       0.307583       0.912777           0.0377661      32.9473       \n",
            "\u001b[J8           0.29808     0.914423       0.294656       0.917029           0.0378815      37.6594       \n",
            "\u001b[J9           0.285949    0.918059       0.283428       0.918414           0.0379861      42.3853       \n",
            "\u001b[J10          0.275185    0.920896       0.273544       0.921479           0.0380851      47.2454       \n"
          ],
          "name": "stdout"
        }
      ]
    },
    {
      "metadata": {
        "id": "4N-T8yJIMq42",
        "colab_type": "text"
      },
      "cell_type": "markdown",
      "source": [
        "初めに取り組んだ学習ループを自分で書いた場合よりもより短いコードで、リッチなログ情報とともに、下記で表示してみるようなグラフなども作りつつ、同様の結果を得ることができました。1層目の全結合層の重み行列の値の標準偏差が、学習の進行とともに徐々に大きくなっていっているのも見て取れて、面白いですね。\n",
        "\n",
        "では、保存されているロスのグラフを確認してみましょう。"
      ]
    },
    {
      "metadata": {
        "id": "vGulNmkgMq43",
        "colab_type": "code",
        "outputId": "bc907801-8c2f-4417-985e-a136a2d197e6",
        "colab": {
          "base_uri": "https://localhost:8080/",
          "height": 279
        }
      },
      "cell_type": "code",
      "source": [
        "from IPython.display import Image\n",
        "Image(filename='mnist_result/loss.png')"
      ],
      "execution_count": 0,
      "outputs": [
        {
          "output_type": "execute_result",
          "data": {
            "image/png": "[encoded data removed]",
            "text/plain": [
              "<IPython.core.display.Image object>"
            ]
          },
          "metadata": {
            "tags": []
          },
          "execution_count": 26
        }
      ]
    },
    {
      "metadata": {
        "id": "WDR3LRzkMq46",
        "colab_type": "text"
      },
      "cell_type": "markdown",
      "source": [
        "精度のグラフも見てみましょう。"
      ]
    },
    {
      "metadata": {
        "id": "eJmS70CGMq46",
        "colab_type": "code",
        "outputId": "c0688827-3098-41e5-e7b2-2593c3628c15",
        "colab": {
          "base_uri": "https://localhost:8080/",
          "height": 279
        }
      },
      "cell_type": "code",
      "source": [
        "Image(filename='mnist_result/accuracy.png')"
      ],
      "execution_count": 0,
      "outputs": [
        {
          "output_type": "execute_result",
          "data": {
            "image/png": "[encoded data removed]",
            "text/plain": [
              "<IPython.core.display.Image object>"
            ]
          },
          "metadata": {
            "tags": []
          },
          "execution_count": 27
        }
      ]
    },
    {
      "metadata": {
        "id": "sAG2GYmwMq48",
        "colab_type": "text"
      },
      "cell_type": "markdown",
      "source": [
        "もう少し学習を続ければ、まだ多少精度の向上が図れそうな雰囲気がありますね。\n",
        "\n",
        "ついでに、`dump_graph`という`Extension`が出力した計算グラフを、`Graphviz`を使って画像化して見てみましょう。"
      ]
    },
    {
      "metadata": {
        "id": "6cznAWVbMq49",
        "colab_type": "code",
        "colab": {}
      },
      "cell_type": "code",
      "source": [
        "!dot -Tpng mnist_result/cg.dot -o mnist_result/cg.png"
      ],
      "execution_count": 0,
      "outputs": []
    },
    {
      "metadata": {
        "id": "Eo0dsPW-Mq4_",
        "colab_type": "code",
        "outputId": "f458ac0e-dfe0-4ae2-a026-b85ecb4fb1f5",
        "colab": {
          "base_uri": "https://localhost:8080/",
          "height": 1256
        }
      },
      "cell_type": "code",
      "source": [
        "Image(filename='mnist_result/cg.png')"
      ],
      "execution_count": 0,
      "outputs": [
        {
          "output_type": "execute_result",
          "data": {
            "image/png": "[encoded data removed]",
            "text/plain": [
              "<IPython.core.display.Image object>"
            ]
          },
          "metadata": {
            "tags": []
          },
          "execution_count": 29
        }
      ]
    },
    {
      "metadata": {
        "id": "afca_9ZgMq5B",
        "colab_type": "text"
      },
      "cell_type": "markdown",
      "source": [
        "上から下へ向かって、データやパラメータがどのような`Function`に渡されて計算が行われ、ロスを表す`Variable`が出力されたかが分かります。"
      ]
    },
    {
      "metadata": {
        "id": "VKGpB55MMq5B",
        "colab_type": "text"
      },
      "cell_type": "markdown",
      "source": [
        "## 6. テストデータで評価する\n",
        "\n",
        "上でもValidationデータに対しての評価を学習中に行うために使用されているTrainer Extensionの一つであるEvaluatorは、Trainerと関係なく独立して使うこともできます。以下のようにして`Iterator`とネットワークのオブジェクト（`net`）、使用するデバイスIDを渡してEvaluatorオブジェクトを作成し、これを関数として実行するだけです。"
      ]
    },
    {
      "metadata": {
        "id": "0VPMBv5uMq5C",
        "colab_type": "code",
        "outputId": "1e0cee0f-fd46-4390-835d-d3dd10303326",
        "colab": {
          "base_uri": "https://localhost:8080/",
          "height": 35
        }
      },
      "cell_type": "code",
      "source": [
        "test_evaluator = extensions.Evaluator(test_iter, net, device=gpu_id)\n",
        "results = test_evaluator()\n",
        "print('Test accuracy:', results['main/accuracy'])"
      ],
      "execution_count": 0,
      "outputs": [
        {
          "output_type": "stream",
          "text": [
            "Test accuracy: 0.9257318\n"
          ],
          "name": "stdout"
        }
      ]
    },
    {
      "metadata": {
        "id": "S3wF6tp-Mq5F",
        "colab_type": "text"
      },
      "cell_type": "markdown",
      "source": [
        "## 7. 学習済みモデルで推論する\n",
        "\n",
        "それでは、Trainer Extensionのsnapshotが自動的に保存したネットワークのスナップショットから学習済みパラメータを読み込んで、学習ループを書いて学習したときと同様に1番目のテストデータで推論を行ってみましょう。\n",
        "\n",
        "ここで注意すべきは、snapshotが保存するnpzファイルはTrainer全体のスナップショットであるため、extensionの内部のパラメータなども一緒に保存されています。これは、学習自体を再開するために必要だからです。しかし、今回はネットワークのパラメータだけを読み込めば良いので、`serializers.load_npz()`のpath引数にネットワーク部分までのパス（`updater/model:main/predictor/`）を指定しています。こうすることで、ネットワークのオブジェクトにパラメータだけを読み込むことができます。"
      ]
    },
    {
      "metadata": {
        "id": "c75UL_8XMq5H",
        "colab_type": "code",
        "outputId": "41b38687-82be-4003-9e57-68b0cd99334d",
        "colab": {
          "base_uri": "https://localhost:8080/",
          "height": 283
        }
      },
      "cell_type": "code",
      "source": [
        "reset_seed(0)\n",
        "\n",
        "infer_net = MLP()\n",
        "serializers.load_npz(\n",
        "    'mnist_result/snapshot_epoch-10',\n",
        "    infer_net, path='updater/model:main/predictor/')\n",
        "\n",
        "if gpu_id >= 0:\n",
        "    infer_net.to_gpu(gpu_id)\n",
        "\n",
        "x, t = test[0]\n",
        "plt.imshow(x.reshape(28, 28), cmap='gray')\n",
        "plt.show()\n",
        "\n",
        "x = infer_net.xp.asarray(x[None, ...])\n",
        "with chainer.using_config('train', False), chainer.using_config('enable_backprop', False):\n",
        "    y = infer_net(x)\n",
        "y = to_cpu(y.array)\n",
        "\n",
        "print('予測ラベル:', y.argmax(axis=1)[0])"
      ],
      "execution_count": 0,
      "outputs": [
        {
          "output_type": "display_data",
          "data": {
            "image/png": "[encoded data removed]",
            "text/plain": [
              "<matplotlib.figure.Figure at 0x7f93f85ed518>"
            ]
          },
          "metadata": {
            "tags": []
          }
        },
        {
          "output_type": "stream",
          "text": [
            "予測ラベル: 7\n"
          ],
          "name": "stdout"
        }
      ]
    },
    {
      "metadata": {
        "id": "z0KB6IURMq5J",
        "colab_type": "text"
      },
      "cell_type": "markdown",
      "source": [
        "無事正解できていますね。"
      ]
    },
    {
      "metadata": {
        "id": "aNGmM0_eMq5K",
        "colab_type": "text"
      },
      "cell_type": "markdown",
      "source": [
        "# 新しいネットワークを書いてみよう\n",
        "\n",
        "ここでは、MNISTデータセットではなくCIFAR10という32x32サイズの小さなカラー画像に10クラスのいずれかのラベルがついたデータセットを用いて、いろいろなモデルを自分で書いて試行錯誤する流れを体験してみます。\n",
        "\n",
        "| airplane | automobile | bird | cat | deer | dog | frog | horse | ship | truck |\n",
        "|:--------:|:----------:|:----:|:---:|:----:|:---:|:----:|:-----:|:----:|:-----:|\n",
        "| ![](https://www.cs.toronto.edu/~kriz/cifar-10-sample/airplane4.png) | ![](https://www.cs.toronto.edu/~kriz/cifar-10-sample/automobile4.png) | ![](https://www.cs.toronto.edu/~kriz/cifar-10-sample/bird4.png) | ![](https://www.cs.toronto.edu/~kriz/cifar-10-sample/cat4.png) | ![](https://www.cs.toronto.edu/~kriz/cifar-10-sample/deer4.png) | ![](https://www.cs.toronto.edu/~kriz/cifar-10-sample/dog4.png) | ![](https://www.cs.toronto.edu/~kriz/cifar-10-sample/frog4.png) | ![](https://www.cs.toronto.edu/~kriz/cifar-10-sample/horse4.png) | ![](https://www.cs.toronto.edu/~kriz/cifar-10-sample/ship4.png) | ![](https://www.cs.toronto.edu/~kriz/cifar-10-sample/truck4.png) |\n",
        "\n",
        "## 1. ネットワークの定義\n",
        "\n",
        "ここでは、さきほど試した全結合層だけからなるネットワークではなく、畳込み層を持つネットワークを定義してみます。3つの畳み込み層を持ち、2つの全結合層がそのあとに続いています。"
      ]
    },
    {
      "metadata": {
        "id": "iabj0L8sMq5L",
        "colab_type": "code",
        "colab": {}
      },
      "cell_type": "code",
      "source": [
        "class MyNet(chainer.Chain):\n",
        "    \n",
        "    def __init__(self, n_out):\n",
        "        super(MyNet, self).__init__()\n",
        "        with self.init_scope():\n",
        "            self.conv1 = L.Convolution2D(None, 32, 3, 3, 1)\n",
        "            self.conv2 = L.Convolution2D(32, 64, 3, 3, 1)\n",
        "            self.conv3 = L.Convolution2D(64, 128, 3, 3, 1)\n",
        "            self.fc4 = L.Linear(None, 1000)\n",
        "            self.fc5 = L.Linear(1000, n_out)\n",
        "        \n",
        "    def __call__(self, x):\n",
        "        h = F.relu(self.conv1(x))\n",
        "        h = F.relu(self.conv2(h))\n",
        "        h = F.relu(self.conv3(h))\n",
        "        h = F.relu(self.fc4(h))\n",
        "        h = self.fc5(h)\n",
        "        return h"
      ],
      "execution_count": 0,
      "outputs": []
    },
    {
      "metadata": {
        "id": "kExP3QgLMq5O",
        "colab_type": "text"
      },
      "cell_type": "markdown",
      "source": [
        "## 2. 学習\n",
        "\n",
        "ここで、あとから別のネットワークも簡単に同じ設定で訓練できるよう、`train`関数を作っておきます。これは、\n",
        "\n",
        "- ネットワークのオブジェクト\n",
        "- バッチサイズ\n",
        "- 使用するGPU ID\n",
        "- 学習を終了するエポック数\n",
        "- データセットオブジェクト\n",
        "- 学習率の初期値\n",
        "- 学習率減衰のタイミング\n",
        "\n",
        "などを渡すと、内部で`Trainer`を用いて渡されたデータセットを使ってネットワークを訓練し、学習が終了した状態のネットワークを返してくれる関数です。`Trainer.run()`が終了した後に、テストデータセットを使って評価まで行ってくれます。先程のMNISTでの例と違い、最適化手法にはMomentumSGDを用い、ExponentialShiftというExtentionを使って、指定したタイミングごとに学習率を減衰させるようにしてみます。\n",
        "\n",
        "また、ここでは`cifar.get_cifar10()`が返す学習用データセットのうち9割のデータを`train`、残りの1割を`valid`として使うようにしています。\n",
        "\n",
        "この`train`関数を用いて、上で定義した`MyModel`モデルを訓練してみます。"
      ]
    },
    {
      "metadata": {
        "id": "NEvyuq1TMq5O",
        "colab_type": "code",
        "colab": {}
      },
      "cell_type": "code",
      "source": [
        "from chainer.datasets import cifar\n",
        "\n",
        "\n",
        "def train(network_object, batchsize=128, gpu_id=0, max_epoch=20, train_dataset=None, valid_dataset=None, test_dataset=None, postfix='', base_lr=0.01, lr_decay=None):\n",
        "\n",
        "    # 1. Dataset\n",
        "    if train_dataset is None and valid_dataset is None and test_dataset is None:\n",
        "        train_val, test = cifar.get_cifar10()\n",
        "        train_size = int(len(train_val) * 0.9)\n",
        "        train, valid = split_dataset_random(train_val, train_size, seed=0)\n",
        "    else:\n",
        "        train, valid, test = train_dataset, valid_dataset, test_dataset\n",
        "\n",
        "    # 2. Iterator\n",
        "    train_iter = iterators.MultiprocessIterator(train, batchsize)\n",
        "    valid_iter = iterators.MultiprocessIterator(valid, batchsize, False, False)\n",
        "\n",
        "    # 3. Model\n",
        "    net = L.Classifier(network_object)\n",
        "\n",
        "    # 4. Optimizer\n",
        "    optimizer = optimizers.MomentumSGD(lr=base_lr).setup(net)\n",
        "    optimizer.add_hook(chainer.optimizer.WeightDecay(0.0005))\n",
        "\n",
        "    # 5. Updater\n",
        "    updater = training.StandardUpdater(train_iter, optimizer, device=gpu_id)\n",
        "\n",
        "    # 6. Trainer\n",
        "    trainer = training.Trainer(updater, (max_epoch, 'epoch'), out='{}_cifar10_{}result'.format(network_object.__class__.__name__, postfix))\n",
        "    \n",
        "    # 7. Trainer extensions\n",
        "    trainer.extend(extensions.LogReport())\n",
        "    trainer.extend(extensions.observe_lr())\n",
        "    trainer.extend(extensions.Evaluator(valid_iter, net, device=gpu_id), name='val')\n",
        "    trainer.extend(extensions.PrintReport(['epoch', 'main/loss', 'main/accuracy', 'val/main/loss', 'val/main/accuracy', 'elapsed_time', 'lr']))\n",
        "    trainer.extend(extensions.PlotReport(['main/loss', 'val/main/loss'], x_key='epoch', file_name='loss.png'))\n",
        "    trainer.extend(extensions.PlotReport(['main/accuracy', 'val/main/accuracy'], x_key='epoch', file_name='accuracy.png'))\n",
        "    if lr_decay is not None:\n",
        "        trainer.extend(extensions.ExponentialShift('lr', 0.1), trigger=lr_decay)\n",
        "    trainer.run()\n",
        "    del trainer\n",
        "    \n",
        "    # 8. Evaluation\n",
        "    test_iter = iterators.MultiprocessIterator(test, batchsize, False, False)\n",
        "    test_evaluator = extensions.Evaluator(test_iter, net, device=gpu_id)\n",
        "    results = test_evaluator()\n",
        "    print('Test accuracy:', results['main/accuracy'])\n",
        "    \n",
        "    return net"
      ],
      "execution_count": 0,
      "outputs": []
    },
    {
      "metadata": {
        "id": "kURPNSFjMq5S",
        "colab_type": "code",
        "outputId": "0766f417-e18c-483f-a070-5117e1396b3a",
        "colab": {
          "base_uri": "https://localhost:8080/",
          "height": 413
        }
      },
      "cell_type": "code",
      "source": [
        "net = train(MyNet(10), gpu_id=0)"
      ],
      "execution_count": 0,
      "outputs": [
        {
          "output_type": "stream",
          "text": [
            "epoch       main/loss   main/accuracy  val/main/loss  val/main/accuracy  elapsed_time  lr        \n",
            "\u001b[J1           1.92579     0.304665       1.72106        0.391992           8.33031       0.01        \n",
            "\u001b[J2           1.60926     0.423628       1.5271         0.469727           16.6817       0.01        \n",
            "\u001b[J3           1.46886     0.473535       1.43525        0.498242           24.977        0.01        \n",
            "\u001b[J4           1.3905      0.501309       1.3984         0.500781           33.3574       0.01        \n",
            "\u001b[J5           1.32916     0.524929       1.35348        0.516797           41.8136       0.01        \n",
            "\u001b[J6           1.26382     0.546986       1.30076        0.538086           50.1132       0.01        \n",
            "\u001b[J7           1.2182      0.565683       1.29976        0.542383           58.5753       0.01        \n",
            "\u001b[J8           1.16321     0.586936       1.23604        0.570312           67.0427       0.01        \n",
            "\u001b[J9           1.1186      0.60467        1.22505        0.567773           75.8295       0.01        \n",
            "\u001b[J10          1.07453     0.620126       1.19444        0.576367           84.2757       0.01        \n",
            "\u001b[J11          1.02493     0.638295       1.19739        0.582812           92.941        0.01        \n",
            "\u001b[J12          0.984103    0.653423       1.16759        0.58418            101.367       0.01        \n",
            "\u001b[J13          0.943464    0.66535        1.16487        0.591016           109.755       0.01        \n",
            "\u001b[J14          0.899224    0.681869       1.15379        0.602539           118.44        0.01        \n",
            "\u001b[J15          0.853511    0.697798       1.20713        0.573633           127.137       0.01        \n",
            "\u001b[J16          0.810642    0.712362       1.1921         0.6                135.718       0.01        \n",
            "\u001b[J17          0.762824    0.732355       1.20706        0.586523           144.377       0.01        \n",
            "\u001b[J18          0.723621    0.744074       1.1923         0.59375            152.995       0.01        \n",
            "\u001b[J19          0.671357    0.765402       1.22057        0.603711           161.671       0.01        \n",
            "\u001b[J20          0.630529    0.777322       1.21521        0.595312           170.121       0.01        \n",
            "Test accuracy: 0.6055182\n"
          ],
          "name": "stdout"
        }
      ]
    },
    {
      "metadata": {
        "id": "cXSoxEcvMq5W",
        "colab_type": "text"
      },
      "cell_type": "markdown",
      "source": [
        "学習が20エポックまで終わりました。ロスと精度のプロットを見てみましょう。"
      ]
    },
    {
      "metadata": {
        "id": "LsjyDJSPMq5Y",
        "colab_type": "code",
        "outputId": "5853e7eb-c6f6-4c52-974f-ceea0eb10ba7",
        "colab": {
          "base_uri": "https://localhost:8080/",
          "height": 279
        }
      },
      "cell_type": "code",
      "source": [
        "Image(filename='MyNet_cifar10_result/loss.png')"
      ],
      "execution_count": 0,
      "outputs": [
        {
          "output_type": "execute_result",
          "data": {
            "image/png": "[encoded data removed]",
            "text/plain": [
              "<IPython.core.display.Image object>"
            ]
          },
          "metadata": {
            "tags": []
          },
          "execution_count": 35
        }
      ]
    },
    {
      "metadata": {
        "id": "xHuqlhrUMq5b",
        "colab_type": "code",
        "outputId": "10921ff6-07af-419a-88b9-bc51212a9320",
        "colab": {
          "base_uri": "https://localhost:8080/",
          "height": 283
        }
      },
      "cell_type": "code",
      "source": [
        "Image(filename='MyNet_cifar10_result/accuracy.png')"
      ],
      "execution_count": 0,
      "outputs": [
        {
          "output_type": "execute_result",
          "data": {
            "image/png": "[encoded data removed]",
            "text/plain": [
              "<IPython.core.display.Image object>"
            ]
          },
          "metadata": {
            "tags": []
          },
          "execution_count": 36
        }
      ]
    },
    {
      "metadata": {
        "id": "Wpz2mcvpMq5g",
        "colab_type": "text"
      },
      "cell_type": "markdown",
      "source": [
        "学習データでの精度（`main/accuracy`)は77%程度まで到達していますが、テストデータでのロス（`val/main/loss`）は途中から下げ止まり、精度（`val/main/accuracy`）も60%前後で頭打ちになってしまっています。表示されたログの最後の行を見ると、テストデータでの精度も同様に60%程度だったようです。学習データでは良い精度が出ているが、 テストデータでは精度が良くないということなので、**モデルが学習データにオーバーフィッティングしている**と思われます。"
      ]
    },
    {
      "metadata": {
        "id": "sSB6NmM_Mq5h",
        "colab_type": "text"
      },
      "cell_type": "markdown",
      "source": [
        "## 3. 学習済みネットワークを使った予測\n",
        "\n",
        "テスト精度は60%程度でしたが、試しにこの学習済みネットワークを使っていくつかのテスト画像を分類させてみましょう。あとで使いまわせるように`predict`関数を作っておきます。"
      ]
    },
    {
      "metadata": {
        "id": "cZVANymqMq5h",
        "colab_type": "code",
        "outputId": "2d0fd203-db7a-4c70-d19b-ecaebe20dbb4",
        "colab": {
          "base_uri": "https://localhost:8080/",
          "height": 1442
        }
      },
      "cell_type": "code",
      "source": [
        "cls_names = ['airplane', 'automobile', 'bird', 'cat', 'deer',\n",
        "             'dog', 'frog', 'horse', 'ship', 'truck']\n",
        "\n",
        "def predict(net, image_id):\n",
        "    _, test = cifar.get_cifar10()\n",
        "    x, t = test[image_id]\n",
        "    net.to_cpu()\n",
        "    with chainer.using_config('train', False), chainer.using_config('enable_backprop', False):\n",
        "        y = net.predictor(x[None, ...]).data.argmax(axis=1)[0]\n",
        "    print('predicted_label:', cls_names[y])\n",
        "    print('answer:', cls_names[t])\n",
        "\n",
        "    plt.imshow(x.transpose(1, 2, 0))\n",
        "    plt.show()\n",
        "\n",
        "for i in range(10, 15):\n",
        "    predict(net, i)"
      ],
      "execution_count": 0,
      "outputs": [
        {
          "output_type": "stream",
          "text": [
            "predicted_label: airplane\n",
            "answer: airplane\n"
          ],
          "name": "stdout"
        },
        {
          "output_type": "display_data",
          "data": {
            "image/png": "[encoded data removed]",
            "text/plain": [
              "<matplotlib.figure.Figure at 0x7f93d7ac6710>"
            ]
          },
          "metadata": {
            "tags": []
          }
        },
        {
          "output_type": "stream",
          "text": [
            "predicted_label: truck\n",
            "answer: truck\n"
          ],
          "name": "stdout"
        },
        {
          "output_type": "display_data",
          "data": {
            "image/png": "[encoded data removed]",
            "text/plain": [
              "<matplotlib.figure.Figure at 0x7f93d9d95ac8>"
            ]
          },
          "metadata": {
            "tags": []
          }
        },
        {
          "output_type": "stream",
          "text": [
            "predicted_label: dog\n",
            "answer: dog\n"
          ],
          "name": "stdout"
        },
        {
          "output_type": "display_data",
          "data": {
            "image/png": "[encoded data removed]",
            "text/plain": [
              "<matplotlib.figure.Figure at 0x7f93d9e927f0>"
            ]
          },
          "metadata": {
            "tags": []
          }
        },
        {
          "output_type": "stream",
          "text": [
            "predicted_label: horse\n",
            "answer: horse\n"
          ],
          "name": "stdout"
        },
        {
          "output_type": "display_data",
          "data": {
            "image/png": "[encoded data removed]",
            "text/plain": [
              "<matplotlib.figure.Figure at 0x7f93da0ff320>"
            ]
          },
          "metadata": {
            "tags": []
          }
        },
        {
          "output_type": "stream",
          "text": [
            "predicted_label: truck\n",
            "answer: truck\n"
          ],
          "name": "stdout"
        },
        {
          "output_type": "display_data",
          "data": {
            "image/png": "[encoded data removed]",
            "text/plain": [
              "<matplotlib.figure.Figure at 0x7f93d9f354a8>"
            ]
          },
          "metadata": {
            "tags": []
          }
        }
      ]
    },
    {
      "metadata": {
        "id": "X1IJmNiHMq5l",
        "colab_type": "text"
      },
      "cell_type": "markdown",
      "source": [
        "うまく分類できているものもあれば、そうでないものもありました。ネットワークの学習に使用したデータセット上ではほぼ百発百中で正解できるとしても、未知のデータ、すなわちテストデータセットにある画像に対して高精度な予測ができなければ、意味がありません[^NN]。テストデータでの精度は、モデルの**汎化性能**に関係していると言われます。\n",
        "\n",
        "どうすれば高い汎化性能を持つネットワークを設計し、学習することができるでしょうか？（そんなことが簡単に分かったら苦労しない。）"
      ]
    },
    {
      "metadata": {
        "id": "l6-aXDxhMq5l",
        "colab_type": "text"
      },
      "cell_type": "markdown",
      "source": [
        "## 4. もっと深いネットワークを定義してみよう\n",
        "\n",
        "では、上のネットワークよりもよりたくさんの層を持つネットワークを定義してみましょう。ここでは、1層の畳み込みネットワークを`ConvBlock`、1層の全結合ネットワークを`LinearBlock`として定義し、これをたくさんシーケンシャルに積み重ねる方法で大きなネットワークを定義してみます。\n",
        "\n",
        "### 構成要素を定義する\n",
        "\n",
        "まず、今目指している大きなネットワークの構成要素となる`ConvBlock`と`LinearBlock`を定義してみましょう。"
      ]
    },
    {
      "metadata": {
        "id": "kokxUuBUMq5m",
        "colab_type": "code",
        "colab": {}
      },
      "cell_type": "code",
      "source": [
        "class ConvBlock(chainer.Chain):\n",
        "    \n",
        "    def __init__(self, n_ch, pool_drop=False):\n",
        "        w = chainer.initializers.HeNormal()\n",
        "        super(ConvBlock, self).__init__()\n",
        "        with self.init_scope():\n",
        "            self.conv = L.Convolution2D(None, n_ch, 3, 1, 1, nobias=True, initialW=w)\n",
        "            self.bn = L.BatchNormalization(n_ch)\n",
        "        self.pool_drop = pool_drop\n",
        "        \n",
        "    def __call__(self, x):\n",
        "        h = F.relu(self.bn(self.conv(x)))\n",
        "        if self.pool_drop:\n",
        "            h = F.max_pooling_2d(h, 2, 2)\n",
        "            h = F.dropout(h, ratio=0.25)\n",
        "        return h\n",
        "    \n",
        "class LinearBlock(chainer.Chain):\n",
        "    \n",
        "    def __init__(self, drop=False):\n",
        "        w = chainer.initializers.HeNormal()\n",
        "        super(LinearBlock, self).__init__()\n",
        "        with self.init_scope():\n",
        "            self.fc = L.Linear(None, 1024, initialW=w)\n",
        "        self.drop = drop\n",
        "        \n",
        "    def __call__(self, x):\n",
        "        h = F.relu(self.fc(x))\n",
        "        if self.drop:\n",
        "            h = F.dropout(h)\n",
        "        return h"
      ],
      "execution_count": 0,
      "outputs": []
    },
    {
      "metadata": {
        "id": "7PWQmRE4Mq5o",
        "colab_type": "text"
      },
      "cell_type": "markdown",
      "source": [
        "`ConvBlock`は`Chain`を継承した小さなネットワークとして定義されています。これは一つの畳み込み層とBatch Normalization層をパラメータありで持っているので、コンストラクタ内でこれらの登録を行っています。`__call__`メソッドでは、これらにデータを渡しつつ、活性化関数ReLUを適用して、さらに`pool_drop`がコンストラクタに`True`で渡されているときはMax PoolingとDropoutという関数を適用するようになっています。\n",
        "\n",
        "Chainerでは、Pythonを使って書いたforward計算のコード自体がネットワークの構造を表します。すなわち、実行時にデータがどのような層をくぐっていったか、ということがネットワークそのものを定義します。これによって、上記のような分岐などを含むネットワークも簡単に書け、柔軟かつシンプルで可読性の高いネットワーク定義が可能になります。これが**Define-by-Run**と呼ばれる特徴です。"
      ]
    },
    {
      "metadata": {
        "id": "7KpJgoXQMq5p",
        "colab_type": "text"
      },
      "cell_type": "markdown",
      "source": [
        "### 大きなネットワークの定義\n",
        "\n",
        "次に、これらの小さなネットワークを構成要素として積み重ねて、大きなネットワークを定義してみましょう。"
      ]
    },
    {
      "metadata": {
        "id": "2lMV0pumMq5q",
        "colab_type": "code",
        "colab": {}
      },
      "cell_type": "code",
      "source": [
        "class DeepCNN(chainer.ChainList):\n",
        "\n",
        "    def __init__(self, n_output):\n",
        "        super(DeepCNN, self).__init__(\n",
        "            ConvBlock(64),\n",
        "            ConvBlock(64, True),\n",
        "            ConvBlock(128),\n",
        "            ConvBlock(128, True),\n",
        "            ConvBlock(256),\n",
        "            ConvBlock(256),\n",
        "            ConvBlock(256),\n",
        "            ConvBlock(256, True),\n",
        "            LinearBlock(),\n",
        "            LinearBlock(),\n",
        "            L.Linear(None, n_output)\n",
        "        )\n",
        "\n",
        "    def __call__(self, x):\n",
        "        for f in self:\n",
        "            x = f(x)\n",
        "        return x"
      ],
      "execution_count": 0,
      "outputs": []
    },
    {
      "metadata": {
        "id": "Wywy-_DVMq5s",
        "colab_type": "text"
      },
      "cell_type": "markdown",
      "source": [
        "ここで利用しているのが、`ChainList`というクラスです。このクラスは`Chain`を継承したクラスで、いくつもの`Link`や`Chain`を順次呼び出していくようなネットワークを定義するときに便利です。`ChainList`を継承して定義されるモデルは、親クラスのコンストラクタを呼び出す際に**キーワード引数ではなく普通の引数として**`Link`もしくは`Chain`オブジェクトを渡すことができます。そしてこれらは、`self.children()`メソッドによって**登録した順番に**取り出すことができます。`ChainList`自体もPythonのイテレータとして機能するので、例えば`ChainList`を継承したクラスの中で`for f in self:...`といったことも可能です。\n",
        "\n",
        "この特徴を使うと、forward計算の記述が簡単になります。`self.children()`が返す構成要素のリストから、for文で構成要素を順番に取り出していき、そもそもの入力である`x`に取り出してきた部分ネットワークの計算を適用して、この出力で`x`を置き換えるということを順番に行っていけば、一連の`Link`または`Chain`を、コンストラクタで親クラスに登録した順番と同じ順番で適用していくことができます。そのため、シーケンシャルな部分ネットワークの適用によって表される大きなネットワークを定義するのに重宝します。\n",
        "\n",
        "それでは、学習を回してみます。今回はパラメータ数も多いので、学習を停止するエポック数を100に設定します。また、学習率を0.1から始めて、30エポックごとに10分の1にするように設定してみます。\n",
        "\n",
        "#### TIPS\n",
        "\n",
        "今回は多くの畳込み層を使う大きなネットワークを使うので、Chainerが用意してくれているcuDNNのautotune機能を有効にしてみます。やり方は簡単で、以下の二行を事前に実行しておくだけです。\n",
        "\n",
        "---\n",
        "\n"
      ]
    },
    {
      "metadata": {
        "id": "jI4IbE9WMq5t",
        "colab_type": "code",
        "colab": {}
      },
      "cell_type": "code",
      "source": [
        "chainer.cuda.set_max_workspace_size(512 * 1024 * 1024)\n",
        "chainer.config.autotune = True"
      ],
      "execution_count": 0,
      "outputs": []
    },
    {
      "metadata": {
        "id": "GLFm2waBMq5x",
        "colab_type": "text"
      },
      "cell_type": "markdown",
      "source": [
        "それでは、今度こそ学習を開始してみましょう。"
      ]
    },
    {
      "metadata": {
        "id": "kAiXcG8jMq5y",
        "colab_type": "code",
        "outputId": "cb85481d-fc9d-4ed3-a117-cdc4cc15b48d",
        "colab": {
          "base_uri": "https://localhost:8080/",
          "height": 1853
        }
      },
      "cell_type": "code",
      "source": [
        "reset_seed(0)\n",
        "\n",
        "model = train(DeepCNN(10), max_epoch=100, base_lr=0.1, lr_decay=(30, 'epoch'))"
      ],
      "execution_count": 0,
      "outputs": [
        {
          "output_type": "stream",
          "text": [
            "epoch       main/loss   main/accuracy  val/main/loss  val/main/accuracy  elapsed_time  lr        \n",
            "\u001b[J1           2.69428     0.157537       2.16978        0.189258           28.824        0.1         \n",
            "\u001b[J2           2.09779     0.21804        2.03773        0.237109           57.1125       0.1         \n",
            "\u001b[J3           1.96694     0.271679       1.9967         0.264062           85.4413       0.1         \n",
            "\u001b[J4           1.77999     0.336781       1.78448        0.331445           114.075       0.1         \n",
            "\u001b[J5           1.64142     0.389557       1.66883        0.400977           142.387       0.1         \n",
            "\u001b[J6           1.50815     0.441428       1.47982        0.476562           170.854       0.1         \n",
            "\u001b[J7           1.37141     0.50049        1.40279        0.505469           199.209       0.1         \n",
            "\u001b[J8           1.2102      0.565297       1.29031        0.549023           227.621       0.1         \n",
            "\u001b[J9           1.07683     0.621871       1.26153        0.560742           256.089       0.1         \n",
            "\u001b[J10          0.980002    0.656361       1.09421        0.620508           284.491       0.1         \n",
            "\u001b[J11          0.908336    0.685325       1.50507        0.541992           313           0.1         \n",
            "\u001b[J12          0.842583    0.71185        0.930633       0.689062           341.396       0.1         \n",
            "\u001b[J13          0.784456    0.732355       0.779389       0.729883           369.858       0.1         \n",
            "\u001b[J14          0.742447    0.74744        0.942378       0.690039           398.263       0.1         \n",
            "\u001b[J15          0.718468    0.757746       0.769444       0.738281           426.757       0.1         \n",
            "\u001b[J16          0.68113     0.770566       0.749259       0.751367           455.183       0.1         \n",
            "\u001b[J17          0.662781    0.776678       1.11352        0.650586           483.678       0.1         \n",
            "\u001b[J18          0.636672    0.785312       0.76515        0.744141           512.192       0.1         \n",
            "\u001b[J19          0.626071    0.788818       0.795656       0.744531           540.688       0.1         \n",
            "\u001b[J20          0.612593    0.795432       0.69967        0.757812           569.209       0.1         \n",
            "\u001b[J21          0.590051    0.805066       0.843551       0.725              597.626       0.1         \n",
            "\u001b[J22          0.572769    0.80866        1.3349         0.580078           626.082       0.1         \n",
            "\u001b[J23          0.561001    0.813591       0.94652        0.700391           654.461       0.1         \n",
            "\u001b[J24          0.556309    0.814786       0.90898        0.714648           682.919       0.1         \n",
            "\u001b[J25          0.533986    0.82231        0.695577       0.763672           711.392       0.1         \n",
            "\u001b[J26          0.529156    0.823006       0.674825       0.782422           739.809       0.1         \n",
            "\u001b[J27          0.52098     0.825595       0.729352       0.763672           768.271       0.1         \n",
            "\u001b[J28          0.510939    0.829883       0.670715       0.788086           796.709       0.1         \n",
            "\u001b[J29          0.49991     0.834095       0.69111        0.768945           825.309       0.1         \n",
            "\u001b[J30          0.486605    0.838141       1.18793        0.622266           853.722       0.1         \n",
            "\u001b[J31          0.327621    0.887629       0.385749       0.872461           882.224       0.01        \n",
            "\u001b[J32          0.238112    0.918803       0.370801       0.877344           910.625       0.01        \n",
            "\u001b[J33          0.211824    0.927512       0.358936       0.888086           939.097       0.01        \n",
            "\u001b[J34          0.193985    0.933771       0.358135       0.887891           967.577       0.01        \n",
            "\u001b[J35          0.175396    0.938813       0.370439       0.886914           995.99        0.01        \n",
            "\u001b[J36          0.160693    0.944536       0.374716       0.885156           1024.52       0.01        \n",
            "\u001b[J37          0.151086    0.947516       0.41389        0.880664           1052.93       0.01        \n",
            "\u001b[J38          0.138299    0.952104       0.384056       0.883398           1081.42       0.01        \n",
            "\u001b[J39          0.130687    0.954327       0.394057       0.881641           1109.81       0.01        \n",
            "\u001b[J40          0.125154    0.956809       0.427417       0.877148           1138.42       0.01        \n",
            "\u001b[J41          0.117214    0.959828       0.42155        0.887109           1166.96       0.01        \n",
            "\u001b[J42          0.110645    0.961338       0.415339       0.881641           1195.41       0.01        \n",
            "\u001b[J43          0.105215    0.963756       0.424878       0.883594           1223.87       0.01        \n",
            "\u001b[J44          0.101671    0.964677       0.41808        0.883789           1252.19       0.01        \n",
            "\u001b[J45          0.0913909   0.968306       0.462435       0.881836           1280.65       0.01        \n",
            "\u001b[J46          0.0936296   0.967481       0.432433       0.882227           1309.06       0.01        \n",
            "\u001b[J47          0.0858009   0.970681       0.465592       0.878125           1337.5        0.01        \n",
            "\u001b[J48          0.0840065   0.971132       0.447086       0.880859           1365.91       0.01        \n",
            "\u001b[J49          0.089316    0.96926        0.456872       0.883594           1394.39       0.01        \n",
            "\u001b[J50          0.0847995   0.970437       0.447452       0.883008           1422.86       0.01        \n",
            "\u001b[J51          0.0781394   0.972934       0.45447        0.876758           1451.24       0.01        \n",
            "\u001b[J52          0.0749108   0.974432       0.482498       0.876953           1479.71       0.01        \n",
            "\u001b[J53          0.0758594   0.973691       0.50775        0.871484           1508.09       0.01        \n",
            "\u001b[J54          0.0780141   0.97259        0.474443       0.87832            1536.69       0.01        \n",
            "\u001b[J55          0.0767662   0.973758       0.494945       0.870508           1565.06       0.01        \n",
            "\u001b[J56          0.0718279   0.974942       0.457276       0.884961           1593.57       0.01        \n",
            "\u001b[J57          0.0679215   0.976274       0.594573       0.858594           1622.03       0.01        \n",
            "\u001b[J58          0.0749016   0.974448       0.510904       0.873242           1650.42       0.01        \n",
            "\u001b[J59          0.072252    0.975186       0.512663       0.875              1678.89       0.01        \n",
            "\u001b[J60          0.0741012   0.97516        0.4673         0.881641           1707.32       0.01        \n",
            "\u001b[J61          0.0436003   0.985884       0.41809        0.892773           1735.8        0.001       \n",
            "\u001b[J62          0.0272943   0.991141       0.428496       0.891797           1764.19       0.001       \n",
            "\u001b[J63          0.0244351   0.992498       0.426782       0.896094           1792.68       0.001       \n",
            "\u001b[J64          0.0206051   0.993901       0.432606       0.891992           1821.06       0.001       \n",
            "\u001b[J65          0.0203523   0.994096       0.446587       0.895508           1849.52       0.001       \n",
            "\u001b[J66          0.016755    0.995051       0.44902        0.896484           1877.99       0.001       \n",
            "\u001b[J67          0.0144646   0.996083       0.451547       0.896094           1906.36       0.001       \n",
            "\u001b[J68          0.0144782   0.995672       0.463294       0.894141           1934.83       0.001       \n",
            "\u001b[J69          0.0127509   0.996327       0.464393       0.896875           1963.21       0.001       \n",
            "\u001b[J70          0.0125931   0.996316       0.469515       0.895703           1991.68       0.001       \n",
            "\u001b[J71          0.0127283   0.996283       0.476797       0.894336           2020.28       0.001       \n",
            "\u001b[J72          0.0132059   0.995894       0.470525       0.896094           2048.75       0.001       \n",
            "\u001b[J73          0.0112005   0.997115       0.47194        0.89707            2077.23       0.001       \n",
            "\u001b[J74          0.0109272   0.996817       0.471555       0.899414           2105.65       0.001       \n",
            "\u001b[J75          0.0112268   0.996582       0.471415       0.900781           2134.12       0.001       \n",
            "\u001b[J76          0.0101967   0.996817       0.476614       0.899805           2162.5        0.001       \n",
            "\u001b[J77          0.00957114  0.996959       0.480832       0.899609           2190.97       0.001       \n",
            "\u001b[J78          0.0106323   0.996595       0.473253       0.898633           2219.39       0.001       \n",
            "\u001b[J79          0.0102535   0.996804       0.474224       0.898242           2247.85       0.001       \n",
            "\u001b[J80          0.00978062  0.997351       0.485044       0.901563           2276.24       0.001       \n",
            "\u001b[J81          0.00867916  0.997603       0.484749       0.900391           2304.71       0.001       \n",
            "\u001b[J82          0.0091491   0.99727        0.491688       0.897656           2333.18       0.001       \n",
            "\u001b[J83          0.00836695  0.997463       0.485726       0.89707            2361.61       0.001       \n",
            "\u001b[J84          0.00886211  0.997647       0.485863       0.902734           2390.02       0.001       \n",
            "\u001b[J85          0.00801203  0.997618       0.485449       0.901172           2418.36       0.001       \n",
            "\u001b[J86          0.00895067  0.997115       0.494312       0.900781           2446.82       0.001       \n",
            "\u001b[J87          0.0083575   0.997507       0.484573       0.902539           2475.15       0.001       \n",
            "\u001b[J88          0.00723608  0.998047       0.497255       0.897656           2503.61       0.001       \n",
            "\u001b[J89          0.00666439  0.998402       0.488527       0.900586           2532.05       0.001       \n",
            "\u001b[J90          0.00778512  0.997774       0.492277       0.901563           2560.39       0.001       \n",
            "\u001b[J91          0.00645856  0.998335       0.490193       0.901367           2588.86       0.0001      \n",
            "\u001b[J92          0.00727406  0.997819       0.49027        0.901953           2617.48       0.0001      \n",
            "\u001b[J93          0.00678076  0.997958       0.490866       0.900586           2645.89       0.0001      \n",
            "\u001b[J94          0.00636262  0.998353       0.485863       0.901563           2674.26       0.0001      \n",
            "\u001b[J95          0.00646878  0.998202       0.488187       0.902734           2702.7        0.0001      \n",
            "\u001b[J96          0.00654441  0.998197       0.487022       0.903125           2731.05       0.0001      \n",
            "\u001b[J97          0.00725059  0.997936       0.48815        0.90332            2759.51       0.0001      \n",
            "\u001b[J98          0.00673208  0.998136       0.486713       0.901563           2787.99       0.0001      \n",
            "\u001b[J99          0.00679753  0.997952       0.48101        0.90293            2816.35       0.0001      \n",
            "\u001b[J100         0.00649217  0.998091       0.485539       0.902344           2844.8        0.0001      \n",
            "Test accuracy: 0.89922863\n"
          ],
          "name": "stdout"
        }
      ]
    },
    {
      "metadata": {
        "id": "OK1P287rMq51",
        "colab_type": "text"
      },
      "cell_type": "markdown",
      "source": [
        "学習が終了しました。ロスカーブと精度のグラフを見てみましょう。"
      ]
    },
    {
      "metadata": {
        "id": "W67QavgIMq52",
        "colab_type": "code",
        "outputId": "4f93a878-a1f6-48e4-cdbc-8971105b2b44",
        "colab": {}
      },
      "cell_type": "code",
      "source": [
        "Image(filename='DeepCNN_cifar10_result/loss.png')"
      ],
      "execution_count": 0,
      "outputs": [
        {
          "output_type": "execute_result",
          "data": {
            "image/png": "[encoded data removed]",
            "text/plain": [
              "<IPython.core.display.Image object>"
            ]
          },
          "metadata": {
            "tags": []
          },
          "execution_count": 41
        }
      ]
    },
    {
      "metadata": {
        "id": "FnEM3DmzMq56",
        "colab_type": "code",
        "outputId": "84a3d30e-bd42-4224-9280-4f59b91c3340",
        "colab": {}
      },
      "cell_type": "code",
      "source": [
        "Image(filename='DeepCNN_cifar10_result/accuracy.png')"
      ],
      "execution_count": 0,
      "outputs": [
        {
          "output_type": "execute_result",
          "data": {
            "image/png": "[encoded data removed]",
            "text/plain": [
              "<IPython.core.display.Image object>"
            ]
          },
          "metadata": {
            "tags": []
          },
          "execution_count": 42
        }
      ]
    },
    {
      "metadata": {
        "id": "FJ9K1MtIMq5-",
        "colab_type": "text"
      },
      "cell_type": "markdown",
      "source": [
        "先程よりも大幅にValidationデータに対する精度が向上したことが分かります。学習率を10分の1に下げるタイミングでロスががくっと減り、精度がガクッと上がっているのが分かります。最終的に、先程60%前後だったValidationデータでの精度が、90%程度まで上がりました。また、テストデータを用いた精度も、およそ90%程度となっています。しかし最新の研究成果では97%以上まで達成されています。さらに精度を上げるには、今回行ったようなネットワークの構造自体の改良ももちろんのこと、学習データを擬似的に増やす操作（Data augmentation）や、複数のモデルの出力を一つの出力に統合する操作（Ensemble）などなど、いろいろな工夫が考えられます。"
      ]
    },
    {
      "metadata": {
        "id": "IyOFHCvrMq5_",
        "colab_type": "text"
      },
      "cell_type": "markdown",
      "source": [
        "# データセットクラスを書いてみよう\n",
        "\n",
        "ここでは、Chainerにすでに用意されているCIFAR10のデータを取得する機能を使って、データセットクラスを自分で書いてみます。Chainerでは、データセットを表すクラスは以下の機能を持っていることが必要とされます。\n",
        "\n",
        "- データセット内のデータ数を返す`__len__`メソッド\n",
        "- 引数として渡される`i`に対応したデータもしくはデータとラベルの組を返す`get_example`メソッド\n",
        "\n",
        "その他のデータセットに必要な機能は、`chainer.dataset.DatasetMixin`クラスを継承することで用意できます。ここでは、`DatasetMixin`クラスを継承し、Data augmentation機能のついたデータセットクラスを作成してみましょう。\n",
        "\n",
        "#### NOTE\n",
        "\n",
        "自前で用意した、もしくはどこからから調達したラベル付き画像データセットを使う場合は、[`LabeledImageDataset`](https://docs.chainer.org/en/stable/reference/generated/chainer.datasets.LabeledImageDataset.html?highlight=LabeledImageDataset)というクラスが非常に便利です。雹災はドキュメントを参照してください：[`LabeledImageDataset`](https://docs.chainer.org/en/stable/reference/generated/chainer.datasets.LabeledImageDataset.html?highlight=LabeledImageDataset)。こちらでも使っています：[Chainerでアニメキャラクターの顔画像を分類する](https://qiita.com/mitmul/items/5502ecdd2f0b444c427f)"
      ]
    },
    {
      "metadata": {
        "id": "b-11jjDiMq6B",
        "colab_type": "text"
      },
      "cell_type": "markdown",
      "source": [
        "## 1. CIFAR10データセットクラスを書く"
      ]
    },
    {
      "metadata": {
        "id": "csErjCCTMq6C",
        "colab_type": "code",
        "colab": {}
      },
      "cell_type": "code",
      "source": [
        "class CIFAR10Augmented(chainer.dataset.DatasetMixin):\n",
        "\n",
        "    def __init__(self, split='train', train_ratio=0.9):\n",
        "        train_val, test_data = cifar.get_cifar10()\n",
        "        train_size = int(len(train_val) * train_ratio)\n",
        "        train_data, valid_data = split_dataset_random(train_val, train_size, seed=0)\n",
        "        if split == 'train':\n",
        "            self.data = train_data\n",
        "        elif split == 'valid':\n",
        "            self.data = valid_data\n",
        "        elif split == 'test':\n",
        "            self.data = test_data\n",
        "        else:\n",
        "            raise ValueError(\"'split' argument should be either 'train', 'valid', or 'test'. But {} was given.\".format(split))\n",
        "\n",
        "        self.split = split\n",
        "        self.random_crop = 4\n",
        "\n",
        "    def __len__(self):\n",
        "        return len(self.data)\n",
        "\n",
        "    def get_example(self, i):\n",
        "        x, t = self.data[i]\n",
        "        if self.split == 'train':\n",
        "            x = x.transpose(1, 2, 0)\n",
        "            h, w, _ = x.shape\n",
        "            x_offset = np.random.randint(self.random_crop)\n",
        "            y_offset = np.random.randint(self.random_crop)\n",
        "            x = x[y_offset:y_offset + h - self.random_crop,\n",
        "                  x_offset:x_offset + w - self.random_crop]\n",
        "            if np.random.rand() > 0.5:\n",
        "                x = np.fliplr(x)\n",
        "            x = x.transpose(2, 0, 1)\n",
        "\n",
        "        return x, t"
      ],
      "execution_count": 0,
      "outputs": []
    },
    {
      "metadata": {
        "id": "x3UPCe0RMq6F",
        "colab_type": "text"
      },
      "cell_type": "markdown",
      "source": [
        "このクラスは、CIFAR10のデータのそれぞれに対し、\n",
        "\n",
        "- 32x32の大きさの中からランダムに28x28の領域をクロップ\n",
        "- 1/2の確率で左右を反転させる\n",
        "\n",
        "という加工を行っています。こういった操作を加えることで擬似的に学習データのバリエーションを増やすと、オーバーフィッティングを抑制することに役に立つということが知られています。これらの操作以外にも、画像の色味を変化させるような変換やランダムな回転、アフィン変換など、さまざまな加工によって学習データ数を擬似的に増やす方法が提案されています。\n",
        "\n",
        "自分でデータの取得部分も書く場合は、コンストラクタに画像フォルダのパスとファイル名に対応したラベルの書かれたテキストファイルへのパスなどを渡してプロパティとして保持しておき、`get_example`メソッド内でそれぞれの画像を読み込んで対応するラベルとともに返す、という風にすれば良いことが分かります。"
      ]
    },
    {
      "metadata": {
        "id": "vmvsVsTMMq6G",
        "colab_type": "text"
      },
      "cell_type": "markdown",
      "source": [
        "## 2. 作成したデータセットクラスを使って学習を行う\n",
        "\n",
        "それではさっそくこの`CIFAR10`クラスを使って学習を行ってみましょう。先程使ったのと同じ大きなネットワークを使うことで、Data augmentationの効果がどの程度あるのかを調べてみましょう。`train`関数も含め、データセットクラス以外は先程とすべて同様です。"
      ]
    },
    {
      "metadata": {
        "id": "upvteI1eMq6G",
        "colab_type": "code",
        "outputId": "1744284c-7769-463a-b1bf-9c10eb61dda0",
        "colab": {}
      },
      "cell_type": "code",
      "source": [
        "reset_seed(0)\n",
        "\n",
        "model = train(DeepCNN(10), max_epoch=100, train_dataset=CIFAR10Augmented(), valid_dataset=CIFAR10Augmented('valid'), test_dataset=CIFAR10Augmented('test'), postfix='augmented_', base_lr=0.1, lr_decay=(30, 'epoch'))"
      ],
      "execution_count": 0,
      "outputs": [
        {
          "output_type": "stream",
          "text": [
            "epoch       main/loss   main/accuracy  val/main/loss  val/main/accuracy  elapsed_time  lr        \n",
            "\u001b[J1           2.66932     0.155096       2.07969        0.218945           17.7946       0.1         \n",
            "\u001b[J2           1.95089     0.252242       2.16529        0.249609           33.6332       0.1         \n",
            "\u001b[J3           1.80029     0.304087       2.41118        0.232617           48.9252       0.1         \n",
            "\u001b[J4           1.68941     0.352428       1.74426        0.346289           64.1672       0.1         \n",
            "\u001b[J5           1.51953     0.427662       1.64889        0.411523           80.7169       0.1         \n",
            "\u001b[J6           1.33687     0.510121       1.33771        0.523438           96.9036       0.1         \n",
            "\u001b[J7           1.19523     0.572338       1.24248        0.573242           113.866       0.1         \n",
            "\u001b[J8           1.08409     0.616544       1.24074        0.562109           129.411       0.1         \n",
            "\u001b[J9           1.0027      0.64917        1.1433         0.617969           146.937       0.1         \n",
            "\u001b[J10          0.929279    0.677974       0.990748       0.664648           163.91        0.1         \n",
            "\u001b[J11          0.872005    0.699929       0.968499       0.68418            181.605       0.1         \n",
            "\u001b[J12          0.8138      0.722111       0.978409       0.675781           199.057       0.1         \n",
            "\u001b[J13          0.778692    0.73746        0.941924       0.691602           215.46        0.1         \n",
            "\u001b[J14          0.748357    0.749332       0.954998       0.686523           233           0.1         \n",
            "\u001b[J15          0.723875    0.757147       1.03263        0.671484           248.429       0.1         \n",
            "\u001b[J16          0.70128     0.763844       0.922967       0.697852           264.35        0.1         \n",
            "\u001b[J17          0.686641    0.770774       0.932868       0.717188           281.515       0.1         \n",
            "\u001b[J18          0.667459    0.777033       0.761607       0.753125           296.919       0.1         \n",
            "\u001b[J19          0.657883    0.783787       0.696336       0.775586           314.209       0.1         \n",
            "\u001b[J20          0.643969    0.787509       0.788956       0.729883           330.866       0.1         \n",
            "\u001b[J21          0.62682     0.791867       0.747854       0.749414           348.447       0.1         \n",
            "\u001b[J22          0.617861    0.793413       0.724289       0.757422           366.256       0.1         \n",
            "\u001b[J23          0.615907    0.792824       0.760725       0.749609           383.692       0.1         \n",
            "\u001b[J24          0.608608    0.799316       0.626627       0.794141           399.339       0.1         \n",
            "\u001b[J25          0.581148    0.804532       0.724842       0.766016           415.612       0.1         \n",
            "\u001b[J26          0.586145    0.805578       0.758912       0.765039           432.683       0.1         \n",
            "\u001b[J27          0.580653    0.806974       1.53115        0.567773           449.495       0.1         \n",
            "\u001b[J28          0.58332     0.808249       0.638048       0.792773           465.692       0.1         \n",
            "\u001b[J29          0.575656    0.809171       0.597601       0.795898           482.273       0.1         \n",
            "\u001b[J30          0.554497    0.815193       0.92648        0.694141           499.854       0.1         \n",
            "\u001b[J31          0.412056    0.862948       0.353921       0.882812           516.331       0.01        \n",
            "\u001b[J32          0.330784    0.886841       0.323626       0.890625           532.822       0.01        \n",
            "\u001b[J33          0.309464    0.893932       0.314378       0.897461           549.781       0.01        \n",
            "\u001b[J34          0.292333    0.900613       0.298411       0.902148           566.772       0.01        \n",
            "\u001b[J35          0.276572    0.904848       0.294187       0.901758           584.074       0.01        \n",
            "\u001b[J36          0.264323    0.909113       0.306759       0.900781           601.223       0.01        \n",
            "\u001b[J37          0.253866    0.913996       0.300004       0.901172           618.957       0.01        \n",
            "\u001b[J38          0.244404    0.915461       0.289046       0.904883           636.233       0.01        \n",
            "\u001b[J39          0.235541    0.918581       0.302103       0.900781           654.649       0.01        \n",
            "\u001b[J40          0.231642    0.919545       0.309698       0.899219           670.247       0.01        \n",
            "\u001b[J41          0.228038    0.921964       0.294209       0.904102           687.482       0.01        \n",
            "\u001b[J42          0.225327    0.923233       0.300517       0.905273           705.459       0.01        \n",
            "\u001b[J43          0.21667     0.925471       0.323513       0.896875           722.654       0.01        \n",
            "\u001b[J44          0.211944    0.927017       0.323403       0.894141           740.125       0.01        \n",
            "\u001b[J45          0.203643    0.92911        0.306549       0.901367           757.691       0.01        \n",
            "\u001b[J46          0.201874    0.930622       0.316553       0.898633           774.53        0.01        \n",
            "\u001b[J47          0.197785    0.93093        0.321795       0.901172           790.748       0.01        \n",
            "\u001b[J48          0.19062     0.933872       0.326009       0.898438           807.37        0.01        \n",
            "\u001b[J49          0.189966    0.932994       0.302136       0.902148           823.616       0.01        \n",
            "\u001b[J50          0.188014    0.934792       0.351239       0.89082            841.241       0.01        \n",
            "\u001b[J51          0.182187    0.935764       0.330658       0.897461           859.206       0.01        \n",
            "\u001b[J52          0.180877    0.937744       0.331513       0.898242           875.571       0.01        \n",
            "\u001b[J53          0.177914    0.937967       0.315606       0.900977           892.888       0.01        \n",
            "\u001b[J54          0.177183    0.938565       0.30771        0.906055           909.576       0.01        \n",
            "\u001b[J55          0.172863    0.939815       0.310448       0.899414           926.626       0.01        \n",
            "\u001b[J56          0.171187    0.940252       0.334125       0.896875           943.697       0.01        \n",
            "\u001b[J57          0.17084     0.941251       0.321309       0.900586           960.606       0.01        \n",
            "\u001b[J58          0.166495    0.941462       0.313928       0.905078           977.788       0.01        \n",
            "\u001b[J59          0.170402    0.94043        0.336456       0.896094           994.226       0.01        \n",
            "\u001b[J60          0.165143    0.941306       0.333355       0.901758           1011.56       0.01        \n",
            "\u001b[J61          0.125434    0.95641        0.277837       0.916797           1028.05       0.001       \n",
            "\u001b[J62          0.0972963   0.967036       0.279862       0.918164           1044.82       0.001       \n",
            "\u001b[J63          0.0909571   0.968373       0.281997       0.915625           1063.31       0.001       \n",
            "\u001b[J64          0.0854286   0.970197       0.279891       0.916406           1078.31       0.001       \n",
            "\u001b[J65          0.0803817   0.972368       0.283583       0.921484           1094.7        0.001       \n",
            "\u001b[J66          0.078539    0.972945       0.277332       0.917383           1111.61       0.001       \n",
            "\u001b[J67          0.0718806   0.975539       0.289384       0.916406           1128.09       0.001       \n",
            "\u001b[J68          0.0706877   0.975608       0.289274       0.917969           1145.55       0.001       \n",
            "\u001b[J69          0.0701198   0.975405       0.287858       0.91875            1161.81       0.001       \n",
            "\u001b[J70          0.0672646   0.976562       0.289723       0.918555           1178.87       0.001       \n",
            "\u001b[J71          0.0635346   0.978009       0.293459       0.917773           1196.21       0.001       \n",
            "\u001b[J72          0.0641605   0.977583       0.296556       0.914258           1213.21       0.001       \n",
            "\u001b[J73          0.0624464   0.978094       0.297749       0.916406           1229.1        0.001       \n",
            "\u001b[J74          0.0622282   0.978543       0.29798        0.916797           1245.15       0.001       \n",
            "\u001b[J75          0.0624434   0.978538       0.302791       0.917578           1261.09       0.001       \n",
            "\u001b[J76          0.062236    0.978655       0.303235       0.917383           1278.4        0.001       \n",
            "\u001b[J77          0.0583369   0.979759       0.294987       0.91582            1295.95       0.001       \n",
            "\u001b[J78          0.0563044   0.980725       0.30498        0.91875            1310.97       0.001       \n",
            "\u001b[J79          0.0551139   0.980846       0.304319       0.91582            1327.2        0.001       \n"
          ],
          "name": "stdout"
        },
        {
          "output_type": "stream",
          "text": [
            "\u001b[J80          0.0538306   0.981548       0.301928       0.917578           1343.2        0.001       \n",
            "\u001b[J81          0.0498568   0.982599       0.303399       0.916406           1359.95       0.001       \n",
            "\u001b[J82          0.0522237   0.981845       0.306208       0.916602           1377.32       0.001       \n",
            "\u001b[J83          0.0487175   0.983284       0.307845       0.917773           1392.65       0.001       \n",
            "\u001b[J84          0.0507888   0.982622       0.305499       0.917383           1409.53       0.001       \n",
            "\u001b[J85          0.0502483   0.982394       0.309835       0.919727           1425.66       0.001       \n",
            "\u001b[J86          0.0495274   0.983043       0.313392       0.917578           1441.89       0.001       \n",
            "\u001b[J87          0.0492812   0.982594       0.308399       0.917969           1458.86       0.001       \n",
            "\u001b[J88          0.0467606   0.983643       0.317299       0.916211           1476.23       0.001       \n",
            "\u001b[J89          0.0451622   0.984042       0.320555       0.918945           1493.84       0.001       \n",
            "\u001b[J90          0.0457013   0.984197       0.313627       0.917773           1510.37       0.001       \n",
            "\u001b[J91          0.0436299   0.984952       0.311594       0.91875            1527.8        0.0001      \n",
            "\u001b[J92          0.0405673   0.986178       0.311017       0.917773           1545.44       0.0001      \n",
            "\u001b[J93          0.0399707   0.986306       0.313432       0.917969           1562.86       0.0001      \n",
            "\u001b[J94          0.0375223   0.987892       0.313193       0.917578           1580.18       0.0001      \n",
            "\u001b[J95          0.0403957   0.986461       0.3141         0.917969           1594.47       0.0001      \n",
            "\u001b[J96          0.0385853   0.987024       0.311208       0.918555           1610.3        0.0001      \n",
            "\u001b[J97          0.0380802   0.986972       0.309954       0.918359           1628.06       0.0001      \n",
            "\u001b[J98          0.0383922   0.986994       0.311925       0.920117           1644.28       0.0001      \n",
            "\u001b[J99          0.0389155   0.986979       0.309176       0.919727           1660.87       0.0001      \n",
            "\u001b[J100         0.0371039   0.98766        0.311089       0.919141           1676.64       0.0001      \n",
            "Test accuracy: 0.9186115\n"
          ],
          "name": "stdout"
        }
      ]
    },
    {
      "metadata": {
        "id": "YkL06bZDMq6I",
        "colab_type": "text"
      },
      "cell_type": "markdown",
      "source": [
        "先程のData augmentationなしの場合は90%程度だったテスト精度が、学習データにaugmentationを施すことで92%程度まで向上させられることが分かりました。およそ2%の改善です。\n",
        "\n",
        "ロスと精度のグラフを見てみましょう。"
      ]
    },
    {
      "metadata": {
        "id": "-ckf3ncLMq6J",
        "colab_type": "code",
        "outputId": "f711cfcb-1ff7-4953-d24c-34aba6ba1406",
        "colab": {}
      },
      "cell_type": "code",
      "source": [
        "Image(filename='DeepCNN_cifar10_augmented_result/loss.png')"
      ],
      "execution_count": 0,
      "outputs": [
        {
          "output_type": "execute_result",
          "data": {
            "image/png": "[encoded data removed]",
            "text/plain": [
              "<IPython.core.display.Image object>"
            ]
          },
          "metadata": {
            "tags": []
          },
          "execution_count": 45
        }
      ]
    },
    {
      "metadata": {
        "id": "H8mCPbI5Mq6L",
        "colab_type": "code",
        "outputId": "6d1387a4-7272-42d1-9216-d3eb4bd3619a",
        "colab": {}
      },
      "cell_type": "code",
      "source": [
        "Image(filename='DeepCNN_cifar10_augmented_result/accuracy.png')"
      ],
      "execution_count": 0,
      "outputs": [
        {
          "output_type": "execute_result",
          "data": {
            "image/png": "[encoded data removed]",
            "text/plain": [
              "<IPython.core.display.Image object>"
            ]
          },
          "metadata": {
            "tags": []
          },
          "execution_count": 46
        }
      ]
    },
    {
      "metadata": {
        "id": "Xz4qiWP2Mq6N",
        "colab_type": "text"
      },
      "cell_type": "markdown",
      "source": [
        "# もっと簡単にData Augmentationしよう\n",
        "\n",
        "前述のようにデータセット内の各画像についていろいろな変換を行って擬似的にデータを増やすような操作をData Augmentationといいます。上では、オリジナルのデータセットクラスを作る方法を示すために変換の操作も`get_example()`内に書くという実装を行いましたが、実はもっと簡単にいろいろな変換をデータに対して行う方法があります。\n",
        "\n",
        "それは、`TransformDataset`クラスを使う方法です。`TransformDataset`は、元になるデータセットオブジェクトと、そこからサンプルしてきた各データ点に対して行いたい変換を関数の形で与えると、変換済みのデータを返してくれるようなデータセットオブジェクトに加工してくれる便利なクラスです。かんたんな使い方は以下です。"
      ]
    },
    {
      "metadata": {
        "id": "nBly8lfhMq6N",
        "colab_type": "code",
        "colab": {}
      },
      "cell_type": "code",
      "source": [
        "from chainer.datasets import TransformDataset\n",
        "\n",
        "train_val, test_dataset = cifar.get_cifar10()\n",
        "train_size = int(len(train_val) * 0.9)\n",
        "train_dataset, valid_dataset = split_dataset_random(train_val, train_size, seed=0)\n",
        "\n",
        "\n",
        "# 行いたい変換を関数の形で書く\n",
        "def transform(inputs):\n",
        "    x, t = inputs\n",
        "    x = x.transpose(1, 2, 0)\n",
        "    h, w, _ = x.shape\n",
        "    x_offset = np.random.randint(4)\n",
        "    y_offset = np.random.randint(4)\n",
        "    x = x[y_offset:y_offset + h - 4,\n",
        "          x_offset:x_offset + w - 4]\n",
        "    if np.random.rand() > 0.5:\n",
        "        x = np.fliplr(x)\n",
        "    x = x.transpose(2, 0, 1)\n",
        "    \n",
        "    return x, t\n",
        "\n",
        "\n",
        "# 各データをtransformにくぐらせたものを返すデータセットオブジェクト\n",
        "train_dataset = TransformDataset(train_dataset, transform)"
      ],
      "execution_count": 0,
      "outputs": []
    },
    {
      "metadata": {
        "id": "6Q0dLAW6Mq6O",
        "colab_type": "text"
      },
      "cell_type": "markdown",
      "source": [
        "このようにすると、この新しい`train_dataset`は、上で自分でデータセットクラスごと書いたときと同じような変換を行った上でデータを返してくれるデータセットオブジェクトになります。\n",
        "\n",
        "## ChainerCVでいろいろな変換を簡単に行おう\n",
        "\n",
        "さて、上では画像に対してランダムクロップと、ランダムに左右反転というのをやりました。もっと色々な変換を行いたい場合、上記の`transform`関数に色々な処理を追加していけばよいことになりますが、毎回使いまわすような変換処理をそのたびに書くのは面倒です。何かいいライブラリとか無いのかな、となります。そこで[ChainerCV](http://chainercv.readthedocs.io/en/stable)[[Niitani 2017]](https://arxiv.org/abs/1708.08169)です！今年のACM MultimediaのOpen Source Software CompetitionにWebDNN[[Hidaka 2017]](https://dl.acm.org/citation.cfm?id=3129394)とともに出場していたChainerにComputer Vision向けの便利な機能を色々追加する補助パッケージ的なオープンソース・ソフトウェアです。"
      ]
    },
    {
      "metadata": {
        "id": "_dJ1-rCrMq6P",
        "colab_type": "code",
        "colab": {}
      },
      "cell_type": "code",
      "source": [
        "!pip install chainercv"
      ],
      "execution_count": 0,
      "outputs": []
    },
    {
      "metadata": {
        "id": "jsdEfeirMq6R",
        "colab_type": "text"
      },
      "cell_type": "markdown",
      "source": [
        "[ChainerCV](http://chainercv.readthedocs.io/en/stable)には、画像に対する様々な変換があらかじめ用意されています。\n",
        "\n",
        "- [ChainerCVで使える画像変換一覧](http://chainercv.readthedocs.io/en/stable/reference/transforms.html#image)\n",
        "\n",
        "そのため、上でNumPyを使ってごにょごにょ書いていたランダムクロップやランダム左右反転は、`chainercv.transforms`モジュールを使うと、それぞれ以下のように1行で書くことができます：\n",
        "\n",
        "```python\n",
        "x = transforms.random_crop(x, (28, 28))  # ランダムクロップ\n",
        "x = chainercv.transforms.random_flip(x)  # ランダム左右反転\n",
        "```\n",
        "\n",
        "`chainercv.transforms`モジュールを使って、`transform`関数をアップデートしてみましょう。ちなみに、`get_cifar10()`で得られるデータセットでは、デフォルトで画像の画素値の範囲が`[0, 1]`にスケールされています。しかし、`get_cifar10()`に`scale=255.`を渡しておくと、値の範囲をもともとの`[0, 255]`のままにできます。今回`transform`の中で行う処理は、以下の5つです：\n",
        "\n",
        "1. PCA lighting: これは大雑把に言えば、少しだけ色味を変えるような変換です\n",
        "2. Standardization: 訓練用データセット全体からチャンネルごとの画素値の平均・標準偏差を求めて標準化をします\n",
        "3. Random flip: ランダムに画像の左右を反転します\n",
        "4. Random expand: `[1, 1.5]`からランダムに決めた大きさの黒いキャンバスを作り、その中のランダムな位置へ画像を配置します\n",
        "5. Random crop: `(28, 28)`の大きさの領域をランダムにクロップします"
      ]
    },
    {
      "metadata": {
        "id": "TbDNke8ZMq6S",
        "colab_type": "code",
        "colab": {}
      },
      "cell_type": "code",
      "source": [
        "from functools import partial\n",
        "from chainercv import transforms\n",
        "\n",
        "train_val, test_dataset = cifar.get_cifar10(scale=255.)\n",
        "train_size = int(len(train_val) * 0.9)\n",
        "train_dataset, valid_dataset = split_dataset_random(train_val, train_size, seed=0)\n",
        "\n",
        "mean = np.mean([x for x, _ in train_dataset], axis=(0, 2, 3))\n",
        "std = np.std([x for x, _ in train_dataset], axis=(0, 2, 3))\n",
        "\n",
        "\n",
        "def transform(inputs, train=True):\n",
        "    img, label = inputs\n",
        "    img = img.copy()\n",
        "    \n",
        "    # Color augmentation\n",
        "    if train:\n",
        "        img = transforms.pca_lighting(img, 76.5)\n",
        "        \n",
        "    # Standardization\n",
        "    img -= mean[:, None, None]\n",
        "    img /= std[:, None, None]\n",
        "    \n",
        "    # Random flip & crop\n",
        "    if train:\n",
        "        img = transforms.random_flip(img, x_random=True)\n",
        "        img = transforms.random_expand(img, max_ratio=1.5)\n",
        "        img = transforms.random_crop(img, (28, 28))\n",
        "        \n",
        "    return img, label\n",
        "\n",
        "train_dataset = TransformDataset(train_dataset, partial(transform, train=True))\n",
        "valid_dataset = TransformDataset(valid_dataset, partial(transform, train=False))\n",
        "test_dataset = TransformDataset(test_dataset, partial(transform, train=False))"
      ],
      "execution_count": 0,
      "outputs": []
    },
    {
      "metadata": {
        "id": "iNQZOwbAMq6S",
        "colab_type": "text"
      },
      "cell_type": "markdown",
      "source": [
        "ちなみに、`pca_lighting`は、大雑把にいうと色味を微妙に変えた画像を作ってくれる関数です。\n",
        "\n",
        "では、standardizationとChainerCVによるPCA Lightingを追加した`TransformDataset`を使って学習をしてみましょう。"
      ]
    },
    {
      "metadata": {
        "id": "jh6J1f48Mq6T",
        "colab_type": "code",
        "outputId": "d924a952-a198-4125-c7fa-f75217ab16f1",
        "colab": {}
      },
      "cell_type": "code",
      "source": [
        "reset_seed(0)\n",
        "\n",
        "model = train(DeepCNN(10), max_epoch=100, train_dataset=train_dataset, valid_dataset=valid_dataset, test_dataset=test_dataset, postfix='augmented2_', base_lr=0.1, lr_decay=(30, 'epoch'))"
      ],
      "execution_count": 0,
      "outputs": [
        {
          "output_type": "stream",
          "text": [
            "epoch       main/loss   main/accuracy  val/main/loss  val/main/accuracy  elapsed_time  lr        \n",
            "\u001b[J1           2.96298     0.108887       2.28773        0.116992           18.6204       0.1         \n",
            "\u001b[J2           2.28375     0.123069       2.26054        0.145508           35.9189       0.1         \n",
            "\u001b[J3           2.16893     0.173255       1.97104        0.232617           54.1333       0.1         \n",
            "\u001b[J4           1.95599     0.234308       1.96269        0.239453           71.4199       0.1         \n",
            "\u001b[J5           1.84762     0.287482       1.74268        0.316016           89.6395       0.1         \n",
            "\u001b[J6           1.71918     0.344682       1.48986        0.427539           107.843       0.1         \n",
            "\u001b[J7           1.5616      0.420028       1.33444        0.494531           126.049       0.1         \n",
            "\u001b[J8           1.41343     0.48635        1.34962        0.502539           144.103       0.1         \n",
            "\u001b[J9           1.29375     0.542591       1.27011        0.565039           161.386       0.1         \n",
            "\u001b[J10          1.20855     0.577858       1.09895        0.621289           179.561       0.1         \n",
            "\u001b[J11          1.13542     0.603427       1.12695        0.600391           197.048       0.1         \n",
            "\u001b[J12          1.08715     0.626625       0.967723       0.666797           215.84        0.1         \n",
            "\u001b[J13          1.03912     0.645552       1.09458        0.655078           232.916       0.1         \n",
            "\u001b[J14          0.992342    0.661659       0.813403       0.712305           251.279       0.1         \n",
            "\u001b[J15          0.962952    0.676736       0.89199        0.704492           269.464       0.1         \n",
            "\u001b[J16          0.935602    0.687433       0.871531       0.711133           287.93        0.1         \n",
            "\u001b[J17          0.907586    0.694935       0.826585       0.737695           305.05        0.1         \n",
            "\u001b[J18          0.897032    0.699907       0.759569       0.751758           322.843       0.1         \n",
            "\u001b[J19          0.872711    0.70958        0.747807       0.752148           341.134       0.1         \n",
            "\u001b[J20          0.860642    0.710849       0.897129       0.714648           359.493       0.1         \n",
            "\u001b[J21          0.837644    0.720998       0.877011       0.71582            377.873       0.1         \n",
            "\u001b[J22          0.83491     0.719682       0.811209       0.740625           395.061       0.1         \n",
            "\u001b[J23          0.812516    0.730591       0.991357       0.69668            411.923       0.1         \n",
            "\u001b[J24          0.814586    0.728493       0.870199       0.740625           428.436       0.1         \n",
            "\u001b[J25          0.809576    0.730358       0.851287       0.744336           444.849       0.1         \n",
            "\u001b[J26          0.797749    0.73413        1.0621         0.686523           462.494       0.1         \n",
            "\u001b[J27          0.792886    0.737416       0.765583       0.745703           479.124       0.1         \n",
            "\u001b[J28          0.773611    0.74123        0.59921        0.805273           497.053       0.1         \n",
            "\u001b[J29          0.767626    0.742587       1.15419        0.685938           514.952       0.1         \n",
            "\u001b[J30          0.753782    0.749355       0.937311       0.715234           533.238       0.1         \n",
            "\u001b[J31          0.604251    0.797053       0.399113       0.869727           550.994       0.01        \n",
            "\u001b[J32          0.512318    0.827613       0.375138       0.877344           569.219       0.01        \n",
            "\u001b[J33          0.484475    0.834229       0.353442       0.883984           587.753       0.01        \n",
            "\u001b[J34          0.467319    0.841242       0.364244       0.884375           606.206       0.01        \n",
            "\u001b[J35          0.450393    0.846911       0.341441       0.888086           624.712       0.01        \n",
            "\u001b[J36          0.43828     0.848855       0.342883       0.8875             644.334       0.01        \n",
            "\u001b[J37          0.435329    0.851206       0.34381        0.888867           662.547       0.01        \n",
            "\u001b[J38          0.429289    0.852561       0.334433       0.889258           681.356       0.01        \n",
            "\u001b[J39          0.416126    0.857639       0.335736       0.891602           699.445       0.01        \n",
            "\u001b[J40          0.414865    0.857333       0.340546       0.888867           717.644       0.01        \n",
            "\u001b[J41          0.406426    0.85993        0.331028       0.890039           736.169       0.01        \n",
            "\u001b[J42          0.400299    0.864984       0.325277       0.894531           754.238       0.01        \n",
            "\u001b[J43          0.390969    0.863414       0.31114        0.89668            773.074       0.01        \n",
            "\u001b[J44          0.385966    0.867032       0.315048       0.898047           791.369       0.01        \n",
            "\u001b[J45          0.386317    0.868342       0.311667       0.901758           809.057       0.01        \n",
            "\u001b[J46          0.379431    0.869881       0.326095       0.895508           826.949       0.01        \n",
            "\u001b[J47          0.371893    0.871693       0.30523        0.900195           845.462       0.01        \n",
            "\u001b[J48          0.375175    0.869257       0.313753       0.899414           863.334       0.01        \n",
            "\u001b[J49          0.368864    0.872203       0.335674       0.892969           881.266       0.01        \n",
            "\u001b[J50          0.364174    0.874911       0.329148       0.895703           898.805       0.01        \n",
            "\u001b[J51          0.361013    0.876113       0.325556       0.894531           917.536       0.01        \n",
            "\u001b[J52          0.355882    0.876309       0.312672       0.898633           935.827       0.01        \n",
            "\u001b[J53          0.355655    0.877315       0.314614       0.904492           953.22        0.01        \n",
            "\u001b[J54          0.350558    0.878507       0.335558       0.89375            971.412       0.01        \n",
            "\u001b[J55          0.35336     0.879808       0.309912       0.897461           989.554       0.01        \n",
            "\u001b[J56          0.349074    0.878307       0.315572       0.897656           1007.9        0.01        \n",
            "\u001b[J57          0.344636    0.881792       0.315235       0.898633           1026.21       0.01        \n",
            "\u001b[J58          0.351751    0.878361       0.308908       0.90625            1044.43       0.01        \n",
            "\u001b[J59          0.335435    0.885143       0.325415       0.895898           1062.98       0.01        \n",
            "\u001b[J60          0.342543    0.881366       0.307564       0.904492           1081.12       0.01        \n",
            "\u001b[J61          0.296395    0.897061       0.26379        0.914844           1099.85       0.001       \n",
            "\u001b[J62          0.273945    0.905404       0.255291       0.918945           1118          0.001       \n",
            "\u001b[J63          0.256059    0.911111       0.259149       0.918359           1136.27       0.001       \n",
            "\u001b[J64          0.250382    0.913039       0.26012        0.919922           1153.98       0.001       \n",
            "\u001b[J65          0.251402    0.911066       0.252121       0.919922           1172.19       0.001       \n",
            "\u001b[J66          0.246617    0.914795       0.254615       0.917188           1190.44       0.001       \n",
            "\u001b[J67          0.242367    0.916622       0.260114       0.916602           1208.65       0.001       \n",
            "\u001b[J68          0.237993    0.916815       0.251317       0.918359           1227.71       0.001       \n",
            "\u001b[J69          0.233611    0.919627       0.255463       0.92168            1246.66       0.001       \n",
            "\u001b[J70          0.229861    0.920543       0.251819       0.921289           1264.57       0.001       \n",
            "\u001b[J71          0.231212    0.919916       0.256449       0.918359           1282.98       0.001       \n",
            "\u001b[J72          0.230945    0.920388       0.251938       0.922852           1300.6        0.001       \n",
            "\u001b[J73          0.231567    0.918879       0.25467        0.922656           1319.03       0.001       \n",
            "\u001b[J74          0.228168    0.919649       0.25099        0.922266           1336.64       0.001       \n",
            "\u001b[J75          0.223481    0.922452       0.252225       0.921289           1354.76       0.001       \n",
            "\u001b[J76          0.217657    0.923834       0.2558         0.920898           1373.26       0.001       \n",
            "\u001b[J77          0.217563    0.924383       0.247747       0.923828           1392.33       0.001       \n",
            "\u001b[J78          0.216533    0.923722       0.244587       0.923242           1410.24       0.001       \n",
            "\u001b[J79          0.217534    0.924383       0.248184       0.922852           1428.02       0.001       \n"
          ],
          "name": "stdout"
        },
        {
          "output_type": "stream",
          "text": [
            "\u001b[J80          0.217936    0.924435       0.245536       0.923828           1446.1        0.001       \n",
            "\u001b[J81          0.213818    0.925448       0.250882       0.921094           1465.16       0.001       \n",
            "\u001b[J82          0.216617    0.924028       0.245679       0.925586           1483.26       0.001       \n",
            "\u001b[J83          0.211348    0.924991       0.252102       0.923242           1502.12       0.001       \n",
            "\u001b[J84          0.21004     0.92658        0.254647       0.919922           1519.85       0.001       \n",
            "\u001b[J85          0.212658    0.926482       0.252338       0.924219           1539.01       0.001       \n",
            "\u001b[J86          0.210038    0.926824       0.256114       0.921094           1556.43       0.001       \n",
            "\u001b[J87          0.209864    0.927885       0.251901       0.921875           1575.17       0.001       \n",
            "\u001b[J88          0.210507    0.926314       0.253217       0.924414           1593.11       0.001       \n",
            "\u001b[J89          0.201081    0.928911       0.254178       0.925195           1610.7        0.001       \n",
            "\u001b[J90          0.207075    0.92873        0.249093       0.922656           1628.39       0.001       \n",
            "\u001b[J91          0.199509    0.929798       0.248616       0.925              1645.72       0.0001      \n",
            "\u001b[J92          0.199114    0.930467       0.250459       0.922266           1664.97       0.0001      \n",
            "\u001b[J93          0.194366    0.932773       0.250289       0.925781           1682.84       0.0001      \n",
            "\u001b[J94          0.192413    0.933605       0.250086       0.921875           1700.81       0.0001      \n",
            "\u001b[J95          0.195286    0.931374       0.25102        0.925977           1719.84       0.0001      \n",
            "\u001b[J96          0.191748    0.932826       0.247356       0.925391           1738.38       0.0001      \n",
            "\u001b[J97          0.188767    0.935258       0.25027        0.924219           1756.14       0.0001      \n",
            "\u001b[J98          0.190619    0.93517        0.249067       0.925              1774.45       0.0001      \n",
            "\u001b[J99          0.190362    0.934206       0.246483       0.925586           1792.49       0.0001      \n",
            "\u001b[J100         0.193294    0.93295        0.247981       0.926172           1810          0.0001      \n",
            "Test accuracy: 0.92108387\n"
          ],
          "name": "stdout"
        }
      ]
    },
    {
      "metadata": {
        "id": "HsuPDoGsMq6V",
        "colab_type": "text"
      },
      "cell_type": "markdown",
      "source": [
        "わずかに精度が向上しました。他にもネットワークにResNetと呼ばれる有名なアーキテクチャを採用するなど、簡単に試せる改善方法がいくつかあります。ぜひご自分で色々と試してみてください。"
      ]
    },
    {
      "metadata": {
        "id": "UHGo6FOaMq6V",
        "colab_type": "text"
      },
      "cell_type": "markdown",
      "source": [
        "# おわりに\n",
        "\n",
        "**Chainerの開発にコミットしてくれる方を歓迎します！**Chainerはオープンソースソフトウェアですので、皆さんが自身で欲しい機能などを提案し、Pull requestを送ることで進化していきます。興味のある方は、こちらの[Contoribution Guide](http://docs.chainer.org/en/latest/contribution.html)をお読みになった後、ぜひIssueを立てたりPRを送ったりしてみてください。お待ちしております。\n",
        "\n",
        "chainer/chainer\n",
        "[https://github.com/chainer/chainer](https://github.com/pfnet/chainer)"
      ]
    },
    {
      "metadata": {
        "id": "WD1oaVYTMq6Z",
        "colab_type": "text"
      },
      "cell_type": "markdown",
      "source": [
        "#### 参考文献\n",
        "\n",
        "[Tokui 2015] Tokui, S., Oono, K., Hido, S. and Clayton, J., Chainer: a Next-Generation Open Source Framework for Deep Learning, Proceedings of Workshop on Machine Learning Systems(LearningSys) in The Twenty-ninth Annual Conference on Neural Information Processing Systems (NIPS), (2015)\n",
        "\n",
        "[Niitani 2017] Yusuke Niitani, Toru Ogawa, Shunta Saito, Masaki Saito, \"ChainerCV: a Library for Deep Learning in Computer Vision\", ACM Multimedia (ACMMM), Open Source Software Competition, 2017\n",
        "\n",
        "[Hidaka 2017] Masatoshi Hidaka, Yuichiro Kikura, Yoshitaka Ushiku, Tatsuya Harada. WebDNN: Fastest DNN Execution Framework on Web Browser. ACM International Conference on Multimedia (ACMMM), Open Source Software Competition, pp.1213-1216, 2017.\n",
        "\n",
        "#### 脚注\n",
        "\n",
        "[^cudnnenv]: `cudnnenv`は好きなバージョンのcuDNNを簡単に持ってこれるツールです。`pip install cudnnenv`でインストールし、[こちら](https://github.com/unnonouno/cudnnenv#install)にあるインストラクションに従えば、簡単にいろいろなCUDAバージョン向けの様々なバージョンのcuDNNをインストールすることができます。使い方も[こちら](https://github.com/unnonouno/cudnnenv)のREADMEに書いてあるとおり、単純明快です。\n",
        "[^NN]: 学習データに対する予測精度は、もし学習データから抜き出されたあるデータをクエリとし、それが含まれている学習データセットから検索して発見することが必ずできるならば、そのデータについているラベルを答えることで、100%になってしまいます。"
      ]
    }
  ]
}